{
 "cells": [
  {
   "cell_type": "code",
   "execution_count": 21,
   "metadata": {},
   "outputs": [],
   "source": [
    "import os\n",
    "import matplotlib.pyplot as plt\n",
    "\n",
    "import librosa\n",
    "import librosa.display\n",
    "\n",
    "import IPython.display as ipd\n",
    "import pandas as pd\n",
    "import numpy as np\n",
    "import random\n",
    "import shutil\n",
    "from tqdm.notebook import tqdm\n",
    "import ipywidgets\n",
    "import torch\n",
    "import torch.nn as nn\n",
    "import torch.nn.functional as F\n",
    "import torchvision.datasets as datasets\n",
    "import torchvision.transforms as transforms\n",
    "\n",
    "\n",
    "from PIL import Image\n",
    "from matplotlib.backends.backend_agg import FigureCanvasAgg as FigureCanvas\n",
    "from matplotlib.figure import Figure"
   ]
  },
  {
   "cell_type": "markdown",
   "metadata": {},
   "source": [
    "Add Imports for Convolutional Nueral Network (CNN)"
   ]
  },
  {
   "cell_type": "code",
   "execution_count": 14,
   "metadata": {},
   "outputs": [],
   "source": [
    "class CNNNetwork(nn.Module):\n",
    "    def __init__(self):\n",
    "        super().__init__()\n",
    "        #4 conv blocks / flatten/ linear/ softmax\n",
    "        self.conv1 = nn.Sequential(\n",
    "            nn.Conv2d(\n",
    "                in_channels = 3,\n",
    "                out_channels = 8,\n",
    "                kernel_size = 3,\n",
    "                stride = 1,\n",
    "                padding = 0,\n",
    "            ),\n",
    "            nn.ReLU(),\n",
    "            nn.MaxPool2d(kernel_size = 2)\n",
    "        )\n",
    "        self.conv2 = nn.Sequential(\n",
    "            nn.Conv2d(\n",
    "                in_channels = 8,\n",
    "                out_channels = 16,\n",
    "                kernel_size = 3,\n",
    "                stride = 1,\n",
    "                padding = 0,\n",
    "            ),\n",
    "            nn.ReLU(),\n",
    "            nn.MaxPool2d(kernel_size = 2)\n",
    "        )\n",
    "        self.conv3 = nn.Sequential(\n",
    "            nn.Conv2d(\n",
    "                in_channels = 16,\n",
    "                out_channels = 32,\n",
    "                kernel_size = 3,\n",
    "                stride = 1,\n",
    "                padding = 0,\n",
    "            ),\n",
    "            nn.ReLU(),\n",
    "            nn.MaxPool2d(kernel_size = 2)\n",
    "        )\n",
    "        self.conv4 = nn.Sequential(\n",
    "            nn.Conv2d(\n",
    "                in_channels = 32,\n",
    "                out_channels = 64,\n",
    "                kernel_size = 3,\n",
    "                stride = 1,\n",
    "                padding = 0,\n",
    "            ),\n",
    "            nn.ReLU(),\n",
    "            nn.MaxPool2d(kernel_size = 2)\n",
    "        )\n",
    "        self.flatten = nn.Flatten()\n",
    "        self.linear = nn.Linear(49152, 163)\n",
    "        # self.sofmax = nn.Softmax()\n",
    "\n",
    "    def forward(self, input_data):\n",
    "        #print(input_data.shape, f'input_data {input_data.shape}')\n",
    "        x = self.conv1(input_data)\n",
    "        #print(x.shape, f'conv1 {x.shape}')\n",
    "        x = self.conv2(x)\n",
    "        x = self.conv3(x)\n",
    "        x = self.conv4(x)\n",
    "        x = self.flatten(x)\n",
    "        logits = self.linear(x)\n",
    "        return logits\n"
   ]
  },
  {
   "cell_type": "code",
   "execution_count": 5,
   "metadata": {},
   "outputs": [
    {
     "data": {
      "text/plain": [
       "array(['155066.mp3', '154303.mp3', '154305.mp3', ..., '000995.mp3',\n",
       "       '000997.mp3', '000998.mp3'], dtype='<U32')"
      ]
     },
     "execution_count": 5,
     "metadata": {},
     "output_type": "execute_result"
    }
   ],
   "source": [
    "folder_path = os.path.join(\"fma_archive/fma_small/fma_small/\")\n",
    "audio_clips = []\n",
    "folders = []\n",
    "\n",
    "for folder in os.listdir(folder_path):\n",
    "    if folder != \"README.txt\" and folder != \"checksums\":\n",
    "        folders.append(folder)\n",
    "        audio_clips = np.concatenate((os.listdir(folder_path + folder), audio_clips))\n",
    "audio_clips"
   ]
  },
  {
   "cell_type": "code",
   "execution_count": 6,
   "metadata": {},
   "outputs": [],
   "source": [
    "def create_spectrogram(audio_path, audio_file):\n",
    "    audio_file = os.path.join(audio_path, audio_file)\n",
    "\n",
    "    #Load audio file\n",
    "    x, sr = librosa.load(audio_file, sr=44100)\n",
    "\n",
    "    #Display audio waveform\n",
    "    # plt.figure(figsize=(14, 5))\n",
    "    # plt.plot(x)\n",
    "\n",
    "    #Create and display a spectogram with axis labels\n",
    "    X = librosa.stft(x)\n",
    "    Xdb = librosa.amplitude_to_db(abs(X))\n",
    "    plt.figure(frameon=False)\n",
    "    plt.figure(figsize=(8, 3))\n",
    "    librosa.display.specshow(Xdb, sr=sr)\n",
    "    #display(plt.gcf())\n",
    " \n",
    "    #remove axes and title for PNG\n",
    "    plt.title('')\n",
    "    plt.axis('off')\n",
    "    plt.subplots_adjust(left=0, right=1, top=1, bottom=0)\n",
    "    spectogram = plt.gcf()\n",
    "    plt.close()\n",
    "    spectogram.savefig('test_sounds/test_spectogram.png', transparent=True, bbox_inches='tight', pad_inches=0.0)\n",
    "    return spectogram"
   ]
  },
  {
   "cell_type": "code",
   "execution_count": 20,
   "metadata": {},
   "outputs": [],
   "source": [
    "def pre_process(current_folder, sound_file):\n",
    "    spectogram = create_spectrogram(current_folder, sound_file)\n",
    "    \n",
    "    transform = transforms.Compose([\n",
    "        transforms.Resize((800, 300)),  # Resize the image to match the model's input size\n",
    "        transforms.ToTensor(),           # Convert the image to a tensor\n",
    "    ])\n",
    "\n",
    "    image = Image.open('test_sounds/test_spectogram.png')\n",
    "    image = image.convert('RGB')\n",
    "    input_tensor = transform(image)\n",
    "\n",
    "    print(input_tensor.shape)\n",
    "\n",
    "    return input_tensor"
   ]
  },
  {
   "cell_type": "markdown",
   "metadata": {},
   "source": [
    "Distributing data Training, Validation and Test Folders"
   ]
  },
  {
   "cell_type": "code",
   "execution_count": 8,
   "metadata": {},
   "outputs": [],
   "source": [
    "source_dir = 'spectograms'\n",
    "train_dir = 'spectograms/training_data'\n",
    "test_dir = 'spectograms/test_data'\n",
    "val_dir = 'spectograms/validation_data'"
   ]
  },
  {
   "cell_type": "markdown",
   "metadata": {},
   "source": [
    "Function to Distribute Training Data Set"
   ]
  },
  {
   "cell_type": "code",
   "execution_count": null,
   "metadata": {},
   "outputs": [],
   "source": [
    "def distribute_files(train_split, test_split, files, source_dir, train_dir, test_dir, val_dir):\n",
    "    # Move files to training set\n",
    "    for f in files[:train_split]:\n",
    "        shutil.move(os.path.join(source_dir, f), os.path.join(train_dir, f))\n",
    "\n",
    "    # Move files to test set\n",
    "    for f in files[train_split:train_split + test_split]:\n",
    "        shutil.move(os.path.join(source_dir, f), os.path.join(test_dir, f))\n",
    "\n",
    "    # Move files to validation set\n",
    "    for f in files[train_split + test_split:]:\n",
    "        shutil.move(os.path.join(source_dir, f), os.path.join(val_dir, f))"
   ]
  },
  {
   "cell_type": "code",
   "execution_count": 24,
   "metadata": {},
   "outputs": [],
   "source": [
    "def copy_track_by_genres(directory, tracks_df):\n",
    "    import ast\n",
    "    for filename in os.listdir(directory):\n",
    "        if filename.endswith(\".png\"):\n",
    "            track_id = filename.split(\"_\")[0].lstrip(\"0\")\n",
    "            temp = tracks_df.loc[tracks_df['track_id'] == track_id, 'genres_all']\n",
    "            if not temp.empty:\n",
    "                genres_for_track = tracks_df.loc[tracks_df['track_id'] == track_id, 'genres_all'].values[0]\n",
    "                if not pd.isna(genres_for_track): # ensure genres are not empty\n",
    "                    genres_list = ast.literal_eval(genres_for_track)\n",
    "                    for genre in genres_list:\n",
    "                        genre_folder = os.path.join(directory, str(genre))\n",
    "                        os.makedirs(genre_folder, exist_ok=True)\n",
    "                        shutil.copy2(os.path.join(directory, filename), os.path.join(genre_folder, filename))\n",
    "                else:\n",
    "                    print(f\"Track {track_id} has no genres\")"
   ]
  },
  {
   "cell_type": "code",
   "execution_count": 10,
   "metadata": {},
   "outputs": [],
   "source": [
    "def distribute_files(source_dir, train_dir, test_dir, val_dir):\n",
    "    files = os.listdir(source_dir)\n",
    "    random.shuffle(files)\n",
    "\n",
    "    total_files = len(files)\n",
    "    train_size = int(0.8 * total_files)\n",
    "    test_size = int(0.1 * total_files)\n",
    "\n",
    "    for directory in [train_dir, test_dir, val_dir]:\n",
    "        os.makedirs(directory, exist_ok=True)\n",
    "\n",
    "    # Move files to training folder\n",
    "    for filename in files[:train_size]:\n",
    "        if filename.endswith(\".png\"):\n",
    "            source_path = os.path.join(source_dir, filename)\n",
    "            dest_path = os.path.join(train_dir, filename)\n",
    "            shutil.move(source_path, dest_path)\n",
    "\n",
    "    # Move files to testing folder\n",
    "    for filename in files[train_size:train_size + test_size]:\n",
    "        if filename.endswith(\".png\"):\n",
    "            source_path = os.path.join(source_dir, filename)\n",
    "            dest_path = os.path.join(test_dir, filename)\n",
    "            shutil.move(source_path, dest_path)\n",
    "\n",
    "    # Move files to validation folder\n",
    "    for filename in files[train_size + test_size:]:\n",
    "        if filename.endswith(\".png\"):\n",
    "            source_path = os.path.join(source_dir, filename)\n",
    "            dest_path = os.path.join(val_dir, filename)\n",
    "            shutil.move(source_path, dest_path)"
   ]
  },
  {
   "cell_type": "markdown",
   "metadata": {},
   "source": [
    "Move Files into Training, Test and Validation Sets"
   ]
  },
  {
   "cell_type": "code",
   "execution_count": 36,
   "metadata": {},
   "outputs": [
    {
     "name": "stderr",
     "output_type": "stream",
     "text": [
      "C:\\Users\\Chomba Mumba\\AppData\\Local\\Temp\\ipykernel_25444\\1476310598.py:1: DtypeWarning: Columns (0,1,5,6,8,12,18,20,21,22,24,33,34,38,39,44,47,48,49,53,54,55,56,57,58,59,60,61,62,63,64,65,66,67,68,69,70,71,72,73,74,75,76,77,78,79,80,81,82,83,84,85,86,87,88,89,90,91,92,93,94,95,96,97,98,99,100,101,102,103) have mixed types. Specify dtype option on import or set low_memory=False.\n",
      "  tracks = pd.read_csv('fma_archive/fma_metadata/tracks.csv')\n"
     ]
    },
    {
     "data": {
      "text/plain": [
       "8260    [185, 15]\n",
       "Name: genres_all, dtype: object"
      ]
     },
     "execution_count": 36,
     "metadata": {},
     "output_type": "execute_result"
    }
   ],
   "source": [
    "tracks = pd.read_csv('fma_archive/fma_metadata/tracks.csv')\n",
    "genres = pd.read_csv('fma_archive/fma_metadata/genres.csv')\n",
    "genres_df = genres[['genre_id', 'title']]\n",
    "tracks_df = tracks[['track_id', 'genres_all', 'title']]\n",
    "tracks_df.loc[tracks_df['track_id'] == 14063, 'genres_all']\n",
    "\n",
    "# distribute_files(source_dir, train_dir, test_dir, val_dir)"
   ]
  },
  {
   "cell_type": "code",
   "execution_count": 27,
   "metadata": {},
   "outputs": [
    {
     "name": "stdout",
     "output_type": "stream",
     "text": [
      "Track 6674 has no genres\n",
      "Track 6680 has no genres\n",
      "Track 46043 has no genres\n"
     ]
    }
   ],
   "source": [
    "copy_track_by_genres(val_dir, tracks_df)"
   ]
  },
  {
   "cell_type": "code",
   "execution_count": null,
   "metadata": {},
   "outputs": [],
   "source": [
    "files = [f for f in os.listdir(source_dir) if f.endswith('.png')] #file is every file in the spectograms directory\n",
    "\n",
    "random.shuffle(files)\n",
    "total_files = len(files)\n",
    "train_split = int(0.8 * total_files)\n",
    "test_split = int(0.1 * total_files)\n",
    "\n",
    "distribute_files(train_split, test_split, files, source_dir, train_dir, test_dir, val_dir)"
   ]
  },
  {
   "cell_type": "markdown",
   "metadata": {},
   "source": [
    "Data Loading"
   ]
  },
  {
   "cell_type": "code",
   "execution_count": 9,
   "metadata": {},
   "outputs": [],
   "source": [
    "\n",
    "train_dataset = datasets.ImageFolder(\n",
    "    train_dir,\n",
    "    transforms.Compose([\n",
    "        transforms.ToTensor(),\n",
    "    ]))\n",
    "\n",
    "train_loader = torch.utils.data.DataLoader(\n",
    "    train_dataset, batch_size=25, shuffle=True, num_workers=0)\n",
    "\n",
    "test_dataset = datasets.ImageFolder(\n",
    "    test_dir,\n",
    "    transforms.Compose([\n",
    "        transforms.ToTensor(),\n",
    "    ]))\n",
    "\n",
    "test_loader = torch.utils.data.DataLoader(\n",
    "    test_dataset, batch_size=25, shuffle=True, num_workers=0)\n",
    "\n",
    "val_dataset = datasets.ImageFolder(\n",
    "    val_dir,\n",
    "    transforms.Compose([\n",
    "        transforms.ToTensor(),\n",
    "    ]))\n",
    "\n",
    "val_loader = torch.utils.data.DataLoader(\n",
    "    val_dataset, batch_size=25, shuffle=True, num_workers=0)\n"
   ]
  },
  {
   "cell_type": "code",
   "execution_count": 68,
   "metadata": {},
   "outputs": [
    {
     "name": "stdout",
     "output_type": "stream",
     "text": [
      "Skipping spectograms/validation_data\\009307_spectogram.png as it's already resized to (800, 300)\n",
      "Skipping spectograms/validation_data\\009555_spectogram.png as it's already resized to (800, 300)\n",
      "Skipping spectograms/validation_data\\009560_spectogram.png as it's already resized to (800, 300)\n",
      "Skipping spectograms/validation_data\\009846_spectogram.png as it's already resized to (800, 300)\n",
      "Skipping spectograms/validation_data\\009887_spectogram.png as it's already resized to (800, 300)\n",
      "Skipping spectograms/validation_data\\010375_spectogram.png as it's already resized to (800, 300)\n",
      "Skipping spectograms/validation_data\\010384_spectogram.png as it's already resized to (800, 300)\n",
      "Skipping spectograms/validation_data\\010458_spectogram.png as it's already resized to (800, 300)\n",
      "Skipping spectograms/validation_data\\010697_spectogram.png as it's already resized to (800, 300)\n",
      "Skipping spectograms/validation_data\\011206_spectogram.png as it's already resized to (800, 300)\n",
      "Skipping spectograms/validation_data\\011234_spectogram.png as it's already resized to (800, 300)\n",
      "Skipping spectograms/validation_data\\011503_spectogram.png as it's already resized to (800, 300)\n",
      "Skipping spectograms/validation_data\\011787_spectogram.png as it's already resized to (800, 300)\n",
      "Skipping spectograms/validation_data\\011794_spectogram.png as it's already resized to (800, 300)\n",
      "Skipping spectograms/validation_data\\012067_spectogram.png as it's already resized to (800, 300)\n",
      "Skipping spectograms/validation_data\\012109_spectogram.png as it's already resized to (800, 300)\n",
      "Skipping spectograms/validation_data\\012346_spectogram.png as it's already resized to (800, 300)\n",
      "Skipping spectograms/validation_data\\012390_spectogram.png as it's already resized to (800, 300)\n",
      "Skipping spectograms/validation_data\\012486_spectogram.png as it's already resized to (800, 300)\n",
      "Skipping spectograms/validation_data\\012531_spectogram.png as it's already resized to (800, 300)\n",
      "Skipping spectograms/validation_data\\012537_spectogram.png as it's already resized to (800, 300)\n",
      "Skipping spectograms/validation_data\\012654_spectogram.png as it's already resized to (800, 300)\n",
      "Skipping spectograms/validation_data\\012985_spectogram.png as it's already resized to (800, 300)\n",
      "Skipping spectograms/validation_data\\013325_spectogram.png as it's already resized to (800, 300)\n",
      "Skipping spectograms/validation_data\\013362_spectogram.png as it's already resized to (800, 300)\n",
      "Skipping spectograms/validation_data\\013578_spectogram.png as it's already resized to (800, 300)\n",
      "Skipping spectograms/validation_data\\013591_spectogram.png as it's already resized to (800, 300)\n",
      "Skipping spectograms/validation_data\\013596_spectogram.png as it's already resized to (800, 300)\n",
      "Skipping spectograms/validation_data\\013668_spectogram.png as it's already resized to (800, 300)\n",
      "Skipping spectograms/validation_data\\013670_spectogram.png as it's already resized to (800, 300)\n",
      "Skipping spectograms/validation_data\\014581_spectogram.png as it's already resized to (800, 300)\n",
      "Skipping spectograms/validation_data\\014588_spectogram.png as it's already resized to (800, 300)\n",
      "Skipping spectograms/validation_data\\014603_spectogram.png as it's already resized to (800, 300)\n",
      "Skipping spectograms/validation_data\\014663_spectogram.png as it's already resized to (800, 300)\n",
      "Skipping spectograms/validation_data\\014684_spectogram.png as it's already resized to (800, 300)\n",
      "Skipping spectograms/validation_data\\014690_spectogram.png as it's already resized to (800, 300)\n",
      "Skipping spectograms/validation_data\\014736_spectogram.png as it's already resized to (800, 300)\n",
      "Skipping spectograms/validation_data\\015210_spectogram.png as it's already resized to (800, 300)\n",
      "Skipping spectograms/validation_data\\015542_spectogram.png as it's already resized to (800, 300)\n",
      "Skipping spectograms/validation_data\\015773_spectogram.png as it's already resized to (800, 300)\n",
      "Skipping spectograms/validation_data\\016155_spectogram.png as it's already resized to (800, 300)\n",
      "Skipping spectograms/validation_data\\017132_spectogram.png as it's already resized to (800, 300)\n",
      "Skipping spectograms/validation_data\\017344_spectogram.png as it's already resized to (800, 300)\n",
      "Skipping spectograms/validation_data\\019418_spectogram.png as it's already resized to (800, 300)\n",
      "Skipping spectograms/validation_data\\019420_spectogram.png as it's already resized to (800, 300)\n",
      "Skipping spectograms/validation_data\\019707_spectogram.png as it's already resized to (800, 300)\n",
      "Skipping spectograms/validation_data\\019729_spectogram.png as it's already resized to (800, 300)\n",
      "Skipping spectograms/validation_data\\020362_spectogram.png as it's already resized to (800, 300)\n",
      "Skipping spectograms/validation_data\\020372_spectogram.png as it's already resized to (800, 300)\n",
      "Skipping spectograms/validation_data\\020704_spectogram.png as it's already resized to (800, 300)\n",
      "Skipping spectograms/validation_data\\021167_spectogram.png as it's already resized to (800, 300)\n",
      "Skipping spectograms/validation_data\\021231_spectogram.png as it's already resized to (800, 300)\n",
      "Skipping spectograms/validation_data\\021232_spectogram.png as it's already resized to (800, 300)\n",
      "Skipping spectograms/validation_data\\021774_spectogram.png as it's already resized to (800, 300)\n",
      "Skipping spectograms/validation_data\\022000_spectogram.png as it's already resized to (800, 300)\n",
      "Skipping spectograms/validation_data\\022296_spectogram.png as it's already resized to (800, 300)\n",
      "Skipping spectograms/validation_data\\023014_spectogram.png as it's already resized to (800, 300)\n",
      "Skipping spectograms/validation_data\\023015_spectogram.png as it's already resized to (800, 300)\n",
      "Skipping spectograms/validation_data\\023037_spectogram.png as it's already resized to (800, 300)\n",
      "Skipping spectograms/validation_data\\024429_spectogram.png as it's already resized to (800, 300)\n",
      "Skipping spectograms/validation_data\\024521_spectogram.png as it's already resized to (800, 300)\n",
      "Skipping spectograms/validation_data\\024739_spectogram.png as it's already resized to (800, 300)\n",
      "Skipping spectograms/validation_data\\024746_spectogram.png as it's already resized to (800, 300)\n",
      "Skipping spectograms/validation_data\\024899_spectogram.png as it's already resized to (800, 300)\n",
      "Skipping spectograms/validation_data\\025232_spectogram.png as it's already resized to (800, 300)\n",
      "Skipping spectograms/validation_data\\025603_spectogram.png as it's already resized to (800, 300)\n",
      "Skipping spectograms/validation_data\\025670_spectogram.png as it's already resized to (800, 300)\n",
      "Skipping spectograms/validation_data\\026034_spectogram.png as it's already resized to (800, 300)\n",
      "Skipping spectograms/validation_data\\026301_spectogram.png as it's already resized to (800, 300)\n",
      "Skipping spectograms/validation_data\\026465_spectogram.png as it's already resized to (800, 300)\n",
      "Skipping spectograms/validation_data\\026600_spectogram.png as it's already resized to (800, 300)\n",
      "Skipping spectograms/validation_data\\026674_spectogram.png as it's already resized to (800, 300)\n",
      "Skipping spectograms/validation_data\\026681_spectogram.png as it's already resized to (800, 300)\n",
      "Skipping spectograms/validation_data\\026861_spectogram.png as it's already resized to (800, 300)\n",
      "Skipping spectograms/validation_data\\026904_spectogram.png as it's already resized to (800, 300)\n",
      "Skipping spectograms/validation_data\\027197_spectogram.png as it's already resized to (800, 300)\n",
      "Skipping spectograms/validation_data\\027799_spectogram.png as it's already resized to (800, 300)\n",
      "Skipping spectograms/validation_data\\027855_spectogram.png as it's already resized to (800, 300)\n",
      "Skipping spectograms/validation_data\\027975_spectogram.png as it's already resized to (800, 300)\n",
      "Skipping spectograms/validation_data\\027981_spectogram.png as it's already resized to (800, 300)\n",
      "Skipping spectograms/validation_data\\028072_spectogram.png as it's already resized to (800, 300)\n",
      "Skipping spectograms/validation_data\\028485_spectogram.png as it's already resized to (800, 300)\n",
      "Skipping spectograms/validation_data\\029587_spectogram.png as it's already resized to (800, 300)\n",
      "Skipping spectograms/validation_data\\029816_spectogram.png as it's already resized to (800, 300)\n",
      "Skipping spectograms/validation_data\\029961_spectogram.png as it's already resized to (800, 300)\n",
      "Skipping spectograms/validation_data\\030041_spectogram.png as it's already resized to (800, 300)\n",
      "Skipping spectograms/validation_data\\030740_spectogram.png as it's already resized to (800, 300)\n",
      "Skipping spectograms/validation_data\\032021_spectogram.png as it's already resized to (800, 300)\n",
      "Skipping spectograms/validation_data\\032327_spectogram.png as it's already resized to (800, 300)\n",
      "Skipping spectograms/validation_data\\032439_spectogram.png as it's already resized to (800, 300)\n",
      "Skipping spectograms/validation_data\\033067_spectogram.png as it's already resized to (800, 300)\n",
      "Skipping spectograms/validation_data\\033068_spectogram.png as it's already resized to (800, 300)\n",
      "Skipping spectograms/validation_data\\033071_spectogram.png as it's already resized to (800, 300)\n",
      "Skipping spectograms/validation_data\\033123_spectogram.png as it's already resized to (800, 300)\n",
      "Skipping spectograms/validation_data\\033124_spectogram.png as it's already resized to (800, 300)\n",
      "Skipping spectograms/validation_data\\033459_spectogram.png as it's already resized to (800, 300)\n",
      "Skipping spectograms/validation_data\\035444_spectogram.png as it's already resized to (800, 300)\n",
      "Skipping spectograms/validation_data\\035545_spectogram.png as it's already resized to (800, 300)\n",
      "Skipping spectograms/validation_data\\035571_spectogram.png as it's already resized to (800, 300)\n",
      "Skipping spectograms/validation_data\\036145_spectogram.png as it's already resized to (800, 300)\n",
      "Skipping spectograms/validation_data\\036615_spectogram.png as it's already resized to (800, 300)\n",
      "Skipping spectograms/validation_data\\036643_spectogram.png as it's already resized to (800, 300)\n",
      "Skipping spectograms/validation_data\\036961_spectogram.png as it's already resized to (800, 300)\n",
      "Skipping spectograms/validation_data\\036984_spectogram.png as it's already resized to (800, 300)\n",
      "Skipping spectograms/validation_data\\036988_spectogram.png as it's already resized to (800, 300)\n",
      "Skipping spectograms/validation_data\\037369_spectogram.png as it's already resized to (800, 300)\n",
      "Skipping spectograms/validation_data\\037538_spectogram.png as it's already resized to (800, 300)\n",
      "Skipping spectograms/validation_data\\038352_spectogram.png as it's already resized to (800, 300)\n",
      "Skipping spectograms/validation_data\\038560_spectogram.png as it's already resized to (800, 300)\n",
      "Skipping spectograms/validation_data\\038833_spectogram.png as it's already resized to (800, 300)\n",
      "Skipping spectograms/validation_data\\038966_spectogram.png as it's already resized to (800, 300)\n",
      "Skipping spectograms/validation_data\\039357_spectogram.png as it's already resized to (800, 300)\n",
      "Skipping spectograms/validation_data\\039359_spectogram.png as it's already resized to (800, 300)\n",
      "Skipping spectograms/validation_data\\039875_spectogram.png as it's already resized to (800, 300)\n",
      "Skipping spectograms/validation_data\\040133_spectogram.png as it's already resized to (800, 300)\n",
      "Skipping spectograms/validation_data\\040134_spectogram.png as it's already resized to (800, 300)\n",
      "Skipping spectograms/validation_data\\040230_spectogram.png as it's already resized to (800, 300)\n",
      "Skipping spectograms/validation_data\\040239_spectogram.png as it's already resized to (800, 300)\n",
      "Skipping spectograms/validation_data\\040509_spectogram.png as it's already resized to (800, 300)\n",
      "Skipping spectograms/validation_data\\040654_spectogram.png as it's already resized to (800, 300)\n",
      "Skipping spectograms/validation_data\\040844_spectogram.png as it's already resized to (800, 300)\n",
      "Skipping spectograms/validation_data\\041568_spectogram.png as it's already resized to (800, 300)\n",
      "Skipping spectograms/validation_data\\041573_spectogram.png as it's already resized to (800, 300)\n",
      "Skipping spectograms/validation_data\\041962_spectogram.png as it's already resized to (800, 300)\n",
      "Skipping spectograms/validation_data\\041965_spectogram.png as it's already resized to (800, 300)\n",
      "Skipping spectograms/validation_data\\042014_spectogram.png as it's already resized to (800, 300)\n",
      "Skipping spectograms/validation_data\\042372_spectogram.png as it's already resized to (800, 300)\n",
      "Skipping spectograms/validation_data\\042984_spectogram.png as it's already resized to (800, 300)\n",
      "Skipping spectograms/validation_data\\043519_spectogram.png as it's already resized to (800, 300)\n",
      "Skipping spectograms/validation_data\\043585_spectogram.png as it's already resized to (800, 300)\n",
      "Skipping spectograms/validation_data\\043699_spectogram.png as it's already resized to (800, 300)\n",
      "Skipping spectograms/validation_data\\044782_spectogram.png as it's already resized to (800, 300)\n",
      "Skipping spectograms/validation_data\\044806_spectogram.png as it's already resized to (800, 300)\n",
      "Skipping spectograms/validation_data\\044823_spectogram.png as it's already resized to (800, 300)\n",
      "Skipping spectograms/validation_data\\045055_spectogram.png as it's already resized to (800, 300)\n",
      "Skipping spectograms/validation_data\\045128_spectogram.png as it's already resized to (800, 300)\n",
      "Skipping spectograms/validation_data\\045150_spectogram.png as it's already resized to (800, 300)\n",
      "Skipping spectograms/validation_data\\046043_spectogram.png as it's already resized to (800, 300)\n",
      "Skipping spectograms/validation_data\\046717_spectogram.png as it's already resized to (800, 300)\n",
      "Skipping spectograms/validation_data\\046854_spectogram.png as it's already resized to (800, 300)\n",
      "Skipping spectograms/validation_data\\047068_spectogram.png as it's already resized to (800, 300)\n",
      "Skipping spectograms/validation_data\\047072_spectogram.png as it's already resized to (800, 300)\n",
      "Skipping spectograms/validation_data\\047073_spectogram.png as it's already resized to (800, 300)\n",
      "Skipping spectograms/validation_data\\047075_spectogram.png as it's already resized to (800, 300)\n",
      "Skipping spectograms/validation_data\\047196_spectogram.png as it's already resized to (800, 300)\n",
      "Skipping spectograms/validation_data\\047659_spectogram.png as it's already resized to (800, 300)\n",
      "Skipping spectograms/validation_data\\047826_spectogram.png as it's already resized to (800, 300)\n",
      "Skipping spectograms/validation_data\\048015_spectogram.png as it's already resized to (800, 300)\n",
      "Skipping spectograms/validation_data\\048042_spectogram.png as it's already resized to (800, 300)\n",
      "Skipping spectograms/validation_data\\048043_spectogram.png as it's already resized to (800, 300)\n",
      "Skipping spectograms/validation_data\\048046_spectogram.png as it's already resized to (800, 300)\n",
      "Skipping spectograms/validation_data\\048444_spectogram.png as it's already resized to (800, 300)\n",
      "Skipping spectograms/validation_data\\048463_spectogram.png as it's already resized to (800, 300)\n",
      "Skipping spectograms/validation_data\\048492_spectogram.png as it's already resized to (800, 300)\n",
      "Skipping spectograms/validation_data\\048763_spectogram.png as it's already resized to (800, 300)\n",
      "Skipping spectograms/validation_data\\048990_spectogram.png as it's already resized to (800, 300)\n",
      "Skipping spectograms/validation_data\\049071_spectogram.png as it's already resized to (800, 300)\n",
      "Skipping spectograms/validation_data\\049073_spectogram.png as it's already resized to (800, 300)\n",
      "Skipping spectograms/validation_data\\049408_spectogram.png as it's already resized to (800, 300)\n",
      "Skipping spectograms/validation_data\\049479_spectogram.png as it's already resized to (800, 300)\n",
      "Skipping spectograms/validation_data\\049842_spectogram.png as it's already resized to (800, 300)\n",
      "Skipping spectograms/validation_data\\049846_spectogram.png as it's already resized to (800, 300)\n",
      "Skipping spectograms/validation_data\\050539_spectogram.png as it's already resized to (800, 300)\n",
      "Skipping spectograms/validation_data\\051004_spectogram.png as it's already resized to (800, 300)\n",
      "Skipping spectograms/validation_data\\051115_spectogram.png as it's already resized to (800, 300)\n",
      "Skipping spectograms/validation_data\\051157_spectogram.png as it's already resized to (800, 300)\n",
      "Skipping spectograms/validation_data\\051262_spectogram.png as it's already resized to (800, 300)\n",
      "Skipping spectograms/validation_data\\051954_spectogram.png as it's already resized to (800, 300)\n",
      "Skipping spectograms/validation_data\\052119_spectogram.png as it's already resized to (800, 300)\n",
      "Skipping spectograms/validation_data\\052579_spectogram.png as it's already resized to (800, 300)\n",
      "Skipping spectograms/validation_data\\052632_spectogram.png as it's already resized to (800, 300)\n",
      "Skipping spectograms/validation_data\\052635_spectogram.png as it's already resized to (800, 300)\n",
      "Skipping spectograms/validation_data\\052650_spectogram.png as it's already resized to (800, 300)\n",
      "Skipping spectograms/validation_data\\053578_spectogram.png as it's already resized to (800, 300)\n",
      "Skipping spectograms/validation_data\\053723_spectogram.png as it's already resized to (800, 300)\n",
      "Skipping spectograms/validation_data\\054019_spectogram.png as it's already resized to (800, 300)\n",
      "Skipping spectograms/validation_data\\054442_spectogram.png as it's already resized to (800, 300)\n",
      "Skipping spectograms/validation_data\\054479_spectogram.png as it's already resized to (800, 300)\n",
      "Skipping spectograms/validation_data\\054568_spectogram.png as it's already resized to (800, 300)\n",
      "Skipping spectograms/validation_data\\054570_spectogram.png as it's already resized to (800, 300)\n",
      "Skipping spectograms/validation_data\\054623_spectogram.png as it's already resized to (800, 300)\n",
      "Skipping spectograms/validation_data\\054753_spectogram.png as it's already resized to (800, 300)\n",
      "Skipping spectograms/validation_data\\054942_spectogram.png as it's already resized to (800, 300)\n",
      "Skipping spectograms/validation_data\\055102_spectogram.png as it's already resized to (800, 300)\n",
      "Skipping spectograms/validation_data\\055233_spectogram.png as it's already resized to (800, 300)\n",
      "Skipping spectograms/validation_data\\055241_spectogram.png as it's already resized to (800, 300)\n",
      "Skipping spectograms/validation_data\\055292_spectogram.png as it's already resized to (800, 300)\n",
      "Skipping spectograms/validation_data\\055480_spectogram.png as it's already resized to (800, 300)\n",
      "Skipping spectograms/validation_data\\055809_spectogram.png as it's already resized to (800, 300)\n",
      "Skipping spectograms/validation_data\\055811_spectogram.png as it's already resized to (800, 300)\n",
      "Skipping spectograms/validation_data\\055831_spectogram.png as it's already resized to (800, 300)\n",
      "Skipping spectograms/validation_data\\056275_spectogram.png as it's already resized to (800, 300)\n",
      "Skipping spectograms/validation_data\\056470_spectogram.png as it's already resized to (800, 300)\n",
      "Skipping spectograms/validation_data\\056517_spectogram.png as it's already resized to (800, 300)\n",
      "Skipping spectograms/validation_data\\056518_spectogram.png as it's already resized to (800, 300)\n",
      "Skipping spectograms/validation_data\\056686_spectogram.png as it's already resized to (800, 300)\n",
      "Skipping spectograms/validation_data\\056692_spectogram.png as it's already resized to (800, 300)\n",
      "Skipping spectograms/validation_data\\056801_spectogram.png as it's already resized to (800, 300)\n",
      "Skipping spectograms/validation_data\\056802_spectogram.png as it's already resized to (800, 300)\n",
      "Skipping spectograms/validation_data\\056805_spectogram.png as it's already resized to (800, 300)\n",
      "Skipping spectograms/validation_data\\056929_spectogram.png as it's already resized to (800, 300)\n",
      "Skipping spectograms/validation_data\\057078_spectogram.png as it's already resized to (800, 300)\n",
      "Skipping spectograms/validation_data\\057180_spectogram.png as it's already resized to (800, 300)\n",
      "Skipping spectograms/validation_data\\057271_spectogram.png as it's already resized to (800, 300)\n",
      "Skipping spectograms/validation_data\\057629_spectogram.png as it's already resized to (800, 300)\n",
      "Skipping spectograms/validation_data\\058054_spectogram.png as it's already resized to (800, 300)\n",
      "Skipping spectograms/validation_data\\058140_spectogram.png as it's already resized to (800, 300)\n",
      "Skipping spectograms/validation_data\\058341_spectogram.png as it's already resized to (800, 300)\n",
      "Skipping spectograms/validation_data\\059446_spectogram.png as it's already resized to (800, 300)\n",
      "Skipping spectograms/validation_data\\059653_spectogram.png as it's already resized to (800, 300)\n",
      "Skipping spectograms/validation_data\\059659_spectogram.png as it's already resized to (800, 300)\n",
      "Skipping spectograms/validation_data\\059664_spectogram.png as it's already resized to (800, 300)\n",
      "Skipping spectograms/validation_data\\059673_spectogram.png as it's already resized to (800, 300)\n",
      "Skipping spectograms/validation_data\\059720_spectogram.png as it's already resized to (800, 300)\n",
      "Skipping spectograms/validation_data\\059721_spectogram.png as it's already resized to (800, 300)\n",
      "Skipping spectograms/validation_data\\059726_spectogram.png as it's already resized to (800, 300)\n",
      "Skipping spectograms/validation_data\\060143_spectogram.png as it's already resized to (800, 300)\n",
      "Skipping spectograms/validation_data\\060170_spectogram.png as it's already resized to (800, 300)\n",
      "Skipping spectograms/validation_data\\060535_spectogram.png as it's already resized to (800, 300)\n",
      "Skipping spectograms/validation_data\\060547_spectogram.png as it's already resized to (800, 300)\n",
      "Skipping spectograms/validation_data\\060872_spectogram.png as it's already resized to (800, 300)\n",
      "Skipping spectograms/validation_data\\061453_spectogram.png as it's already resized to (800, 300)\n",
      "Skipping spectograms/validation_data\\061814_spectogram.png as it's already resized to (800, 300)\n",
      "Skipping spectograms/validation_data\\062164_spectogram.png as it's already resized to (800, 300)\n",
      "Skipping spectograms/validation_data\\062184_spectogram.png as it's already resized to (800, 300)\n",
      "Skipping spectograms/validation_data\\062186_spectogram.png as it's already resized to (800, 300)\n",
      "Skipping spectograms/validation_data\\062191_spectogram.png as it's already resized to (800, 300)\n",
      "Skipping spectograms/validation_data\\062750_spectogram.png as it's already resized to (800, 300)\n",
      "Skipping spectograms/validation_data\\063045_spectogram.png as it's already resized to (800, 300)\n",
      "Skipping spectograms/validation_data\\063191_spectogram.png as it's already resized to (800, 300)\n",
      "Skipping spectograms/validation_data\\064522_spectogram.png as it's already resized to (800, 300)\n",
      "Skipping spectograms/validation_data\\064537_spectogram.png as it's already resized to (800, 300)\n",
      "Skipping spectograms/validation_data\\064553_spectogram.png as it's already resized to (800, 300)\n",
      "Skipping spectograms/validation_data\\064604_spectogram.png as it's already resized to (800, 300)\n",
      "Skipping spectograms/validation_data\\064841_spectogram.png as it's already resized to (800, 300)\n",
      "Skipping spectograms/validation_data\\064857_spectogram.png as it's already resized to (800, 300)\n",
      "Skipping spectograms/validation_data\\064861_spectogram.png as it's already resized to (800, 300)\n",
      "Skipping spectograms/validation_data\\064863_spectogram.png as it's already resized to (800, 300)\n",
      "Skipping spectograms/validation_data\\065040_spectogram.png as it's already resized to (800, 300)\n",
      "Skipping spectograms/validation_data\\065063_spectogram.png as it's already resized to (800, 300)\n",
      "Skipping spectograms/validation_data\\065752_spectogram.png as it's already resized to (800, 300)\n",
      "Skipping spectograms/validation_data\\065777_spectogram.png as it's already resized to (800, 300)\n",
      "Skipping spectograms/validation_data\\065779_spectogram.png as it's already resized to (800, 300)\n",
      "Skipping spectograms/validation_data\\065780_spectogram.png as it's already resized to (800, 300)\n",
      "Skipping spectograms/validation_data\\065893_spectogram.png as it's already resized to (800, 300)\n",
      "Skipping spectograms/validation_data\\066073_spectogram.png as it's already resized to (800, 300)\n",
      "Skipping spectograms/validation_data\\066537_spectogram.png as it's already resized to (800, 300)\n",
      "Skipping spectograms/validation_data\\066638_spectogram.png as it's already resized to (800, 300)\n",
      "Skipping spectograms/validation_data\\066757_spectogram.png as it's already resized to (800, 300)\n",
      "Skipping spectograms/validation_data\\067121_spectogram.png as it's already resized to (800, 300)\n",
      "Skipping spectograms/validation_data\\067163_spectogram.png as it's already resized to (800, 300)\n",
      "Skipping spectograms/validation_data\\067235_spectogram.png as it's already resized to (800, 300)\n",
      "Skipping spectograms/validation_data\\067364_spectogram.png as it's already resized to (800, 300)\n",
      "Skipping spectograms/validation_data\\067412_spectogram.png as it's already resized to (800, 300)\n",
      "Skipping spectograms/validation_data\\067457_spectogram.png as it's already resized to (800, 300)\n",
      "Skipping spectograms/validation_data\\067638_spectogram.png as it's already resized to (800, 300)\n",
      "Skipping spectograms/validation_data\\068354_spectogram.png as it's already resized to (800, 300)\n",
      "Skipping spectograms/validation_data\\068683_spectogram.png as it's already resized to (800, 300)\n",
      "Skipping spectograms/validation_data\\068837_spectogram.png as it's already resized to (800, 300)\n",
      "Skipping spectograms/validation_data\\068853_spectogram.png as it's already resized to (800, 300)\n",
      "Skipping spectograms/validation_data\\068891_spectogram.png as it's already resized to (800, 300)\n",
      "Skipping spectograms/validation_data\\069002_spectogram.png as it's already resized to (800, 300)\n",
      "Skipping spectograms/validation_data\\069765_spectogram.png as it's already resized to (800, 300)\n",
      "Skipping spectograms/validation_data\\069768_spectogram.png as it's already resized to (800, 300)\n",
      "Skipping spectograms/validation_data\\069822_spectogram.png as it's already resized to (800, 300)\n",
      "Skipping spectograms/validation_data\\069825_spectogram.png as it's already resized to (800, 300)\n",
      "Skipping spectograms/validation_data\\070005_spectogram.png as it's already resized to (800, 300)\n",
      "Skipping spectograms/validation_data\\070425_spectogram.png as it's already resized to (800, 300)\n",
      "Skipping spectograms/validation_data\\070426_spectogram.png as it's already resized to (800, 300)\n",
      "Skipping spectograms/validation_data\\070660_spectogram.png as it's already resized to (800, 300)\n",
      "Skipping spectograms/validation_data\\070873_spectogram.png as it's already resized to (800, 300)\n",
      "Skipping spectograms/validation_data\\071172_spectogram.png as it's already resized to (800, 300)\n",
      "Skipping spectograms/validation_data\\071231_spectogram.png as it's already resized to (800, 300)\n",
      "Skipping spectograms/validation_data\\071249_spectogram.png as it's already resized to (800, 300)\n",
      "Skipping spectograms/validation_data\\071252_spectogram.png as it's already resized to (800, 300)\n",
      "Skipping spectograms/validation_data\\071508_spectogram.png as it's already resized to (800, 300)\n",
      "Skipping spectograms/validation_data\\072056_spectogram.png as it's already resized to (800, 300)\n",
      "Skipping spectograms/validation_data\\072074_spectogram.png as it's already resized to (800, 300)\n",
      "Skipping spectograms/validation_data\\072476_spectogram.png as it's already resized to (800, 300)\n",
      "Skipping spectograms/validation_data\\072781_spectogram.png as it's already resized to (800, 300)\n",
      "Skipping spectograms/validation_data\\072927_spectogram.png as it's already resized to (800, 300)\n",
      "Skipping spectograms/validation_data\\072928_spectogram.png as it's already resized to (800, 300)\n",
      "Skipping spectograms/validation_data\\073335_spectogram.png as it's already resized to (800, 300)\n",
      "Skipping spectograms/validation_data\\073341_spectogram.png as it's already resized to (800, 300)\n",
      "Skipping spectograms/validation_data\\073344_spectogram.png as it's already resized to (800, 300)\n",
      "Skipping spectograms/validation_data\\073363_spectogram.png as it's already resized to (800, 300)\n",
      "Skipping spectograms/validation_data\\073366_spectogram.png as it's already resized to (800, 300)\n",
      "Skipping spectograms/validation_data\\073822_spectogram.png as it's already resized to (800, 300)\n",
      "Skipping spectograms/validation_data\\074387_spectogram.png as it's already resized to (800, 300)\n",
      "Skipping spectograms/validation_data\\074388_spectogram.png as it's already resized to (800, 300)\n",
      "Skipping spectograms/validation_data\\074392_spectogram.png as it's already resized to (800, 300)\n",
      "Skipping spectograms/validation_data\\074393_spectogram.png as it's already resized to (800, 300)\n",
      "Skipping spectograms/validation_data\\074546_spectogram.png as it's already resized to (800, 300)\n",
      "Skipping spectograms/validation_data\\074959_spectogram.png as it's already resized to (800, 300)\n",
      "Skipping spectograms/validation_data\\075376_spectogram.png as it's already resized to (800, 300)\n",
      "Skipping spectograms/validation_data\\075437_spectogram.png as it's already resized to (800, 300)\n",
      "Skipping spectograms/validation_data\\075440_spectogram.png as it's already resized to (800, 300)\n",
      "Skipping spectograms/validation_data\\075748_spectogram.png as it's already resized to (800, 300)\n",
      "Skipping spectograms/validation_data\\075749_spectogram.png as it's already resized to (800, 300)\n",
      "Skipping spectograms/validation_data\\075752_spectogram.png as it's already resized to (800, 300)\n",
      "Skipping spectograms/validation_data\\075763_spectogram.png as it's already resized to (800, 300)\n",
      "Skipping spectograms/validation_data\\075788_spectogram.png as it's already resized to (800, 300)\n",
      "Skipping spectograms/validation_data\\075844_spectogram.png as it's already resized to (800, 300)\n",
      "Skipping spectograms/validation_data\\075862_spectogram.png as it's already resized to (800, 300)\n",
      "Skipping spectograms/validation_data\\075869_spectogram.png as it's already resized to (800, 300)\n",
      "Skipping spectograms/validation_data\\075925_spectogram.png as it's already resized to (800, 300)\n",
      "Skipping spectograms/validation_data\\076071_spectogram.png as it's already resized to (800, 300)\n",
      "Skipping spectograms/validation_data\\076659_spectogram.png as it's already resized to (800, 300)\n",
      "Skipping spectograms/validation_data\\078213_spectogram.png as it's already resized to (800, 300)\n",
      "Skipping spectograms/validation_data\\078848_spectogram.png as it's already resized to (800, 300)\n",
      "Skipping spectograms/validation_data\\078852_spectogram.png as it's already resized to (800, 300)\n",
      "Skipping spectograms/validation_data\\079575_spectogram.png as it's already resized to (800, 300)\n",
      "Skipping spectograms/validation_data\\079986_spectogram.png as it's already resized to (800, 300)\n",
      "Skipping spectograms/validation_data\\080003_spectogram.png as it's already resized to (800, 300)\n",
      "Skipping spectograms/validation_data\\080833_spectogram.png as it's already resized to (800, 300)\n",
      "Skipping spectograms/validation_data\\081638_spectogram.png as it's already resized to (800, 300)\n",
      "Skipping spectograms/validation_data\\082918_spectogram.png as it's already resized to (800, 300)\n",
      "Skipping spectograms/validation_data\\082919_spectogram.png as it's already resized to (800, 300)\n",
      "Skipping spectograms/validation_data\\083913_spectogram.png as it's already resized to (800, 300)\n",
      "Skipping spectograms/validation_data\\084009_spectogram.png as it's already resized to (800, 300)\n",
      "Skipping spectograms/validation_data\\084055_spectogram.png as it's already resized to (800, 300)\n",
      "Skipping spectograms/validation_data\\084056_spectogram.png as it's already resized to (800, 300)\n",
      "Skipping spectograms/validation_data\\084058_spectogram.png as it's already resized to (800, 300)\n",
      "Skipping spectograms/validation_data\\084152_spectogram.png as it's already resized to (800, 300)\n",
      "Skipping spectograms/validation_data\\084155_spectogram.png as it's already resized to (800, 300)\n",
      "Skipping spectograms/validation_data\\084195_spectogram.png as it's already resized to (800, 300)\n",
      "Skipping spectograms/validation_data\\084423_spectogram.png as it's already resized to (800, 300)\n",
      "Skipping spectograms/validation_data\\085317_spectogram.png as it's already resized to (800, 300)\n",
      "Skipping spectograms/validation_data\\085425_spectogram.png as it's already resized to (800, 300)\n",
      "Skipping spectograms/validation_data\\085428_spectogram.png as it's already resized to (800, 300)\n",
      "Skipping spectograms/validation_data\\085436_spectogram.png as it's already resized to (800, 300)\n",
      "Skipping spectograms/validation_data\\085487_spectogram.png as it's already resized to (800, 300)\n",
      "Skipping spectograms/validation_data\\085490_spectogram.png as it's already resized to (800, 300)\n",
      "Skipping spectograms/validation_data\\085491_spectogram.png as it's already resized to (800, 300)\n",
      "Skipping spectograms/validation_data\\085492_spectogram.png as it's already resized to (800, 300)\n",
      "Skipping spectograms/validation_data\\085594_spectogram.png as it's already resized to (800, 300)\n",
      "Skipping spectograms/validation_data\\085817_spectogram.png as it's already resized to (800, 300)\n",
      "Skipping spectograms/validation_data\\086724_spectogram.png as it's already resized to (800, 300)\n",
      "Skipping spectograms/validation_data\\086761_spectogram.png as it's already resized to (800, 300)\n",
      "Skipping spectograms/validation_data\\086795_spectogram.png as it's already resized to (800, 300)\n",
      "Skipping spectograms/validation_data\\087103_spectogram.png as it's already resized to (800, 300)\n",
      "Skipping spectograms/validation_data\\087160_spectogram.png as it's already resized to (800, 300)\n",
      "Skipping spectograms/validation_data\\087490_spectogram.png as it's already resized to (800, 300)\n",
      "Skipping spectograms/validation_data\\087642_spectogram.png as it's already resized to (800, 300)\n",
      "Skipping spectograms/validation_data\\088429_spectogram.png as it's already resized to (800, 300)\n",
      "Skipping spectograms/validation_data\\088861_spectogram.png as it's already resized to (800, 300)\n",
      "Skipping spectograms/validation_data\\088869_spectogram.png as it's already resized to (800, 300)\n",
      "Skipping spectograms/validation_data\\088877_spectogram.png as it's already resized to (800, 300)\n",
      "Skipping spectograms/validation_data\\089196_spectogram.png as it's already resized to (800, 300)\n",
      "Skipping spectograms/validation_data\\089376_spectogram.png as it's already resized to (800, 300)\n",
      "Skipping spectograms/validation_data\\089484_spectogram.png as it's already resized to (800, 300)\n",
      "Skipping spectograms/validation_data\\089860_spectogram.png as it's already resized to (800, 300)\n",
      "Skipping spectograms/validation_data\\090579_spectogram.png as it's already resized to (800, 300)\n",
      "Skipping spectograms/validation_data\\090616_spectogram.png as it's already resized to (800, 300)\n",
      "Skipping spectograms/validation_data\\090993_spectogram.png as it's already resized to (800, 300)\n",
      "Skipping spectograms/validation_data\\091083_spectogram.png as it's already resized to (800, 300)\n",
      "Skipping spectograms/validation_data\\091088_spectogram.png as it's already resized to (800, 300)\n",
      "Skipping spectograms/validation_data\\091164_spectogram.png as it's already resized to (800, 300)\n",
      "Skipping spectograms/validation_data\\091177_spectogram.png as it's already resized to (800, 300)\n",
      "Skipping spectograms/validation_data\\091179_spectogram.png as it's already resized to (800, 300)\n",
      "Skipping spectograms/validation_data\\091181_spectogram.png as it's already resized to (800, 300)\n",
      "Skipping spectograms/validation_data\\091309_spectogram.png as it's already resized to (800, 300)\n",
      "Skipping spectograms/validation_data\\091621_spectogram.png as it's already resized to (800, 300)\n",
      "Skipping spectograms/validation_data\\091622_spectogram.png as it's already resized to (800, 300)\n",
      "Skipping spectograms/validation_data\\091790_spectogram.png as it's already resized to (800, 300)\n",
      "Skipping spectograms/validation_data\\091851_spectogram.png as it's already resized to (800, 300)\n",
      "Skipping spectograms/validation_data\\091899_spectogram.png as it's already resized to (800, 300)\n",
      "Skipping spectograms/validation_data\\091937_spectogram.png as it's already resized to (800, 300)\n",
      "Skipping spectograms/validation_data\\091938_spectogram.png as it's already resized to (800, 300)\n",
      "Skipping spectograms/validation_data\\092885_spectogram.png as it's already resized to (800, 300)\n",
      "Skipping spectograms/validation_data\\093950_spectogram.png as it's already resized to (800, 300)\n",
      "Skipping spectograms/validation_data\\094033_spectogram.png as it's already resized to (800, 300)\n",
      "Skipping spectograms/validation_data\\094411_spectogram.png as it's already resized to (800, 300)\n",
      "Skipping spectograms/validation_data\\094423_spectogram.png as it's already resized to (800, 300)\n",
      "Skipping spectograms/validation_data\\095452_spectogram.png as it's already resized to (800, 300)\n",
      "Skipping spectograms/validation_data\\095486_spectogram.png as it's already resized to (800, 300)\n",
      "Skipping spectograms/validation_data\\095506_spectogram.png as it's already resized to (800, 300)\n",
      "Skipping spectograms/validation_data\\095911_spectogram.png as it's already resized to (800, 300)\n",
      "Skipping spectograms/validation_data\\096697_spectogram.png as it's already resized to (800, 300)\n",
      "Skipping spectograms/validation_data\\096743_spectogram.png as it's already resized to (800, 300)\n",
      "Skipping spectograms/validation_data\\096935_spectogram.png as it's already resized to (800, 300)\n",
      "Skipping spectograms/validation_data\\096936_spectogram.png as it's already resized to (800, 300)\n",
      "Skipping spectograms/validation_data\\097037_spectogram.png as it's already resized to (800, 300)\n",
      "Skipping spectograms/validation_data\\097279_spectogram.png as it's already resized to (800, 300)\n",
      "Skipping spectograms/validation_data\\097697_spectogram.png as it's already resized to (800, 300)\n",
      "Skipping spectograms/validation_data\\097793_spectogram.png as it's already resized to (800, 300)\n",
      "Skipping spectograms/validation_data\\097814_spectogram.png as it's already resized to (800, 300)\n",
      "Skipping spectograms/validation_data\\097886_spectogram.png as it's already resized to (800, 300)\n",
      "Skipping spectograms/validation_data\\097958_spectogram.png as it's already resized to (800, 300)\n",
      "Skipping spectograms/validation_data\\098025_spectogram.png as it's already resized to (800, 300)\n",
      "Skipping spectograms/validation_data\\098238_spectogram.png as it's already resized to (800, 300)\n",
      "Skipping spectograms/validation_data\\098301_spectogram.png as it's already resized to (800, 300)\n",
      "Skipping spectograms/validation_data\\098551_spectogram.png as it's already resized to (800, 300)\n",
      "Skipping spectograms/validation_data\\100549_spectogram.png as it's already resized to (800, 300)\n",
      "Skipping spectograms/validation_data\\100550_spectogram.png as it's already resized to (800, 300)\n",
      "Skipping spectograms/validation_data\\100799_spectogram.png as it's already resized to (800, 300)\n",
      "Skipping spectograms/validation_data\\100835_spectogram.png as it's already resized to (800, 300)\n",
      "Skipping spectograms/validation_data\\100949_spectogram.png as it's already resized to (800, 300)\n",
      "Skipping spectograms/validation_data\\104066_spectogram.png as it's already resized to (800, 300)\n",
      "Skipping spectograms/validation_data\\104227_spectogram.png as it's already resized to (800, 300)\n",
      "Skipping spectograms/validation_data\\104279_spectogram.png as it's already resized to (800, 300)\n",
      "Skipping spectograms/validation_data\\104725_spectogram.png as it's already resized to (800, 300)\n",
      "Skipping spectograms/validation_data\\104779_spectogram.png as it's already resized to (800, 300)\n",
      "Skipping spectograms/validation_data\\105414_spectogram.png as it's already resized to (800, 300)\n",
      "Skipping spectograms/validation_data\\105443_spectogram.png as it's already resized to (800, 300)\n",
      "Skipping spectograms/validation_data\\105671_spectogram.png as it's already resized to (800, 300)\n",
      "Skipping spectograms/validation_data\\105672_spectogram.png as it's already resized to (800, 300)\n",
      "Skipping spectograms/validation_data\\105825_spectogram.png as it's already resized to (800, 300)\n",
      "Skipping spectograms/validation_data\\105827_spectogram.png as it's already resized to (800, 300)\n",
      "Skipping spectograms/validation_data\\105887_spectogram.png as it's already resized to (800, 300)\n",
      "Skipping spectograms/validation_data\\105918_spectogram.png as it's already resized to (800, 300)\n",
      "Skipping spectograms/validation_data\\106568_spectogram.png as it's already resized to (800, 300)\n",
      "Skipping spectograms/validation_data\\106569_spectogram.png as it's already resized to (800, 300)\n",
      "Skipping spectograms/validation_data\\107248_spectogram.png as it's already resized to (800, 300)\n",
      "Skipping spectograms/validation_data\\107426_spectogram.png as it's already resized to (800, 300)\n",
      "Skipping spectograms/validation_data\\107427_spectogram.png as it's already resized to (800, 300)\n",
      "Skipping spectograms/validation_data\\107535_spectogram.png as it's already resized to (800, 300)\n",
      "Skipping spectograms/validation_data\\107571_spectogram.png as it's already resized to (800, 300)\n",
      "Skipping spectograms/validation_data\\107578_spectogram.png as it's already resized to (800, 300)\n",
      "Skipping spectograms/validation_data\\107613_spectogram.png as it's already resized to (800, 300)\n",
      "Skipping spectograms/validation_data\\107659_spectogram.png as it's already resized to (800, 300)\n",
      "Skipping spectograms/validation_data\\107911_spectogram.png as it's already resized to (800, 300)\n",
      "Skipping spectograms/validation_data\\107951_spectogram.png as it's already resized to (800, 300)\n",
      "Skipping spectograms/validation_data\\108016_spectogram.png as it's already resized to (800, 300)\n",
      "Skipping spectograms/validation_data\\108019_spectogram.png as it's already resized to (800, 300)\n",
      "Skipping spectograms/validation_data\\108037_spectogram.png as it's already resized to (800, 300)\n",
      "Skipping spectograms/validation_data\\108050_spectogram.png as it's already resized to (800, 300)\n",
      "Skipping spectograms/validation_data\\108060_spectogram.png as it's already resized to (800, 300)\n",
      "Skipping spectograms/validation_data\\108308_spectogram.png as it's already resized to (800, 300)\n",
      "Skipping spectograms/validation_data\\108420_spectogram.png as it's already resized to (800, 300)\n",
      "Skipping spectograms/validation_data\\108425_spectogram.png as it's already resized to (800, 300)\n",
      "Skipping spectograms/validation_data\\108464_spectogram.png as it's already resized to (800, 300)\n",
      "Skipping spectograms/validation_data\\108492_spectogram.png as it's already resized to (800, 300)\n",
      "Skipping spectograms/validation_data\\108496_spectogram.png as it's already resized to (800, 300)\n",
      "Skipping spectograms/validation_data\\108529_spectogram.png as it's already resized to (800, 300)\n",
      "Skipping spectograms/validation_data\\108533_spectogram.png as it's already resized to (800, 300)\n",
      "Skipping spectograms/validation_data\\108837_spectogram.png as it's already resized to (800, 300)\n",
      "Skipping spectograms/validation_data\\110110_spectogram.png as it's already resized to (800, 300)\n",
      "Skipping spectograms/validation_data\\110204_spectogram.png as it's already resized to (800, 300)\n",
      "Skipping spectograms/validation_data\\110205_spectogram.png as it's already resized to (800, 300)\n",
      "Skipping spectograms/validation_data\\110208_spectogram.png as it's already resized to (800, 300)\n",
      "Skipping spectograms/validation_data\\110259_spectogram.png as it's already resized to (800, 300)\n",
      "Skipping spectograms/validation_data\\110654_spectogram.png as it's already resized to (800, 300)\n",
      "Skipping spectograms/validation_data\\111150_spectogram.png as it's already resized to (800, 300)\n",
      "Skipping spectograms/validation_data\\111186_spectogram.png as it's already resized to (800, 300)\n",
      "Skipping spectograms/validation_data\\111402_spectogram.png as it's already resized to (800, 300)\n",
      "Skipping spectograms/validation_data\\111933_spectogram.png as it's already resized to (800, 300)\n",
      "Skipping spectograms/validation_data\\112211_spectogram.png as it's already resized to (800, 300)\n",
      "Skipping spectograms/validation_data\\112215_spectogram.png as it's already resized to (800, 300)\n",
      "Skipping spectograms/validation_data\\112314_spectogram.png as it's already resized to (800, 300)\n",
      "Skipping spectograms/validation_data\\112315_spectogram.png as it's already resized to (800, 300)\n",
      "Skipping spectograms/validation_data\\112487_spectogram.png as it's already resized to (800, 300)\n",
      "Skipping spectograms/validation_data\\112588_spectogram.png as it's already resized to (800, 300)\n",
      "Skipping spectograms/validation_data\\113016_spectogram.png as it's already resized to (800, 300)\n",
      "Skipping spectograms/validation_data\\113017_spectogram.png as it's already resized to (800, 300)\n",
      "Skipping spectograms/validation_data\\113036_spectogram.png as it's already resized to (800, 300)\n",
      "Skipping spectograms/validation_data\\113164_spectogram.png as it's already resized to (800, 300)\n",
      "Skipping spectograms/validation_data\\113262_spectogram.png as it's already resized to (800, 300)\n",
      "Skipping spectograms/validation_data\\113269_spectogram.png as it's already resized to (800, 300)\n",
      "Skipping spectograms/validation_data\\113271_spectogram.png as it's already resized to (800, 300)\n",
      "Skipping spectograms/validation_data\\113272_spectogram.png as it's already resized to (800, 300)\n",
      "Skipping spectograms/validation_data\\113277_spectogram.png as it's already resized to (800, 300)\n",
      "Skipping spectograms/validation_data\\113282_spectogram.png as it's already resized to (800, 300)\n",
      "Skipping spectograms/validation_data\\113558_spectogram.png as it's already resized to (800, 300)\n",
      "Skipping spectograms/validation_data\\113789_spectogram.png as it's already resized to (800, 300)\n",
      "Skipping spectograms/validation_data\\113822_spectogram.png as it's already resized to (800, 300)\n",
      "Skipping spectograms/validation_data\\113971_spectogram.png as it's already resized to (800, 300)\n",
      "Skipping spectograms/validation_data\\114044_spectogram.png as it's already resized to (800, 300)\n",
      "Skipping spectograms/validation_data\\114062_spectogram.png as it's already resized to (800, 300)\n",
      "Skipping spectograms/validation_data\\114077_spectogram.png as it's already resized to (800, 300)\n",
      "Skipping spectograms/validation_data\\114236_spectogram.png as it's already resized to (800, 300)\n",
      "Skipping spectograms/validation_data\\114238_spectogram.png as it's already resized to (800, 300)\n",
      "Skipping spectograms/validation_data\\114268_spectogram.png as it's already resized to (800, 300)\n",
      "Skipping spectograms/validation_data\\114272_spectogram.png as it's already resized to (800, 300)\n",
      "Skipping spectograms/validation_data\\114275_spectogram.png as it's already resized to (800, 300)\n",
      "Skipping spectograms/validation_data\\114291_spectogram.png as it's already resized to (800, 300)\n",
      "Skipping spectograms/validation_data\\114294_spectogram.png as it's already resized to (800, 300)\n",
      "Skipping spectograms/validation_data\\114295_spectogram.png as it's already resized to (800, 300)\n",
      "Skipping spectograms/validation_data\\114373_spectogram.png as it's already resized to (800, 300)\n",
      "Skipping spectograms/validation_data\\114374_spectogram.png as it's already resized to (800, 300)\n",
      "Skipping spectograms/validation_data\\114391_spectogram.png as it's already resized to (800, 300)\n",
      "Skipping spectograms/validation_data\\114400_spectogram.png as it's already resized to (800, 300)\n",
      "Skipping spectograms/validation_data\\114404_spectogram.png as it's already resized to (800, 300)\n",
      "Skipping spectograms/validation_data\\114408_spectogram.png as it's already resized to (800, 300)\n",
      "Skipping spectograms/validation_data\\114430_spectogram.png as it's already resized to (800, 300)\n",
      "Skipping spectograms/validation_data\\114939_spectogram.png as it's already resized to (800, 300)\n",
      "Skipping spectograms/validation_data\\114976_spectogram.png as it's already resized to (800, 300)\n",
      "Skipping spectograms/validation_data\\115271_spectogram.png as it's already resized to (800, 300)\n",
      "Skipping spectograms/validation_data\\115288_spectogram.png as it's already resized to (800, 300)\n",
      "Skipping spectograms/validation_data\\115292_spectogram.png as it's already resized to (800, 300)\n",
      "Skipping spectograms/validation_data\\115591_spectogram.png as it's already resized to (800, 300)\n",
      "Skipping spectograms/validation_data\\115697_spectogram.png as it's already resized to (800, 300)\n",
      "Skipping spectograms/validation_data\\115812_spectogram.png as it's already resized to (800, 300)\n",
      "Skipping spectograms/validation_data\\115852_spectogram.png as it's already resized to (800, 300)\n",
      "Skipping spectograms/validation_data\\115922_spectogram.png as it's already resized to (800, 300)\n",
      "Skipping spectograms/validation_data\\116177_spectogram.png as it's already resized to (800, 300)\n",
      "Skipping spectograms/validation_data\\116236_spectogram.png as it's already resized to (800, 300)\n",
      "Skipping spectograms/validation_data\\116243_spectogram.png as it's already resized to (800, 300)\n",
      "Skipping spectograms/validation_data\\116464_spectogram.png as it's already resized to (800, 300)\n",
      "Skipping spectograms/validation_data\\116465_spectogram.png as it's already resized to (800, 300)\n",
      "Skipping spectograms/validation_data\\116706_spectogram.png as it's already resized to (800, 300)\n",
      "Skipping spectograms/validation_data\\116735_spectogram.png as it's already resized to (800, 300)\n",
      "Skipping spectograms/validation_data\\117614_spectogram.png as it's already resized to (800, 300)\n",
      "Skipping spectograms/validation_data\\117667_spectogram.png as it's already resized to (800, 300)\n",
      "Skipping spectograms/validation_data\\117884_spectogram.png as it's already resized to (800, 300)\n",
      "Skipping spectograms/validation_data\\117943_spectogram.png as it's already resized to (800, 300)\n",
      "Skipping spectograms/validation_data\\118012_spectogram.png as it's already resized to (800, 300)\n",
      "Skipping spectograms/validation_data\\118195_spectogram.png as it's already resized to (800, 300)\n",
      "Skipping spectograms/validation_data\\118327_spectogram.png as it's already resized to (800, 300)\n",
      "Skipping spectograms/validation_data\\118672_spectogram.png as it's already resized to (800, 300)\n",
      "Skipping spectograms/validation_data\\118923_spectogram.png as it's already resized to (800, 300)\n",
      "Skipping spectograms/validation_data\\118957_spectogram.png as it's already resized to (800, 300)\n",
      "Skipping spectograms/validation_data\\120111_spectogram.png as it's already resized to (800, 300)\n",
      "Skipping spectograms/validation_data\\120172_spectogram.png as it's already resized to (800, 300)\n",
      "Skipping spectograms/validation_data\\120179_spectogram.png as it's already resized to (800, 300)\n",
      "Skipping spectograms/validation_data\\120184_spectogram.png as it's already resized to (800, 300)\n",
      "Skipping spectograms/validation_data\\120188_spectogram.png as it's already resized to (800, 300)\n",
      "Skipping spectograms/validation_data\\120297_spectogram.png as it's already resized to (800, 300)\n",
      "Skipping spectograms/validation_data\\120300_spectogram.png as it's already resized to (800, 300)\n",
      "Skipping spectograms/validation_data\\120313_spectogram.png as it's already resized to (800, 300)\n",
      "Skipping spectograms/validation_data\\120314_spectogram.png as it's already resized to (800, 300)\n",
      "Skipping spectograms/validation_data\\120315_spectogram.png as it's already resized to (800, 300)\n",
      "Skipping spectograms/validation_data\\120330_spectogram.png as it's already resized to (800, 300)\n",
      "Skipping spectograms/validation_data\\120515_spectogram.png as it's already resized to (800, 300)\n",
      "Skipping spectograms/validation_data\\121256_spectogram.png as it's already resized to (800, 300)\n",
      "Skipping spectograms/validation_data\\121315_spectogram.png as it's already resized to (800, 300)\n",
      "Skipping spectograms/validation_data\\121475_spectogram.png as it's already resized to (800, 300)\n",
      "Skipping spectograms/validation_data\\121594_spectogram.png as it's already resized to (800, 300)\n",
      "Skipping spectograms/validation_data\\121595_spectogram.png as it's already resized to (800, 300)\n",
      "Skipping spectograms/validation_data\\121659_spectogram.png as it's already resized to (800, 300)\n",
      "Skipping spectograms/validation_data\\121666_spectogram.png as it's already resized to (800, 300)\n",
      "Skipping spectograms/validation_data\\121735_spectogram.png as it's already resized to (800, 300)\n",
      "Skipping spectograms/validation_data\\121867_spectogram.png as it's already resized to (800, 300)\n",
      "Skipping spectograms/validation_data\\121987_spectogram.png as it's already resized to (800, 300)\n",
      "Skipping spectograms/validation_data\\122081_spectogram.png as it's already resized to (800, 300)\n",
      "Skipping spectograms/validation_data\\122143_spectogram.png as it's already resized to (800, 300)\n",
      "Skipping spectograms/validation_data\\122168_spectogram.png as it's already resized to (800, 300)\n",
      "Skipping spectograms/validation_data\\122199_spectogram.png as it's already resized to (800, 300)\n",
      "Skipping spectograms/validation_data\\122359_spectogram.png as it's already resized to (800, 300)\n",
      "Skipping spectograms/validation_data\\122504_spectogram.png as it's already resized to (800, 300)\n",
      "Skipping spectograms/validation_data\\122650_spectogram.png as it's already resized to (800, 300)\n",
      "Skipping spectograms/validation_data\\122806_spectogram.png as it's already resized to (800, 300)\n",
      "Skipping spectograms/validation_data\\122936_spectogram.png as it's already resized to (800, 300)\n",
      "Skipping spectograms/validation_data\\123273_spectogram.png as it's already resized to (800, 300)\n",
      "Skipping spectograms/validation_data\\123278_spectogram.png as it's already resized to (800, 300)\n",
      "Skipping spectograms/validation_data\\123440_spectogram.png as it's already resized to (800, 300)\n",
      "Skipping spectograms/validation_data\\123501_spectogram.png as it's already resized to (800, 300)\n",
      "Skipping spectograms/validation_data\\123502_spectogram.png as it's already resized to (800, 300)\n",
      "Skipping spectograms/validation_data\\123762_spectogram.png as it's already resized to (800, 300)\n",
      "Skipping spectograms/validation_data\\123835_spectogram.png as it's already resized to (800, 300)\n",
      "Skipping spectograms/validation_data\\124177_spectogram.png as it's already resized to (800, 300)\n",
      "Skipping spectograms/validation_data\\124201_spectogram.png as it's already resized to (800, 300)\n",
      "Skipping spectograms/validation_data\\124394_spectogram.png as it's already resized to (800, 300)\n",
      "Skipping spectograms/validation_data\\124424_spectogram.png as it's already resized to (800, 300)\n",
      "Skipping spectograms/validation_data\\124873_spectogram.png as it's already resized to (800, 300)\n",
      "Skipping spectograms/validation_data\\124891_spectogram.png as it's already resized to (800, 300)\n",
      "Skipping spectograms/validation_data\\124971_spectogram.png as it's already resized to (800, 300)\n",
      "Skipping spectograms/validation_data\\125001_spectogram.png as it's already resized to (800, 300)\n",
      "Skipping spectograms/validation_data\\125156_spectogram.png as it's already resized to (800, 300)\n",
      "Skipping spectograms/validation_data\\125160_spectogram.png as it's already resized to (800, 300)\n",
      "Skipping spectograms/validation_data\\125187_spectogram.png as it's already resized to (800, 300)\n",
      "Skipping spectograms/validation_data\\125190_spectogram.png as it's already resized to (800, 300)\n",
      "Skipping spectograms/validation_data\\125196_spectogram.png as it's already resized to (800, 300)\n",
      "Skipping spectograms/validation_data\\125312_spectogram.png as it's already resized to (800, 300)\n",
      "Skipping spectograms/validation_data\\125612_spectogram.png as it's already resized to (800, 300)\n",
      "Skipping spectograms/validation_data\\125614_spectogram.png as it's already resized to (800, 300)\n",
      "Skipping spectograms/validation_data\\125821_spectogram.png as it's already resized to (800, 300)\n",
      "Skipping spectograms/validation_data\\125823_spectogram.png as it's already resized to (800, 300)\n",
      "Skipping spectograms/validation_data\\125824_spectogram.png as it's already resized to (800, 300)\n",
      "Skipping spectograms/validation_data\\126183_spectogram.png as it's already resized to (800, 300)\n",
      "Skipping spectograms/validation_data\\126214_spectogram.png as it's already resized to (800, 300)\n",
      "Skipping spectograms/validation_data\\126217_spectogram.png as it's already resized to (800, 300)\n",
      "Skipping spectograms/validation_data\\126219_spectogram.png as it's already resized to (800, 300)\n",
      "Skipping spectograms/validation_data\\126227_spectogram.png as it's already resized to (800, 300)\n",
      "Skipping spectograms/validation_data\\126232_spectogram.png as it's already resized to (800, 300)\n",
      "Skipping spectograms/validation_data\\126276_spectogram.png as it's already resized to (800, 300)\n",
      "Skipping spectograms/validation_data\\126354_spectogram.png as it's already resized to (800, 300)\n",
      "Skipping spectograms/validation_data\\126411_spectogram.png as it's already resized to (800, 300)\n",
      "Skipping spectograms/validation_data\\126426_spectogram.png as it's already resized to (800, 300)\n",
      "Skipping spectograms/validation_data\\126427_spectogram.png as it's already resized to (800, 300)\n",
      "Skipping spectograms/validation_data\\126506_spectogram.png as it's already resized to (800, 300)\n",
      "Skipping spectograms/validation_data\\126550_spectogram.png as it's already resized to (800, 300)\n",
      "Skipping spectograms/validation_data\\126598_spectogram.png as it's already resized to (800, 300)\n",
      "Skipping spectograms/validation_data\\126668_spectogram.png as it's already resized to (800, 300)\n",
      "Skipping spectograms/validation_data\\126716_spectogram.png as it's already resized to (800, 300)\n",
      "Skipping spectograms/validation_data\\126886_spectogram.png as it's already resized to (800, 300)\n",
      "Skipping spectograms/validation_data\\127062_spectogram.png as it's already resized to (800, 300)\n",
      "Skipping spectograms/validation_data\\127066_spectogram.png as it's already resized to (800, 300)\n",
      "Skipping spectograms/validation_data\\127206_spectogram.png as it's already resized to (800, 300)\n",
      "Skipping spectograms/validation_data\\127207_spectogram.png as it's already resized to (800, 300)\n",
      "Skipping spectograms/validation_data\\127269_spectogram.png as it's already resized to (800, 300)\n",
      "Skipping spectograms/validation_data\\127295_spectogram.png as it's already resized to (800, 300)\n",
      "Skipping spectograms/validation_data\\127360_spectogram.png as it's already resized to (800, 300)\n",
      "Skipping spectograms/validation_data\\127495_spectogram.png as it's already resized to (800, 300)\n",
      "Skipping spectograms/validation_data\\127498_spectogram.png as it's already resized to (800, 300)\n",
      "Skipping spectograms/validation_data\\127519_spectogram.png as it's already resized to (800, 300)\n",
      "Skipping spectograms/validation_data\\127541_spectogram.png as it's already resized to (800, 300)\n",
      "Skipping spectograms/validation_data\\127661_spectogram.png as it's already resized to (800, 300)\n",
      "Skipping spectograms/validation_data\\127720_spectogram.png as it's already resized to (800, 300)\n",
      "Skipping spectograms/validation_data\\1\\009846_spectogram.png as it's already resized to (800, 300)\n",
      "Skipping spectograms/validation_data\\1\\011234_spectogram.png as it's already resized to (800, 300)\n",
      "Skipping spectograms/validation_data\\1\\013578_spectogram.png as it's already resized to (800, 300)\n",
      "Skipping spectograms/validation_data\\1\\030740_spectogram.png as it's already resized to (800, 300)\n",
      "Skipping spectograms/validation_data\\1\\039875_spectogram.png as it's already resized to (800, 300)\n",
      "Skipping spectograms/validation_data\\1\\047826_spectogram.png as it's already resized to (800, 300)\n",
      "Skipping spectograms/validation_data\\1\\049071_spectogram.png as it's already resized to (800, 300)\n",
      "Skipping spectograms/validation_data\\1\\049073_spectogram.png as it's already resized to (800, 300)\n",
      "Skipping spectograms/validation_data\\1\\049408_spectogram.png as it's already resized to (800, 300)\n",
      "Skipping spectograms/validation_data\\1\\067457_spectogram.png as it's already resized to (800, 300)\n",
      "Skipping spectograms/validation_data\\1\\072927_spectogram.png as it's already resized to (800, 300)\n",
      "Skipping spectograms/validation_data\\1\\072928_spectogram.png as it's already resized to (800, 300)\n",
      "Skipping spectograms/validation_data\\1\\104725_spectogram.png as it's already resized to (800, 300)\n",
      "Skipping spectograms/validation_data\\1\\118012_spectogram.png as it's already resized to (800, 300)\n",
      "Skipping spectograms/validation_data\\1\\122143_spectogram.png as it's already resized to (800, 300)\n",
      "Skipping spectograms/validation_data\\1\\122168_spectogram.png as it's already resized to (800, 300)\n",
      "Skipping spectograms/validation_data\\1\\122199_spectogram.png as it's already resized to (800, 300)\n",
      "Skipping spectograms/validation_data\\1\\124891_spectogram.png as it's already resized to (800, 300)\n",
      "Skipping spectograms/validation_data\\1\\126506_spectogram.png as it's already resized to (800, 300)\n",
      "Skipping spectograms/validation_data\\10\\012390_spectogram.png as it's already resized to (800, 300)\n",
      "Skipping spectograms/validation_data\\10\\012537_spectogram.png as it's already resized to (800, 300)\n",
      "Skipping spectograms/validation_data\\10\\012654_spectogram.png as it's already resized to (800, 300)\n",
      "Skipping spectograms/validation_data\\10\\013362_spectogram.png as it's already resized to (800, 300)\n",
      "Skipping spectograms/validation_data\\10\\028485_spectogram.png as it's already resized to (800, 300)\n",
      "Skipping spectograms/validation_data\\10\\032327_spectogram.png as it's already resized to (800, 300)\n",
      "Skipping spectograms/validation_data\\10\\035545_spectogram.png as it's already resized to (800, 300)\n",
      "Skipping spectograms/validation_data\\10\\036615_spectogram.png as it's already resized to (800, 300)\n",
      "Skipping spectograms/validation_data\\10\\036643_spectogram.png as it's already resized to (800, 300)\n",
      "Skipping spectograms/validation_data\\10\\036961_spectogram.png as it's already resized to (800, 300)\n",
      "Skipping spectograms/validation_data\\10\\037369_spectogram.png as it's already resized to (800, 300)\n",
      "Skipping spectograms/validation_data\\10\\041568_spectogram.png as it's already resized to (800, 300)\n",
      "Skipping spectograms/validation_data\\10\\044806_spectogram.png as it's already resized to (800, 300)\n",
      "Skipping spectograms/validation_data\\10\\045128_spectogram.png as it's already resized to (800, 300)\n",
      "Skipping spectograms/validation_data\\10\\046854_spectogram.png as it's already resized to (800, 300)\n",
      "Skipping spectograms/validation_data\\10\\048444_spectogram.png as it's already resized to (800, 300)\n",
      "Skipping spectograms/validation_data\\10\\062164_spectogram.png as it's already resized to (800, 300)\n",
      "Skipping spectograms/validation_data\\10\\062750_spectogram.png as it's already resized to (800, 300)\n",
      "Skipping spectograms/validation_data\\10\\064841_spectogram.png as it's already resized to (800, 300)\n",
      "Skipping spectograms/validation_data\\10\\067364_spectogram.png as it's already resized to (800, 300)\n",
      "Skipping spectograms/validation_data\\10\\068354_spectogram.png as it's already resized to (800, 300)\n",
      "Skipping spectograms/validation_data\\10\\070425_spectogram.png as it's already resized to (800, 300)\n",
      "Skipping spectograms/validation_data\\10\\070426_spectogram.png as it's already resized to (800, 300)\n",
      "Skipping spectograms/validation_data\\10\\070873_spectogram.png as it's already resized to (800, 300)\n",
      "Skipping spectograms/validation_data\\10\\072476_spectogram.png as it's already resized to (800, 300)\n",
      "Skipping spectograms/validation_data\\10\\094423_spectogram.png as it's already resized to (800, 300)\n",
      "Skipping spectograms/validation_data\\10\\095486_spectogram.png as it's already resized to (800, 300)\n",
      "Skipping spectograms/validation_data\\10\\104066_spectogram.png as it's already resized to (800, 300)\n",
      "Skipping spectograms/validation_data\\10\\104779_spectogram.png as it's already resized to (800, 300)\n",
      "Skipping spectograms/validation_data\\10\\108425_spectogram.png as it's already resized to (800, 300)\n",
      "Skipping spectograms/validation_data\\10\\111402_spectogram.png as it's already resized to (800, 300)\n",
      "Skipping spectograms/validation_data\\10\\113016_spectogram.png as it's already resized to (800, 300)\n",
      "Skipping spectograms/validation_data\\10\\113017_spectogram.png as it's already resized to (800, 300)\n",
      "Skipping spectograms/validation_data\\10\\120111_spectogram.png as it's already resized to (800, 300)\n",
      "Skipping spectograms/validation_data\\10\\120179_spectogram.png as it's already resized to (800, 300)\n",
      "Skipping spectograms/validation_data\\10\\120184_spectogram.png as it's already resized to (800, 300)\n",
      "Skipping spectograms/validation_data\\10\\120188_spectogram.png as it's already resized to (800, 300)\n",
      "Skipping spectograms/validation_data\\10\\121594_spectogram.png as it's already resized to (800, 300)\n",
      "Skipping spectograms/validation_data\\10\\121735_spectogram.png as it's already resized to (800, 300)\n",
      "Skipping spectograms/validation_data\\10\\122504_spectogram.png as it's already resized to (800, 300)\n",
      "Skipping spectograms/validation_data\\10\\122806_spectogram.png as it's already resized to (800, 300)\n",
      "Skipping spectograms/validation_data\\10\\126354_spectogram.png as it's already resized to (800, 300)\n",
      "Skipping spectograms/validation_data\\10\\126426_spectogram.png as it's already resized to (800, 300)\n",
      "Skipping spectograms/validation_data\\10\\126427_spectogram.png as it's already resized to (800, 300)\n",
      "Skipping spectograms/validation_data\\10\\127206_spectogram.png as it's already resized to (800, 300)\n",
      "Skipping spectograms/validation_data\\10\\127269_spectogram.png as it's already resized to (800, 300)\n",
      "Skipping spectograms/validation_data\\10\\127295_spectogram.png as it's already resized to (800, 300)\n",
      "Skipping spectograms/validation_data\\100\\071231_spectogram.png as it's already resized to (800, 300)\n",
      "Skipping spectograms/validation_data\\100\\071249_spectogram.png as it's already resized to (800, 300)\n",
      "Skipping spectograms/validation_data\\100\\071252_spectogram.png as it's already resized to (800, 300)\n",
      "Skipping spectograms/validation_data\\100\\078848_spectogram.png as it's already resized to (800, 300)\n",
      "Skipping spectograms/validation_data\\100\\078852_spectogram.png as it's already resized to (800, 300)\n",
      "Skipping spectograms/validation_data\\100\\097697_spectogram.png as it's already resized to (800, 300)\n",
      "Skipping spectograms/validation_data\\100\\105825_spectogram.png as it's already resized to (800, 300)\n",
      "Skipping spectograms/validation_data\\100\\105827_spectogram.png as it's already resized to (800, 300)\n",
      "Skipping spectograms/validation_data\\100\\113036_spectogram.png as it's already resized to (800, 300)\n",
      "Skipping spectograms/validation_data\\100\\121315_spectogram.png as it's already resized to (800, 300)\n",
      "Skipping spectograms/validation_data\\100\\123440_spectogram.png as it's already resized to (800, 300)\n",
      "Skipping spectograms/validation_data\\102\\043699_spectogram.png as it's already resized to (800, 300)\n",
      "Skipping spectograms/validation_data\\102\\114939_spectogram.png as it's already resized to (800, 300)\n",
      "Skipping spectograms/validation_data\\103\\075844_spectogram.png as it's already resized to (800, 300)\n",
      "Skipping spectograms/validation_data\\103\\075862_spectogram.png as it's already resized to (800, 300)\n",
      "Skipping spectograms/validation_data\\103\\075869_spectogram.png as it's already resized to (800, 300)\n",
      "Skipping spectograms/validation_data\\103\\079986_spectogram.png as it's already resized to (800, 300)\n",
      "Skipping spectograms/validation_data\\103\\080003_spectogram.png as it's already resized to (800, 300)\n",
      "Skipping spectograms/validation_data\\103\\096697_spectogram.png as it's already resized to (800, 300)\n",
      "Skipping spectograms/validation_data\\103\\105887_spectogram.png as it's already resized to (800, 300)\n",
      "Skipping spectograms/validation_data\\103\\105918_spectogram.png as it's already resized to (800, 300)\n",
      "Skipping spectograms/validation_data\\103\\108016_spectogram.png as it's already resized to (800, 300)\n",
      "Skipping spectograms/validation_data\\103\\111186_spectogram.png as it's already resized to (800, 300)\n",
      "Skipping spectograms/validation_data\\103\\122359_spectogram.png as it's already resized to (800, 300)\n",
      "Skipping spectograms/validation_data\\103\\122936_spectogram.png as it's already resized to (800, 300)\n",
      "Skipping spectograms/validation_data\\103\\124424_spectogram.png as it's already resized to (800, 300)\n",
      "Skipping spectograms/validation_data\\103\\125187_spectogram.png as it's already resized to (800, 300)\n",
      "Skipping spectograms/validation_data\\103\\125190_spectogram.png as it's already resized to (800, 300)\n",
      "Skipping spectograms/validation_data\\103\\125196_spectogram.png as it's already resized to (800, 300)\n",
      "Skipping spectograms/validation_data\\107\\041573_spectogram.png as it's already resized to (800, 300)\n",
      "Skipping spectograms/validation_data\\107\\075437_spectogram.png as it's already resized to (800, 300)\n",
      "Skipping spectograms/validation_data\\107\\075440_spectogram.png as it's already resized to (800, 300)\n",
      "Skipping spectograms/validation_data\\107\\098238_spectogram.png as it's already resized to (800, 300)\n",
      "Skipping spectograms/validation_data\\107\\107535_spectogram.png as it's already resized to (800, 300)\n",
      "Skipping spectograms/validation_data\\107\\108019_spectogram.png as it's already resized to (800, 300)\n",
      "Skipping spectograms/validation_data\\107\\112211_spectogram.png as it's already resized to (800, 300)\n",
      "Skipping spectograms/validation_data\\107\\113789_spectogram.png as it's already resized to (800, 300)\n",
      "Skipping spectograms/validation_data\\107\\114373_spectogram.png as it's already resized to (800, 300)\n",
      "Skipping spectograms/validation_data\\107\\114374_spectogram.png as it's already resized to (800, 300)\n",
      "Skipping spectograms/validation_data\\107\\121475_spectogram.png as it's already resized to (800, 300)\n",
      "Skipping spectograms/validation_data\\107\\121659_spectogram.png as it's already resized to (800, 300)\n",
      "Skipping spectograms/validation_data\\107\\121666_spectogram.png as it's already resized to (800, 300)\n",
      "Skipping spectograms/validation_data\\109\\040133_spectogram.png as it's already resized to (800, 300)\n",
      "Skipping spectograms/validation_data\\109\\040134_spectogram.png as it's already resized to (800, 300)\n",
      "Skipping spectograms/validation_data\\109\\061814_spectogram.png as it's already resized to (800, 300)\n",
      "Skipping spectograms/validation_data\\109\\096935_spectogram.png as it's already resized to (800, 300)\n",
      "Skipping spectograms/validation_data\\109\\096936_spectogram.png as it's already resized to (800, 300)\n",
      "Skipping spectograms/validation_data\\109\\097886_spectogram.png as it's already resized to (800, 300)\n",
      "Skipping spectograms/validation_data\\109\\125001_spectogram.png as it's already resized to (800, 300)\n",
      "Skipping spectograms/validation_data\\111\\028072_spectogram.png as it's already resized to (800, 300)\n",
      "Skipping spectograms/validation_data\\111\\079575_spectogram.png as it's already resized to (800, 300)\n",
      "Skipping spectograms/validation_data\\111\\117884_spectogram.png as it's already resized to (800, 300)\n",
      "Skipping spectograms/validation_data\\111\\121867_spectogram.png as it's already resized to (800, 300)\n",
      "Skipping spectograms/validation_data\\113\\035571_spectogram.png as it's already resized to (800, 300)\n",
      "Skipping spectograms/validation_data\\113\\048015_spectogram.png as it's already resized to (800, 300)\n",
      "Skipping spectograms/validation_data\\113\\048763_spectogram.png as it's already resized to (800, 300)\n",
      "Skipping spectograms/validation_data\\113\\126598_spectogram.png as it's already resized to (800, 300)\n",
      "Skipping spectograms/validation_data\\118\\043699_spectogram.png as it's already resized to (800, 300)\n",
      "Skipping spectograms/validation_data\\118\\044823_spectogram.png as it's already resized to (800, 300)\n",
      "Skipping spectograms/validation_data\\118\\048492_spectogram.png as it's already resized to (800, 300)\n",
      "Skipping spectograms/validation_data\\118\\096743_spectogram.png as it's already resized to (800, 300)\n",
      "Skipping spectograms/validation_data\\118\\115271_spectogram.png as it's already resized to (800, 300)\n",
      "Skipping spectograms/validation_data\\1193\\112588_spectogram.png as it's already resized to (800, 300)\n",
      "Skipping spectograms/validation_data\\12\\009555_spectogram.png as it's already resized to (800, 300)\n",
      "Skipping spectograms/validation_data\\12\\009560_spectogram.png as it's already resized to (800, 300)\n",
      "Skipping spectograms/validation_data\\12\\013325_spectogram.png as it's already resized to (800, 300)\n",
      "Skipping spectograms/validation_data\\12\\013596_spectogram.png as it's already resized to (800, 300)\n",
      "Skipping spectograms/validation_data\\12\\026674_spectogram.png as it's already resized to (800, 300)\n",
      "Skipping spectograms/validation_data\\12\\026681_spectogram.png as it's already resized to (800, 300)\n",
      "Skipping spectograms/validation_data\\12\\028072_spectogram.png as it's already resized to (800, 300)\n",
      "Skipping spectograms/validation_data\\12\\032021_spectogram.png as it's already resized to (800, 300)\n",
      "Skipping spectograms/validation_data\\12\\033459_spectogram.png as it's already resized to (800, 300)\n",
      "Skipping spectograms/validation_data\\12\\035571_spectogram.png as it's already resized to (800, 300)\n",
      "Skipping spectograms/validation_data\\12\\039359_spectogram.png as it's already resized to (800, 300)\n",
      "Skipping spectograms/validation_data\\12\\040133_spectogram.png as it's already resized to (800, 300)\n",
      "Skipping spectograms/validation_data\\12\\040134_spectogram.png as it's already resized to (800, 300)\n",
      "Skipping spectograms/validation_data\\12\\041962_spectogram.png as it's already resized to (800, 300)\n",
      "Skipping spectograms/validation_data\\12\\041965_spectogram.png as it's already resized to (800, 300)\n",
      "Skipping spectograms/validation_data\\12\\045055_spectogram.png as it's already resized to (800, 300)\n",
      "Skipping spectograms/validation_data\\12\\048015_spectogram.png as it's already resized to (800, 300)\n",
      "Skipping spectograms/validation_data\\12\\048763_spectogram.png as it's already resized to (800, 300)\n",
      "Skipping spectograms/validation_data\\12\\048990_spectogram.png as it's already resized to (800, 300)\n",
      "Skipping spectograms/validation_data\\12\\061814_spectogram.png as it's already resized to (800, 300)\n",
      "Skipping spectograms/validation_data\\12\\063045_spectogram.png as it's already resized to (800, 300)\n",
      "Skipping spectograms/validation_data\\12\\063191_spectogram.png as it's already resized to (800, 300)\n",
      "Skipping spectograms/validation_data\\12\\066537_spectogram.png as it's already resized to (800, 300)\n",
      "Skipping spectograms/validation_data\\12\\067121_spectogram.png as it's already resized to (800, 300)\n",
      "Skipping spectograms/validation_data\\12\\067163_spectogram.png as it's already resized to (800, 300)\n",
      "Skipping spectograms/validation_data\\12\\067412_spectogram.png as it's already resized to (800, 300)\n",
      "Skipping spectograms/validation_data\\12\\075788_spectogram.png as it's already resized to (800, 300)\n",
      "Skipping spectograms/validation_data\\12\\079575_spectogram.png as it's already resized to (800, 300)\n",
      "Skipping spectograms/validation_data\\12\\095506_spectogram.png as it's already resized to (800, 300)\n",
      "Skipping spectograms/validation_data\\12\\096935_spectogram.png as it's already resized to (800, 300)\n",
      "Skipping spectograms/validation_data\\12\\096936_spectogram.png as it's already resized to (800, 300)\n",
      "Skipping spectograms/validation_data\\12\\097886_spectogram.png as it's already resized to (800, 300)\n",
      "Skipping spectograms/validation_data\\12\\098025_spectogram.png as it's already resized to (800, 300)\n",
      "Skipping spectograms/validation_data\\12\\100799_spectogram.png as it's already resized to (800, 300)\n",
      "Skipping spectograms/validation_data\\12\\104227_spectogram.png as it's already resized to (800, 300)\n",
      "Skipping spectograms/validation_data\\12\\106568_spectogram.png as it's already resized to (800, 300)\n",
      "Skipping spectograms/validation_data\\12\\106569_spectogram.png as it's already resized to (800, 300)\n",
      "Skipping spectograms/validation_data\\12\\107659_spectogram.png as it's already resized to (800, 300)\n",
      "Skipping spectograms/validation_data\\12\\108037_spectogram.png as it's already resized to (800, 300)\n",
      "Skipping spectograms/validation_data\\12\\112314_spectogram.png as it's already resized to (800, 300)\n",
      "Skipping spectograms/validation_data\\12\\112315_spectogram.png as it's already resized to (800, 300)\n",
      "Skipping spectograms/validation_data\\12\\113164_spectogram.png as it's already resized to (800, 300)\n",
      "Skipping spectograms/validation_data\\12\\113822_spectogram.png as it's already resized to (800, 300)\n",
      "Skipping spectograms/validation_data\\12\\114400_spectogram.png as it's already resized to (800, 300)\n",
      "Skipping spectograms/validation_data\\12\\114404_spectogram.png as it's already resized to (800, 300)\n",
      "Skipping spectograms/validation_data\\12\\114408_spectogram.png as it's already resized to (800, 300)\n",
      "Skipping spectograms/validation_data\\12\\114430_spectogram.png as it's already resized to (800, 300)\n",
      "Skipping spectograms/validation_data\\12\\117884_spectogram.png as it's already resized to (800, 300)\n",
      "Skipping spectograms/validation_data\\12\\118327_spectogram.png as it's already resized to (800, 300)\n",
      "Skipping spectograms/validation_data\\12\\121256_spectogram.png as it's already resized to (800, 300)\n",
      "Skipping spectograms/validation_data\\12\\121867_spectogram.png as it's already resized to (800, 300)\n",
      "Skipping spectograms/validation_data\\12\\122081_spectogram.png as it's already resized to (800, 300)\n",
      "Skipping spectograms/validation_data\\12\\123273_spectogram.png as it's already resized to (800, 300)\n",
      "Skipping spectograms/validation_data\\12\\123278_spectogram.png as it's already resized to (800, 300)\n",
      "Skipping spectograms/validation_data\\12\\123835_spectogram.png as it's already resized to (800, 300)\n",
      "Skipping spectograms/validation_data\\12\\124201_spectogram.png as it's already resized to (800, 300)\n",
      "Skipping spectograms/validation_data\\12\\124394_spectogram.png as it's already resized to (800, 300)\n",
      "Skipping spectograms/validation_data\\12\\125001_spectogram.png as it's already resized to (800, 300)\n",
      "Skipping spectograms/validation_data\\12\\126598_spectogram.png as it's already resized to (800, 300)\n",
      "Skipping spectograms/validation_data\\12\\126668_spectogram.png as it's already resized to (800, 300)\n",
      "Skipping spectograms/validation_data\\12\\127720_spectogram.png as it's already resized to (800, 300)\n",
      "Skipping spectograms/validation_data\\1235\\040654_spectogram.png as it's already resized to (800, 300)\n",
      "Skipping spectograms/validation_data\\1235\\041573_spectogram.png as it's already resized to (800, 300)\n",
      "Skipping spectograms/validation_data\\1235\\066757_spectogram.png as it's already resized to (800, 300)\n",
      "Skipping spectograms/validation_data\\1235\\075437_spectogram.png as it's already resized to (800, 300)\n",
      "Skipping spectograms/validation_data\\1235\\075440_spectogram.png as it's already resized to (800, 300)\n",
      "Skipping spectograms/validation_data\\1235\\095452_spectogram.png as it's already resized to (800, 300)\n",
      "Skipping spectograms/validation_data\\1235\\097279_spectogram.png as it's already resized to (800, 300)\n",
      "Skipping spectograms/validation_data\\1235\\098238_spectogram.png as it's already resized to (800, 300)\n",
      "Skipping spectograms/validation_data\\1235\\107535_spectogram.png as it's already resized to (800, 300)\n",
      "Skipping spectograms/validation_data\\1235\\108019_spectogram.png as it's already resized to (800, 300)\n",
      "Skipping spectograms/validation_data\\1235\\110654_spectogram.png as it's already resized to (800, 300)\n",
      "Skipping spectograms/validation_data\\1235\\111150_spectogram.png as it's already resized to (800, 300)\n",
      "Skipping spectograms/validation_data\\1235\\112211_spectogram.png as it's already resized to (800, 300)\n",
      "Skipping spectograms/validation_data\\1235\\113789_spectogram.png as it's already resized to (800, 300)\n",
      "Skipping spectograms/validation_data\\1235\\114077_spectogram.png as it's already resized to (800, 300)\n",
      "Skipping spectograms/validation_data\\1235\\114236_spectogram.png as it's already resized to (800, 300)\n",
      "Skipping spectograms/validation_data\\1235\\114238_spectogram.png as it's already resized to (800, 300)\n",
      "Skipping spectograms/validation_data\\1235\\114373_spectogram.png as it's already resized to (800, 300)\n",
      "Skipping spectograms/validation_data\\1235\\114374_spectogram.png as it's already resized to (800, 300)\n",
      "Skipping spectograms/validation_data\\1235\\115288_spectogram.png as it's already resized to (800, 300)\n",
      "Skipping spectograms/validation_data\\1235\\115292_spectogram.png as it's already resized to (800, 300)\n",
      "Skipping spectograms/validation_data\\1235\\116177_spectogram.png as it's already resized to (800, 300)\n",
      "Skipping spectograms/validation_data\\1235\\116735_spectogram.png as it's already resized to (800, 300)\n",
      "Skipping spectograms/validation_data\\1235\\117614_spectogram.png as it's already resized to (800, 300)\n",
      "Skipping spectograms/validation_data\\1235\\120297_spectogram.png as it's already resized to (800, 300)\n",
      "Skipping spectograms/validation_data\\1235\\120300_spectogram.png as it's already resized to (800, 300)\n",
      "Skipping spectograms/validation_data\\1235\\120313_spectogram.png as it's already resized to (800, 300)\n",
      "Skipping spectograms/validation_data\\1235\\120314_spectogram.png as it's already resized to (800, 300)\n",
      "Skipping spectograms/validation_data\\1235\\120315_spectogram.png as it's already resized to (800, 300)\n",
      "Skipping spectograms/validation_data\\1235\\120330_spectogram.png as it's already resized to (800, 300)\n",
      "Skipping spectograms/validation_data\\1235\\120515_spectogram.png as it's already resized to (800, 300)\n",
      "Skipping spectograms/validation_data\\1235\\121475_spectogram.png as it's already resized to (800, 300)\n",
      "Skipping spectograms/validation_data\\1235\\121659_spectogram.png as it's already resized to (800, 300)\n",
      "Skipping spectograms/validation_data\\1235\\121666_spectogram.png as it's already resized to (800, 300)\n",
      "Skipping spectograms/validation_data\\1235\\122650_spectogram.png as it's already resized to (800, 300)\n",
      "Skipping spectograms/validation_data\\1235\\123762_spectogram.png as it's already resized to (800, 300)\n",
      "Skipping spectograms/validation_data\\1235\\124177_spectogram.png as it's already resized to (800, 300)\n",
      "Skipping spectograms/validation_data\\1235\\124873_spectogram.png as it's already resized to (800, 300)\n",
      "Skipping spectograms/validation_data\\1235\\125612_spectogram.png as it's already resized to (800, 300)\n",
      "Skipping spectograms/validation_data\\1235\\125614_spectogram.png as it's already resized to (800, 300)\n",
      "Skipping spectograms/validation_data\\1235\\125821_spectogram.png as it's already resized to (800, 300)\n",
      "Skipping spectograms/validation_data\\1235\\125823_spectogram.png as it's already resized to (800, 300)\n",
      "Skipping spectograms/validation_data\\1235\\125824_spectogram.png as it's already resized to (800, 300)\n",
      "Skipping spectograms/validation_data\\1235\\126183_spectogram.png as it's already resized to (800, 300)\n",
      "Skipping spectograms/validation_data\\1235\\126214_spectogram.png as it's already resized to (800, 300)\n",
      "Skipping spectograms/validation_data\\1235\\126217_spectogram.png as it's already resized to (800, 300)\n",
      "Skipping spectograms/validation_data\\1235\\126219_spectogram.png as it's already resized to (800, 300)\n",
      "Skipping spectograms/validation_data\\1235\\126232_spectogram.png as it's already resized to (800, 300)\n",
      "Skipping spectograms/validation_data\\1235\\126276_spectogram.png as it's already resized to (800, 300)\n",
      "Skipping spectograms/validation_data\\1235\\126411_spectogram.png as it's already resized to (800, 300)\n",
      "Skipping spectograms/validation_data\\1235\\126716_spectogram.png as it's already resized to (800, 300)\n",
      "Skipping spectograms/validation_data\\1235\\126886_spectogram.png as it's already resized to (800, 300)\n",
      "Skipping spectograms/validation_data\\1235\\127207_spectogram.png as it's already resized to (800, 300)\n",
      "Skipping spectograms/validation_data\\1235\\127495_spectogram.png as it's already resized to (800, 300)\n",
      "Skipping spectograms/validation_data\\1235\\127498_spectogram.png as it's already resized to (800, 300)\n",
      "Skipping spectograms/validation_data\\1235\\127519_spectogram.png as it's already resized to (800, 300)\n",
      "Skipping spectograms/validation_data\\1235\\127661_spectogram.png as it's already resized to (800, 300)\n",
      "Skipping spectograms/validation_data\\125\\048042_spectogram.png as it's already resized to (800, 300)\n",
      "Skipping spectograms/validation_data\\125\\048043_spectogram.png as it's already resized to (800, 300)\n",
      "Skipping spectograms/validation_data\\125\\048046_spectogram.png as it's already resized to (800, 300)\n",
      "Skipping spectograms/validation_data\\125\\116464_spectogram.png as it's already resized to (800, 300)\n",
      "Skipping spectograms/validation_data\\125\\116465_spectogram.png as it's already resized to (800, 300)\n",
      "Skipping spectograms/validation_data\\125\\122143_spectogram.png as it's already resized to (800, 300)\n",
      "Skipping spectograms/validation_data\\125\\122168_spectogram.png as it's already resized to (800, 300)\n",
      "Skipping spectograms/validation_data\\125\\126506_spectogram.png as it's already resized to (800, 300)\n",
      "Skipping spectograms/validation_data\\130\\043519_spectogram.png as it's already resized to (800, 300)\n",
      "Skipping spectograms/validation_data\\130\\043585_spectogram.png as it's already resized to (800, 300)\n",
      "Skipping spectograms/validation_data\\130\\043699_spectogram.png as it's already resized to (800, 300)\n",
      "Skipping spectograms/validation_data\\130\\044823_spectogram.png as it's already resized to (800, 300)\n",
      "Skipping spectograms/validation_data\\130\\076071_spectogram.png as it's already resized to (800, 300)\n",
      "Skipping spectograms/validation_data\\130\\098301_spectogram.png as it's already resized to (800, 300)\n",
      "Skipping spectograms/validation_data\\130\\107248_spectogram.png as it's already resized to (800, 300)\n",
      "Skipping spectograms/validation_data\\130\\114939_spectogram.png as it's already resized to (800, 300)\n",
      "Skipping spectograms/validation_data\\130\\115271_spectogram.png as it's already resized to (800, 300)\n",
      "Skipping spectograms/validation_data\\15\\011206_spectogram.png as it's already resized to (800, 300)\n",
      "Skipping spectograms/validation_data\\15\\013668_spectogram.png as it's already resized to (800, 300)\n",
      "Skipping spectograms/validation_data\\15\\026861_spectogram.png as it's already resized to (800, 300)\n",
      "Skipping spectograms/validation_data\\15\\026904_spectogram.png as it's already resized to (800, 300)\n",
      "Skipping spectograms/validation_data\\15\\029816_spectogram.png as it's already resized to (800, 300)\n",
      "Skipping spectograms/validation_data\\15\\032439_spectogram.png as it's already resized to (800, 300)\n",
      "Skipping spectograms/validation_data\\15\\033123_spectogram.png as it's already resized to (800, 300)\n",
      "Skipping spectograms/validation_data\\15\\033124_spectogram.png as it's already resized to (800, 300)\n",
      "Skipping spectograms/validation_data\\15\\036145_spectogram.png as it's already resized to (800, 300)\n",
      "Skipping spectograms/validation_data\\15\\040844_spectogram.png as it's already resized to (800, 300)\n",
      "Skipping spectograms/validation_data\\15\\042372_spectogram.png as it's already resized to (800, 300)\n",
      "Skipping spectograms/validation_data\\15\\045150_spectogram.png as it's already resized to (800, 300)\n",
      "Skipping spectograms/validation_data\\15\\047068_spectogram.png as it's already resized to (800, 300)\n",
      "Skipping spectograms/validation_data\\15\\047072_spectogram.png as it's already resized to (800, 300)\n",
      "Skipping spectograms/validation_data\\15\\047073_spectogram.png as it's already resized to (800, 300)\n",
      "Skipping spectograms/validation_data\\15\\047075_spectogram.png as it's already resized to (800, 300)\n",
      "Skipping spectograms/validation_data\\15\\047659_spectogram.png as it's already resized to (800, 300)\n",
      "Skipping spectograms/validation_data\\15\\048463_spectogram.png as it's already resized to (800, 300)\n",
      "Skipping spectograms/validation_data\\15\\064537_spectogram.png as it's already resized to (800, 300)\n",
      "Skipping spectograms/validation_data\\15\\065040_spectogram.png as it's already resized to (800, 300)\n",
      "Skipping spectograms/validation_data\\15\\065063_spectogram.png as it's already resized to (800, 300)\n",
      "Skipping spectograms/validation_data\\15\\065777_spectogram.png as it's already resized to (800, 300)\n",
      "Skipping spectograms/validation_data\\15\\065779_spectogram.png as it's already resized to (800, 300)\n",
      "Skipping spectograms/validation_data\\15\\065780_spectogram.png as it's already resized to (800, 300)\n",
      "Skipping spectograms/validation_data\\15\\066073_spectogram.png as it's already resized to (800, 300)\n",
      "Skipping spectograms/validation_data\\15\\066638_spectogram.png as it's already resized to (800, 300)\n",
      "Skipping spectograms/validation_data\\15\\067638_spectogram.png as it's already resized to (800, 300)\n",
      "Skipping spectograms/validation_data\\15\\068683_spectogram.png as it's already resized to (800, 300)\n",
      "Skipping spectograms/validation_data\\15\\068891_spectogram.png as it's already resized to (800, 300)\n",
      "Skipping spectograms/validation_data\\15\\071508_spectogram.png as it's already resized to (800, 300)\n",
      "Skipping spectograms/validation_data\\15\\072074_spectogram.png as it's already resized to (800, 300)\n",
      "Skipping spectograms/validation_data\\15\\073335_spectogram.png as it's already resized to (800, 300)\n",
      "Skipping spectograms/validation_data\\15\\073341_spectogram.png as it's already resized to (800, 300)\n",
      "Skipping spectograms/validation_data\\15\\073344_spectogram.png as it's already resized to (800, 300)\n",
      "Skipping spectograms/validation_data\\15\\073363_spectogram.png as it's already resized to (800, 300)\n",
      "Skipping spectograms/validation_data\\15\\073366_spectogram.png as it's already resized to (800, 300)\n",
      "Skipping spectograms/validation_data\\15\\075763_spectogram.png as it's already resized to (800, 300)\n",
      "Skipping spectograms/validation_data\\15\\076659_spectogram.png as it's already resized to (800, 300)\n",
      "Skipping spectograms/validation_data\\15\\080833_spectogram.png as it's already resized to (800, 300)\n",
      "Skipping spectograms/validation_data\\15\\094411_spectogram.png as it's already resized to (800, 300)\n",
      "Skipping spectograms/validation_data\\15\\097958_spectogram.png as it's already resized to (800, 300)\n",
      "Skipping spectograms/validation_data\\15\\100549_spectogram.png as it's already resized to (800, 300)\n",
      "Skipping spectograms/validation_data\\15\\100550_spectogram.png as it's already resized to (800, 300)\n",
      "Skipping spectograms/validation_data\\15\\100835_spectogram.png as it's already resized to (800, 300)\n",
      "Skipping spectograms/validation_data\\15\\104279_spectogram.png as it's already resized to (800, 300)\n",
      "Skipping spectograms/validation_data\\15\\105414_spectogram.png as it's already resized to (800, 300)\n",
      "Skipping spectograms/validation_data\\15\\105671_spectogram.png as it's already resized to (800, 300)\n",
      "Skipping spectograms/validation_data\\15\\105672_spectogram.png as it's already resized to (800, 300)\n",
      "Skipping spectograms/validation_data\\15\\107426_spectogram.png as it's already resized to (800, 300)\n",
      "Skipping spectograms/validation_data\\15\\107427_spectogram.png as it's already resized to (800, 300)\n",
      "Skipping spectograms/validation_data\\15\\107613_spectogram.png as it's already resized to (800, 300)\n",
      "Skipping spectograms/validation_data\\15\\107911_spectogram.png as it's already resized to (800, 300)\n",
      "Skipping spectograms/validation_data\\15\\108420_spectogram.png as it's already resized to (800, 300)\n",
      "Skipping spectograms/validation_data\\15\\108464_spectogram.png as it's already resized to (800, 300)\n",
      "Skipping spectograms/validation_data\\15\\108529_spectogram.png as it's already resized to (800, 300)\n",
      "Skipping spectograms/validation_data\\15\\108533_spectogram.png as it's already resized to (800, 300)\n",
      "Skipping spectograms/validation_data\\15\\110110_spectogram.png as it's already resized to (800, 300)\n",
      "Skipping spectograms/validation_data\\15\\111933_spectogram.png as it's already resized to (800, 300)\n",
      "Skipping spectograms/validation_data\\15\\113971_spectogram.png as it's already resized to (800, 300)\n",
      "Skipping spectograms/validation_data\\15\\114062_spectogram.png as it's already resized to (800, 300)\n",
      "Skipping spectograms/validation_data\\15\\114291_spectogram.png as it's already resized to (800, 300)\n",
      "Skipping spectograms/validation_data\\15\\114294_spectogram.png as it's already resized to (800, 300)\n",
      "Skipping spectograms/validation_data\\15\\114295_spectogram.png as it's already resized to (800, 300)\n",
      "Skipping spectograms/validation_data\\15\\114391_spectogram.png as it's already resized to (800, 300)\n",
      "Skipping spectograms/validation_data\\15\\115697_spectogram.png as it's already resized to (800, 300)\n",
      "Skipping spectograms/validation_data\\15\\115812_spectogram.png as it's already resized to (800, 300)\n",
      "Skipping spectograms/validation_data\\15\\116236_spectogram.png as it's already resized to (800, 300)\n",
      "Skipping spectograms/validation_data\\15\\116243_spectogram.png as it's already resized to (800, 300)\n",
      "Skipping spectograms/validation_data\\15\\118923_spectogram.png as it's already resized to (800, 300)\n",
      "Skipping spectograms/validation_data\\15\\121595_spectogram.png as it's already resized to (800, 300)\n",
      "Skipping spectograms/validation_data\\15\\123501_spectogram.png as it's already resized to (800, 300)\n",
      "Skipping spectograms/validation_data\\15\\123502_spectogram.png as it's already resized to (800, 300)\n",
      "Skipping spectograms/validation_data\\15\\125156_spectogram.png as it's already resized to (800, 300)\n",
      "Skipping spectograms/validation_data\\15\\125160_spectogram.png as it's already resized to (800, 300)\n",
      "Skipping spectograms/validation_data\\16\\074387_spectogram.png as it's already resized to (800, 300)\n",
      "Skipping spectograms/validation_data\\16\\074388_spectogram.png as it's already resized to (800, 300)\n",
      "Skipping spectograms/validation_data\\16\\074392_spectogram.png as it's already resized to (800, 300)\n",
      "Skipping spectograms/validation_data\\16\\074393_spectogram.png as it's already resized to (800, 300)\n",
      "Skipping spectograms/validation_data\\16\\112588_spectogram.png as it's already resized to (800, 300)\n",
      "Skipping spectograms/validation_data\\17\\009887_spectogram.png as it's already resized to (800, 300)\n",
      "Skipping spectograms/validation_data\\17\\010384_spectogram.png as it's already resized to (800, 300)\n",
      "Skipping spectograms/validation_data\\17\\010458_spectogram.png as it's already resized to (800, 300)\n",
      "Skipping spectograms/validation_data\\17\\011503_spectogram.png as it's already resized to (800, 300)\n",
      "Skipping spectograms/validation_data\\17\\012067_spectogram.png as it's already resized to (800, 300)\n",
      "Skipping spectograms/validation_data\\17\\012486_spectogram.png as it's already resized to (800, 300)\n",
      "Skipping spectograms/validation_data\\17\\012985_spectogram.png as it's already resized to (800, 300)\n",
      "Skipping spectograms/validation_data\\17\\027855_spectogram.png as it's already resized to (800, 300)\n",
      "Skipping spectograms/validation_data\\17\\040230_spectogram.png as it's already resized to (800, 300)\n",
      "Skipping spectograms/validation_data\\17\\040239_spectogram.png as it's already resized to (800, 300)\n",
      "Skipping spectograms/validation_data\\17\\064553_spectogram.png as it's already resized to (800, 300)\n",
      "Skipping spectograms/validation_data\\17\\065893_spectogram.png as it's already resized to (800, 300)\n",
      "Skipping spectograms/validation_data\\17\\068837_spectogram.png as it's already resized to (800, 300)\n",
      "Skipping spectograms/validation_data\\17\\068853_spectogram.png as it's already resized to (800, 300)\n",
      "Skipping spectograms/validation_data\\17\\069765_spectogram.png as it's already resized to (800, 300)\n",
      "Skipping spectograms/validation_data\\17\\069768_spectogram.png as it's already resized to (800, 300)\n",
      "Skipping spectograms/validation_data\\17\\072056_spectogram.png as it's already resized to (800, 300)\n",
      "Skipping spectograms/validation_data\\17\\074546_spectogram.png as it's already resized to (800, 300)\n",
      "Skipping spectograms/validation_data\\17\\075844_spectogram.png as it's already resized to (800, 300)\n",
      "Skipping spectograms/validation_data\\17\\075862_spectogram.png as it's already resized to (800, 300)\n",
      "Skipping spectograms/validation_data\\17\\075869_spectogram.png as it's already resized to (800, 300)\n",
      "Skipping spectograms/validation_data\\17\\078213_spectogram.png as it's already resized to (800, 300)\n",
      "Skipping spectograms/validation_data\\17\\079986_spectogram.png as it's already resized to (800, 300)\n",
      "Skipping spectograms/validation_data\\17\\080003_spectogram.png as it's already resized to (800, 300)\n",
      "Skipping spectograms/validation_data\\17\\096697_spectogram.png as it's already resized to (800, 300)\n",
      "Skipping spectograms/validation_data\\17\\105887_spectogram.png as it's already resized to (800, 300)\n",
      "Skipping spectograms/validation_data\\17\\105918_spectogram.png as it's already resized to (800, 300)\n",
      "Skipping spectograms/validation_data\\17\\107571_spectogram.png as it's already resized to (800, 300)\n",
      "Skipping spectograms/validation_data\\17\\107578_spectogram.png as it's already resized to (800, 300)\n",
      "Skipping spectograms/validation_data\\17\\108016_spectogram.png as it's already resized to (800, 300)\n",
      "Skipping spectograms/validation_data\\17\\108308_spectogram.png as it's already resized to (800, 300)\n",
      "Skipping spectograms/validation_data\\17\\111186_spectogram.png as it's already resized to (800, 300)\n",
      "Skipping spectograms/validation_data\\17\\115922_spectogram.png as it's already resized to (800, 300)\n",
      "Skipping spectograms/validation_data\\17\\116706_spectogram.png as it's already resized to (800, 300)\n",
      "Skipping spectograms/validation_data\\17\\118672_spectogram.png as it's already resized to (800, 300)\n",
      "Skipping spectograms/validation_data\\17\\120172_spectogram.png as it's already resized to (800, 300)\n",
      "Skipping spectograms/validation_data\\17\\122359_spectogram.png as it's already resized to (800, 300)\n",
      "Skipping spectograms/validation_data\\17\\122936_spectogram.png as it's already resized to (800, 300)\n",
      "Skipping spectograms/validation_data\\17\\124424_spectogram.png as it's already resized to (800, 300)\n",
      "Skipping spectograms/validation_data\\17\\125187_spectogram.png as it's already resized to (800, 300)\n",
      "Skipping spectograms/validation_data\\17\\125190_spectogram.png as it's already resized to (800, 300)\n",
      "Skipping spectograms/validation_data\\17\\125196_spectogram.png as it's already resized to (800, 300)\n",
      "Skipping spectograms/validation_data\\17\\127062_spectogram.png as it's already resized to (800, 300)\n",
      "Skipping spectograms/validation_data\\17\\127066_spectogram.png as it's already resized to (800, 300)\n",
      "Skipping spectograms/validation_data\\172\\027975_spectogram.png as it's already resized to (800, 300)\n",
      "Skipping spectograms/validation_data\\172\\027981_spectogram.png as it's already resized to (800, 300)\n",
      "Skipping spectograms/validation_data\\177\\038833_spectogram.png as it's already resized to (800, 300)\n",
      "Skipping spectograms/validation_data\\18\\040654_spectogram.png as it's already resized to (800, 300)\n",
      "Skipping spectograms/validation_data\\18\\066757_spectogram.png as it's already resized to (800, 300)\n",
      "Skipping spectograms/validation_data\\18\\075437_spectogram.png as it's already resized to (800, 300)\n",
      "Skipping spectograms/validation_data\\18\\075440_spectogram.png as it's already resized to (800, 300)\n",
      "Skipping spectograms/validation_data\\18\\114236_spectogram.png as it's already resized to (800, 300)\n",
      "Skipping spectograms/validation_data\\18\\114238_spectogram.png as it's already resized to (800, 300)\n",
      "Skipping spectograms/validation_data\\18\\116735_spectogram.png as it's already resized to (800, 300)\n",
      "Skipping spectograms/validation_data\\18\\117614_spectogram.png as it's already resized to (800, 300)\n",
      "Skipping spectograms/validation_data\\18\\121475_spectogram.png as it's already resized to (800, 300)\n",
      "Skipping spectograms/validation_data\\18\\121659_spectogram.png as it's already resized to (800, 300)\n",
      "Skipping spectograms/validation_data\\18\\121666_spectogram.png as it's already resized to (800, 300)\n",
      "Skipping spectograms/validation_data\\18\\122650_spectogram.png as it's already resized to (800, 300)\n",
      "Skipping spectograms/validation_data\\18\\124177_spectogram.png as it's already resized to (800, 300)\n",
      "Skipping spectograms/validation_data\\18\\124873_spectogram.png as it's already resized to (800, 300)\n",
      "Skipping spectograms/validation_data\\18\\125612_spectogram.png as it's already resized to (800, 300)\n",
      "Skipping spectograms/validation_data\\18\\125614_spectogram.png as it's already resized to (800, 300)\n",
      "Skipping spectograms/validation_data\\18\\125821_spectogram.png as it's already resized to (800, 300)\n",
      "Skipping spectograms/validation_data\\18\\125823_spectogram.png as it's already resized to (800, 300)\n",
      "Skipping spectograms/validation_data\\18\\125824_spectogram.png as it's already resized to (800, 300)\n",
      "Skipping spectograms/validation_data\\18\\126183_spectogram.png as it's already resized to (800, 300)\n",
      "Skipping spectograms/validation_data\\18\\126214_spectogram.png as it's already resized to (800, 300)\n",
      "Skipping spectograms/validation_data\\18\\126217_spectogram.png as it's already resized to (800, 300)\n",
      "Skipping spectograms/validation_data\\18\\126219_spectogram.png as it's already resized to (800, 300)\n",
      "Skipping spectograms/validation_data\\18\\126232_spectogram.png as it's already resized to (800, 300)\n",
      "Skipping spectograms/validation_data\\18\\126276_spectogram.png as it's already resized to (800, 300)\n",
      "Skipping spectograms/validation_data\\18\\126411_spectogram.png as it's already resized to (800, 300)\n",
      "Skipping spectograms/validation_data\\18\\126716_spectogram.png as it's already resized to (800, 300)\n",
      "Skipping spectograms/validation_data\\18\\126886_spectogram.png as it's already resized to (800, 300)\n",
      "Skipping spectograms/validation_data\\18\\127495_spectogram.png as it's already resized to (800, 300)\n",
      "Skipping spectograms/validation_data\\18\\127498_spectogram.png as it's already resized to (800, 300)\n",
      "Skipping spectograms/validation_data\\18\\127661_spectogram.png as it's already resized to (800, 300)\n",
      "Skipping spectograms/validation_data\\181\\040844_spectogram.png as it's already resized to (800, 300)\n",
      "Skipping spectograms/validation_data\\181\\047659_spectogram.png as it's already resized to (800, 300)\n",
      "Skipping spectograms/validation_data\\181\\076659_spectogram.png as it's already resized to (800, 300)\n",
      "Skipping spectograms/validation_data\\181\\108420_spectogram.png as it's already resized to (800, 300)\n",
      "Skipping spectograms/validation_data\\181\\108529_spectogram.png as it's already resized to (800, 300)\n",
      "Skipping spectograms/validation_data\\181\\108533_spectogram.png as it's already resized to (800, 300)\n",
      "Skipping spectograms/validation_data\\181\\114291_spectogram.png as it's already resized to (800, 300)\n",
      "Skipping spectograms/validation_data\\181\\114294_spectogram.png as it's already resized to (800, 300)\n",
      "Skipping spectograms/validation_data\\181\\114295_spectogram.png as it's already resized to (800, 300)\n",
      "Skipping spectograms/validation_data\\181\\115697_spectogram.png as it's already resized to (800, 300)\n",
      "Skipping spectograms/validation_data\\181\\125156_spectogram.png as it's already resized to (800, 300)\n",
      "Skipping spectograms/validation_data\\181\\125160_spectogram.png as it's already resized to (800, 300)\n",
      "Skipping spectograms/validation_data\\182\\026861_spectogram.png as it's already resized to (800, 300)\n",
      "Skipping spectograms/validation_data\\182\\036145_spectogram.png as it's already resized to (800, 300)\n",
      "Skipping spectograms/validation_data\\182\\047659_spectogram.png as it's already resized to (800, 300)\n",
      "Skipping spectograms/validation_data\\182\\048463_spectogram.png as it's already resized to (800, 300)\n",
      "Skipping spectograms/validation_data\\182\\068891_spectogram.png as it's already resized to (800, 300)\n",
      "Skipping spectograms/validation_data\\182\\072074_spectogram.png as it's already resized to (800, 300)\n",
      "Skipping spectograms/validation_data\\182\\076659_spectogram.png as it's already resized to (800, 300)\n",
      "Skipping spectograms/validation_data\\182\\094411_spectogram.png as it's already resized to (800, 300)\n",
      "Skipping spectograms/validation_data\\182\\097958_spectogram.png as it's already resized to (800, 300)\n",
      "Skipping spectograms/validation_data\\182\\105671_spectogram.png as it's already resized to (800, 300)\n",
      "Skipping spectograms/validation_data\\182\\105672_spectogram.png as it's already resized to (800, 300)\n",
      "Skipping spectograms/validation_data\\182\\107426_spectogram.png as it's already resized to (800, 300)\n",
      "Skipping spectograms/validation_data\\182\\107427_spectogram.png as it's already resized to (800, 300)\n",
      "Skipping spectograms/validation_data\\182\\107911_spectogram.png as it's already resized to (800, 300)\n",
      "Skipping spectograms/validation_data\\182\\108420_spectogram.png as it's already resized to (800, 300)\n",
      "Skipping spectograms/validation_data\\182\\108529_spectogram.png as it's already resized to (800, 300)\n",
      "Skipping spectograms/validation_data\\182\\108533_spectogram.png as it's already resized to (800, 300)\n",
      "Skipping spectograms/validation_data\\182\\114062_spectogram.png as it's already resized to (800, 300)\n",
      "Skipping spectograms/validation_data\\182\\114291_spectogram.png as it's already resized to (800, 300)\n",
      "Skipping spectograms/validation_data\\182\\114294_spectogram.png as it's already resized to (800, 300)\n",
      "Skipping spectograms/validation_data\\182\\114295_spectogram.png as it's already resized to (800, 300)\n",
      "Skipping spectograms/validation_data\\182\\115697_spectogram.png as it's already resized to (800, 300)\n",
      "Skipping spectograms/validation_data\\182\\125156_spectogram.png as it's already resized to (800, 300)\n",
      "Skipping spectograms/validation_data\\182\\125160_spectogram.png as it's already resized to (800, 300)\n",
      "Skipping spectograms/validation_data\\183\\105414_spectogram.png as it's already resized to (800, 300)\n",
      "Skipping spectograms/validation_data\\184\\042372_spectogram.png as it's already resized to (800, 300)\n",
      "Skipping spectograms/validation_data\\184\\068683_spectogram.png as it's already resized to (800, 300)\n",
      "Skipping spectograms/validation_data\\184\\100549_spectogram.png as it's already resized to (800, 300)\n",
      "Skipping spectograms/validation_data\\184\\100550_spectogram.png as it's already resized to (800, 300)\n",
      "Skipping spectograms/validation_data\\186\\026600_spectogram.png as it's already resized to (800, 300)\n",
      "Skipping spectograms/validation_data\\186\\115852_spectogram.png as it's already resized to (800, 300)\n",
      "Skipping spectograms/validation_data\\2\\012109_spectogram.png as it's already resized to (800, 300)\n",
      "Skipping spectograms/validation_data\\2\\027197_spectogram.png as it's already resized to (800, 300)\n",
      "Skipping spectograms/validation_data\\2\\027975_spectogram.png as it's already resized to (800, 300)\n",
      "Skipping spectograms/validation_data\\2\\027981_spectogram.png as it's already resized to (800, 300)\n",
      "Skipping spectograms/validation_data\\2\\033067_spectogram.png as it's already resized to (800, 300)\n",
      "Skipping spectograms/validation_data\\2\\033068_spectogram.png as it's already resized to (800, 300)\n",
      "Skipping spectograms/validation_data\\2\\033071_spectogram.png as it's already resized to (800, 300)\n",
      "Skipping spectograms/validation_data\\2\\038352_spectogram.png as it's already resized to (800, 300)\n",
      "Skipping spectograms/validation_data\\2\\038560_spectogram.png as it's already resized to (800, 300)\n",
      "Skipping spectograms/validation_data\\2\\038833_spectogram.png as it's already resized to (800, 300)\n",
      "Skipping spectograms/validation_data\\2\\039357_spectogram.png as it's already resized to (800, 300)\n",
      "Skipping spectograms/validation_data\\2\\042014_spectogram.png as it's already resized to (800, 300)\n",
      "Skipping spectograms/validation_data\\2\\043519_spectogram.png as it's already resized to (800, 300)\n",
      "Skipping spectograms/validation_data\\2\\043585_spectogram.png as it's already resized to (800, 300)\n",
      "Skipping spectograms/validation_data\\2\\043699_spectogram.png as it's already resized to (800, 300)\n",
      "Skipping spectograms/validation_data\\2\\044823_spectogram.png as it's already resized to (800, 300)\n",
      "Skipping spectograms/validation_data\\2\\048492_spectogram.png as it's already resized to (800, 300)\n",
      "Skipping spectograms/validation_data\\2\\062184_spectogram.png as it's already resized to (800, 300)\n",
      "Skipping spectograms/validation_data\\2\\062186_spectogram.png as it's already resized to (800, 300)\n",
      "Skipping spectograms/validation_data\\2\\062191_spectogram.png as it's already resized to (800, 300)\n",
      "Skipping spectograms/validation_data\\2\\076071_spectogram.png as it's already resized to (800, 300)\n",
      "Skipping spectograms/validation_data\\2\\096743_spectogram.png as it's already resized to (800, 300)\n",
      "Skipping spectograms/validation_data\\2\\098301_spectogram.png as it's already resized to (800, 300)\n",
      "Skipping spectograms/validation_data\\2\\107248_spectogram.png as it's already resized to (800, 300)\n",
      "Skipping spectograms/validation_data\\2\\107951_spectogram.png as it's already resized to (800, 300)\n",
      "Skipping spectograms/validation_data\\2\\113262_spectogram.png as it's already resized to (800, 300)\n",
      "Skipping spectograms/validation_data\\2\\113269_spectogram.png as it's already resized to (800, 300)\n",
      "Skipping spectograms/validation_data\\2\\113271_spectogram.png as it's already resized to (800, 300)\n",
      "Skipping spectograms/validation_data\\2\\113272_spectogram.png as it's already resized to (800, 300)\n",
      "Skipping spectograms/validation_data\\2\\113277_spectogram.png as it's already resized to (800, 300)\n",
      "Skipping spectograms/validation_data\\2\\113282_spectogram.png as it's already resized to (800, 300)\n",
      "Skipping spectograms/validation_data\\2\\114939_spectogram.png as it's already resized to (800, 300)\n",
      "Skipping spectograms/validation_data\\2\\115271_spectogram.png as it's already resized to (800, 300)\n",
      "Skipping spectograms/validation_data\\2\\117667_spectogram.png as it's already resized to (800, 300)\n",
      "Skipping spectograms/validation_data\\2\\117943_spectogram.png as it's already resized to (800, 300)\n",
      "Skipping spectograms/validation_data\\2\\125312_spectogram.png as it's already resized to (800, 300)\n",
      "Skipping spectograms/validation_data\\2\\127360_spectogram.png as it's already resized to (800, 300)\n",
      "Skipping spectograms/validation_data\\21\\010697_spectogram.png as it's already resized to (800, 300)\n",
      "Skipping spectograms/validation_data\\21\\011787_spectogram.png as it's already resized to (800, 300)\n",
      "Skipping spectograms/validation_data\\21\\011794_spectogram.png as it's already resized to (800, 300)\n",
      "Skipping spectograms/validation_data\\21\\012531_spectogram.png as it's already resized to (800, 300)\n",
      "Skipping spectograms/validation_data\\21\\013591_spectogram.png as it's already resized to (800, 300)\n",
      "Skipping spectograms/validation_data\\21\\013670_spectogram.png as it's already resized to (800, 300)\n",
      "Skipping spectograms/validation_data\\21\\027799_spectogram.png as it's already resized to (800, 300)\n",
      "Skipping spectograms/validation_data\\21\\029587_spectogram.png as it's already resized to (800, 300)\n",
      "Skipping spectograms/validation_data\\21\\029961_spectogram.png as it's already resized to (800, 300)\n",
      "Skipping spectograms/validation_data\\21\\030041_spectogram.png as it's already resized to (800, 300)\n",
      "Skipping spectograms/validation_data\\21\\036984_spectogram.png as it's already resized to (800, 300)\n",
      "Skipping spectograms/validation_data\\21\\036988_spectogram.png as it's already resized to (800, 300)\n",
      "Skipping spectograms/validation_data\\21\\049479_spectogram.png as it's already resized to (800, 300)\n",
      "Skipping spectograms/validation_data\\21\\061453_spectogram.png as it's already resized to (800, 300)\n",
      "Skipping spectograms/validation_data\\21\\064522_spectogram.png as it's already resized to (800, 300)\n",
      "Skipping spectograms/validation_data\\21\\065752_spectogram.png as it's already resized to (800, 300)\n",
      "Skipping spectograms/validation_data\\21\\067235_spectogram.png as it's already resized to (800, 300)\n",
      "Skipping spectograms/validation_data\\21\\069822_spectogram.png as it's already resized to (800, 300)\n",
      "Skipping spectograms/validation_data\\21\\069825_spectogram.png as it's already resized to (800, 300)\n",
      "Skipping spectograms/validation_data\\21\\070660_spectogram.png as it's already resized to (800, 300)\n",
      "Skipping spectograms/validation_data\\21\\071172_spectogram.png as it's already resized to (800, 300)\n",
      "Skipping spectograms/validation_data\\21\\071231_spectogram.png as it's already resized to (800, 300)\n",
      "Skipping spectograms/validation_data\\21\\071249_spectogram.png as it's already resized to (800, 300)\n",
      "Skipping spectograms/validation_data\\21\\071252_spectogram.png as it's already resized to (800, 300)\n",
      "Skipping spectograms/validation_data\\21\\072781_spectogram.png as it's already resized to (800, 300)\n",
      "Skipping spectograms/validation_data\\21\\075376_spectogram.png as it's already resized to (800, 300)\n",
      "Skipping spectograms/validation_data\\21\\075748_spectogram.png as it's already resized to (800, 300)\n",
      "Skipping spectograms/validation_data\\21\\075749_spectogram.png as it's already resized to (800, 300)\n",
      "Skipping spectograms/validation_data\\21\\075752_spectogram.png as it's already resized to (800, 300)\n",
      "Skipping spectograms/validation_data\\21\\075925_spectogram.png as it's already resized to (800, 300)\n",
      "Skipping spectograms/validation_data\\21\\078848_spectogram.png as it's already resized to (800, 300)\n",
      "Skipping spectograms/validation_data\\21\\078852_spectogram.png as it's already resized to (800, 300)\n",
      "Skipping spectograms/validation_data\\21\\095911_spectogram.png as it's already resized to (800, 300)\n",
      "Skipping spectograms/validation_data\\21\\097037_spectogram.png as it's already resized to (800, 300)\n",
      "Skipping spectograms/validation_data\\21\\097697_spectogram.png as it's already resized to (800, 300)\n",
      "Skipping spectograms/validation_data\\21\\098551_spectogram.png as it's already resized to (800, 300)\n",
      "Skipping spectograms/validation_data\\21\\100949_spectogram.png as it's already resized to (800, 300)\n",
      "Skipping spectograms/validation_data\\21\\105443_spectogram.png as it's already resized to (800, 300)\n",
      "Skipping spectograms/validation_data\\21\\105825_spectogram.png as it's already resized to (800, 300)\n",
      "Skipping spectograms/validation_data\\21\\105827_spectogram.png as it's already resized to (800, 300)\n",
      "Skipping spectograms/validation_data\\21\\108492_spectogram.png as it's already resized to (800, 300)\n",
      "Skipping spectograms/validation_data\\21\\108496_spectogram.png as it's already resized to (800, 300)\n",
      "Skipping spectograms/validation_data\\21\\108837_spectogram.png as it's already resized to (800, 300)\n",
      "Skipping spectograms/validation_data\\21\\110259_spectogram.png as it's already resized to (800, 300)\n",
      "Skipping spectograms/validation_data\\21\\112487_spectogram.png as it's already resized to (800, 300)\n",
      "Skipping spectograms/validation_data\\21\\113036_spectogram.png as it's already resized to (800, 300)\n",
      "Skipping spectograms/validation_data\\21\\114044_spectogram.png as it's already resized to (800, 300)\n",
      "Skipping spectograms/validation_data\\21\\114268_spectogram.png as it's already resized to (800, 300)\n",
      "Skipping spectograms/validation_data\\21\\114272_spectogram.png as it's already resized to (800, 300)\n",
      "Skipping spectograms/validation_data\\21\\114275_spectogram.png as it's already resized to (800, 300)\n",
      "Skipping spectograms/validation_data\\21\\121315_spectogram.png as it's already resized to (800, 300)\n",
      "Skipping spectograms/validation_data\\21\\123440_spectogram.png as it's already resized to (800, 300)\n",
      "Skipping spectograms/validation_data\\224\\010375_spectogram.png as it's already resized to (800, 300)\n",
      "Skipping spectograms/validation_data\\224\\012346_spectogram.png as it's already resized to (800, 300)\n",
      "Skipping spectograms/validation_data\\224\\037538_spectogram.png as it's already resized to (800, 300)\n",
      "Skipping spectograms/validation_data\\224\\115852_spectogram.png as it's already resized to (800, 300)\n",
      "Skipping spectograms/validation_data\\224\\127541_spectogram.png as it's already resized to (800, 300)\n",
      "Skipping spectograms/validation_data\\236\\011206_spectogram.png as it's already resized to (800, 300)\n",
      "Skipping spectograms/validation_data\\236\\100835_spectogram.png as it's already resized to (800, 300)\n",
      "Skipping spectograms/validation_data\\236\\111933_spectogram.png as it's already resized to (800, 300)\n",
      "Skipping spectograms/validation_data\\240\\032439_spectogram.png as it's already resized to (800, 300)\n",
      "Skipping spectograms/validation_data\\240\\047068_spectogram.png as it's already resized to (800, 300)\n",
      "Skipping spectograms/validation_data\\240\\047072_spectogram.png as it's already resized to (800, 300)\n",
      "Skipping spectograms/validation_data\\240\\047073_spectogram.png as it's already resized to (800, 300)\n",
      "Skipping spectograms/validation_data\\240\\047075_spectogram.png as it's already resized to (800, 300)\n",
      "Skipping spectograms/validation_data\\240\\048463_spectogram.png as it's already resized to (800, 300)\n",
      "Skipping spectograms/validation_data\\240\\065063_spectogram.png as it's already resized to (800, 300)\n",
      "Skipping spectograms/validation_data\\240\\071508_spectogram.png as it's already resized to (800, 300)\n",
      "Skipping spectograms/validation_data\\240\\080833_spectogram.png as it's already resized to (800, 300)\n",
      "Skipping spectograms/validation_data\\240\\107426_spectogram.png as it's already resized to (800, 300)\n",
      "Skipping spectograms/validation_data\\240\\107427_spectogram.png as it's already resized to (800, 300)\n",
      "Skipping spectograms/validation_data\\240\\110110_spectogram.png as it's already resized to (800, 300)\n",
      "Skipping spectograms/validation_data\\240\\115812_spectogram.png as it's already resized to (800, 300)\n",
      "Skipping spectograms/validation_data\\240\\123501_spectogram.png as it's already resized to (800, 300)\n",
      "Skipping spectograms/validation_data\\240\\123502_spectogram.png as it's already resized to (800, 300)\n",
      "Skipping spectograms/validation_data\\247\\064857_spectogram.png as it's already resized to (800, 300)\n",
      "Skipping spectograms/validation_data\\247\\064861_spectogram.png as it's already resized to (800, 300)\n",
      "Skipping spectograms/validation_data\\25\\028072_spectogram.png as it's already resized to (800, 300)\n",
      "Skipping spectograms/validation_data\\25\\040133_spectogram.png as it's already resized to (800, 300)\n",
      "Skipping spectograms/validation_data\\25\\040134_spectogram.png as it's already resized to (800, 300)\n",
      "Skipping spectograms/validation_data\\25\\048990_spectogram.png as it's already resized to (800, 300)\n",
      "Skipping spectograms/validation_data\\25\\061814_spectogram.png as it's already resized to (800, 300)\n",
      "Skipping spectograms/validation_data\\25\\063045_spectogram.png as it's already resized to (800, 300)\n",
      "Skipping spectograms/validation_data\\25\\067412_spectogram.png as it's already resized to (800, 300)\n",
      "Skipping spectograms/validation_data\\25\\079575_spectogram.png as it's already resized to (800, 300)\n",
      "Skipping spectograms/validation_data\\25\\096935_spectogram.png as it's already resized to (800, 300)\n",
      "Skipping spectograms/validation_data\\25\\096936_spectogram.png as it's already resized to (800, 300)\n",
      "Skipping spectograms/validation_data\\25\\097886_spectogram.png as it's already resized to (800, 300)\n",
      "Skipping spectograms/validation_data\\25\\098025_spectogram.png as it's already resized to (800, 300)\n",
      "Skipping spectograms/validation_data\\25\\100799_spectogram.png as it's already resized to (800, 300)\n",
      "Skipping spectograms/validation_data\\25\\117884_spectogram.png as it's already resized to (800, 300)\n",
      "Skipping spectograms/validation_data\\25\\121867_spectogram.png as it's already resized to (800, 300)\n",
      "Skipping spectograms/validation_data\\25\\124201_spectogram.png as it's already resized to (800, 300)\n",
      "Skipping spectograms/validation_data\\25\\125001_spectogram.png as it's already resized to (800, 300)\n",
      "Skipping spectograms/validation_data\\25\\127720_spectogram.png as it's already resized to (800, 300)\n",
      "Skipping spectograms/validation_data\\250\\035444_spectogram.png as it's already resized to (800, 300)\n",
      "Skipping spectograms/validation_data\\250\\038966_spectogram.png as it's already resized to (800, 300)\n",
      "Skipping spectograms/validation_data\\250\\070005_spectogram.png as it's already resized to (800, 300)\n",
      "Skipping spectograms/validation_data\\250\\097793_spectogram.png as it's already resized to (800, 300)\n",
      "Skipping spectograms/validation_data\\250\\097814_spectogram.png as it's already resized to (800, 300)\n",
      "Skipping spectograms/validation_data\\250\\104725_spectogram.png as it's already resized to (800, 300)\n",
      "Skipping spectograms/validation_data\\250\\108050_spectogram.png as it's already resized to (800, 300)\n",
      "Skipping spectograms/validation_data\\250\\108060_spectogram.png as it's already resized to (800, 300)\n",
      "Skipping spectograms/validation_data\\250\\124891_spectogram.png as it's already resized to (800, 300)\n",
      "Skipping spectograms/validation_data\\26\\035571_spectogram.png as it's already resized to (800, 300)\n",
      "Skipping spectograms/validation_data\\26\\045055_spectogram.png as it's already resized to (800, 300)\n",
      "Skipping spectograms/validation_data\\26\\048015_spectogram.png as it's already resized to (800, 300)\n",
      "Skipping spectograms/validation_data\\26\\048763_spectogram.png as it's already resized to (800, 300)\n",
      "Skipping spectograms/validation_data\\26\\108037_spectogram.png as it's already resized to (800, 300)\n",
      "Skipping spectograms/validation_data\\26\\114400_spectogram.png as it's already resized to (800, 300)\n",
      "Skipping spectograms/validation_data\\26\\114404_spectogram.png as it's already resized to (800, 300)\n",
      "Skipping spectograms/validation_data\\26\\114408_spectogram.png as it's already resized to (800, 300)\n",
      "Skipping spectograms/validation_data\\26\\124394_spectogram.png as it's already resized to (800, 300)\n",
      "Skipping spectograms/validation_data\\26\\126598_spectogram.png as it's already resized to (800, 300)\n",
      "Skipping spectograms/validation_data\\267\\108019_spectogram.png as it's already resized to (800, 300)\n",
      "Skipping spectograms/validation_data\\267\\111150_spectogram.png as it's already resized to (800, 300)\n",
      "Skipping spectograms/validation_data\\267\\127207_spectogram.png as it's already resized to (800, 300)\n",
      "Skipping spectograms/validation_data\\27\\066537_spectogram.png as it's already resized to (800, 300)\n",
      "Skipping spectograms/validation_data\\286\\097958_spectogram.png as it's already resized to (800, 300)\n",
      "Skipping spectograms/validation_data\\286\\105671_spectogram.png as it's already resized to (800, 300)\n",
      "Skipping spectograms/validation_data\\286\\105672_spectogram.png as it's already resized to (800, 300)\n",
      "Skipping spectograms/validation_data\\286\\107613_spectogram.png as it's already resized to (800, 300)\n",
      "Skipping spectograms/validation_data\\286\\118923_spectogram.png as it's already resized to (800, 300)\n",
      "Skipping spectograms/validation_data\\296\\073335_spectogram.png as it's already resized to (800, 300)\n",
      "Skipping spectograms/validation_data\\296\\073341_spectogram.png as it's already resized to (800, 300)\n",
      "Skipping spectograms/validation_data\\296\\073344_spectogram.png as it's already resized to (800, 300)\n",
      "Skipping spectograms/validation_data\\296\\111933_spectogram.png as it's already resized to (800, 300)\n",
      "Skipping spectograms/validation_data\\296\\114291_spectogram.png as it's already resized to (800, 300)\n",
      "Skipping spectograms/validation_data\\296\\114294_spectogram.png as it's already resized to (800, 300)\n",
      "Skipping spectograms/validation_data\\296\\114295_spectogram.png as it's already resized to (800, 300)\n",
      "Skipping spectograms/validation_data\\296\\116236_spectogram.png as it's already resized to (800, 300)\n",
      "Skipping spectograms/validation_data\\296\\116243_spectogram.png as it's already resized to (800, 300)\n",
      "Skipping spectograms/validation_data\\296\\121595_spectogram.png as it's already resized to (800, 300)\n",
      "Skipping spectograms/validation_data\\296\\125156_spectogram.png as it's already resized to (800, 300)\n",
      "Skipping spectograms/validation_data\\296\\125160_spectogram.png as it's already resized to (800, 300)\n",
      "Skipping spectograms/validation_data\\297\\026861_spectogram.png as it's already resized to (800, 300)\n",
      "Skipping spectograms/validation_data\\297\\026904_spectogram.png as it's already resized to (800, 300)\n",
      "Skipping spectograms/validation_data\\297\\032439_spectogram.png as it's already resized to (800, 300)\n",
      "Skipping spectograms/validation_data\\297\\047068_spectogram.png as it's already resized to (800, 300)\n",
      "Skipping spectograms/validation_data\\297\\047072_spectogram.png as it's already resized to (800, 300)\n",
      "Skipping spectograms/validation_data\\297\\047073_spectogram.png as it's already resized to (800, 300)\n",
      "Skipping spectograms/validation_data\\297\\047075_spectogram.png as it's already resized to (800, 300)\n",
      "Skipping spectograms/validation_data\\297\\048463_spectogram.png as it's already resized to (800, 300)\n",
      "Skipping spectograms/validation_data\\297\\065063_spectogram.png as it's already resized to (800, 300)\n",
      "Skipping spectograms/validation_data\\297\\071508_spectogram.png as it's already resized to (800, 300)\n",
      "Skipping spectograms/validation_data\\297\\072074_spectogram.png as it's already resized to (800, 300)\n",
      "Skipping spectograms/validation_data\\297\\076659_spectogram.png as it's already resized to (800, 300)\n",
      "Skipping spectograms/validation_data\\297\\080833_spectogram.png as it's already resized to (800, 300)\n",
      "Skipping spectograms/validation_data\\297\\104279_spectogram.png as it's already resized to (800, 300)\n",
      "Skipping spectograms/validation_data\\297\\107426_spectogram.png as it's already resized to (800, 300)\n",
      "Skipping spectograms/validation_data\\297\\107427_spectogram.png as it's already resized to (800, 300)\n",
      "Skipping spectograms/validation_data\\297\\110110_spectogram.png as it's already resized to (800, 300)\n",
      "Skipping spectograms/validation_data\\297\\114062_spectogram.png as it's already resized to (800, 300)\n",
      "Skipping spectograms/validation_data\\297\\115812_spectogram.png as it's already resized to (800, 300)\n",
      "Skipping spectograms/validation_data\\297\\123501_spectogram.png as it's already resized to (800, 300)\n",
      "Skipping spectograms/validation_data\\297\\123502_spectogram.png as it's already resized to (800, 300)\n",
      "Skipping spectograms/validation_data\\30\\069002_spectogram.png as it's already resized to (800, 300)\n",
      "Skipping spectograms/validation_data\\31\\040133_spectogram.png as it's already resized to (800, 300)\n",
      "Skipping spectograms/validation_data\\31\\040134_spectogram.png as it's already resized to (800, 300)\n",
      "Skipping spectograms/validation_data\\31\\108037_spectogram.png as it's already resized to (800, 300)\n",
      "Skipping spectograms/validation_data\\31\\112314_spectogram.png as it's already resized to (800, 300)\n",
      "Skipping spectograms/validation_data\\31\\112315_spectogram.png as it's already resized to (800, 300)\n",
      "Skipping spectograms/validation_data\\31\\118327_spectogram.png as it's already resized to (800, 300)\n",
      "Skipping spectograms/validation_data\\31\\123278_spectogram.png as it's already resized to (800, 300)\n",
      "Skipping spectograms/validation_data\\31\\127720_spectogram.png as it's already resized to (800, 300)\n",
      "Skipping spectograms/validation_data\\314\\106568_spectogram.png as it's already resized to (800, 300)\n",
      "Skipping spectograms/validation_data\\314\\106569_spectogram.png as it's already resized to (800, 300)\n",
      "Skipping spectograms/validation_data\\32\\009307_spectogram.png as it's already resized to (800, 300)\n",
      "Skipping spectograms/validation_data\\32\\009846_spectogram.png as it's already resized to (800, 300)\n",
      "Skipping spectograms/validation_data\\32\\010375_spectogram.png as it's already resized to (800, 300)\n",
      "Skipping spectograms/validation_data\\32\\011234_spectogram.png as it's already resized to (800, 300)\n",
      "Skipping spectograms/validation_data\\32\\039875_spectogram.png as it's already resized to (800, 300)\n",
      "Skipping spectograms/validation_data\\32\\042984_spectogram.png as it's already resized to (800, 300)\n",
      "Skipping spectograms/validation_data\\32\\049071_spectogram.png as it's already resized to (800, 300)\n",
      "Skipping spectograms/validation_data\\32\\049073_spectogram.png as it's already resized to (800, 300)\n",
      "Skipping spectograms/validation_data\\32\\049408_spectogram.png as it's already resized to (800, 300)\n",
      "Skipping spectograms/validation_data\\32\\064604_spectogram.png as it's already resized to (800, 300)\n",
      "Skipping spectograms/validation_data\\32\\097793_spectogram.png as it's already resized to (800, 300)\n",
      "Skipping spectograms/validation_data\\32\\097814_spectogram.png as it's already resized to (800, 300)\n",
      "Skipping spectograms/validation_data\\32\\114976_spectogram.png as it's already resized to (800, 300)\n",
      "Skipping spectograms/validation_data\\32\\118957_spectogram.png as it's already resized to (800, 300)\n",
      "Skipping spectograms/validation_data\\32\\124971_spectogram.png as it's already resized to (800, 300)\n",
      "Skipping spectograms/validation_data\\33\\027855_spectogram.png as it's already resized to (800, 300)\n",
      "Skipping spectograms/validation_data\\33\\064553_spectogram.png as it's already resized to (800, 300)\n",
      "Skipping spectograms/validation_data\\33\\111186_spectogram.png as it's already resized to (800, 300)\n",
      "Skipping spectograms/validation_data\\33\\115922_spectogram.png as it's already resized to (800, 300)\n",
      "Skipping spectograms/validation_data\\337\\064537_spectogram.png as it's already resized to (800, 300)\n",
      "Skipping spectograms/validation_data\\337\\105414_spectogram.png as it's already resized to (800, 300)\n",
      "Skipping spectograms/validation_data\\36\\048763_spectogram.png as it's already resized to (800, 300)\n",
      "Skipping spectograms/validation_data\\36\\067163_spectogram.png as it's already resized to (800, 300)\n",
      "Skipping spectograms/validation_data\\360\\044782_spectogram.png as it's already resized to (800, 300)\n",
      "Skipping spectograms/validation_data\\361\\040133_spectogram.png as it's already resized to (800, 300)\n",
      "Skipping spectograms/validation_data\\361\\040134_spectogram.png as it's already resized to (800, 300)\n",
      "Skipping spectograms/validation_data\\361\\061814_spectogram.png as it's already resized to (800, 300)\n",
      "Skipping spectograms/validation_data\\362\\028485_spectogram.png as it's already resized to (800, 300)\n",
      "Skipping spectograms/validation_data\\362\\035545_spectogram.png as it's already resized to (800, 300)\n",
      "Skipping spectograms/validation_data\\362\\036615_spectogram.png as it's already resized to (800, 300)\n",
      "Skipping spectograms/validation_data\\362\\036643_spectogram.png as it's already resized to (800, 300)\n",
      "Skipping spectograms/validation_data\\362\\036961_spectogram.png as it's already resized to (800, 300)\n",
      "Skipping spectograms/validation_data\\362\\045128_spectogram.png as it's already resized to (800, 300)\n",
      "Skipping spectograms/validation_data\\362\\048444_spectogram.png as it's already resized to (800, 300)\n",
      "Skipping spectograms/validation_data\\362\\062164_spectogram.png as it's already resized to (800, 300)\n",
      "Skipping spectograms/validation_data\\362\\062750_spectogram.png as it's already resized to (800, 300)\n",
      "Skipping spectograms/validation_data\\362\\095486_spectogram.png as it's already resized to (800, 300)\n",
      "Skipping spectograms/validation_data\\362\\108425_spectogram.png as it's already resized to (800, 300)\n",
      "Skipping spectograms/validation_data\\38\\009307_spectogram.png as it's already resized to (800, 300)\n",
      "Skipping spectograms/validation_data\\38\\009846_spectogram.png as it's already resized to (800, 300)\n",
      "Skipping spectograms/validation_data\\38\\010375_spectogram.png as it's already resized to (800, 300)\n",
      "Skipping spectograms/validation_data\\38\\011234_spectogram.png as it's already resized to (800, 300)\n",
      "Skipping spectograms/validation_data\\38\\012346_spectogram.png as it's already resized to (800, 300)\n",
      "Skipping spectograms/validation_data\\38\\013578_spectogram.png as it's already resized to (800, 300)\n",
      "Skipping spectograms/validation_data\\38\\026600_spectogram.png as it's already resized to (800, 300)\n",
      "Skipping spectograms/validation_data\\38\\030740_spectogram.png as it's already resized to (800, 300)\n",
      "Skipping spectograms/validation_data\\38\\035444_spectogram.png as it's already resized to (800, 300)\n",
      "Skipping spectograms/validation_data\\38\\037538_spectogram.png as it's already resized to (800, 300)\n",
      "Skipping spectograms/validation_data\\38\\038966_spectogram.png as it's already resized to (800, 300)\n",
      "Skipping spectograms/validation_data\\38\\039875_spectogram.png as it's already resized to (800, 300)\n",
      "Skipping spectograms/validation_data\\38\\040509_spectogram.png as it's already resized to (800, 300)\n",
      "Skipping spectograms/validation_data\\38\\042984_spectogram.png as it's already resized to (800, 300)\n",
      "Skipping spectograms/validation_data\\38\\044782_spectogram.png as it's already resized to (800, 300)\n",
      "Skipping spectograms/validation_data\\38\\046717_spectogram.png as it's already resized to (800, 300)\n",
      "Skipping spectograms/validation_data\\38\\047196_spectogram.png as it's already resized to (800, 300)\n",
      "Skipping spectograms/validation_data\\38\\047826_spectogram.png as it's already resized to (800, 300)\n",
      "Skipping spectograms/validation_data\\38\\048042_spectogram.png as it's already resized to (800, 300)\n",
      "Skipping spectograms/validation_data\\38\\048043_spectogram.png as it's already resized to (800, 300)\n",
      "Skipping spectograms/validation_data\\38\\048046_spectogram.png as it's already resized to (800, 300)\n",
      "Skipping spectograms/validation_data\\38\\049071_spectogram.png as it's already resized to (800, 300)\n",
      "Skipping spectograms/validation_data\\38\\049073_spectogram.png as it's already resized to (800, 300)\n",
      "Skipping spectograms/validation_data\\38\\049408_spectogram.png as it's already resized to (800, 300)\n",
      "Skipping spectograms/validation_data\\38\\064604_spectogram.png as it's already resized to (800, 300)\n",
      "Skipping spectograms/validation_data\\38\\064857_spectogram.png as it's already resized to (800, 300)\n",
      "Skipping spectograms/validation_data\\38\\064861_spectogram.png as it's already resized to (800, 300)\n",
      "Skipping spectograms/validation_data\\38\\064863_spectogram.png as it's already resized to (800, 300)\n",
      "Skipping spectograms/validation_data\\38\\067457_spectogram.png as it's already resized to (800, 300)\n",
      "Skipping spectograms/validation_data\\38\\069002_spectogram.png as it's already resized to (800, 300)\n",
      "Skipping spectograms/validation_data\\38\\070005_spectogram.png as it's already resized to (800, 300)\n",
      "Skipping spectograms/validation_data\\38\\072927_spectogram.png as it's already resized to (800, 300)\n",
      "Skipping spectograms/validation_data\\38\\072928_spectogram.png as it's already resized to (800, 300)\n",
      "Skipping spectograms/validation_data\\38\\073822_spectogram.png as it's already resized to (800, 300)\n",
      "Skipping spectograms/validation_data\\38\\074387_spectogram.png as it's already resized to (800, 300)\n",
      "Skipping spectograms/validation_data\\38\\074388_spectogram.png as it's already resized to (800, 300)\n",
      "Skipping spectograms/validation_data\\38\\074392_spectogram.png as it's already resized to (800, 300)\n",
      "Skipping spectograms/validation_data\\38\\074393_spectogram.png as it's already resized to (800, 300)\n",
      "Skipping spectograms/validation_data\\38\\074959_spectogram.png as it's already resized to (800, 300)\n",
      "Skipping spectograms/validation_data\\38\\097793_spectogram.png as it's already resized to (800, 300)\n",
      "Skipping spectograms/validation_data\\38\\097814_spectogram.png as it's already resized to (800, 300)\n",
      "Skipping spectograms/validation_data\\38\\104725_spectogram.png as it's already resized to (800, 300)\n",
      "Skipping spectograms/validation_data\\38\\108050_spectogram.png as it's already resized to (800, 300)\n",
      "Skipping spectograms/validation_data\\38\\108060_spectogram.png as it's already resized to (800, 300)\n",
      "Skipping spectograms/validation_data\\38\\110204_spectogram.png as it's already resized to (800, 300)\n",
      "Skipping spectograms/validation_data\\38\\110205_spectogram.png as it's already resized to (800, 300)\n",
      "Skipping spectograms/validation_data\\38\\110208_spectogram.png as it's already resized to (800, 300)\n",
      "Skipping spectograms/validation_data\\38\\112215_spectogram.png as it's already resized to (800, 300)\n",
      "Skipping spectograms/validation_data\\38\\112588_spectogram.png as it's already resized to (800, 300)\n",
      "Skipping spectograms/validation_data\\38\\113558_spectogram.png as it's already resized to (800, 300)\n",
      "Skipping spectograms/validation_data\\38\\114976_spectogram.png as it's already resized to (800, 300)\n",
      "Skipping spectograms/validation_data\\38\\115591_spectogram.png as it's already resized to (800, 300)\n",
      "Skipping spectograms/validation_data\\38\\115852_spectogram.png as it's already resized to (800, 300)\n",
      "Skipping spectograms/validation_data\\38\\116464_spectogram.png as it's already resized to (800, 300)\n",
      "Skipping spectograms/validation_data\\38\\116465_spectogram.png as it's already resized to (800, 300)\n",
      "Skipping spectograms/validation_data\\38\\118012_spectogram.png as it's already resized to (800, 300)\n",
      "Skipping spectograms/validation_data\\38\\118195_spectogram.png as it's already resized to (800, 300)\n",
      "Skipping spectograms/validation_data\\38\\118957_spectogram.png as it's already resized to (800, 300)\n",
      "Skipping spectograms/validation_data\\38\\121987_spectogram.png as it's already resized to (800, 300)\n",
      "Skipping spectograms/validation_data\\38\\122143_spectogram.png as it's already resized to (800, 300)\n",
      "Skipping spectograms/validation_data\\38\\122168_spectogram.png as it's already resized to (800, 300)\n",
      "Skipping spectograms/validation_data\\38\\122199_spectogram.png as it's already resized to (800, 300)\n",
      "Skipping spectograms/validation_data\\38\\124891_spectogram.png as it's already resized to (800, 300)\n",
      "Skipping spectograms/validation_data\\38\\124971_spectogram.png as it's already resized to (800, 300)\n",
      "Skipping spectograms/validation_data\\38\\126227_spectogram.png as it's already resized to (800, 300)\n",
      "Skipping spectograms/validation_data\\38\\126506_spectogram.png as it's already resized to (800, 300)\n",
      "Skipping spectograms/validation_data\\38\\126550_spectogram.png as it's already resized to (800, 300)\n",
      "Skipping spectograms/validation_data\\38\\127541_spectogram.png as it's already resized to (800, 300)\n",
      "Skipping spectograms/validation_data\\400\\026861_spectogram.png as it's already resized to (800, 300)\n",
      "Skipping spectograms/validation_data\\400\\036145_spectogram.png as it's already resized to (800, 300)\n",
      "Skipping spectograms/validation_data\\400\\048463_spectogram.png as it's already resized to (800, 300)\n",
      "Skipping spectograms/validation_data\\400\\068891_spectogram.png as it's already resized to (800, 300)\n",
      "Skipping spectograms/validation_data\\400\\094411_spectogram.png as it's already resized to (800, 300)\n",
      "Skipping spectograms/validation_data\\400\\097958_spectogram.png as it's already resized to (800, 300)\n",
      "Skipping spectograms/validation_data\\400\\105671_spectogram.png as it's already resized to (800, 300)\n",
      "Skipping spectograms/validation_data\\400\\105672_spectogram.png as it's already resized to (800, 300)\n",
      "Skipping spectograms/validation_data\\400\\107911_spectogram.png as it's already resized to (800, 300)\n",
      "Skipping spectograms/validation_data\\400\\125156_spectogram.png as it's already resized to (800, 300)\n",
      "Skipping spectograms/validation_data\\400\\125160_spectogram.png as it's already resized to (800, 300)\n",
      "Skipping spectograms/validation_data\\401\\040844_spectogram.png as it's already resized to (800, 300)\n",
      "Skipping spectograms/validation_data\\404\\066537_spectogram.png as it's already resized to (800, 300)\n",
      "Skipping spectograms/validation_data\\404\\106568_spectogram.png as it's already resized to (800, 300)\n",
      "Skipping spectograms/validation_data\\404\\106569_spectogram.png as it's already resized to (800, 300)\n",
      "Skipping spectograms/validation_data\\404\\113164_spectogram.png as it's already resized to (800, 300)\n",
      "Skipping spectograms/validation_data\\404\\125001_spectogram.png as it's already resized to (800, 300)\n",
      "Skipping spectograms/validation_data\\41\\012346_spectogram.png as it's already resized to (800, 300)\n",
      "Skipping spectograms/validation_data\\41\\115591_spectogram.png as it's already resized to (800, 300)\n",
      "Skipping spectograms/validation_data\\41\\118195_spectogram.png as it's already resized to (800, 300)\n",
      "Skipping spectograms/validation_data\\41\\121987_spectogram.png as it's already resized to (800, 300)\n",
      "Skipping spectograms/validation_data\\41\\126550_spectogram.png as it's already resized to (800, 300)\n",
      "Skipping spectograms/validation_data\\42\\033123_spectogram.png as it's already resized to (800, 300)\n",
      "Skipping spectograms/validation_data\\42\\036145_spectogram.png as it's already resized to (800, 300)\n",
      "Skipping spectograms/validation_data\\42\\048463_spectogram.png as it's already resized to (800, 300)\n",
      "Skipping spectograms/validation_data\\42\\066073_spectogram.png as it's already resized to (800, 300)\n",
      "Skipping spectograms/validation_data\\42\\066638_spectogram.png as it's already resized to (800, 300)\n",
      "Skipping spectograms/validation_data\\42\\068683_spectogram.png as it's already resized to (800, 300)\n",
      "Skipping spectograms/validation_data\\42\\073363_spectogram.png as it's already resized to (800, 300)\n",
      "Skipping spectograms/validation_data\\42\\073366_spectogram.png as it's already resized to (800, 300)\n",
      "Skipping spectograms/validation_data\\42\\094411_spectogram.png as it's already resized to (800, 300)\n",
      "Skipping spectograms/validation_data\\42\\100549_spectogram.png as it's already resized to (800, 300)\n",
      "Skipping spectograms/validation_data\\42\\100550_spectogram.png as it's already resized to (800, 300)\n",
      "Skipping spectograms/validation_data\\42\\100835_spectogram.png as it's already resized to (800, 300)\n",
      "Skipping spectograms/validation_data\\42\\107911_spectogram.png as it's already resized to (800, 300)\n",
      "Skipping spectograms/validation_data\\42\\108464_spectogram.png as it's already resized to (800, 300)\n",
      "Skipping spectograms/validation_data\\439\\127720_spectogram.png as it's already resized to (800, 300)\n",
      "Skipping spectograms/validation_data\\45\\040133_spectogram.png as it's already resized to (800, 300)\n",
      "Skipping spectograms/validation_data\\45\\040134_spectogram.png as it's already resized to (800, 300)\n",
      "Skipping spectograms/validation_data\\45\\098025_spectogram.png as it's already resized to (800, 300)\n",
      "Skipping spectograms/validation_data\\45\\118327_spectogram.png as it's already resized to (800, 300)\n",
      "Skipping spectograms/validation_data\\45\\123278_spectogram.png as it's already resized to (800, 300)\n",
      "Skipping spectograms/validation_data\\456\\047826_spectogram.png as it's already resized to (800, 300)\n",
      "Skipping spectograms/validation_data\\456\\064604_spectogram.png as it's already resized to (800, 300)\n",
      "Skipping spectograms/validation_data\\456\\072927_spectogram.png as it's already resized to (800, 300)\n",
      "Skipping spectograms/validation_data\\456\\072928_spectogram.png as it's already resized to (800, 300)\n",
      "Skipping spectograms/validation_data\\456\\097793_spectogram.png as it's already resized to (800, 300)\n",
      "Skipping spectograms/validation_data\\456\\097814_spectogram.png as it's already resized to (800, 300)\n",
      "Skipping spectograms/validation_data\\456\\110204_spectogram.png as it's already resized to (800, 300)\n",
      "Skipping spectograms/validation_data\\456\\110205_spectogram.png as it's already resized to (800, 300)\n",
      "Skipping spectograms/validation_data\\456\\110208_spectogram.png as it's already resized to (800, 300)\n",
      "Skipping spectograms/validation_data\\46\\033067_spectogram.png as it's already resized to (800, 300)\n",
      "Skipping spectograms/validation_data\\46\\033068_spectogram.png as it's already resized to (800, 300)\n",
      "Skipping spectograms/validation_data\\46\\033071_spectogram.png as it's already resized to (800, 300)\n",
      "Skipping spectograms/validation_data\\468\\036145_spectogram.png as it's already resized to (800, 300)\n",
      "Skipping spectograms/validation_data\\468\\045150_spectogram.png as it's already resized to (800, 300)\n",
      "Skipping spectograms/validation_data\\468\\047659_spectogram.png as it's already resized to (800, 300)\n",
      "Skipping spectograms/validation_data\\468\\064537_spectogram.png as it's already resized to (800, 300)\n",
      "Skipping spectograms/validation_data\\468\\065040_spectogram.png as it's already resized to (800, 300)\n",
      "Skipping spectograms/validation_data\\468\\065777_spectogram.png as it's already resized to (800, 300)\n",
      "Skipping spectograms/validation_data\\468\\065779_spectogram.png as it's already resized to (800, 300)\n",
      "Skipping spectograms/validation_data\\468\\065780_spectogram.png as it's already resized to (800, 300)\n",
      "Skipping spectograms/validation_data\\468\\066638_spectogram.png as it's already resized to (800, 300)\n",
      "Skipping spectograms/validation_data\\468\\067638_spectogram.png as it's already resized to (800, 300)\n",
      "Skipping spectograms/validation_data\\468\\072074_spectogram.png as it's already resized to (800, 300)\n",
      "Skipping spectograms/validation_data\\468\\075763_spectogram.png as it's already resized to (800, 300)\n",
      "Skipping spectograms/validation_data\\468\\104279_spectogram.png as it's already resized to (800, 300)\n",
      "Skipping spectograms/validation_data\\468\\114062_spectogram.png as it's already resized to (800, 300)\n",
      "Skipping spectograms/validation_data\\468\\114391_spectogram.png as it's already resized to (800, 300)\n",
      "Skipping spectograms/validation_data\\468\\116236_spectogram.png as it's already resized to (800, 300)\n",
      "Skipping spectograms/validation_data\\468\\116243_spectogram.png as it's already resized to (800, 300)\n",
      "Skipping spectograms/validation_data\\47\\072927_spectogram.png as it's already resized to (800, 300)\n",
      "Skipping spectograms/validation_data\\47\\072928_spectogram.png as it's already resized to (800, 300)\n",
      "Skipping spectograms/validation_data\\47\\074959_spectogram.png as it's already resized to (800, 300)\n",
      "Skipping spectograms/validation_data\\47\\112215_spectogram.png as it's already resized to (800, 300)\n",
      "Skipping spectograms/validation_data\\47\\126227_spectogram.png as it's already resized to (800, 300)\n",
      "Skipping spectograms/validation_data\\49\\096697_spectogram.png as it's already resized to (800, 300)\n",
      "Skipping spectograms/validation_data\\491\\045150_spectogram.png as it's already resized to (800, 300)\n",
      "Skipping spectograms/validation_data\\491\\075763_spectogram.png as it's already resized to (800, 300)\n",
      "Skipping spectograms/validation_data\\491\\116236_spectogram.png as it's already resized to (800, 300)\n",
      "Skipping spectograms/validation_data\\491\\116243_spectogram.png as it's already resized to (800, 300)\n",
      "Skipping spectograms/validation_data\\495\\033123_spectogram.png as it's already resized to (800, 300)\n",
      "Skipping spectograms/validation_data\\495\\033124_spectogram.png as it's already resized to (800, 300)\n",
      "Skipping spectograms/validation_data\\495\\073363_spectogram.png as it's already resized to (800, 300)\n",
      "Skipping spectograms/validation_data\\495\\073366_spectogram.png as it's already resized to (800, 300)\n",
      "Skipping spectograms/validation_data\\495\\113971_spectogram.png as it's already resized to (800, 300)\n",
      "Skipping spectograms/validation_data\\495\\118923_spectogram.png as it's already resized to (800, 300)\n",
      "Skipping spectograms/validation_data\\495\\125156_spectogram.png as it's already resized to (800, 300)\n",
      "Skipping spectograms/validation_data\\495\\125160_spectogram.png as it's already resized to (800, 300)\n",
      "Skipping spectograms/validation_data\\502\\033067_spectogram.png as it's already resized to (800, 300)\n",
      "Skipping spectograms/validation_data\\502\\033068_spectogram.png as it's already resized to (800, 300)\n",
      "Skipping spectograms/validation_data\\502\\033071_spectogram.png as it's already resized to (800, 300)\n",
      "Skipping spectograms/validation_data\\504\\042014_spectogram.png as it's already resized to (800, 300)\n",
      "Skipping spectograms/validation_data\\504\\107951_spectogram.png as it's already resized to (800, 300)\n",
      "Skipping spectograms/validation_data\\514\\040509_spectogram.png as it's already resized to (800, 300)\n",
      "Skipping spectograms/validation_data\\514\\115852_spectogram.png as it's already resized to (800, 300)\n",
      "Skipping spectograms/validation_data\\524\\043585_spectogram.png as it's already resized to (800, 300)\n",
      "Skipping spectograms/validation_data\\524\\044823_spectogram.png as it's already resized to (800, 300)\n",
      "Skipping spectograms/validation_data\\524\\098301_spectogram.png as it's already resized to (800, 300)\n",
      "Skipping spectograms/validation_data\\53\\040133_spectogram.png as it's already resized to (800, 300)\n",
      "Skipping spectograms/validation_data\\53\\040134_spectogram.png as it's already resized to (800, 300)\n",
      "Skipping spectograms/validation_data\\53\\098025_spectogram.png as it's already resized to (800, 300)\n",
      "Skipping spectograms/validation_data\\53\\118327_spectogram.png as it's already resized to (800, 300)\n",
      "Skipping spectograms/validation_data\\539\\065752_spectogram.png as it's already resized to (800, 300)\n",
      "Skipping spectograms/validation_data\\539\\069822_spectogram.png as it's already resized to (800, 300)\n",
      "Skipping spectograms/validation_data\\539\\069825_spectogram.png as it's already resized to (800, 300)\n",
      "Skipping spectograms/validation_data\\539\\075748_spectogram.png as it's already resized to (800, 300)\n",
      "Skipping spectograms/validation_data\\539\\075749_spectogram.png as it's already resized to (800, 300)\n",
      "Skipping spectograms/validation_data\\539\\075752_spectogram.png as it's already resized to (800, 300)\n",
      "Skipping spectograms/validation_data\\539\\097037_spectogram.png as it's already resized to (800, 300)\n",
      "Skipping spectograms/validation_data\\539\\097697_spectogram.png as it's already resized to (800, 300)\n",
      "Skipping spectograms/validation_data\\539\\098551_spectogram.png as it's already resized to (800, 300)\n",
      "Skipping spectograms/validation_data\\539\\108492_spectogram.png as it's already resized to (800, 300)\n",
      "Skipping spectograms/validation_data\\539\\108496_spectogram.png as it's already resized to (800, 300)\n",
      "Skipping spectograms/validation_data\\539\\110259_spectogram.png as it's already resized to (800, 300)\n",
      "Skipping spectograms/validation_data\\539\\113036_spectogram.png as it's already resized to (800, 300)\n",
      "Skipping spectograms/validation_data\\539\\121315_spectogram.png as it's already resized to (800, 300)\n",
      "Skipping spectograms/validation_data\\539\\123440_spectogram.png as it's already resized to (800, 300)\n",
      "Skipping spectograms/validation_data\\58\\035571_spectogram.png as it's already resized to (800, 300)\n",
      "Skipping spectograms/validation_data\\58\\041962_spectogram.png as it's already resized to (800, 300)\n",
      "Skipping spectograms/validation_data\\58\\041965_spectogram.png as it's already resized to (800, 300)\n",
      "Skipping spectograms/validation_data\\58\\048763_spectogram.png as it's already resized to (800, 300)\n",
      "Skipping spectograms/validation_data\\58\\067163_spectogram.png as it's already resized to (800, 300)\n",
      "Skipping spectograms/validation_data\\58\\113164_spectogram.png as it's already resized to (800, 300)\n",
      "Skipping spectograms/validation_data\\58\\126598_spectogram.png as it's already resized to (800, 300)\n",
      "Skipping spectograms/validation_data\\6\\044782_spectogram.png as it's already resized to (800, 300)\n",
      "Skipping spectograms/validation_data\\6\\074387_spectogram.png as it's already resized to (800, 300)\n",
      "Skipping spectograms/validation_data\\6\\074388_spectogram.png as it's already resized to (800, 300)\n",
      "Skipping spectograms/validation_data\\6\\074392_spectogram.png as it's already resized to (800, 300)\n",
      "Skipping spectograms/validation_data\\6\\074393_spectogram.png as it's already resized to (800, 300)\n",
      "Skipping spectograms/validation_data\\6\\112588_spectogram.png as it's already resized to (800, 300)\n",
      "Skipping spectograms/validation_data\\602\\042014_spectogram.png as it's already resized to (800, 300)\n",
      "Skipping spectograms/validation_data\\602\\117667_spectogram.png as it's already resized to (800, 300)\n",
      "Skipping spectograms/validation_data\\602\\127360_spectogram.png as it's already resized to (800, 300)\n",
      "Skipping spectograms/validation_data\\66\\033459_spectogram.png as it's already resized to (800, 300)\n",
      "Skipping spectograms/validation_data\\66\\045055_spectogram.png as it's already resized to (800, 300)\n",
      "Skipping spectograms/validation_data\\66\\048015_spectogram.png as it's already resized to (800, 300)\n",
      "Skipping spectograms/validation_data\\66\\063045_spectogram.png as it's already resized to (800, 300)\n",
      "Skipping spectograms/validation_data\\66\\113822_spectogram.png as it's already resized to (800, 300)\n",
      "Skipping spectograms/validation_data\\66\\114430_spectogram.png as it's already resized to (800, 300)\n",
      "Skipping spectograms/validation_data\\66\\117884_spectogram.png as it's already resized to (800, 300)\n",
      "Skipping spectograms/validation_data\\66\\122081_spectogram.png as it's already resized to (800, 300)\n",
      "Skipping spectograms/validation_data\\66\\126668_spectogram.png as it's already resized to (800, 300)\n",
      "Skipping spectograms/validation_data\\695\\105414_spectogram.png as it's already resized to (800, 300)\n",
      "Skipping spectograms/validation_data\\71\\098025_spectogram.png as it's already resized to (800, 300)\n",
      "Skipping spectograms/validation_data\\741\\043519_spectogram.png as it's already resized to (800, 300)\n",
      "Skipping spectograms/validation_data\\741\\043585_spectogram.png as it's already resized to (800, 300)\n",
      "Skipping spectograms/validation_data\\741\\107248_spectogram.png as it's already resized to (800, 300)\n",
      "Skipping spectograms/validation_data\\76\\012654_spectogram.png as it's already resized to (800, 300)\n",
      "Skipping spectograms/validation_data\\76\\028485_spectogram.png as it's already resized to (800, 300)\n",
      "Skipping spectograms/validation_data\\76\\037369_spectogram.png as it's already resized to (800, 300)\n",
      "Skipping spectograms/validation_data\\76\\045128_spectogram.png as it's already resized to (800, 300)\n",
      "Skipping spectograms/validation_data\\76\\067364_spectogram.png as it's already resized to (800, 300)\n",
      "Skipping spectograms/validation_data\\76\\070873_spectogram.png as it's already resized to (800, 300)\n",
      "Skipping spectograms/validation_data\\76\\104779_spectogram.png as it's already resized to (800, 300)\n",
      "Skipping spectograms/validation_data\\76\\111402_spectogram.png as it's already resized to (800, 300)\n",
      "Skipping spectograms/validation_data\\76\\113016_spectogram.png as it's already resized to (800, 300)\n",
      "Skipping spectograms/validation_data\\76\\113017_spectogram.png as it's already resized to (800, 300)\n",
      "Skipping spectograms/validation_data\\76\\120111_spectogram.png as it's already resized to (800, 300)\n",
      "Skipping spectograms/validation_data\\76\\120179_spectogram.png as it's already resized to (800, 300)\n",
      "Skipping spectograms/validation_data\\76\\120184_spectogram.png as it's already resized to (800, 300)\n",
      "Skipping spectograms/validation_data\\76\\120188_spectogram.png as it's already resized to (800, 300)\n",
      "Skipping spectograms/validation_data\\76\\122806_spectogram.png as it's already resized to (800, 300)\n",
      "Skipping spectograms/validation_data\\76\\126354_spectogram.png as it's already resized to (800, 300)\n",
      "Skipping spectograms/validation_data\\763\\074387_spectogram.png as it's already resized to (800, 300)\n",
      "Skipping spectograms/validation_data\\763\\074388_spectogram.png as it's already resized to (800, 300)\n",
      "Skipping spectograms/validation_data\\763\\074392_spectogram.png as it's already resized to (800, 300)\n",
      "Skipping spectograms/validation_data\\763\\074393_spectogram.png as it's already resized to (800, 300)\n",
      "Skipping spectograms/validation_data\\763\\112588_spectogram.png as it's already resized to (800, 300)\n",
      "Skipping spectograms/validation_data\\79\\038352_spectogram.png as it's already resized to (800, 300)\n",
      "Skipping spectograms/validation_data\\79\\038560_spectogram.png as it's already resized to (800, 300)\n",
      "Skipping spectograms/validation_data\\79\\039357_spectogram.png as it's already resized to (800, 300)\n",
      "Skipping spectograms/validation_data\\79\\042014_spectogram.png as it's already resized to (800, 300)\n",
      "Skipping spectograms/validation_data\\79\\117667_spectogram.png as it's already resized to (800, 300)\n",
      "Skipping spectograms/validation_data\\79\\117943_spectogram.png as it's already resized to (800, 300)\n",
      "Skipping spectograms/validation_data\\79\\127360_spectogram.png as it's already resized to (800, 300)\n",
      "Skipping spectograms/validation_data\\81\\027197_spectogram.png as it's already resized to (800, 300)\n",
      "Skipping spectograms/validation_data\\81\\062184_spectogram.png as it's already resized to (800, 300)\n",
      "Skipping spectograms/validation_data\\81\\062186_spectogram.png as it's already resized to (800, 300)\n",
      "Skipping spectograms/validation_data\\81\\062191_spectogram.png as it's already resized to (800, 300)\n",
      "Skipping spectograms/validation_data\\811\\071172_spectogram.png as it's already resized to (800, 300)\n",
      "Skipping spectograms/validation_data\\811\\075925_spectogram.png as it's already resized to (800, 300)\n",
      "Skipping spectograms/validation_data\\811\\114268_spectogram.png as it's already resized to (800, 300)\n",
      "Skipping spectograms/validation_data\\811\\114272_spectogram.png as it's already resized to (800, 300)\n",
      "Skipping spectograms/validation_data\\811\\114275_spectogram.png as it's already resized to (800, 300)\n",
      "Skipping spectograms/validation_data\\811\\121315_spectogram.png as it's already resized to (800, 300)\n",
      "Skipping spectograms/validation_data\\83\\078848_spectogram.png as it's already resized to (800, 300)\n",
      "Skipping spectograms/validation_data\\83\\078852_spectogram.png as it's already resized to (800, 300)\n",
      "Skipping spectograms/validation_data\\85\\028072_spectogram.png as it's already resized to (800, 300)\n",
      "Skipping spectograms/validation_data\\85\\032021_spectogram.png as it's already resized to (800, 300)\n",
      "Skipping spectograms/validation_data\\85\\066537_spectogram.png as it's already resized to (800, 300)\n",
      "Skipping spectograms/validation_data\\85\\079575_spectogram.png as it's already resized to (800, 300)\n",
      "Skipping spectograms/validation_data\\85\\095506_spectogram.png as it's already resized to (800, 300)\n",
      "Skipping spectograms/validation_data\\85\\104227_spectogram.png as it's already resized to (800, 300)\n",
      "Skipping spectograms/validation_data\\85\\106568_spectogram.png as it's already resized to (800, 300)\n",
      "Skipping spectograms/validation_data\\85\\106569_spectogram.png as it's already resized to (800, 300)\n",
      "Skipping spectograms/validation_data\\85\\113164_spectogram.png as it's already resized to (800, 300)\n",
      "Skipping spectograms/validation_data\\85\\121867_spectogram.png as it's already resized to (800, 300)\n",
      "Skipping spectograms/validation_data\\85\\122081_spectogram.png as it's already resized to (800, 300)\n",
      "Skipping spectograms/validation_data\\85\\124201_spectogram.png as it's already resized to (800, 300)\n",
      "Skipping spectograms/validation_data\\85\\125001_spectogram.png as it's already resized to (800, 300)\n",
      "Skipping spectograms/validation_data\\88\\100799_spectogram.png as it's already resized to (800, 300)\n",
      "Skipping spectograms/validation_data\\88\\123835_spectogram.png as it's already resized to (800, 300)\n",
      "Skipping spectograms/validation_data\\89\\063045_spectogram.png as it's already resized to (800, 300)\n",
      "Skipping spectograms/validation_data\\89\\067412_spectogram.png as it's already resized to (800, 300)\n",
      "Skipping spectograms/validation_data\\89\\100799_spectogram.png as it's already resized to (800, 300)\n",
      "Skipping spectograms/validation_data\\89\\125001_spectogram.png as it's already resized to (800, 300)\n",
      "Skipping spectograms/validation_data\\90\\040133_spectogram.png as it's already resized to (800, 300)\n",
      "Skipping spectograms/validation_data\\90\\040134_spectogram.png as it's already resized to (800, 300)\n",
      "Skipping spectograms/validation_data\\92\\027197_spectogram.png as it's already resized to (800, 300)\n",
      "Skipping spectograms/validation_data\\92\\062184_spectogram.png as it's already resized to (800, 300)\n",
      "Skipping spectograms/validation_data\\92\\062186_spectogram.png as it's already resized to (800, 300)\n",
      "Skipping spectograms/validation_data\\92\\062191_spectogram.png as it's already resized to (800, 300)\n",
      "Skipping spectograms/validation_data\\94\\075844_spectogram.png as it's already resized to (800, 300)\n",
      "Skipping spectograms/validation_data\\94\\075862_spectogram.png as it's already resized to (800, 300)\n",
      "Skipping spectograms/validation_data\\94\\075869_spectogram.png as it's already resized to (800, 300)\n",
      "Skipping spectograms/validation_data\\94\\115922_spectogram.png as it's already resized to (800, 300)\n",
      "Skipping spectograms/validation_data\\98\\026674_spectogram.png as it's already resized to (800, 300)\n",
      "Skipping spectograms/validation_data\\98\\026681_spectogram.png as it's already resized to (800, 300)\n",
      "Skipping spectograms/validation_data\\98\\041962_spectogram.png as it's already resized to (800, 300)\n",
      "Skipping spectograms/validation_data\\98\\041965_spectogram.png as it's already resized to (800, 300)\n",
      "Skipping spectograms/validation_data\\98\\061814_spectogram.png as it's already resized to (800, 300)\n",
      "Skipping spectograms/validation_data\\98\\112314_spectogram.png as it's already resized to (800, 300)\n",
      "Skipping spectograms/validation_data\\98\\112315_spectogram.png as it's already resized to (800, 300)\n",
      "Skipping spectograms/validation_data\\98\\123273_spectogram.png as it's already resized to (800, 300)\n",
      "Skipping spectograms/validation_data\\98\\124394_spectogram.png as it's already resized to (800, 300)\n"
     ]
    }
   ],
   "source": [
    "\n",
    "\n",
    "def resize_images_in_directory(input_dir, target_size):\n",
    "    # Iterate through subdirectories in the input directory\n",
    "    for root, dirs, files in os.walk(input_dir):\n",
    "        for file in files:\n",
    "            if file.endswith(('.png')):  # Adjust the file extensions as needed\n",
    "                input_path = os.path.join(root, file)\n",
    "\n",
    "                # Open the image\n",
    "                with Image.open(input_path) as img:\n",
    "                    # Resize the image\n",
    "                    if img.size == target_size:\n",
    "                        print(f\"Skipping {input_path} as it's already resized to {target_size}\")\n",
    "                        continue  # Skip resizing for this image\n",
    "                    img_resized = img.resize(target_size, Image.Resampling.LANCZOS)\n",
    "                    # Overwrite the original image with the resized image\n",
    "                    img_resized.save(input_path)\n",
    "\n",
    "\n",
    "# Example usage\n",
    "input_dir = 'input_directory'\n",
    "output_dir = 'output_directory'\n",
    "target_size = (800, 300)  # Set the target size for resizing\n",
    "\n",
    "resize_images_in_directory(val_dir, target_size)\n",
    "\n"
   ]
  },
  {
   "cell_type": "code",
   "execution_count": null,
   "metadata": {},
   "outputs": [
    {
     "name": "stderr",
     "output_type": "stream",
     "text": [
      "C:\\Users\\Chomba Mumba\\AppData\\Local\\Temp\\ipykernel_6632\\567797151.py:15: RuntimeWarning: More than 20 figures have been opened. Figures created through the pyplot interface (`matplotlib.pyplot.figure`) are retained until explicitly closed and may consume too much memory. (To control this warning, see the rcParam `figure.max_open_warning`). Consider using `matplotlib.pyplot.close()`.\n",
      "  plt.figure(figsize=(8, 3))\n",
      "C:\\Users\\Chomba Mumba\\AppData\\Local\\Temp\\ipykernel_6632\\567797151.py:14: RuntimeWarning: More than 20 figures have been opened. Figures created through the pyplot interface (`matplotlib.pyplot.figure`) are retained until explicitly closed and may consume too much memory. (To control this warning, see the rcParam `figure.max_open_warning`). Consider using `matplotlib.pyplot.close()`.\n",
      "  plt.figure(frameon=False)\n"
     ]
    },
    {
     "ename": "KeyboardInterrupt",
     "evalue": "",
     "output_type": "error",
     "traceback": [
      "\u001b[1;31m---------------------------------------------------------------------------\u001b[0m",
      "\u001b[1;31mKeyboardInterrupt\u001b[0m                         Traceback (most recent call last)",
      "Cell \u001b[1;32mIn[15], line 6\u001b[0m\n\u001b[0;32m      4\u001b[0m \u001b[38;5;28;01mfor\u001b[39;00m file \u001b[38;5;129;01min\u001b[39;00m os\u001b[38;5;241m.\u001b[39mlistdir(current_folder):\n\u001b[0;32m      5\u001b[0m     temp_file \u001b[38;5;241m=\u001b[39m file\u001b[38;5;241m.\u001b[39mreplace(\u001b[38;5;124m'\u001b[39m\u001b[38;5;124m.mp3\u001b[39m\u001b[38;5;124m'\u001b[39m, \u001b[38;5;124m'\u001b[39m\u001b[38;5;124m'\u001b[39m)\n\u001b[1;32m----> 6\u001b[0m     spectogram \u001b[38;5;241m=\u001b[39m \u001b[43mcreate_spectrogram\u001b[49m\u001b[43m(\u001b[49m\u001b[43mcurrent_folder\u001b[49m\u001b[43m,\u001b[49m\u001b[43m \u001b[49m\u001b[43mfile\u001b[49m\u001b[43m)\u001b[49m\n\u001b[0;32m      7\u001b[0m     spectogram\u001b[38;5;241m.\u001b[39msavefig(\u001b[38;5;124mf\u001b[39m\u001b[38;5;124m'\u001b[39m\u001b[38;5;124mC:/Users/Chomba Mumba/Desktop/spectograms/\u001b[39m\u001b[38;5;132;01m{\u001b[39;00mtemp_file\u001b[38;5;132;01m}\u001b[39;00m\u001b[38;5;124m_spectogram.png\u001b[39m\u001b[38;5;124m'\u001b[39m, transparent\u001b[38;5;241m=\u001b[39m\u001b[38;5;28;01mTrue\u001b[39;00m, bbox_inches\u001b[38;5;241m=\u001b[39m\u001b[38;5;124m'\u001b[39m\u001b[38;5;124mtight\u001b[39m\u001b[38;5;124m'\u001b[39m, pad_inches\u001b[38;5;241m=\u001b[39m\u001b[38;5;241m0.0\u001b[39m)\n\u001b[0;32m      8\u001b[0m     plt\u001b[38;5;241m.\u001b[39mclf()\n",
      "Cell \u001b[1;32mIn[13], line 13\u001b[0m, in \u001b[0;36mcreate_spectrogram\u001b[1;34m(audio_path, audio_file)\u001b[0m\n\u001b[0;32m      7\u001b[0m \u001b[38;5;66;03m#Display audio waveform\u001b[39;00m\n\u001b[0;32m      8\u001b[0m \u001b[38;5;66;03m# plt.figure(figsize=(14, 5))\u001b[39;00m\n\u001b[0;32m      9\u001b[0m \u001b[38;5;66;03m# plt.plot(x)\u001b[39;00m\n\u001b[0;32m     10\u001b[0m \n\u001b[0;32m     11\u001b[0m \u001b[38;5;66;03m#Create and display a spectogram with axis labels\u001b[39;00m\n\u001b[0;32m     12\u001b[0m X \u001b[38;5;241m=\u001b[39m librosa\u001b[38;5;241m.\u001b[39mstft(x)\n\u001b[1;32m---> 13\u001b[0m Xdb \u001b[38;5;241m=\u001b[39m \u001b[43mlibrosa\u001b[49m\u001b[38;5;241;43m.\u001b[39;49m\u001b[43mamplitude_to_db\u001b[49m\u001b[43m(\u001b[49m\u001b[38;5;28;43mabs\u001b[39;49m\u001b[43m(\u001b[49m\u001b[43mX\u001b[49m\u001b[43m)\u001b[49m\u001b[43m)\u001b[49m\n\u001b[0;32m     14\u001b[0m plt\u001b[38;5;241m.\u001b[39mfigure(frameon\u001b[38;5;241m=\u001b[39m\u001b[38;5;28;01mFalse\u001b[39;00m)\n\u001b[0;32m     15\u001b[0m plt\u001b[38;5;241m.\u001b[39mfigure(figsize\u001b[38;5;241m=\u001b[39m(\u001b[38;5;241m8\u001b[39m, \u001b[38;5;241m3\u001b[39m))\n",
      "File \u001b[1;32mc:\\Users\\Chomba Mumba\\OneDrive - Loughborough University\\Uni\\4th Year\\Advanced AI\\.venv\\Lib\\site-packages\\librosa\\core\\spectrum.py:1872\u001b[0m, in \u001b[0;36mamplitude_to_db\u001b[1;34m(S, ref, amin, top_db)\u001b[0m\n\u001b[0;32m   1869\u001b[0m \u001b[38;5;28;01melse\u001b[39;00m:\n\u001b[0;32m   1870\u001b[0m     ref_value \u001b[38;5;241m=\u001b[39m np\u001b[38;5;241m.\u001b[39mabs(ref)\n\u001b[1;32m-> 1872\u001b[0m power \u001b[38;5;241m=\u001b[39m \u001b[43mnp\u001b[49m\u001b[38;5;241;43m.\u001b[39;49m\u001b[43msquare\u001b[49m\u001b[43m(\u001b[49m\u001b[43mmagnitude\u001b[49m\u001b[43m,\u001b[49m\u001b[43m \u001b[49m\u001b[43mout\u001b[49m\u001b[38;5;241;43m=\u001b[39;49m\u001b[43mmagnitude\u001b[49m\u001b[43m)\u001b[49m\n\u001b[0;32m   1874\u001b[0m \u001b[38;5;28;01mreturn\u001b[39;00m power_to_db(power, ref\u001b[38;5;241m=\u001b[39mref_value\u001b[38;5;241m*\u001b[39m\u001b[38;5;241m*\u001b[39m\u001b[38;5;241m2\u001b[39m, amin\u001b[38;5;241m=\u001b[39mamin\u001b[38;5;241m*\u001b[39m\u001b[38;5;241m*\u001b[39m\u001b[38;5;241m2\u001b[39m, top_db\u001b[38;5;241m=\u001b[39mtop_db)\n",
      "\u001b[1;31mKeyboardInterrupt\u001b[0m: "
     ]
    },
    {
     "data": {
      "text/plain": [
       "<Figure size 640x480 with 0 Axes>"
      ]
     },
     "metadata": {},
     "output_type": "display_data"
    },
    {
     "data": {
      "text/plain": [
       "<Figure size 640x480 with 0 Axes>"
      ]
     },
     "metadata": {},
     "output_type": "display_data"
    },
    {
     "data": {
      "text/plain": [
       "<Figure size 640x480 with 0 Axes>"
      ]
     },
     "metadata": {},
     "output_type": "display_data"
    },
    {
     "data": {
      "text/plain": [
       "<Figure size 640x480 with 0 Axes>"
      ]
     },
     "metadata": {},
     "output_type": "display_data"
    },
    {
     "data": {
      "text/plain": [
       "<Figure size 640x480 with 0 Axes>"
      ]
     },
     "metadata": {},
     "output_type": "display_data"
    },
    {
     "data": {
      "text/plain": [
       "<Figure size 640x480 with 0 Axes>"
      ]
     },
     "metadata": {},
     "output_type": "display_data"
    },
    {
     "data": {
      "text/plain": [
       "<Figure size 640x480 with 0 Axes>"
      ]
     },
     "metadata": {},
     "output_type": "display_data"
    },
    {
     "data": {
      "text/plain": [
       "<Figure size 640x480 with 0 Axes>"
      ]
     },
     "metadata": {},
     "output_type": "display_data"
    },
    {
     "data": {
      "text/plain": [
       "<Figure size 640x480 with 0 Axes>"
      ]
     },
     "metadata": {},
     "output_type": "display_data"
    },
    {
     "data": {
      "text/plain": [
       "<Figure size 640x480 with 0 Axes>"
      ]
     },
     "metadata": {},
     "output_type": "display_data"
    },
    {
     "data": {
      "text/plain": [
       "<Figure size 640x480 with 0 Axes>"
      ]
     },
     "metadata": {},
     "output_type": "display_data"
    },
    {
     "data": {
      "text/plain": [
       "<Figure size 640x480 with 0 Axes>"
      ]
     },
     "metadata": {},
     "output_type": "display_data"
    },
    {
     "data": {
      "text/plain": [
       "<Figure size 640x480 with 0 Axes>"
      ]
     },
     "metadata": {},
     "output_type": "display_data"
    },
    {
     "data": {
      "text/plain": [
       "<Figure size 640x480 with 0 Axes>"
      ]
     },
     "metadata": {},
     "output_type": "display_data"
    },
    {
     "data": {
      "text/plain": [
       "<Figure size 640x480 with 0 Axes>"
      ]
     },
     "metadata": {},
     "output_type": "display_data"
    },
    {
     "data": {
      "text/plain": [
       "<Figure size 640x480 with 0 Axes>"
      ]
     },
     "metadata": {},
     "output_type": "display_data"
    },
    {
     "data": {
      "text/plain": [
       "<Figure size 640x480 with 0 Axes>"
      ]
     },
     "metadata": {},
     "output_type": "display_data"
    },
    {
     "data": {
      "text/plain": [
       "<Figure size 640x480 with 0 Axes>"
      ]
     },
     "metadata": {},
     "output_type": "display_data"
    },
    {
     "data": {
      "text/plain": [
       "<Figure size 640x480 with 0 Axes>"
      ]
     },
     "metadata": {},
     "output_type": "display_data"
    },
    {
     "data": {
      "text/plain": [
       "<Figure size 640x480 with 0 Axes>"
      ]
     },
     "metadata": {},
     "output_type": "display_data"
    },
    {
     "data": {
      "text/plain": [
       "<Figure size 640x480 with 0 Axes>"
      ]
     },
     "metadata": {},
     "output_type": "display_data"
    },
    {
     "data": {
      "text/plain": [
       "<Figure size 640x480 with 0 Axes>"
      ]
     },
     "metadata": {},
     "output_type": "display_data"
    },
    {
     "data": {
      "text/plain": [
       "<Figure size 640x480 with 0 Axes>"
      ]
     },
     "metadata": {},
     "output_type": "display_data"
    },
    {
     "data": {
      "text/plain": [
       "<Figure size 640x480 with 0 Axes>"
      ]
     },
     "metadata": {},
     "output_type": "display_data"
    },
    {
     "data": {
      "text/plain": [
       "<Figure size 640x480 with 0 Axes>"
      ]
     },
     "metadata": {},
     "output_type": "display_data"
    },
    {
     "data": {
      "text/plain": [
       "<Figure size 640x480 with 0 Axes>"
      ]
     },
     "metadata": {},
     "output_type": "display_data"
    },
    {
     "data": {
      "text/plain": [
       "<Figure size 640x480 with 0 Axes>"
      ]
     },
     "metadata": {},
     "output_type": "display_data"
    },
    {
     "data": {
      "text/plain": [
       "<Figure size 640x480 with 0 Axes>"
      ]
     },
     "metadata": {},
     "output_type": "display_data"
    },
    {
     "data": {
      "text/plain": [
       "<Figure size 640x480 with 0 Axes>"
      ]
     },
     "metadata": {},
     "output_type": "display_data"
    },
    {
     "data": {
      "text/plain": [
       "<Figure size 640x480 with 0 Axes>"
      ]
     },
     "metadata": {},
     "output_type": "display_data"
    },
    {
     "data": {
      "text/plain": [
       "<Figure size 640x480 with 0 Axes>"
      ]
     },
     "metadata": {},
     "output_type": "display_data"
    },
    {
     "data": {
      "text/plain": [
       "<Figure size 640x480 with 0 Axes>"
      ]
     },
     "metadata": {},
     "output_type": "display_data"
    },
    {
     "data": {
      "text/plain": [
       "<Figure size 640x480 with 0 Axes>"
      ]
     },
     "metadata": {},
     "output_type": "display_data"
    },
    {
     "data": {
      "text/plain": [
       "<Figure size 640x480 with 0 Axes>"
      ]
     },
     "metadata": {},
     "output_type": "display_data"
    },
    {
     "data": {
      "text/plain": [
       "<Figure size 640x480 with 0 Axes>"
      ]
     },
     "metadata": {},
     "output_type": "display_data"
    },
    {
     "data": {
      "text/plain": [
       "<Figure size 640x480 with 0 Axes>"
      ]
     },
     "metadata": {},
     "output_type": "display_data"
    },
    {
     "data": {
      "text/plain": [
       "<Figure size 640x480 with 0 Axes>"
      ]
     },
     "metadata": {},
     "output_type": "display_data"
    },
    {
     "data": {
      "text/plain": [
       "<Figure size 640x480 with 0 Axes>"
      ]
     },
     "metadata": {},
     "output_type": "display_data"
    },
    {
     "data": {
      "text/plain": [
       "<Figure size 640x480 with 0 Axes>"
      ]
     },
     "metadata": {},
     "output_type": "display_data"
    },
    {
     "data": {
      "text/plain": [
       "<Figure size 640x480 with 0 Axes>"
      ]
     },
     "metadata": {},
     "output_type": "display_data"
    },
    {
     "data": {
      "text/plain": [
       "<Figure size 640x480 with 0 Axes>"
      ]
     },
     "metadata": {},
     "output_type": "display_data"
    },
    {
     "data": {
      "text/plain": [
       "<Figure size 640x480 with 0 Axes>"
      ]
     },
     "metadata": {},
     "output_type": "display_data"
    },
    {
     "data": {
      "text/plain": [
       "<Figure size 640x480 with 0 Axes>"
      ]
     },
     "metadata": {},
     "output_type": "display_data"
    },
    {
     "data": {
      "text/plain": [
       "<Figure size 640x480 with 0 Axes>"
      ]
     },
     "metadata": {},
     "output_type": "display_data"
    },
    {
     "data": {
      "text/plain": [
       "<Figure size 640x480 with 0 Axes>"
      ]
     },
     "metadata": {},
     "output_type": "display_data"
    },
    {
     "data": {
      "text/plain": [
       "<Figure size 640x480 with 0 Axes>"
      ]
     },
     "metadata": {},
     "output_type": "display_data"
    },
    {
     "data": {
      "text/plain": [
       "<Figure size 640x480 with 0 Axes>"
      ]
     },
     "metadata": {},
     "output_type": "display_data"
    },
    {
     "data": {
      "text/plain": [
       "<Figure size 640x480 with 0 Axes>"
      ]
     },
     "metadata": {},
     "output_type": "display_data"
    },
    {
     "data": {
      "text/plain": [
       "<Figure size 640x480 with 0 Axes>"
      ]
     },
     "metadata": {},
     "output_type": "display_data"
    },
    {
     "data": {
      "text/plain": [
       "<Figure size 640x480 with 0 Axes>"
      ]
     },
     "metadata": {},
     "output_type": "display_data"
    },
    {
     "data": {
      "text/plain": [
       "<Figure size 640x480 with 0 Axes>"
      ]
     },
     "metadata": {},
     "output_type": "display_data"
    },
    {
     "data": {
      "text/plain": [
       "<Figure size 640x480 with 0 Axes>"
      ]
     },
     "metadata": {},
     "output_type": "display_data"
    },
    {
     "data": {
      "text/plain": [
       "<Figure size 640x480 with 0 Axes>"
      ]
     },
     "metadata": {},
     "output_type": "display_data"
    },
    {
     "data": {
      "text/plain": [
       "<Figure size 640x480 with 0 Axes>"
      ]
     },
     "metadata": {},
     "output_type": "display_data"
    },
    {
     "data": {
      "text/plain": [
       "<Figure size 640x480 with 0 Axes>"
      ]
     },
     "metadata": {},
     "output_type": "display_data"
    },
    {
     "data": {
      "text/plain": [
       "<Figure size 640x480 with 0 Axes>"
      ]
     },
     "metadata": {},
     "output_type": "display_data"
    },
    {
     "data": {
      "text/plain": [
       "<Figure size 640x480 with 0 Axes>"
      ]
     },
     "metadata": {},
     "output_type": "display_data"
    },
    {
     "data": {
      "text/plain": [
       "<Figure size 640x480 with 0 Axes>"
      ]
     },
     "metadata": {},
     "output_type": "display_data"
    },
    {
     "data": {
      "text/plain": [
       "<Figure size 640x480 with 0 Axes>"
      ]
     },
     "metadata": {},
     "output_type": "display_data"
    },
    {
     "data": {
      "text/plain": [
       "<Figure size 640x480 with 0 Axes>"
      ]
     },
     "metadata": {},
     "output_type": "display_data"
    },
    {
     "data": {
      "text/plain": [
       "<Figure size 640x480 with 0 Axes>"
      ]
     },
     "metadata": {},
     "output_type": "display_data"
    },
    {
     "data": {
      "text/plain": [
       "<Figure size 640x480 with 0 Axes>"
      ]
     },
     "metadata": {},
     "output_type": "display_data"
    },
    {
     "data": {
      "text/plain": [
       "<Figure size 640x480 with 0 Axes>"
      ]
     },
     "metadata": {},
     "output_type": "display_data"
    },
    {
     "data": {
      "text/plain": [
       "<Figure size 640x480 with 0 Axes>"
      ]
     },
     "metadata": {},
     "output_type": "display_data"
    },
    {
     "data": {
      "text/plain": [
       "<Figure size 640x480 with 0 Axes>"
      ]
     },
     "metadata": {},
     "output_type": "display_data"
    },
    {
     "data": {
      "text/plain": [
       "<Figure size 640x480 with 0 Axes>"
      ]
     },
     "metadata": {},
     "output_type": "display_data"
    },
    {
     "data": {
      "text/plain": [
       "<Figure size 640x480 with 0 Axes>"
      ]
     },
     "metadata": {},
     "output_type": "display_data"
    },
    {
     "data": {
      "text/plain": [
       "<Figure size 640x480 with 0 Axes>"
      ]
     },
     "metadata": {},
     "output_type": "display_data"
    },
    {
     "data": {
      "text/plain": [
       "<Figure size 640x480 with 0 Axes>"
      ]
     },
     "metadata": {},
     "output_type": "display_data"
    },
    {
     "data": {
      "text/plain": [
       "<Figure size 640x480 with 0 Axes>"
      ]
     },
     "metadata": {},
     "output_type": "display_data"
    },
    {
     "data": {
      "text/plain": [
       "<Figure size 640x480 with 0 Axes>"
      ]
     },
     "metadata": {},
     "output_type": "display_data"
    },
    {
     "data": {
      "text/plain": [
       "<Figure size 640x480 with 0 Axes>"
      ]
     },
     "metadata": {},
     "output_type": "display_data"
    },
    {
     "data": {
      "text/plain": [
       "<Figure size 640x480 with 0 Axes>"
      ]
     },
     "metadata": {},
     "output_type": "display_data"
    },
    {
     "data": {
      "text/plain": [
       "<Figure size 640x480 with 0 Axes>"
      ]
     },
     "metadata": {},
     "output_type": "display_data"
    },
    {
     "data": {
      "text/plain": [
       "<Figure size 640x480 with 0 Axes>"
      ]
     },
     "metadata": {},
     "output_type": "display_data"
    },
    {
     "data": {
      "text/plain": [
       "<Figure size 640x480 with 0 Axes>"
      ]
     },
     "metadata": {},
     "output_type": "display_data"
    },
    {
     "data": {
      "text/plain": [
       "<Figure size 640x480 with 0 Axes>"
      ]
     },
     "metadata": {},
     "output_type": "display_data"
    },
    {
     "data": {
      "text/plain": [
       "<Figure size 640x480 with 0 Axes>"
      ]
     },
     "metadata": {},
     "output_type": "display_data"
    },
    {
     "data": {
      "text/plain": [
       "<Figure size 640x480 with 0 Axes>"
      ]
     },
     "metadata": {},
     "output_type": "display_data"
    },
    {
     "data": {
      "text/plain": [
       "<Figure size 640x480 with 0 Axes>"
      ]
     },
     "metadata": {},
     "output_type": "display_data"
    },
    {
     "data": {
      "text/plain": [
       "<Figure size 640x480 with 0 Axes>"
      ]
     },
     "metadata": {},
     "output_type": "display_data"
    },
    {
     "data": {
      "text/plain": [
       "<Figure size 640x480 with 0 Axes>"
      ]
     },
     "metadata": {},
     "output_type": "display_data"
    },
    {
     "data": {
      "text/plain": [
       "<Figure size 640x480 with 0 Axes>"
      ]
     },
     "metadata": {},
     "output_type": "display_data"
    },
    {
     "data": {
      "text/plain": [
       "<Figure size 640x480 with 0 Axes>"
      ]
     },
     "metadata": {},
     "output_type": "display_data"
    },
    {
     "data": {
      "text/plain": [
       "<Figure size 640x480 with 0 Axes>"
      ]
     },
     "metadata": {},
     "output_type": "display_data"
    },
    {
     "data": {
      "text/plain": [
       "<Figure size 640x480 with 0 Axes>"
      ]
     },
     "metadata": {},
     "output_type": "display_data"
    },
    {
     "data": {
      "text/plain": [
       "<Figure size 640x480 with 0 Axes>"
      ]
     },
     "metadata": {},
     "output_type": "display_data"
    },
    {
     "data": {
      "text/plain": [
       "<Figure size 640x480 with 0 Axes>"
      ]
     },
     "metadata": {},
     "output_type": "display_data"
    },
    {
     "data": {
      "text/plain": [
       "<Figure size 640x480 with 0 Axes>"
      ]
     },
     "metadata": {},
     "output_type": "display_data"
    },
    {
     "data": {
      "text/plain": [
       "<Figure size 640x480 with 0 Axes>"
      ]
     },
     "metadata": {},
     "output_type": "display_data"
    },
    {
     "data": {
      "text/plain": [
       "<Figure size 640x480 with 0 Axes>"
      ]
     },
     "metadata": {},
     "output_type": "display_data"
    },
    {
     "data": {
      "text/plain": [
       "<Figure size 640x480 with 0 Axes>"
      ]
     },
     "metadata": {},
     "output_type": "display_data"
    },
    {
     "data": {
      "text/plain": [
       "<Figure size 640x480 with 0 Axes>"
      ]
     },
     "metadata": {},
     "output_type": "display_data"
    },
    {
     "data": {
      "text/plain": [
       "<Figure size 640x480 with 0 Axes>"
      ]
     },
     "metadata": {},
     "output_type": "display_data"
    },
    {
     "data": {
      "text/plain": [
       "<Figure size 640x480 with 0 Axes>"
      ]
     },
     "metadata": {},
     "output_type": "display_data"
    },
    {
     "data": {
      "text/plain": [
       "<Figure size 640x480 with 0 Axes>"
      ]
     },
     "metadata": {},
     "output_type": "display_data"
    },
    {
     "data": {
      "text/plain": [
       "<Figure size 640x480 with 0 Axes>"
      ]
     },
     "metadata": {},
     "output_type": "display_data"
    },
    {
     "data": {
      "text/plain": [
       "<Figure size 640x480 with 0 Axes>"
      ]
     },
     "metadata": {},
     "output_type": "display_data"
    },
    {
     "data": {
      "text/plain": [
       "<Figure size 640x480 with 0 Axes>"
      ]
     },
     "metadata": {},
     "output_type": "display_data"
    },
    {
     "data": {
      "text/plain": [
       "<Figure size 640x480 with 0 Axes>"
      ]
     },
     "metadata": {},
     "output_type": "display_data"
    },
    {
     "data": {
      "text/plain": [
       "<Figure size 640x480 with 0 Axes>"
      ]
     },
     "metadata": {},
     "output_type": "display_data"
    },
    {
     "data": {
      "text/plain": [
       "<Figure size 640x480 with 0 Axes>"
      ]
     },
     "metadata": {},
     "output_type": "display_data"
    },
    {
     "data": {
      "text/plain": [
       "<Figure size 640x480 with 0 Axes>"
      ]
     },
     "metadata": {},
     "output_type": "display_data"
    },
    {
     "data": {
      "text/plain": [
       "<Figure size 640x480 with 0 Axes>"
      ]
     },
     "metadata": {},
     "output_type": "display_data"
    },
    {
     "data": {
      "text/plain": [
       "<Figure size 640x480 with 0 Axes>"
      ]
     },
     "metadata": {},
     "output_type": "display_data"
    },
    {
     "data": {
      "text/plain": [
       "<Figure size 640x480 with 0 Axes>"
      ]
     },
     "metadata": {},
     "output_type": "display_data"
    },
    {
     "data": {
      "text/plain": [
       "<Figure size 640x480 with 0 Axes>"
      ]
     },
     "metadata": {},
     "output_type": "display_data"
    },
    {
     "data": {
      "text/plain": [
       "<Figure size 640x480 with 0 Axes>"
      ]
     },
     "metadata": {},
     "output_type": "display_data"
    },
    {
     "data": {
      "text/plain": [
       "<Figure size 640x480 with 0 Axes>"
      ]
     },
     "metadata": {},
     "output_type": "display_data"
    },
    {
     "data": {
      "text/plain": [
       "<Figure size 640x480 with 0 Axes>"
      ]
     },
     "metadata": {},
     "output_type": "display_data"
    },
    {
     "data": {
      "text/plain": [
       "<Figure size 640x480 with 0 Axes>"
      ]
     },
     "metadata": {},
     "output_type": "display_data"
    },
    {
     "data": {
      "text/plain": [
       "<Figure size 640x480 with 0 Axes>"
      ]
     },
     "metadata": {},
     "output_type": "display_data"
    },
    {
     "data": {
      "text/plain": [
       "<Figure size 640x480 with 0 Axes>"
      ]
     },
     "metadata": {},
     "output_type": "display_data"
    },
    {
     "data": {
      "text/plain": [
       "<Figure size 640x480 with 0 Axes>"
      ]
     },
     "metadata": {},
     "output_type": "display_data"
    },
    {
     "data": {
      "text/plain": [
       "<Figure size 640x480 with 0 Axes>"
      ]
     },
     "metadata": {},
     "output_type": "display_data"
    },
    {
     "data": {
      "text/plain": [
       "<Figure size 640x480 with 0 Axes>"
      ]
     },
     "metadata": {},
     "output_type": "display_data"
    },
    {
     "data": {
      "text/plain": [
       "<Figure size 640x480 with 0 Axes>"
      ]
     },
     "metadata": {},
     "output_type": "display_data"
    },
    {
     "data": {
      "text/plain": [
       "<Figure size 640x480 with 0 Axes>"
      ]
     },
     "metadata": {},
     "output_type": "display_data"
    },
    {
     "data": {
      "text/plain": [
       "<Figure size 640x480 with 0 Axes>"
      ]
     },
     "metadata": {},
     "output_type": "display_data"
    },
    {
     "data": {
      "text/plain": [
       "<Figure size 640x480 with 0 Axes>"
      ]
     },
     "metadata": {},
     "output_type": "display_data"
    },
    {
     "data": {
      "text/plain": [
       "<Figure size 640x480 with 0 Axes>"
      ]
     },
     "metadata": {},
     "output_type": "display_data"
    },
    {
     "data": {
      "text/plain": [
       "<Figure size 640x480 with 0 Axes>"
      ]
     },
     "metadata": {},
     "output_type": "display_data"
    },
    {
     "data": {
      "text/plain": [
       "<Figure size 640x480 with 0 Axes>"
      ]
     },
     "metadata": {},
     "output_type": "display_data"
    },
    {
     "data": {
      "text/plain": [
       "<Figure size 640x480 with 0 Axes>"
      ]
     },
     "metadata": {},
     "output_type": "display_data"
    },
    {
     "data": {
      "text/plain": [
       "<Figure size 640x480 with 0 Axes>"
      ]
     },
     "metadata": {},
     "output_type": "display_data"
    },
    {
     "data": {
      "text/plain": [
       "<Figure size 640x480 with 0 Axes>"
      ]
     },
     "metadata": {},
     "output_type": "display_data"
    },
    {
     "data": {
      "text/plain": [
       "<Figure size 640x480 with 0 Axes>"
      ]
     },
     "metadata": {},
     "output_type": "display_data"
    },
    {
     "data": {
      "text/plain": [
       "<Figure size 640x480 with 0 Axes>"
      ]
     },
     "metadata": {},
     "output_type": "display_data"
    },
    {
     "data": {
      "text/plain": [
       "<Figure size 640x480 with 0 Axes>"
      ]
     },
     "metadata": {},
     "output_type": "display_data"
    },
    {
     "data": {
      "text/plain": [
       "<Figure size 640x480 with 0 Axes>"
      ]
     },
     "metadata": {},
     "output_type": "display_data"
    },
    {
     "data": {
      "text/plain": [
       "<Figure size 640x480 with 0 Axes>"
      ]
     },
     "metadata": {},
     "output_type": "display_data"
    },
    {
     "data": {
      "text/plain": [
       "<Figure size 640x480 with 0 Axes>"
      ]
     },
     "metadata": {},
     "output_type": "display_data"
    },
    {
     "data": {
      "text/plain": [
       "<Figure size 640x480 with 0 Axes>"
      ]
     },
     "metadata": {},
     "output_type": "display_data"
    },
    {
     "data": {
      "text/plain": [
       "<Figure size 640x480 with 0 Axes>"
      ]
     },
     "metadata": {},
     "output_type": "display_data"
    },
    {
     "data": {
      "text/plain": [
       "<Figure size 640x480 with 0 Axes>"
      ]
     },
     "metadata": {},
     "output_type": "display_data"
    },
    {
     "data": {
      "text/plain": [
       "<Figure size 640x480 with 0 Axes>"
      ]
     },
     "metadata": {},
     "output_type": "display_data"
    },
    {
     "data": {
      "text/plain": [
       "<Figure size 640x480 with 0 Axes>"
      ]
     },
     "metadata": {},
     "output_type": "display_data"
    },
    {
     "data": {
      "text/plain": [
       "<Figure size 640x480 with 0 Axes>"
      ]
     },
     "metadata": {},
     "output_type": "display_data"
    },
    {
     "data": {
      "text/plain": [
       "<Figure size 640x480 with 0 Axes>"
      ]
     },
     "metadata": {},
     "output_type": "display_data"
    },
    {
     "data": {
      "text/plain": [
       "<Figure size 640x480 with 0 Axes>"
      ]
     },
     "metadata": {},
     "output_type": "display_data"
    },
    {
     "data": {
      "text/plain": [
       "<Figure size 640x480 with 0 Axes>"
      ]
     },
     "metadata": {},
     "output_type": "display_data"
    },
    {
     "data": {
      "text/plain": [
       "<Figure size 640x480 with 0 Axes>"
      ]
     },
     "metadata": {},
     "output_type": "display_data"
    },
    {
     "data": {
      "text/plain": [
       "<Figure size 640x480 with 0 Axes>"
      ]
     },
     "metadata": {},
     "output_type": "display_data"
    },
    {
     "data": {
      "text/plain": [
       "<Figure size 640x480 with 0 Axes>"
      ]
     },
     "metadata": {},
     "output_type": "display_data"
    },
    {
     "data": {
      "text/plain": [
       "<Figure size 640x480 with 0 Axes>"
      ]
     },
     "metadata": {},
     "output_type": "display_data"
    },
    {
     "data": {
      "text/plain": [
       "<Figure size 640x480 with 0 Axes>"
      ]
     },
     "metadata": {},
     "output_type": "display_data"
    },
    {
     "data": {
      "text/plain": [
       "<Figure size 640x480 with 0 Axes>"
      ]
     },
     "metadata": {},
     "output_type": "display_data"
    },
    {
     "data": {
      "text/plain": [
       "<Figure size 640x480 with 0 Axes>"
      ]
     },
     "metadata": {},
     "output_type": "display_data"
    },
    {
     "data": {
      "text/plain": [
       "<Figure size 640x480 with 0 Axes>"
      ]
     },
     "metadata": {},
     "output_type": "display_data"
    },
    {
     "data": {
      "text/plain": [
       "<Figure size 640x480 with 0 Axes>"
      ]
     },
     "metadata": {},
     "output_type": "display_data"
    },
    {
     "data": {
      "text/plain": [
       "<Figure size 640x480 with 0 Axes>"
      ]
     },
     "metadata": {},
     "output_type": "display_data"
    },
    {
     "data": {
      "text/plain": [
       "<Figure size 640x480 with 0 Axes>"
      ]
     },
     "metadata": {},
     "output_type": "display_data"
    },
    {
     "data": {
      "text/plain": [
       "<Figure size 640x480 with 0 Axes>"
      ]
     },
     "metadata": {},
     "output_type": "display_data"
    },
    {
     "data": {
      "text/plain": [
       "<Figure size 640x480 with 0 Axes>"
      ]
     },
     "metadata": {},
     "output_type": "display_data"
    },
    {
     "data": {
      "text/plain": [
       "<Figure size 640x480 with 0 Axes>"
      ]
     },
     "metadata": {},
     "output_type": "display_data"
    },
    {
     "data": {
      "text/plain": [
       "<Figure size 640x480 with 0 Axes>"
      ]
     },
     "metadata": {},
     "output_type": "display_data"
    },
    {
     "data": {
      "text/plain": [
       "<Figure size 640x480 with 0 Axes>"
      ]
     },
     "metadata": {},
     "output_type": "display_data"
    },
    {
     "data": {
      "text/plain": [
       "<Figure size 640x480 with 0 Axes>"
      ]
     },
     "metadata": {},
     "output_type": "display_data"
    },
    {
     "data": {
      "text/plain": [
       "<Figure size 640x480 with 0 Axes>"
      ]
     },
     "metadata": {},
     "output_type": "display_data"
    },
    {
     "data": {
      "text/plain": [
       "<Figure size 640x480 with 0 Axes>"
      ]
     },
     "metadata": {},
     "output_type": "display_data"
    },
    {
     "data": {
      "text/plain": [
       "<Figure size 640x480 with 0 Axes>"
      ]
     },
     "metadata": {},
     "output_type": "display_data"
    },
    {
     "data": {
      "text/plain": [
       "<Figure size 640x480 with 0 Axes>"
      ]
     },
     "metadata": {},
     "output_type": "display_data"
    },
    {
     "data": {
      "text/plain": [
       "<Figure size 640x480 with 0 Axes>"
      ]
     },
     "metadata": {},
     "output_type": "display_data"
    },
    {
     "data": {
      "text/plain": [
       "<Figure size 640x480 with 0 Axes>"
      ]
     },
     "metadata": {},
     "output_type": "display_data"
    },
    {
     "data": {
      "text/plain": [
       "<Figure size 640x480 with 0 Axes>"
      ]
     },
     "metadata": {},
     "output_type": "display_data"
    },
    {
     "data": {
      "text/plain": [
       "<Figure size 640x480 with 0 Axes>"
      ]
     },
     "metadata": {},
     "output_type": "display_data"
    },
    {
     "data": {
      "text/plain": [
       "<Figure size 640x480 with 0 Axes>"
      ]
     },
     "metadata": {},
     "output_type": "display_data"
    },
    {
     "data": {
      "text/plain": [
       "<Figure size 640x480 with 0 Axes>"
      ]
     },
     "metadata": {},
     "output_type": "display_data"
    },
    {
     "data": {
      "text/plain": [
       "<Figure size 640x480 with 0 Axes>"
      ]
     },
     "metadata": {},
     "output_type": "display_data"
    },
    {
     "data": {
      "text/plain": [
       "<Figure size 640x480 with 0 Axes>"
      ]
     },
     "metadata": {},
     "output_type": "display_data"
    },
    {
     "data": {
      "text/plain": [
       "<Figure size 640x480 with 0 Axes>"
      ]
     },
     "metadata": {},
     "output_type": "display_data"
    },
    {
     "data": {
      "text/plain": [
       "<Figure size 640x480 with 0 Axes>"
      ]
     },
     "metadata": {},
     "output_type": "display_data"
    },
    {
     "data": {
      "text/plain": [
       "<Figure size 640x480 with 0 Axes>"
      ]
     },
     "metadata": {},
     "output_type": "display_data"
    },
    {
     "data": {
      "text/plain": [
       "<Figure size 640x480 with 0 Axes>"
      ]
     },
     "metadata": {},
     "output_type": "display_data"
    },
    {
     "data": {
      "text/plain": [
       "<Figure size 640x480 with 0 Axes>"
      ]
     },
     "metadata": {},
     "output_type": "display_data"
    },
    {
     "data": {
      "text/plain": [
       "<Figure size 640x480 with 0 Axes>"
      ]
     },
     "metadata": {},
     "output_type": "display_data"
    },
    {
     "data": {
      "text/plain": [
       "<Figure size 640x480 with 0 Axes>"
      ]
     },
     "metadata": {},
     "output_type": "display_data"
    },
    {
     "data": {
      "text/plain": [
       "<Figure size 640x480 with 0 Axes>"
      ]
     },
     "metadata": {},
     "output_type": "display_data"
    },
    {
     "data": {
      "text/plain": [
       "<Figure size 640x480 with 0 Axes>"
      ]
     },
     "metadata": {},
     "output_type": "display_data"
    },
    {
     "data": {
      "text/plain": [
       "<Figure size 640x480 with 0 Axes>"
      ]
     },
     "metadata": {},
     "output_type": "display_data"
    },
    {
     "data": {
      "text/plain": [
       "<Figure size 640x480 with 0 Axes>"
      ]
     },
     "metadata": {},
     "output_type": "display_data"
    },
    {
     "data": {
      "text/plain": [
       "<Figure size 640x480 with 0 Axes>"
      ]
     },
     "metadata": {},
     "output_type": "display_data"
    },
    {
     "data": {
      "text/plain": [
       "<Figure size 640x480 with 0 Axes>"
      ]
     },
     "metadata": {},
     "output_type": "display_data"
    },
    {
     "data": {
      "text/plain": [
       "<Figure size 640x480 with 0 Axes>"
      ]
     },
     "metadata": {},
     "output_type": "display_data"
    },
    {
     "data": {
      "text/plain": [
       "<Figure size 640x480 with 0 Axes>"
      ]
     },
     "metadata": {},
     "output_type": "display_data"
    },
    {
     "data": {
      "text/plain": [
       "<Figure size 640x480 with 0 Axes>"
      ]
     },
     "metadata": {},
     "output_type": "display_data"
    },
    {
     "data": {
      "text/plain": [
       "<Figure size 640x480 with 0 Axes>"
      ]
     },
     "metadata": {},
     "output_type": "display_data"
    },
    {
     "data": {
      "text/plain": [
       "<Figure size 640x480 with 0 Axes>"
      ]
     },
     "metadata": {},
     "output_type": "display_data"
    },
    {
     "data": {
      "text/plain": [
       "<Figure size 640x480 with 0 Axes>"
      ]
     },
     "metadata": {},
     "output_type": "display_data"
    },
    {
     "data": {
      "text/plain": [
       "<Figure size 640x480 with 0 Axes>"
      ]
     },
     "metadata": {},
     "output_type": "display_data"
    },
    {
     "data": {
      "text/plain": [
       "<Figure size 640x480 with 0 Axes>"
      ]
     },
     "metadata": {},
     "output_type": "display_data"
    },
    {
     "data": {
      "text/plain": [
       "<Figure size 640x480 with 0 Axes>"
      ]
     },
     "metadata": {},
     "output_type": "display_data"
    },
    {
     "data": {
      "text/plain": [
       "<Figure size 640x480 with 0 Axes>"
      ]
     },
     "metadata": {},
     "output_type": "display_data"
    },
    {
     "data": {
      "text/plain": [
       "<Figure size 640x480 with 0 Axes>"
      ]
     },
     "metadata": {},
     "output_type": "display_data"
    },
    {
     "data": {
      "text/plain": [
       "<Figure size 640x480 with 0 Axes>"
      ]
     },
     "metadata": {},
     "output_type": "display_data"
    },
    {
     "data": {
      "text/plain": [
       "<Figure size 640x480 with 0 Axes>"
      ]
     },
     "metadata": {},
     "output_type": "display_data"
    },
    {
     "data": {
      "text/plain": [
       "<Figure size 640x480 with 0 Axes>"
      ]
     },
     "metadata": {},
     "output_type": "display_data"
    },
    {
     "data": {
      "text/plain": [
       "<Figure size 640x480 with 0 Axes>"
      ]
     },
     "metadata": {},
     "output_type": "display_data"
    },
    {
     "data": {
      "text/plain": [
       "<Figure size 640x480 with 0 Axes>"
      ]
     },
     "metadata": {},
     "output_type": "display_data"
    },
    {
     "data": {
      "text/plain": [
       "<Figure size 640x480 with 0 Axes>"
      ]
     },
     "metadata": {},
     "output_type": "display_data"
    },
    {
     "data": {
      "text/plain": [
       "<Figure size 640x480 with 0 Axes>"
      ]
     },
     "metadata": {},
     "output_type": "display_data"
    },
    {
     "data": {
      "text/plain": [
       "<Figure size 640x480 with 0 Axes>"
      ]
     },
     "metadata": {},
     "output_type": "display_data"
    },
    {
     "data": {
      "text/plain": [
       "<Figure size 640x480 with 0 Axes>"
      ]
     },
     "metadata": {},
     "output_type": "display_data"
    },
    {
     "data": {
      "text/plain": [
       "<Figure size 640x480 with 0 Axes>"
      ]
     },
     "metadata": {},
     "output_type": "display_data"
    },
    {
     "data": {
      "text/plain": [
       "<Figure size 640x480 with 0 Axes>"
      ]
     },
     "metadata": {},
     "output_type": "display_data"
    },
    {
     "data": {
      "text/plain": [
       "<Figure size 640x480 with 0 Axes>"
      ]
     },
     "metadata": {},
     "output_type": "display_data"
    },
    {
     "data": {
      "text/plain": [
       "<Figure size 640x480 with 0 Axes>"
      ]
     },
     "metadata": {},
     "output_type": "display_data"
    },
    {
     "data": {
      "text/plain": [
       "<Figure size 640x480 with 0 Axes>"
      ]
     },
     "metadata": {},
     "output_type": "display_data"
    },
    {
     "data": {
      "text/plain": [
       "<Figure size 640x480 with 0 Axes>"
      ]
     },
     "metadata": {},
     "output_type": "display_data"
    },
    {
     "data": {
      "text/plain": [
       "<Figure size 640x480 with 0 Axes>"
      ]
     },
     "metadata": {},
     "output_type": "display_data"
    },
    {
     "data": {
      "text/plain": [
       "<Figure size 640x480 with 0 Axes>"
      ]
     },
     "metadata": {},
     "output_type": "display_data"
    },
    {
     "data": {
      "text/plain": [
       "<Figure size 640x480 with 0 Axes>"
      ]
     },
     "metadata": {},
     "output_type": "display_data"
    },
    {
     "data": {
      "text/plain": [
       "<Figure size 640x480 with 0 Axes>"
      ]
     },
     "metadata": {},
     "output_type": "display_data"
    },
    {
     "data": {
      "text/plain": [
       "<Figure size 640x480 with 0 Axes>"
      ]
     },
     "metadata": {},
     "output_type": "display_data"
    },
    {
     "data": {
      "text/plain": [
       "<Figure size 640x480 with 0 Axes>"
      ]
     },
     "metadata": {},
     "output_type": "display_data"
    },
    {
     "data": {
      "text/plain": [
       "<Figure size 640x480 with 0 Axes>"
      ]
     },
     "metadata": {},
     "output_type": "display_data"
    },
    {
     "data": {
      "text/plain": [
       "<Figure size 640x480 with 0 Axes>"
      ]
     },
     "metadata": {},
     "output_type": "display_data"
    },
    {
     "data": {
      "text/plain": [
       "<Figure size 640x480 with 0 Axes>"
      ]
     },
     "metadata": {},
     "output_type": "display_data"
    },
    {
     "data": {
      "text/plain": [
       "<Figure size 640x480 with 0 Axes>"
      ]
     },
     "metadata": {},
     "output_type": "display_data"
    },
    {
     "data": {
      "text/plain": [
       "<Figure size 640x480 with 0 Axes>"
      ]
     },
     "metadata": {},
     "output_type": "display_data"
    },
    {
     "data": {
      "text/plain": [
       "<Figure size 640x480 with 0 Axes>"
      ]
     },
     "metadata": {},
     "output_type": "display_data"
    },
    {
     "data": {
      "text/plain": [
       "<Figure size 640x480 with 0 Axes>"
      ]
     },
     "metadata": {},
     "output_type": "display_data"
    },
    {
     "data": {
      "text/plain": [
       "<Figure size 640x480 with 0 Axes>"
      ]
     },
     "metadata": {},
     "output_type": "display_data"
    },
    {
     "data": {
      "text/plain": [
       "<Figure size 640x480 with 0 Axes>"
      ]
     },
     "metadata": {},
     "output_type": "display_data"
    },
    {
     "data": {
      "text/plain": [
       "<Figure size 640x480 with 0 Axes>"
      ]
     },
     "metadata": {},
     "output_type": "display_data"
    },
    {
     "data": {
      "text/plain": [
       "<Figure size 640x480 with 0 Axes>"
      ]
     },
     "metadata": {},
     "output_type": "display_data"
    },
    {
     "data": {
      "text/plain": [
       "<Figure size 640x480 with 0 Axes>"
      ]
     },
     "metadata": {},
     "output_type": "display_data"
    },
    {
     "data": {
      "text/plain": [
       "<Figure size 640x480 with 0 Axes>"
      ]
     },
     "metadata": {},
     "output_type": "display_data"
    },
    {
     "data": {
      "text/plain": [
       "<Figure size 640x480 with 0 Axes>"
      ]
     },
     "metadata": {},
     "output_type": "display_data"
    },
    {
     "data": {
      "text/plain": [
       "<Figure size 640x480 with 0 Axes>"
      ]
     },
     "metadata": {},
     "output_type": "display_data"
    },
    {
     "data": {
      "text/plain": [
       "<Figure size 640x480 with 0 Axes>"
      ]
     },
     "metadata": {},
     "output_type": "display_data"
    },
    {
     "data": {
      "text/plain": [
       "<Figure size 640x480 with 0 Axes>"
      ]
     },
     "metadata": {},
     "output_type": "display_data"
    },
    {
     "data": {
      "text/plain": [
       "<Figure size 640x480 with 0 Axes>"
      ]
     },
     "metadata": {},
     "output_type": "display_data"
    },
    {
     "data": {
      "text/plain": [
       "<Figure size 640x480 with 0 Axes>"
      ]
     },
     "metadata": {},
     "output_type": "display_data"
    },
    {
     "data": {
      "text/plain": [
       "<Figure size 640x480 with 0 Axes>"
      ]
     },
     "metadata": {},
     "output_type": "display_data"
    },
    {
     "data": {
      "text/plain": [
       "<Figure size 640x480 with 0 Axes>"
      ]
     },
     "metadata": {},
     "output_type": "display_data"
    },
    {
     "data": {
      "text/plain": [
       "<Figure size 640x480 with 0 Axes>"
      ]
     },
     "metadata": {},
     "output_type": "display_data"
    },
    {
     "data": {
      "text/plain": [
       "<Figure size 640x480 with 0 Axes>"
      ]
     },
     "metadata": {},
     "output_type": "display_data"
    },
    {
     "data": {
      "text/plain": [
       "<Figure size 640x480 with 0 Axes>"
      ]
     },
     "metadata": {},
     "output_type": "display_data"
    },
    {
     "data": {
      "text/plain": [
       "<Figure size 640x480 with 0 Axes>"
      ]
     },
     "metadata": {},
     "output_type": "display_data"
    },
    {
     "data": {
      "text/plain": [
       "<Figure size 640x480 with 0 Axes>"
      ]
     },
     "metadata": {},
     "output_type": "display_data"
    },
    {
     "data": {
      "text/plain": [
       "<Figure size 640x480 with 0 Axes>"
      ]
     },
     "metadata": {},
     "output_type": "display_data"
    },
    {
     "data": {
      "text/plain": [
       "<Figure size 640x480 with 0 Axes>"
      ]
     },
     "metadata": {},
     "output_type": "display_data"
    },
    {
     "data": {
      "text/plain": [
       "<Figure size 640x480 with 0 Axes>"
      ]
     },
     "metadata": {},
     "output_type": "display_data"
    },
    {
     "data": {
      "text/plain": [
       "<Figure size 640x480 with 0 Axes>"
      ]
     },
     "metadata": {},
     "output_type": "display_data"
    },
    {
     "data": {
      "text/plain": [
       "<Figure size 640x480 with 0 Axes>"
      ]
     },
     "metadata": {},
     "output_type": "display_data"
    },
    {
     "data": {
      "text/plain": [
       "<Figure size 640x480 with 0 Axes>"
      ]
     },
     "metadata": {},
     "output_type": "display_data"
    },
    {
     "data": {
      "text/plain": [
       "<Figure size 640x480 with 0 Axes>"
      ]
     },
     "metadata": {},
     "output_type": "display_data"
    },
    {
     "data": {
      "text/plain": [
       "<Figure size 640x480 with 0 Axes>"
      ]
     },
     "metadata": {},
     "output_type": "display_data"
    },
    {
     "data": {
      "text/plain": [
       "<Figure size 640x480 with 0 Axes>"
      ]
     },
     "metadata": {},
     "output_type": "display_data"
    },
    {
     "data": {
      "text/plain": [
       "<Figure size 640x480 with 0 Axes>"
      ]
     },
     "metadata": {},
     "output_type": "display_data"
    },
    {
     "data": {
      "text/plain": [
       "<Figure size 640x480 with 0 Axes>"
      ]
     },
     "metadata": {},
     "output_type": "display_data"
    },
    {
     "data": {
      "text/plain": [
       "<Figure size 640x480 with 0 Axes>"
      ]
     },
     "metadata": {},
     "output_type": "display_data"
    },
    {
     "data": {
      "text/plain": [
       "<Figure size 640x480 with 0 Axes>"
      ]
     },
     "metadata": {},
     "output_type": "display_data"
    },
    {
     "data": {
      "text/plain": [
       "<Figure size 640x480 with 0 Axes>"
      ]
     },
     "metadata": {},
     "output_type": "display_data"
    },
    {
     "data": {
      "text/plain": [
       "<Figure size 640x480 with 0 Axes>"
      ]
     },
     "metadata": {},
     "output_type": "display_data"
    },
    {
     "data": {
      "text/plain": [
       "<Figure size 640x480 with 0 Axes>"
      ]
     },
     "metadata": {},
     "output_type": "display_data"
    },
    {
     "data": {
      "text/plain": [
       "<Figure size 640x480 with 0 Axes>"
      ]
     },
     "metadata": {},
     "output_type": "display_data"
    },
    {
     "data": {
      "text/plain": [
       "<Figure size 640x480 with 0 Axes>"
      ]
     },
     "metadata": {},
     "output_type": "display_data"
    },
    {
     "data": {
      "text/plain": [
       "<Figure size 640x480 with 0 Axes>"
      ]
     },
     "metadata": {},
     "output_type": "display_data"
    },
    {
     "data": {
      "text/plain": [
       "<Figure size 640x480 with 0 Axes>"
      ]
     },
     "metadata": {},
     "output_type": "display_data"
    },
    {
     "data": {
      "text/plain": [
       "<Figure size 640x480 with 0 Axes>"
      ]
     },
     "metadata": {},
     "output_type": "display_data"
    },
    {
     "data": {
      "text/plain": [
       "<Figure size 640x480 with 0 Axes>"
      ]
     },
     "metadata": {},
     "output_type": "display_data"
    },
    {
     "data": {
      "text/plain": [
       "<Figure size 640x480 with 0 Axes>"
      ]
     },
     "metadata": {},
     "output_type": "display_data"
    },
    {
     "data": {
      "text/plain": [
       "<Figure size 640x480 with 0 Axes>"
      ]
     },
     "metadata": {},
     "output_type": "display_data"
    },
    {
     "data": {
      "text/plain": [
       "<Figure size 640x480 with 0 Axes>"
      ]
     },
     "metadata": {},
     "output_type": "display_data"
    },
    {
     "data": {
      "text/plain": [
       "<Figure size 640x480 with 0 Axes>"
      ]
     },
     "metadata": {},
     "output_type": "display_data"
    },
    {
     "data": {
      "text/plain": [
       "<Figure size 640x480 with 0 Axes>"
      ]
     },
     "metadata": {},
     "output_type": "display_data"
    },
    {
     "data": {
      "text/plain": [
       "<Figure size 640x480 with 0 Axes>"
      ]
     },
     "metadata": {},
     "output_type": "display_data"
    },
    {
     "data": {
      "text/plain": [
       "<Figure size 640x480 with 0 Axes>"
      ]
     },
     "metadata": {},
     "output_type": "display_data"
    },
    {
     "data": {
      "text/plain": [
       "<Figure size 640x480 with 0 Axes>"
      ]
     },
     "metadata": {},
     "output_type": "display_data"
    },
    {
     "data": {
      "text/plain": [
       "<Figure size 640x480 with 0 Axes>"
      ]
     },
     "metadata": {},
     "output_type": "display_data"
    },
    {
     "data": {
      "text/plain": [
       "<Figure size 640x480 with 0 Axes>"
      ]
     },
     "metadata": {},
     "output_type": "display_data"
    },
    {
     "data": {
      "text/plain": [
       "<Figure size 640x480 with 0 Axes>"
      ]
     },
     "metadata": {},
     "output_type": "display_data"
    },
    {
     "data": {
      "text/plain": [
       "<Figure size 640x480 with 0 Axes>"
      ]
     },
     "metadata": {},
     "output_type": "display_data"
    },
    {
     "data": {
      "text/plain": [
       "<Figure size 640x480 with 0 Axes>"
      ]
     },
     "metadata": {},
     "output_type": "display_data"
    },
    {
     "data": {
      "text/plain": [
       "<Figure size 640x480 with 0 Axes>"
      ]
     },
     "metadata": {},
     "output_type": "display_data"
    },
    {
     "data": {
      "text/plain": [
       "<Figure size 640x480 with 0 Axes>"
      ]
     },
     "metadata": {},
     "output_type": "display_data"
    },
    {
     "data": {
      "text/plain": [
       "<Figure size 640x480 with 0 Axes>"
      ]
     },
     "metadata": {},
     "output_type": "display_data"
    },
    {
     "data": {
      "text/plain": [
       "<Figure size 640x480 with 0 Axes>"
      ]
     },
     "metadata": {},
     "output_type": "display_data"
    },
    {
     "data": {
      "text/plain": [
       "<Figure size 640x480 with 0 Axes>"
      ]
     },
     "metadata": {},
     "output_type": "display_data"
    },
    {
     "data": {
      "text/plain": [
       "<Figure size 640x480 with 0 Axes>"
      ]
     },
     "metadata": {},
     "output_type": "display_data"
    },
    {
     "data": {
      "text/plain": [
       "<Figure size 640x480 with 0 Axes>"
      ]
     },
     "metadata": {},
     "output_type": "display_data"
    },
    {
     "data": {
      "text/plain": [
       "<Figure size 640x480 with 0 Axes>"
      ]
     },
     "metadata": {},
     "output_type": "display_data"
    },
    {
     "data": {
      "text/plain": [
       "<Figure size 640x480 with 0 Axes>"
      ]
     },
     "metadata": {},
     "output_type": "display_data"
    },
    {
     "data": {
      "text/plain": [
       "<Figure size 640x480 with 0 Axes>"
      ]
     },
     "metadata": {},
     "output_type": "display_data"
    },
    {
     "data": {
      "text/plain": [
       "<Figure size 640x480 with 0 Axes>"
      ]
     },
     "metadata": {},
     "output_type": "display_data"
    },
    {
     "data": {
      "text/plain": [
       "<Figure size 640x480 with 0 Axes>"
      ]
     },
     "metadata": {},
     "output_type": "display_data"
    },
    {
     "data": {
      "text/plain": [
       "<Figure size 640x480 with 0 Axes>"
      ]
     },
     "metadata": {},
     "output_type": "display_data"
    },
    {
     "data": {
      "text/plain": [
       "<Figure size 640x480 with 0 Axes>"
      ]
     },
     "metadata": {},
     "output_type": "display_data"
    },
    {
     "data": {
      "text/plain": [
       "<Figure size 640x480 with 0 Axes>"
      ]
     },
     "metadata": {},
     "output_type": "display_data"
    },
    {
     "data": {
      "text/plain": [
       "<Figure size 640x480 with 0 Axes>"
      ]
     },
     "metadata": {},
     "output_type": "display_data"
    },
    {
     "data": {
      "text/plain": [
       "<Figure size 640x480 with 0 Axes>"
      ]
     },
     "metadata": {},
     "output_type": "display_data"
    },
    {
     "data": {
      "text/plain": [
       "<Figure size 640x480 with 0 Axes>"
      ]
     },
     "metadata": {},
     "output_type": "display_data"
    },
    {
     "data": {
      "text/plain": [
       "<Figure size 640x480 with 0 Axes>"
      ]
     },
     "metadata": {},
     "output_type": "display_data"
    },
    {
     "data": {
      "text/plain": [
       "<Figure size 640x480 with 0 Axes>"
      ]
     },
     "metadata": {},
     "output_type": "display_data"
    },
    {
     "data": {
      "text/plain": [
       "<Figure size 640x480 with 0 Axes>"
      ]
     },
     "metadata": {},
     "output_type": "display_data"
    },
    {
     "data": {
      "text/plain": [
       "<Figure size 640x480 with 0 Axes>"
      ]
     },
     "metadata": {},
     "output_type": "display_data"
    },
    {
     "data": {
      "text/plain": [
       "<Figure size 640x480 with 0 Axes>"
      ]
     },
     "metadata": {},
     "output_type": "display_data"
    },
    {
     "data": {
      "text/plain": [
       "<Figure size 640x480 with 0 Axes>"
      ]
     },
     "metadata": {},
     "output_type": "display_data"
    },
    {
     "data": {
      "text/plain": [
       "<Figure size 640x480 with 0 Axes>"
      ]
     },
     "metadata": {},
     "output_type": "display_data"
    },
    {
     "data": {
      "text/plain": [
       "<Figure size 640x480 with 0 Axes>"
      ]
     },
     "metadata": {},
     "output_type": "display_data"
    },
    {
     "data": {
      "text/plain": [
       "<Figure size 640x480 with 0 Axes>"
      ]
     },
     "metadata": {},
     "output_type": "display_data"
    },
    {
     "data": {
      "text/plain": [
       "<Figure size 640x480 with 0 Axes>"
      ]
     },
     "metadata": {},
     "output_type": "display_data"
    },
    {
     "data": {
      "text/plain": [
       "<Figure size 640x480 with 0 Axes>"
      ]
     },
     "metadata": {},
     "output_type": "display_data"
    },
    {
     "data": {
      "text/plain": [
       "<Figure size 640x480 with 0 Axes>"
      ]
     },
     "metadata": {},
     "output_type": "display_data"
    },
    {
     "data": {
      "text/plain": [
       "<Figure size 640x480 with 0 Axes>"
      ]
     },
     "metadata": {},
     "output_type": "display_data"
    },
    {
     "data": {
      "text/plain": [
       "<Figure size 640x480 with 0 Axes>"
      ]
     },
     "metadata": {},
     "output_type": "display_data"
    },
    {
     "data": {
      "text/plain": [
       "<Figure size 640x480 with 0 Axes>"
      ]
     },
     "metadata": {},
     "output_type": "display_data"
    },
    {
     "data": {
      "text/plain": [
       "<Figure size 640x480 with 0 Axes>"
      ]
     },
     "metadata": {},
     "output_type": "display_data"
    },
    {
     "data": {
      "text/plain": [
       "<Figure size 640x480 with 0 Axes>"
      ]
     },
     "metadata": {},
     "output_type": "display_data"
    },
    {
     "data": {
      "text/plain": [
       "<Figure size 640x480 with 0 Axes>"
      ]
     },
     "metadata": {},
     "output_type": "display_data"
    },
    {
     "data": {
      "text/plain": [
       "<Figure size 640x480 with 0 Axes>"
      ]
     },
     "metadata": {},
     "output_type": "display_data"
    },
    {
     "data": {
      "text/plain": [
       "<Figure size 640x480 with 0 Axes>"
      ]
     },
     "metadata": {},
     "output_type": "display_data"
    },
    {
     "data": {
      "text/plain": [
       "<Figure size 640x480 with 0 Axes>"
      ]
     },
     "metadata": {},
     "output_type": "display_data"
    },
    {
     "data": {
      "text/plain": [
       "<Figure size 640x480 with 0 Axes>"
      ]
     },
     "metadata": {},
     "output_type": "display_data"
    },
    {
     "data": {
      "text/plain": [
       "<Figure size 640x480 with 0 Axes>"
      ]
     },
     "metadata": {},
     "output_type": "display_data"
    },
    {
     "data": {
      "text/plain": [
       "<Figure size 640x480 with 0 Axes>"
      ]
     },
     "metadata": {},
     "output_type": "display_data"
    },
    {
     "data": {
      "text/plain": [
       "<Figure size 640x480 with 0 Axes>"
      ]
     },
     "metadata": {},
     "output_type": "display_data"
    },
    {
     "data": {
      "text/plain": [
       "<Figure size 640x480 with 0 Axes>"
      ]
     },
     "metadata": {},
     "output_type": "display_data"
    },
    {
     "data": {
      "text/plain": [
       "<Figure size 640x480 with 0 Axes>"
      ]
     },
     "metadata": {},
     "output_type": "display_data"
    },
    {
     "data": {
      "text/plain": [
       "<Figure size 640x480 with 0 Axes>"
      ]
     },
     "metadata": {},
     "output_type": "display_data"
    },
    {
     "data": {
      "text/plain": [
       "<Figure size 640x480 with 0 Axes>"
      ]
     },
     "metadata": {},
     "output_type": "display_data"
    },
    {
     "data": {
      "text/plain": [
       "<Figure size 640x480 with 0 Axes>"
      ]
     },
     "metadata": {},
     "output_type": "display_data"
    },
    {
     "data": {
      "text/plain": [
       "<Figure size 640x480 with 0 Axes>"
      ]
     },
     "metadata": {},
     "output_type": "display_data"
    },
    {
     "data": {
      "text/plain": [
       "<Figure size 640x480 with 0 Axes>"
      ]
     },
     "metadata": {},
     "output_type": "display_data"
    },
    {
     "data": {
      "text/plain": [
       "<Figure size 640x480 with 0 Axes>"
      ]
     },
     "metadata": {},
     "output_type": "display_data"
    },
    {
     "data": {
      "text/plain": [
       "<Figure size 640x480 with 0 Axes>"
      ]
     },
     "metadata": {},
     "output_type": "display_data"
    },
    {
     "data": {
      "text/plain": [
       "<Figure size 640x480 with 0 Axes>"
      ]
     },
     "metadata": {},
     "output_type": "display_data"
    },
    {
     "data": {
      "text/plain": [
       "<Figure size 640x480 with 0 Axes>"
      ]
     },
     "metadata": {},
     "output_type": "display_data"
    },
    {
     "data": {
      "text/plain": [
       "<Figure size 640x480 with 0 Axes>"
      ]
     },
     "metadata": {},
     "output_type": "display_data"
    },
    {
     "data": {
      "text/plain": [
       "<Figure size 640x480 with 0 Axes>"
      ]
     },
     "metadata": {},
     "output_type": "display_data"
    },
    {
     "data": {
      "text/plain": [
       "<Figure size 640x480 with 0 Axes>"
      ]
     },
     "metadata": {},
     "output_type": "display_data"
    },
    {
     "data": {
      "text/plain": [
       "<Figure size 640x480 with 0 Axes>"
      ]
     },
     "metadata": {},
     "output_type": "display_data"
    },
    {
     "data": {
      "text/plain": [
       "<Figure size 640x480 with 0 Axes>"
      ]
     },
     "metadata": {},
     "output_type": "display_data"
    },
    {
     "data": {
      "text/plain": [
       "<Figure size 640x480 with 0 Axes>"
      ]
     },
     "metadata": {},
     "output_type": "display_data"
    },
    {
     "data": {
      "text/plain": [
       "<Figure size 640x480 with 0 Axes>"
      ]
     },
     "metadata": {},
     "output_type": "display_data"
    },
    {
     "data": {
      "text/plain": [
       "<Figure size 640x480 with 0 Axes>"
      ]
     },
     "metadata": {},
     "output_type": "display_data"
    },
    {
     "data": {
      "text/plain": [
       "<Figure size 640x480 with 0 Axes>"
      ]
     },
     "metadata": {},
     "output_type": "display_data"
    },
    {
     "data": {
      "text/plain": [
       "<Figure size 640x480 with 0 Axes>"
      ]
     },
     "metadata": {},
     "output_type": "display_data"
    },
    {
     "data": {
      "text/plain": [
       "<Figure size 640x480 with 0 Axes>"
      ]
     },
     "metadata": {},
     "output_type": "display_data"
    },
    {
     "data": {
      "text/plain": [
       "<Figure size 640x480 with 0 Axes>"
      ]
     },
     "metadata": {},
     "output_type": "display_data"
    },
    {
     "data": {
      "text/plain": [
       "<Figure size 640x480 with 0 Axes>"
      ]
     },
     "metadata": {},
     "output_type": "display_data"
    },
    {
     "data": {
      "text/plain": [
       "<Figure size 640x480 with 0 Axes>"
      ]
     },
     "metadata": {},
     "output_type": "display_data"
    },
    {
     "data": {
      "text/plain": [
       "<Figure size 640x480 with 0 Axes>"
      ]
     },
     "metadata": {},
     "output_type": "display_data"
    },
    {
     "data": {
      "text/plain": [
       "<Figure size 640x480 with 0 Axes>"
      ]
     },
     "metadata": {},
     "output_type": "display_data"
    },
    {
     "data": {
      "text/plain": [
       "<Figure size 640x480 with 0 Axes>"
      ]
     },
     "metadata": {},
     "output_type": "display_data"
    },
    {
     "data": {
      "text/plain": [
       "<Figure size 640x480 with 0 Axes>"
      ]
     },
     "metadata": {},
     "output_type": "display_data"
    },
    {
     "data": {
      "text/plain": [
       "<Figure size 640x480 with 0 Axes>"
      ]
     },
     "metadata": {},
     "output_type": "display_data"
    },
    {
     "data": {
      "text/plain": [
       "<Figure size 640x480 with 0 Axes>"
      ]
     },
     "metadata": {},
     "output_type": "display_data"
    },
    {
     "data": {
      "text/plain": [
       "<Figure size 640x480 with 0 Axes>"
      ]
     },
     "metadata": {},
     "output_type": "display_data"
    },
    {
     "data": {
      "text/plain": [
       "<Figure size 640x480 with 0 Axes>"
      ]
     },
     "metadata": {},
     "output_type": "display_data"
    },
    {
     "data": {
      "text/plain": [
       "<Figure size 640x480 with 0 Axes>"
      ]
     },
     "metadata": {},
     "output_type": "display_data"
    },
    {
     "data": {
      "text/plain": [
       "<Figure size 640x480 with 0 Axes>"
      ]
     },
     "metadata": {},
     "output_type": "display_data"
    },
    {
     "data": {
      "text/plain": [
       "<Figure size 640x480 with 0 Axes>"
      ]
     },
     "metadata": {},
     "output_type": "display_data"
    },
    {
     "data": {
      "text/plain": [
       "<Figure size 640x480 with 0 Axes>"
      ]
     },
     "metadata": {},
     "output_type": "display_data"
    },
    {
     "data": {
      "text/plain": [
       "<Figure size 640x480 with 0 Axes>"
      ]
     },
     "metadata": {},
     "output_type": "display_data"
    },
    {
     "data": {
      "text/plain": [
       "<Figure size 640x480 with 0 Axes>"
      ]
     },
     "metadata": {},
     "output_type": "display_data"
    },
    {
     "data": {
      "text/plain": [
       "<Figure size 640x480 with 0 Axes>"
      ]
     },
     "metadata": {},
     "output_type": "display_data"
    },
    {
     "data": {
      "text/plain": [
       "<Figure size 640x480 with 0 Axes>"
      ]
     },
     "metadata": {},
     "output_type": "display_data"
    },
    {
     "data": {
      "text/plain": [
       "<Figure size 640x480 with 0 Axes>"
      ]
     },
     "metadata": {},
     "output_type": "display_data"
    },
    {
     "data": {
      "text/plain": [
       "<Figure size 640x480 with 0 Axes>"
      ]
     },
     "metadata": {},
     "output_type": "display_data"
    },
    {
     "data": {
      "text/plain": [
       "<Figure size 640x480 with 0 Axes>"
      ]
     },
     "metadata": {},
     "output_type": "display_data"
    },
    {
     "data": {
      "text/plain": [
       "<Figure size 640x480 with 0 Axes>"
      ]
     },
     "metadata": {},
     "output_type": "display_data"
    },
    {
     "data": {
      "text/plain": [
       "<Figure size 640x480 with 0 Axes>"
      ]
     },
     "metadata": {},
     "output_type": "display_data"
    },
    {
     "data": {
      "text/plain": [
       "<Figure size 640x480 with 0 Axes>"
      ]
     },
     "metadata": {},
     "output_type": "display_data"
    },
    {
     "data": {
      "text/plain": [
       "<Figure size 640x480 with 0 Axes>"
      ]
     },
     "metadata": {},
     "output_type": "display_data"
    },
    {
     "data": {
      "text/plain": [
       "<Figure size 640x480 with 0 Axes>"
      ]
     },
     "metadata": {},
     "output_type": "display_data"
    },
    {
     "data": {
      "text/plain": [
       "<Figure size 640x480 with 0 Axes>"
      ]
     },
     "metadata": {},
     "output_type": "display_data"
    },
    {
     "data": {
      "text/plain": [
       "<Figure size 640x480 with 0 Axes>"
      ]
     },
     "metadata": {},
     "output_type": "display_data"
    },
    {
     "data": {
      "text/plain": [
       "<Figure size 640x480 with 0 Axes>"
      ]
     },
     "metadata": {},
     "output_type": "display_data"
    },
    {
     "data": {
      "text/plain": [
       "<Figure size 640x480 with 0 Axes>"
      ]
     },
     "metadata": {},
     "output_type": "display_data"
    },
    {
     "data": {
      "text/plain": [
       "<Figure size 640x480 with 0 Axes>"
      ]
     },
     "metadata": {},
     "output_type": "display_data"
    },
    {
     "data": {
      "text/plain": [
       "<Figure size 640x480 with 0 Axes>"
      ]
     },
     "metadata": {},
     "output_type": "display_data"
    },
    {
     "data": {
      "text/plain": [
       "<Figure size 640x480 with 0 Axes>"
      ]
     },
     "metadata": {},
     "output_type": "display_data"
    },
    {
     "data": {
      "text/plain": [
       "<Figure size 640x480 with 0 Axes>"
      ]
     },
     "metadata": {},
     "output_type": "display_data"
    },
    {
     "data": {
      "text/plain": [
       "<Figure size 640x480 with 0 Axes>"
      ]
     },
     "metadata": {},
     "output_type": "display_data"
    },
    {
     "data": {
      "text/plain": [
       "<Figure size 640x480 with 0 Axes>"
      ]
     },
     "metadata": {},
     "output_type": "display_data"
    },
    {
     "data": {
      "text/plain": [
       "<Figure size 640x480 with 0 Axes>"
      ]
     },
     "metadata": {},
     "output_type": "display_data"
    },
    {
     "data": {
      "text/plain": [
       "<Figure size 640x480 with 0 Axes>"
      ]
     },
     "metadata": {},
     "output_type": "display_data"
    },
    {
     "data": {
      "text/plain": [
       "<Figure size 640x480 with 0 Axes>"
      ]
     },
     "metadata": {},
     "output_type": "display_data"
    },
    {
     "data": {
      "text/plain": [
       "<Figure size 640x480 with 0 Axes>"
      ]
     },
     "metadata": {},
     "output_type": "display_data"
    },
    {
     "data": {
      "text/plain": [
       "<Figure size 640x480 with 0 Axes>"
      ]
     },
     "metadata": {},
     "output_type": "display_data"
    },
    {
     "data": {
      "text/plain": [
       "<Figure size 640x480 with 0 Axes>"
      ]
     },
     "metadata": {},
     "output_type": "display_data"
    },
    {
     "data": {
      "text/plain": [
       "<Figure size 640x480 with 0 Axes>"
      ]
     },
     "metadata": {},
     "output_type": "display_data"
    },
    {
     "data": {
      "text/plain": [
       "<Figure size 640x480 with 0 Axes>"
      ]
     },
     "metadata": {},
     "output_type": "display_data"
    },
    {
     "data": {
      "text/plain": [
       "<Figure size 640x480 with 0 Axes>"
      ]
     },
     "metadata": {},
     "output_type": "display_data"
    },
    {
     "data": {
      "text/plain": [
       "<Figure size 640x480 with 0 Axes>"
      ]
     },
     "metadata": {},
     "output_type": "display_data"
    },
    {
     "data": {
      "text/plain": [
       "<Figure size 640x480 with 0 Axes>"
      ]
     },
     "metadata": {},
     "output_type": "display_data"
    },
    {
     "data": {
      "text/plain": [
       "<Figure size 640x480 with 0 Axes>"
      ]
     },
     "metadata": {},
     "output_type": "display_data"
    },
    {
     "data": {
      "text/plain": [
       "<Figure size 640x480 with 0 Axes>"
      ]
     },
     "metadata": {},
     "output_type": "display_data"
    },
    {
     "data": {
      "text/plain": [
       "<Figure size 640x480 with 0 Axes>"
      ]
     },
     "metadata": {},
     "output_type": "display_data"
    },
    {
     "data": {
      "text/plain": [
       "<Figure size 640x480 with 0 Axes>"
      ]
     },
     "metadata": {},
     "output_type": "display_data"
    },
    {
     "data": {
      "text/plain": [
       "<Figure size 640x480 with 0 Axes>"
      ]
     },
     "metadata": {},
     "output_type": "display_data"
    },
    {
     "data": {
      "text/plain": [
       "<Figure size 640x480 with 0 Axes>"
      ]
     },
     "metadata": {},
     "output_type": "display_data"
    },
    {
     "data": {
      "text/plain": [
       "<Figure size 640x480 with 0 Axes>"
      ]
     },
     "metadata": {},
     "output_type": "display_data"
    },
    {
     "data": {
      "text/plain": [
       "<Figure size 640x480 with 0 Axes>"
      ]
     },
     "metadata": {},
     "output_type": "display_data"
    },
    {
     "data": {
      "text/plain": [
       "<Figure size 640x480 with 0 Axes>"
      ]
     },
     "metadata": {},
     "output_type": "display_data"
    },
    {
     "data": {
      "text/plain": [
       "<Figure size 640x480 with 0 Axes>"
      ]
     },
     "metadata": {},
     "output_type": "display_data"
    },
    {
     "data": {
      "text/plain": [
       "<Figure size 640x480 with 0 Axes>"
      ]
     },
     "metadata": {},
     "output_type": "display_data"
    },
    {
     "data": {
      "text/plain": [
       "<Figure size 640x480 with 0 Axes>"
      ]
     },
     "metadata": {},
     "output_type": "display_data"
    },
    {
     "data": {
      "text/plain": [
       "<Figure size 640x480 with 0 Axes>"
      ]
     },
     "metadata": {},
     "output_type": "display_data"
    },
    {
     "data": {
      "text/plain": [
       "<Figure size 640x480 with 0 Axes>"
      ]
     },
     "metadata": {},
     "output_type": "display_data"
    },
    {
     "data": {
      "text/plain": [
       "<Figure size 640x480 with 0 Axes>"
      ]
     },
     "metadata": {},
     "output_type": "display_data"
    },
    {
     "data": {
      "text/plain": [
       "<Figure size 640x480 with 0 Axes>"
      ]
     },
     "metadata": {},
     "output_type": "display_data"
    },
    {
     "data": {
      "text/plain": [
       "<Figure size 640x480 with 0 Axes>"
      ]
     },
     "metadata": {},
     "output_type": "display_data"
    },
    {
     "data": {
      "text/plain": [
       "<Figure size 640x480 with 0 Axes>"
      ]
     },
     "metadata": {},
     "output_type": "display_data"
    },
    {
     "data": {
      "text/plain": [
       "<Figure size 640x480 with 0 Axes>"
      ]
     },
     "metadata": {},
     "output_type": "display_data"
    },
    {
     "data": {
      "text/plain": [
       "<Figure size 640x480 with 0 Axes>"
      ]
     },
     "metadata": {},
     "output_type": "display_data"
    },
    {
     "data": {
      "text/plain": [
       "<Figure size 640x480 with 0 Axes>"
      ]
     },
     "metadata": {},
     "output_type": "display_data"
    },
    {
     "data": {
      "text/plain": [
       "<Figure size 640x480 with 0 Axes>"
      ]
     },
     "metadata": {},
     "output_type": "display_data"
    },
    {
     "data": {
      "text/plain": [
       "<Figure size 640x480 with 0 Axes>"
      ]
     },
     "metadata": {},
     "output_type": "display_data"
    },
    {
     "data": {
      "text/plain": [
       "<Figure size 640x480 with 0 Axes>"
      ]
     },
     "metadata": {},
     "output_type": "display_data"
    },
    {
     "data": {
      "text/plain": [
       "<Figure size 640x480 with 0 Axes>"
      ]
     },
     "metadata": {},
     "output_type": "display_data"
    },
    {
     "data": {
      "text/plain": [
       "<Figure size 640x480 with 0 Axes>"
      ]
     },
     "metadata": {},
     "output_type": "display_data"
    },
    {
     "data": {
      "text/plain": [
       "<Figure size 640x480 with 0 Axes>"
      ]
     },
     "metadata": {},
     "output_type": "display_data"
    },
    {
     "data": {
      "text/plain": [
       "<Figure size 640x480 with 0 Axes>"
      ]
     },
     "metadata": {},
     "output_type": "display_data"
    },
    {
     "data": {
      "text/plain": [
       "<Figure size 640x480 with 0 Axes>"
      ]
     },
     "metadata": {},
     "output_type": "display_data"
    },
    {
     "data": {
      "text/plain": [
       "<Figure size 640x480 with 0 Axes>"
      ]
     },
     "metadata": {},
     "output_type": "display_data"
    },
    {
     "data": {
      "text/plain": [
       "<Figure size 640x480 with 0 Axes>"
      ]
     },
     "metadata": {},
     "output_type": "display_data"
    },
    {
     "data": {
      "text/plain": [
       "<Figure size 640x480 with 0 Axes>"
      ]
     },
     "metadata": {},
     "output_type": "display_data"
    },
    {
     "data": {
      "text/plain": [
       "<Figure size 640x480 with 0 Axes>"
      ]
     },
     "metadata": {},
     "output_type": "display_data"
    },
    {
     "data": {
      "text/plain": [
       "<Figure size 640x480 with 0 Axes>"
      ]
     },
     "metadata": {},
     "output_type": "display_data"
    },
    {
     "data": {
      "text/plain": [
       "<Figure size 640x480 with 0 Axes>"
      ]
     },
     "metadata": {},
     "output_type": "display_data"
    },
    {
     "data": {
      "text/plain": [
       "<Figure size 640x480 with 0 Axes>"
      ]
     },
     "metadata": {},
     "output_type": "display_data"
    },
    {
     "data": {
      "text/plain": [
       "<Figure size 640x480 with 0 Axes>"
      ]
     },
     "metadata": {},
     "output_type": "display_data"
    },
    {
     "data": {
      "text/plain": [
       "<Figure size 640x480 with 0 Axes>"
      ]
     },
     "metadata": {},
     "output_type": "display_data"
    },
    {
     "data": {
      "text/plain": [
       "<Figure size 640x480 with 0 Axes>"
      ]
     },
     "metadata": {},
     "output_type": "display_data"
    },
    {
     "data": {
      "text/plain": [
       "<Figure size 640x480 with 0 Axes>"
      ]
     },
     "metadata": {},
     "output_type": "display_data"
    },
    {
     "data": {
      "text/plain": [
       "<Figure size 640x480 with 0 Axes>"
      ]
     },
     "metadata": {},
     "output_type": "display_data"
    },
    {
     "data": {
      "text/plain": [
       "<Figure size 640x480 with 0 Axes>"
      ]
     },
     "metadata": {},
     "output_type": "display_data"
    },
    {
     "data": {
      "text/plain": [
       "<Figure size 640x480 with 0 Axes>"
      ]
     },
     "metadata": {},
     "output_type": "display_data"
    },
    {
     "data": {
      "text/plain": [
       "<Figure size 640x480 with 0 Axes>"
      ]
     },
     "metadata": {},
     "output_type": "display_data"
    },
    {
     "data": {
      "text/plain": [
       "<Figure size 640x480 with 0 Axes>"
      ]
     },
     "metadata": {},
     "output_type": "display_data"
    },
    {
     "data": {
      "text/plain": [
       "<Figure size 640x480 with 0 Axes>"
      ]
     },
     "metadata": {},
     "output_type": "display_data"
    },
    {
     "data": {
      "text/plain": [
       "<Figure size 640x480 with 0 Axes>"
      ]
     },
     "metadata": {},
     "output_type": "display_data"
    },
    {
     "data": {
      "text/plain": [
       "<Figure size 640x480 with 0 Axes>"
      ]
     },
     "metadata": {},
     "output_type": "display_data"
    },
    {
     "data": {
      "text/plain": [
       "<Figure size 640x480 with 0 Axes>"
      ]
     },
     "metadata": {},
     "output_type": "display_data"
    },
    {
     "data": {
      "text/plain": [
       "<Figure size 640x480 with 0 Axes>"
      ]
     },
     "metadata": {},
     "output_type": "display_data"
    },
    {
     "data": {
      "text/plain": [
       "<Figure size 640x480 with 0 Axes>"
      ]
     },
     "metadata": {},
     "output_type": "display_data"
    },
    {
     "data": {
      "text/plain": [
       "<Figure size 640x480 with 0 Axes>"
      ]
     },
     "metadata": {},
     "output_type": "display_data"
    },
    {
     "data": {
      "text/plain": [
       "<Figure size 640x480 with 0 Axes>"
      ]
     },
     "metadata": {},
     "output_type": "display_data"
    },
    {
     "data": {
      "text/plain": [
       "<Figure size 640x480 with 0 Axes>"
      ]
     },
     "metadata": {},
     "output_type": "display_data"
    },
    {
     "data": {
      "text/plain": [
       "<Figure size 640x480 with 0 Axes>"
      ]
     },
     "metadata": {},
     "output_type": "display_data"
    },
    {
     "data": {
      "text/plain": [
       "<Figure size 640x480 with 0 Axes>"
      ]
     },
     "metadata": {},
     "output_type": "display_data"
    },
    {
     "data": {
      "text/plain": [
       "<Figure size 640x480 with 0 Axes>"
      ]
     },
     "metadata": {},
     "output_type": "display_data"
    },
    {
     "data": {
      "text/plain": [
       "<Figure size 640x480 with 0 Axes>"
      ]
     },
     "metadata": {},
     "output_type": "display_data"
    },
    {
     "data": {
      "text/plain": [
       "<Figure size 640x480 with 0 Axes>"
      ]
     },
     "metadata": {},
     "output_type": "display_data"
    },
    {
     "data": {
      "text/plain": [
       "<Figure size 640x480 with 0 Axes>"
      ]
     },
     "metadata": {},
     "output_type": "display_data"
    },
    {
     "data": {
      "text/plain": [
       "<Figure size 640x480 with 0 Axes>"
      ]
     },
     "metadata": {},
     "output_type": "display_data"
    },
    {
     "data": {
      "text/plain": [
       "<Figure size 640x480 with 0 Axes>"
      ]
     },
     "metadata": {},
     "output_type": "display_data"
    },
    {
     "data": {
      "text/plain": [
       "<Figure size 640x480 with 0 Axes>"
      ]
     },
     "metadata": {},
     "output_type": "display_data"
    },
    {
     "data": {
      "text/plain": [
       "<Figure size 640x480 with 0 Axes>"
      ]
     },
     "metadata": {},
     "output_type": "display_data"
    },
    {
     "data": {
      "text/plain": [
       "<Figure size 640x480 with 0 Axes>"
      ]
     },
     "metadata": {},
     "output_type": "display_data"
    },
    {
     "data": {
      "text/plain": [
       "<Figure size 640x480 with 0 Axes>"
      ]
     },
     "metadata": {},
     "output_type": "display_data"
    },
    {
     "data": {
      "text/plain": [
       "<Figure size 640x480 with 0 Axes>"
      ]
     },
     "metadata": {},
     "output_type": "display_data"
    },
    {
     "data": {
      "text/plain": [
       "<Figure size 640x480 with 0 Axes>"
      ]
     },
     "metadata": {},
     "output_type": "display_data"
    },
    {
     "data": {
      "text/plain": [
       "<Figure size 640x480 with 0 Axes>"
      ]
     },
     "metadata": {},
     "output_type": "display_data"
    },
    {
     "data": {
      "text/plain": [
       "<Figure size 640x480 with 0 Axes>"
      ]
     },
     "metadata": {},
     "output_type": "display_data"
    },
    {
     "data": {
      "text/plain": [
       "<Figure size 640x480 with 0 Axes>"
      ]
     },
     "metadata": {},
     "output_type": "display_data"
    },
    {
     "data": {
      "text/plain": [
       "<Figure size 640x480 with 0 Axes>"
      ]
     },
     "metadata": {},
     "output_type": "display_data"
    },
    {
     "data": {
      "text/plain": [
       "<Figure size 640x480 with 0 Axes>"
      ]
     },
     "metadata": {},
     "output_type": "display_data"
    },
    {
     "data": {
      "text/plain": [
       "<Figure size 640x480 with 0 Axes>"
      ]
     },
     "metadata": {},
     "output_type": "display_data"
    },
    {
     "data": {
      "text/plain": [
       "<Figure size 640x480 with 0 Axes>"
      ]
     },
     "metadata": {},
     "output_type": "display_data"
    },
    {
     "data": {
      "text/plain": [
       "<Figure size 640x480 with 0 Axes>"
      ]
     },
     "metadata": {},
     "output_type": "display_data"
    },
    {
     "data": {
      "text/plain": [
       "<Figure size 640x480 with 0 Axes>"
      ]
     },
     "metadata": {},
     "output_type": "display_data"
    },
    {
     "data": {
      "text/plain": [
       "<Figure size 640x480 with 0 Axes>"
      ]
     },
     "metadata": {},
     "output_type": "display_data"
    },
    {
     "data": {
      "text/plain": [
       "<Figure size 640x480 with 0 Axes>"
      ]
     },
     "metadata": {},
     "output_type": "display_data"
    },
    {
     "data": {
      "text/plain": [
       "<Figure size 640x480 with 0 Axes>"
      ]
     },
     "metadata": {},
     "output_type": "display_data"
    },
    {
     "data": {
      "text/plain": [
       "<Figure size 640x480 with 0 Axes>"
      ]
     },
     "metadata": {},
     "output_type": "display_data"
    },
    {
     "data": {
      "text/plain": [
       "<Figure size 640x480 with 0 Axes>"
      ]
     },
     "metadata": {},
     "output_type": "display_data"
    },
    {
     "data": {
      "text/plain": [
       "<Figure size 640x480 with 0 Axes>"
      ]
     },
     "metadata": {},
     "output_type": "display_data"
    },
    {
     "data": {
      "text/plain": [
       "<Figure size 640x480 with 0 Axes>"
      ]
     },
     "metadata": {},
     "output_type": "display_data"
    },
    {
     "data": {
      "text/plain": [
       "<Figure size 640x480 with 0 Axes>"
      ]
     },
     "metadata": {},
     "output_type": "display_data"
    },
    {
     "data": {
      "text/plain": [
       "<Figure size 640x480 with 0 Axes>"
      ]
     },
     "metadata": {},
     "output_type": "display_data"
    },
    {
     "data": {
      "text/plain": [
       "<Figure size 640x480 with 0 Axes>"
      ]
     },
     "metadata": {},
     "output_type": "display_data"
    },
    {
     "data": {
      "text/plain": [
       "<Figure size 640x480 with 0 Axes>"
      ]
     },
     "metadata": {},
     "output_type": "display_data"
    },
    {
     "data": {
      "text/plain": [
       "<Figure size 640x480 with 0 Axes>"
      ]
     },
     "metadata": {},
     "output_type": "display_data"
    },
    {
     "data": {
      "text/plain": [
       "<Figure size 640x480 with 0 Axes>"
      ]
     },
     "metadata": {},
     "output_type": "display_data"
    },
    {
     "data": {
      "text/plain": [
       "<Figure size 640x480 with 0 Axes>"
      ]
     },
     "metadata": {},
     "output_type": "display_data"
    },
    {
     "data": {
      "text/plain": [
       "<Figure size 640x480 with 0 Axes>"
      ]
     },
     "metadata": {},
     "output_type": "display_data"
    },
    {
     "data": {
      "text/plain": [
       "<Figure size 640x480 with 0 Axes>"
      ]
     },
     "metadata": {},
     "output_type": "display_data"
    },
    {
     "data": {
      "text/plain": [
       "<Figure size 640x480 with 0 Axes>"
      ]
     },
     "metadata": {},
     "output_type": "display_data"
    },
    {
     "data": {
      "text/plain": [
       "<Figure size 640x480 with 0 Axes>"
      ]
     },
     "metadata": {},
     "output_type": "display_data"
    },
    {
     "data": {
      "text/plain": [
       "<Figure size 640x480 with 0 Axes>"
      ]
     },
     "metadata": {},
     "output_type": "display_data"
    },
    {
     "data": {
      "text/plain": [
       "<Figure size 640x480 with 0 Axes>"
      ]
     },
     "metadata": {},
     "output_type": "display_data"
    },
    {
     "data": {
      "text/plain": [
       "<Figure size 640x480 with 0 Axes>"
      ]
     },
     "metadata": {},
     "output_type": "display_data"
    },
    {
     "data": {
      "text/plain": [
       "<Figure size 640x480 with 0 Axes>"
      ]
     },
     "metadata": {},
     "output_type": "display_data"
    },
    {
     "data": {
      "text/plain": [
       "<Figure size 640x480 with 0 Axes>"
      ]
     },
     "metadata": {},
     "output_type": "display_data"
    },
    {
     "data": {
      "text/plain": [
       "<Figure size 640x480 with 0 Axes>"
      ]
     },
     "metadata": {},
     "output_type": "display_data"
    },
    {
     "data": {
      "text/plain": [
       "<Figure size 640x480 with 0 Axes>"
      ]
     },
     "metadata": {},
     "output_type": "display_data"
    },
    {
     "data": {
      "text/plain": [
       "<Figure size 640x480 with 0 Axes>"
      ]
     },
     "metadata": {},
     "output_type": "display_data"
    },
    {
     "data": {
      "text/plain": [
       "<Figure size 640x480 with 0 Axes>"
      ]
     },
     "metadata": {},
     "output_type": "display_data"
    },
    {
     "data": {
      "text/plain": [
       "<Figure size 640x480 with 0 Axes>"
      ]
     },
     "metadata": {},
     "output_type": "display_data"
    },
    {
     "data": {
      "text/plain": [
       "<Figure size 640x480 with 0 Axes>"
      ]
     },
     "metadata": {},
     "output_type": "display_data"
    },
    {
     "data": {
      "text/plain": [
       "<Figure size 640x480 with 0 Axes>"
      ]
     },
     "metadata": {},
     "output_type": "display_data"
    },
    {
     "data": {
      "text/plain": [
       "<Figure size 640x480 with 0 Axes>"
      ]
     },
     "metadata": {},
     "output_type": "display_data"
    },
    {
     "data": {
      "text/plain": [
       "<Figure size 640x480 with 0 Axes>"
      ]
     },
     "metadata": {},
     "output_type": "display_data"
    },
    {
     "data": {
      "text/plain": [
       "<Figure size 640x480 with 0 Axes>"
      ]
     },
     "metadata": {},
     "output_type": "display_data"
    },
    {
     "data": {
      "text/plain": [
       "<Figure size 640x480 with 0 Axes>"
      ]
     },
     "metadata": {},
     "output_type": "display_data"
    },
    {
     "data": {
      "text/plain": [
       "<Figure size 640x480 with 0 Axes>"
      ]
     },
     "metadata": {},
     "output_type": "display_data"
    },
    {
     "data": {
      "text/plain": [
       "<Figure size 640x480 with 0 Axes>"
      ]
     },
     "metadata": {},
     "output_type": "display_data"
    },
    {
     "data": {
      "text/plain": [
       "<Figure size 640x480 with 0 Axes>"
      ]
     },
     "metadata": {},
     "output_type": "display_data"
    },
    {
     "data": {
      "text/plain": [
       "<Figure size 640x480 with 0 Axes>"
      ]
     },
     "metadata": {},
     "output_type": "display_data"
    },
    {
     "data": {
      "text/plain": [
       "<Figure size 640x480 with 0 Axes>"
      ]
     },
     "metadata": {},
     "output_type": "display_data"
    },
    {
     "data": {
      "text/plain": [
       "<Figure size 640x480 with 0 Axes>"
      ]
     },
     "metadata": {},
     "output_type": "display_data"
    },
    {
     "data": {
      "text/plain": [
       "<Figure size 640x480 with 0 Axes>"
      ]
     },
     "metadata": {},
     "output_type": "display_data"
    },
    {
     "data": {
      "text/plain": [
       "<Figure size 640x480 with 0 Axes>"
      ]
     },
     "metadata": {},
     "output_type": "display_data"
    },
    {
     "data": {
      "text/plain": [
       "<Figure size 640x480 with 0 Axes>"
      ]
     },
     "metadata": {},
     "output_type": "display_data"
    },
    {
     "data": {
      "text/plain": [
       "<Figure size 640x480 with 0 Axes>"
      ]
     },
     "metadata": {},
     "output_type": "display_data"
    },
    {
     "data": {
      "text/plain": [
       "<Figure size 640x480 with 0 Axes>"
      ]
     },
     "metadata": {},
     "output_type": "display_data"
    },
    {
     "data": {
      "text/plain": [
       "<Figure size 640x480 with 0 Axes>"
      ]
     },
     "metadata": {},
     "output_type": "display_data"
    },
    {
     "data": {
      "text/plain": [
       "<Figure size 640x480 with 0 Axes>"
      ]
     },
     "metadata": {},
     "output_type": "display_data"
    },
    {
     "data": {
      "text/plain": [
       "<Figure size 640x480 with 0 Axes>"
      ]
     },
     "metadata": {},
     "output_type": "display_data"
    },
    {
     "data": {
      "text/plain": [
       "<Figure size 640x480 with 0 Axes>"
      ]
     },
     "metadata": {},
     "output_type": "display_data"
    },
    {
     "data": {
      "text/plain": [
       "<Figure size 640x480 with 0 Axes>"
      ]
     },
     "metadata": {},
     "output_type": "display_data"
    },
    {
     "data": {
      "text/plain": [
       "<Figure size 640x480 with 0 Axes>"
      ]
     },
     "metadata": {},
     "output_type": "display_data"
    },
    {
     "data": {
      "text/plain": [
       "<Figure size 640x480 with 0 Axes>"
      ]
     },
     "metadata": {},
     "output_type": "display_data"
    },
    {
     "data": {
      "text/plain": [
       "<Figure size 640x480 with 0 Axes>"
      ]
     },
     "metadata": {},
     "output_type": "display_data"
    },
    {
     "data": {
      "text/plain": [
       "<Figure size 640x480 with 0 Axes>"
      ]
     },
     "metadata": {},
     "output_type": "display_data"
    },
    {
     "data": {
      "text/plain": [
       "<Figure size 640x480 with 0 Axes>"
      ]
     },
     "metadata": {},
     "output_type": "display_data"
    },
    {
     "data": {
      "text/plain": [
       "<Figure size 640x480 with 0 Axes>"
      ]
     },
     "metadata": {},
     "output_type": "display_data"
    },
    {
     "data": {
      "text/plain": [
       "<Figure size 640x480 with 0 Axes>"
      ]
     },
     "metadata": {},
     "output_type": "display_data"
    },
    {
     "data": {
      "text/plain": [
       "<Figure size 640x480 with 0 Axes>"
      ]
     },
     "metadata": {},
     "output_type": "display_data"
    },
    {
     "data": {
      "text/plain": [
       "<Figure size 640x480 with 0 Axes>"
      ]
     },
     "metadata": {},
     "output_type": "display_data"
    },
    {
     "data": {
      "text/plain": [
       "<Figure size 640x480 with 0 Axes>"
      ]
     },
     "metadata": {},
     "output_type": "display_data"
    },
    {
     "data": {
      "text/plain": [
       "<Figure size 640x480 with 0 Axes>"
      ]
     },
     "metadata": {},
     "output_type": "display_data"
    },
    {
     "data": {
      "text/plain": [
       "<Figure size 640x480 with 0 Axes>"
      ]
     },
     "metadata": {},
     "output_type": "display_data"
    },
    {
     "data": {
      "text/plain": [
       "<Figure size 640x480 with 0 Axes>"
      ]
     },
     "metadata": {},
     "output_type": "display_data"
    },
    {
     "data": {
      "text/plain": [
       "<Figure size 640x480 with 0 Axes>"
      ]
     },
     "metadata": {},
     "output_type": "display_data"
    },
    {
     "data": {
      "text/plain": [
       "<Figure size 640x480 with 0 Axes>"
      ]
     },
     "metadata": {},
     "output_type": "display_data"
    },
    {
     "data": {
      "text/plain": [
       "<Figure size 640x480 with 0 Axes>"
      ]
     },
     "metadata": {},
     "output_type": "display_data"
    },
    {
     "data": {
      "text/plain": [
       "<Figure size 640x480 with 0 Axes>"
      ]
     },
     "metadata": {},
     "output_type": "display_data"
    },
    {
     "data": {
      "text/plain": [
       "<Figure size 640x480 with 0 Axes>"
      ]
     },
     "metadata": {},
     "output_type": "display_data"
    },
    {
     "data": {
      "text/plain": [
       "<Figure size 640x480 with 0 Axes>"
      ]
     },
     "metadata": {},
     "output_type": "display_data"
    },
    {
     "data": {
      "text/plain": [
       "<Figure size 640x480 with 0 Axes>"
      ]
     },
     "metadata": {},
     "output_type": "display_data"
    },
    {
     "data": {
      "text/plain": [
       "<Figure size 640x480 with 0 Axes>"
      ]
     },
     "metadata": {},
     "output_type": "display_data"
    },
    {
     "data": {
      "text/plain": [
       "<Figure size 640x480 with 0 Axes>"
      ]
     },
     "metadata": {},
     "output_type": "display_data"
    },
    {
     "data": {
      "text/plain": [
       "<Figure size 640x480 with 0 Axes>"
      ]
     },
     "metadata": {},
     "output_type": "display_data"
    },
    {
     "data": {
      "text/plain": [
       "<Figure size 640x480 with 0 Axes>"
      ]
     },
     "metadata": {},
     "output_type": "display_data"
    },
    {
     "data": {
      "text/plain": [
       "<Figure size 640x480 with 0 Axes>"
      ]
     },
     "metadata": {},
     "output_type": "display_data"
    },
    {
     "data": {
      "text/plain": [
       "<Figure size 640x480 with 0 Axes>"
      ]
     },
     "metadata": {},
     "output_type": "display_data"
    },
    {
     "data": {
      "text/plain": [
       "<Figure size 640x480 with 0 Axes>"
      ]
     },
     "metadata": {},
     "output_type": "display_data"
    },
    {
     "data": {
      "text/plain": [
       "<Figure size 640x480 with 0 Axes>"
      ]
     },
     "metadata": {},
     "output_type": "display_data"
    },
    {
     "data": {
      "text/plain": [
       "<Figure size 640x480 with 0 Axes>"
      ]
     },
     "metadata": {},
     "output_type": "display_data"
    },
    {
     "data": {
      "text/plain": [
       "<Figure size 640x480 with 0 Axes>"
      ]
     },
     "metadata": {},
     "output_type": "display_data"
    },
    {
     "data": {
      "text/plain": [
       "<Figure size 640x480 with 0 Axes>"
      ]
     },
     "metadata": {},
     "output_type": "display_data"
    },
    {
     "data": {
      "text/plain": [
       "<Figure size 640x480 with 0 Axes>"
      ]
     },
     "metadata": {},
     "output_type": "display_data"
    },
    {
     "data": {
      "text/plain": [
       "<Figure size 640x480 with 0 Axes>"
      ]
     },
     "metadata": {},
     "output_type": "display_data"
    },
    {
     "data": {
      "text/plain": [
       "<Figure size 640x480 with 0 Axes>"
      ]
     },
     "metadata": {},
     "output_type": "display_data"
    },
    {
     "data": {
      "text/plain": [
       "<Figure size 640x480 with 0 Axes>"
      ]
     },
     "metadata": {},
     "output_type": "display_data"
    },
    {
     "data": {
      "text/plain": [
       "<Figure size 640x480 with 0 Axes>"
      ]
     },
     "metadata": {},
     "output_type": "display_data"
    },
    {
     "data": {
      "text/plain": [
       "<Figure size 640x480 with 0 Axes>"
      ]
     },
     "metadata": {},
     "output_type": "display_data"
    },
    {
     "data": {
      "text/plain": [
       "<Figure size 640x480 with 0 Axes>"
      ]
     },
     "metadata": {},
     "output_type": "display_data"
    },
    {
     "data": {
      "text/plain": [
       "<Figure size 640x480 with 0 Axes>"
      ]
     },
     "metadata": {},
     "output_type": "display_data"
    },
    {
     "data": {
      "text/plain": [
       "<Figure size 640x480 with 0 Axes>"
      ]
     },
     "metadata": {},
     "output_type": "display_data"
    },
    {
     "data": {
      "text/plain": [
       "<Figure size 640x480 with 0 Axes>"
      ]
     },
     "metadata": {},
     "output_type": "display_data"
    },
    {
     "data": {
      "text/plain": [
       "<Figure size 640x480 with 0 Axes>"
      ]
     },
     "metadata": {},
     "output_type": "display_data"
    },
    {
     "data": {
      "text/plain": [
       "<Figure size 640x480 with 0 Axes>"
      ]
     },
     "metadata": {},
     "output_type": "display_data"
    },
    {
     "data": {
      "text/plain": [
       "<Figure size 640x480 with 0 Axes>"
      ]
     },
     "metadata": {},
     "output_type": "display_data"
    },
    {
     "data": {
      "text/plain": [
       "<Figure size 640x480 with 0 Axes>"
      ]
     },
     "metadata": {},
     "output_type": "display_data"
    },
    {
     "data": {
      "text/plain": [
       "<Figure size 640x480 with 0 Axes>"
      ]
     },
     "metadata": {},
     "output_type": "display_data"
    },
    {
     "data": {
      "text/plain": [
       "<Figure size 640x480 with 0 Axes>"
      ]
     },
     "metadata": {},
     "output_type": "display_data"
    },
    {
     "data": {
      "text/plain": [
       "<Figure size 640x480 with 0 Axes>"
      ]
     },
     "metadata": {},
     "output_type": "display_data"
    },
    {
     "data": {
      "text/plain": [
       "<Figure size 640x480 with 0 Axes>"
      ]
     },
     "metadata": {},
     "output_type": "display_data"
    },
    {
     "data": {
      "text/plain": [
       "<Figure size 640x480 with 0 Axes>"
      ]
     },
     "metadata": {},
     "output_type": "display_data"
    },
    {
     "data": {
      "text/plain": [
       "<Figure size 640x480 with 0 Axes>"
      ]
     },
     "metadata": {},
     "output_type": "display_data"
    },
    {
     "data": {
      "text/plain": [
       "<Figure size 640x480 with 0 Axes>"
      ]
     },
     "metadata": {},
     "output_type": "display_data"
    },
    {
     "data": {
      "text/plain": [
       "<Figure size 640x480 with 0 Axes>"
      ]
     },
     "metadata": {},
     "output_type": "display_data"
    },
    {
     "data": {
      "text/plain": [
       "<Figure size 640x480 with 0 Axes>"
      ]
     },
     "metadata": {},
     "output_type": "display_data"
    },
    {
     "data": {
      "text/plain": [
       "<Figure size 640x480 with 0 Axes>"
      ]
     },
     "metadata": {},
     "output_type": "display_data"
    },
    {
     "data": {
      "text/plain": [
       "<Figure size 640x480 with 0 Axes>"
      ]
     },
     "metadata": {},
     "output_type": "display_data"
    },
    {
     "data": {
      "text/plain": [
       "<Figure size 640x480 with 0 Axes>"
      ]
     },
     "metadata": {},
     "output_type": "display_data"
    },
    {
     "data": {
      "text/plain": [
       "<Figure size 640x480 with 0 Axes>"
      ]
     },
     "metadata": {},
     "output_type": "display_data"
    },
    {
     "data": {
      "text/plain": [
       "<Figure size 640x480 with 0 Axes>"
      ]
     },
     "metadata": {},
     "output_type": "display_data"
    },
    {
     "data": {
      "text/plain": [
       "<Figure size 640x480 with 0 Axes>"
      ]
     },
     "metadata": {},
     "output_type": "display_data"
    },
    {
     "data": {
      "text/plain": [
       "<Figure size 640x480 with 0 Axes>"
      ]
     },
     "metadata": {},
     "output_type": "display_data"
    },
    {
     "data": {
      "text/plain": [
       "<Figure size 640x480 with 0 Axes>"
      ]
     },
     "metadata": {},
     "output_type": "display_data"
    },
    {
     "data": {
      "text/plain": [
       "<Figure size 640x480 with 0 Axes>"
      ]
     },
     "metadata": {},
     "output_type": "display_data"
    },
    {
     "data": {
      "text/plain": [
       "<Figure size 640x480 with 0 Axes>"
      ]
     },
     "metadata": {},
     "output_type": "display_data"
    },
    {
     "data": {
      "text/plain": [
       "<Figure size 640x480 with 0 Axes>"
      ]
     },
     "metadata": {},
     "output_type": "display_data"
    },
    {
     "data": {
      "text/plain": [
       "<Figure size 640x480 with 0 Axes>"
      ]
     },
     "metadata": {},
     "output_type": "display_data"
    },
    {
     "data": {
      "text/plain": [
       "<Figure size 640x480 with 0 Axes>"
      ]
     },
     "metadata": {},
     "output_type": "display_data"
    },
    {
     "data": {
      "text/plain": [
       "<Figure size 640x480 with 0 Axes>"
      ]
     },
     "metadata": {},
     "output_type": "display_data"
    },
    {
     "data": {
      "text/plain": [
       "<Figure size 640x480 with 0 Axes>"
      ]
     },
     "metadata": {},
     "output_type": "display_data"
    },
    {
     "data": {
      "text/plain": [
       "<Figure size 640x480 with 0 Axes>"
      ]
     },
     "metadata": {},
     "output_type": "display_data"
    },
    {
     "data": {
      "text/plain": [
       "<Figure size 640x480 with 0 Axes>"
      ]
     },
     "metadata": {},
     "output_type": "display_data"
    },
    {
     "data": {
      "text/plain": [
       "<Figure size 640x480 with 0 Axes>"
      ]
     },
     "metadata": {},
     "output_type": "display_data"
    },
    {
     "data": {
      "text/plain": [
       "<Figure size 640x480 with 0 Axes>"
      ]
     },
     "metadata": {},
     "output_type": "display_data"
    },
    {
     "data": {
      "text/plain": [
       "<Figure size 640x480 with 0 Axes>"
      ]
     },
     "metadata": {},
     "output_type": "display_data"
    },
    {
     "data": {
      "text/plain": [
       "<Figure size 640x480 with 0 Axes>"
      ]
     },
     "metadata": {},
     "output_type": "display_data"
    },
    {
     "data": {
      "text/plain": [
       "<Figure size 640x480 with 0 Axes>"
      ]
     },
     "metadata": {},
     "output_type": "display_data"
    },
    {
     "data": {
      "text/plain": [
       "<Figure size 640x480 with 0 Axes>"
      ]
     },
     "metadata": {},
     "output_type": "display_data"
    },
    {
     "data": {
      "text/plain": [
       "<Figure size 640x480 with 0 Axes>"
      ]
     },
     "metadata": {},
     "output_type": "display_data"
    },
    {
     "data": {
      "text/plain": [
       "<Figure size 640x480 with 0 Axes>"
      ]
     },
     "metadata": {},
     "output_type": "display_data"
    },
    {
     "data": {
      "text/plain": [
       "<Figure size 640x480 with 0 Axes>"
      ]
     },
     "metadata": {},
     "output_type": "display_data"
    },
    {
     "data": {
      "text/plain": [
       "<Figure size 640x480 with 0 Axes>"
      ]
     },
     "metadata": {},
     "output_type": "display_data"
    },
    {
     "data": {
      "text/plain": [
       "<Figure size 640x480 with 0 Axes>"
      ]
     },
     "metadata": {},
     "output_type": "display_data"
    },
    {
     "data": {
      "text/plain": [
       "<Figure size 640x480 with 0 Axes>"
      ]
     },
     "metadata": {},
     "output_type": "display_data"
    },
    {
     "data": {
      "text/plain": [
       "<Figure size 640x480 with 0 Axes>"
      ]
     },
     "metadata": {},
     "output_type": "display_data"
    },
    {
     "data": {
      "text/plain": [
       "<Figure size 640x480 with 0 Axes>"
      ]
     },
     "metadata": {},
     "output_type": "display_data"
    },
    {
     "data": {
      "text/plain": [
       "<Figure size 640x480 with 0 Axes>"
      ]
     },
     "metadata": {},
     "output_type": "display_data"
    },
    {
     "data": {
      "text/plain": [
       "<Figure size 640x480 with 0 Axes>"
      ]
     },
     "metadata": {},
     "output_type": "display_data"
    },
    {
     "data": {
      "text/plain": [
       "<Figure size 640x480 with 0 Axes>"
      ]
     },
     "metadata": {},
     "output_type": "display_data"
    },
    {
     "data": {
      "text/plain": [
       "<Figure size 640x480 with 0 Axes>"
      ]
     },
     "metadata": {},
     "output_type": "display_data"
    },
    {
     "data": {
      "text/plain": [
       "<Figure size 640x480 with 0 Axes>"
      ]
     },
     "metadata": {},
     "output_type": "display_data"
    },
    {
     "data": {
      "text/plain": [
       "<Figure size 640x480 with 0 Axes>"
      ]
     },
     "metadata": {},
     "output_type": "display_data"
    },
    {
     "data": {
      "text/plain": [
       "<Figure size 640x480 with 0 Axes>"
      ]
     },
     "metadata": {},
     "output_type": "display_data"
    },
    {
     "data": {
      "text/plain": [
       "<Figure size 640x480 with 0 Axes>"
      ]
     },
     "metadata": {},
     "output_type": "display_data"
    },
    {
     "data": {
      "text/plain": [
       "<Figure size 640x480 with 0 Axes>"
      ]
     },
     "metadata": {},
     "output_type": "display_data"
    },
    {
     "data": {
      "text/plain": [
       "<Figure size 640x480 with 0 Axes>"
      ]
     },
     "metadata": {},
     "output_type": "display_data"
    },
    {
     "data": {
      "text/plain": [
       "<Figure size 640x480 with 0 Axes>"
      ]
     },
     "metadata": {},
     "output_type": "display_data"
    },
    {
     "data": {
      "text/plain": [
       "<Figure size 640x480 with 0 Axes>"
      ]
     },
     "metadata": {},
     "output_type": "display_data"
    },
    {
     "data": {
      "text/plain": [
       "<Figure size 640x480 with 0 Axes>"
      ]
     },
     "metadata": {},
     "output_type": "display_data"
    },
    {
     "data": {
      "text/plain": [
       "<Figure size 640x480 with 0 Axes>"
      ]
     },
     "metadata": {},
     "output_type": "display_data"
    },
    {
     "data": {
      "text/plain": [
       "<Figure size 640x480 with 0 Axes>"
      ]
     },
     "metadata": {},
     "output_type": "display_data"
    },
    {
     "data": {
      "text/plain": [
       "<Figure size 640x480 with 0 Axes>"
      ]
     },
     "metadata": {},
     "output_type": "display_data"
    },
    {
     "data": {
      "text/plain": [
       "<Figure size 640x480 with 0 Axes>"
      ]
     },
     "metadata": {},
     "output_type": "display_data"
    },
    {
     "data": {
      "text/plain": [
       "<Figure size 640x480 with 0 Axes>"
      ]
     },
     "metadata": {},
     "output_type": "display_data"
    },
    {
     "data": {
      "text/plain": [
       "<Figure size 640x480 with 0 Axes>"
      ]
     },
     "metadata": {},
     "output_type": "display_data"
    },
    {
     "data": {
      "text/plain": [
       "<Figure size 640x480 with 0 Axes>"
      ]
     },
     "metadata": {},
     "output_type": "display_data"
    },
    {
     "data": {
      "text/plain": [
       "<Figure size 640x480 with 0 Axes>"
      ]
     },
     "metadata": {},
     "output_type": "display_data"
    },
    {
     "data": {
      "text/plain": [
       "<Figure size 640x480 with 0 Axes>"
      ]
     },
     "metadata": {},
     "output_type": "display_data"
    },
    {
     "data": {
      "text/plain": [
       "<Figure size 640x480 with 0 Axes>"
      ]
     },
     "metadata": {},
     "output_type": "display_data"
    },
    {
     "data": {
      "text/plain": [
       "<Figure size 640x480 with 0 Axes>"
      ]
     },
     "metadata": {},
     "output_type": "display_data"
    },
    {
     "data": {
      "text/plain": [
       "<Figure size 640x480 with 0 Axes>"
      ]
     },
     "metadata": {},
     "output_type": "display_data"
    },
    {
     "data": {
      "text/plain": [
       "<Figure size 640x480 with 0 Axes>"
      ]
     },
     "metadata": {},
     "output_type": "display_data"
    },
    {
     "data": {
      "text/plain": [
       "<Figure size 640x480 with 0 Axes>"
      ]
     },
     "metadata": {},
     "output_type": "display_data"
    },
    {
     "data": {
      "text/plain": [
       "<Figure size 640x480 with 0 Axes>"
      ]
     },
     "metadata": {},
     "output_type": "display_data"
    },
    {
     "data": {
      "text/plain": [
       "<Figure size 640x480 with 0 Axes>"
      ]
     },
     "metadata": {},
     "output_type": "display_data"
    },
    {
     "data": {
      "text/plain": [
       "<Figure size 640x480 with 0 Axes>"
      ]
     },
     "metadata": {},
     "output_type": "display_data"
    },
    {
     "data": {
      "text/plain": [
       "<Figure size 640x480 with 0 Axes>"
      ]
     },
     "metadata": {},
     "output_type": "display_data"
    },
    {
     "data": {
      "text/plain": [
       "<Figure size 640x480 with 0 Axes>"
      ]
     },
     "metadata": {},
     "output_type": "display_data"
    },
    {
     "data": {
      "text/plain": [
       "<Figure size 640x480 with 0 Axes>"
      ]
     },
     "metadata": {},
     "output_type": "display_data"
    },
    {
     "data": {
      "text/plain": [
       "<Figure size 640x480 with 0 Axes>"
      ]
     },
     "metadata": {},
     "output_type": "display_data"
    },
    {
     "data": {
      "text/plain": [
       "<Figure size 640x480 with 0 Axes>"
      ]
     },
     "metadata": {},
     "output_type": "display_data"
    },
    {
     "data": {
      "text/plain": [
       "<Figure size 640x480 with 0 Axes>"
      ]
     },
     "metadata": {},
     "output_type": "display_data"
    },
    {
     "data": {
      "text/plain": [
       "<Figure size 640x480 with 0 Axes>"
      ]
     },
     "metadata": {},
     "output_type": "display_data"
    },
    {
     "data": {
      "text/plain": [
       "<Figure size 640x480 with 0 Axes>"
      ]
     },
     "metadata": {},
     "output_type": "display_data"
    },
    {
     "data": {
      "text/plain": [
       "<Figure size 640x480 with 0 Axes>"
      ]
     },
     "metadata": {},
     "output_type": "display_data"
    },
    {
     "data": {
      "text/plain": [
       "<Figure size 640x480 with 0 Axes>"
      ]
     },
     "metadata": {},
     "output_type": "display_data"
    },
    {
     "data": {
      "text/plain": [
       "<Figure size 640x480 with 0 Axes>"
      ]
     },
     "metadata": {},
     "output_type": "display_data"
    },
    {
     "data": {
      "text/plain": [
       "<Figure size 640x480 with 0 Axes>"
      ]
     },
     "metadata": {},
     "output_type": "display_data"
    },
    {
     "data": {
      "text/plain": [
       "<Figure size 640x480 with 0 Axes>"
      ]
     },
     "metadata": {},
     "output_type": "display_data"
    },
    {
     "data": {
      "text/plain": [
       "<Figure size 640x480 with 0 Axes>"
      ]
     },
     "metadata": {},
     "output_type": "display_data"
    },
    {
     "data": {
      "text/plain": [
       "<Figure size 640x480 with 0 Axes>"
      ]
     },
     "metadata": {},
     "output_type": "display_data"
    },
    {
     "data": {
      "text/plain": [
       "<Figure size 640x480 with 0 Axes>"
      ]
     },
     "metadata": {},
     "output_type": "display_data"
    },
    {
     "data": {
      "text/plain": [
       "<Figure size 640x480 with 0 Axes>"
      ]
     },
     "metadata": {},
     "output_type": "display_data"
    },
    {
     "data": {
      "text/plain": [
       "<Figure size 640x480 with 0 Axes>"
      ]
     },
     "metadata": {},
     "output_type": "display_data"
    },
    {
     "data": {
      "text/plain": [
       "<Figure size 640x480 with 0 Axes>"
      ]
     },
     "metadata": {},
     "output_type": "display_data"
    },
    {
     "data": {
      "text/plain": [
       "<Figure size 640x480 with 0 Axes>"
      ]
     },
     "metadata": {},
     "output_type": "display_data"
    },
    {
     "data": {
      "text/plain": [
       "<Figure size 640x480 with 0 Axes>"
      ]
     },
     "metadata": {},
     "output_type": "display_data"
    },
    {
     "data": {
      "text/plain": [
       "<Figure size 640x480 with 0 Axes>"
      ]
     },
     "metadata": {},
     "output_type": "display_data"
    },
    {
     "data": {
      "text/plain": [
       "<Figure size 640x480 with 0 Axes>"
      ]
     },
     "metadata": {},
     "output_type": "display_data"
    },
    {
     "data": {
      "text/plain": [
       "<Figure size 640x480 with 0 Axes>"
      ]
     },
     "metadata": {},
     "output_type": "display_data"
    },
    {
     "data": {
      "text/plain": [
       "<Figure size 640x480 with 0 Axes>"
      ]
     },
     "metadata": {},
     "output_type": "display_data"
    },
    {
     "data": {
      "text/plain": [
       "<Figure size 640x480 with 0 Axes>"
      ]
     },
     "metadata": {},
     "output_type": "display_data"
    },
    {
     "data": {
      "text/plain": [
       "<Figure size 640x480 with 0 Axes>"
      ]
     },
     "metadata": {},
     "output_type": "display_data"
    },
    {
     "data": {
      "text/plain": [
       "<Figure size 640x480 with 0 Axes>"
      ]
     },
     "metadata": {},
     "output_type": "display_data"
    },
    {
     "data": {
      "text/plain": [
       "<Figure size 640x480 with 0 Axes>"
      ]
     },
     "metadata": {},
     "output_type": "display_data"
    },
    {
     "data": {
      "text/plain": [
       "<Figure size 640x480 with 0 Axes>"
      ]
     },
     "metadata": {},
     "output_type": "display_data"
    },
    {
     "data": {
      "text/plain": [
       "<Figure size 640x480 with 0 Axes>"
      ]
     },
     "metadata": {},
     "output_type": "display_data"
    },
    {
     "data": {
      "text/plain": [
       "<Figure size 640x480 with 0 Axes>"
      ]
     },
     "metadata": {},
     "output_type": "display_data"
    },
    {
     "data": {
      "text/plain": [
       "<Figure size 640x480 with 0 Axes>"
      ]
     },
     "metadata": {},
     "output_type": "display_data"
    },
    {
     "data": {
      "text/plain": [
       "<Figure size 640x480 with 0 Axes>"
      ]
     },
     "metadata": {},
     "output_type": "display_data"
    },
    {
     "data": {
      "text/plain": [
       "<Figure size 640x480 with 0 Axes>"
      ]
     },
     "metadata": {},
     "output_type": "display_data"
    },
    {
     "data": {
      "text/plain": [
       "<Figure size 640x480 with 0 Axes>"
      ]
     },
     "metadata": {},
     "output_type": "display_data"
    },
    {
     "data": {
      "text/plain": [
       "<Figure size 640x480 with 0 Axes>"
      ]
     },
     "metadata": {},
     "output_type": "display_data"
    },
    {
     "data": {
      "text/plain": [
       "<Figure size 640x480 with 0 Axes>"
      ]
     },
     "metadata": {},
     "output_type": "display_data"
    },
    {
     "data": {
      "text/plain": [
       "<Figure size 640x480 with 0 Axes>"
      ]
     },
     "metadata": {},
     "output_type": "display_data"
    },
    {
     "data": {
      "text/plain": [
       "<Figure size 640x480 with 0 Axes>"
      ]
     },
     "metadata": {},
     "output_type": "display_data"
    },
    {
     "data": {
      "text/plain": [
       "<Figure size 640x480 with 0 Axes>"
      ]
     },
     "metadata": {},
     "output_type": "display_data"
    },
    {
     "data": {
      "text/plain": [
       "<Figure size 640x480 with 0 Axes>"
      ]
     },
     "metadata": {},
     "output_type": "display_data"
    },
    {
     "data": {
      "text/plain": [
       "<Figure size 640x480 with 0 Axes>"
      ]
     },
     "metadata": {},
     "output_type": "display_data"
    },
    {
     "data": {
      "text/plain": [
       "<Figure size 640x480 with 0 Axes>"
      ]
     },
     "metadata": {},
     "output_type": "display_data"
    },
    {
     "data": {
      "text/plain": [
       "<Figure size 640x480 with 0 Axes>"
      ]
     },
     "metadata": {},
     "output_type": "display_data"
    },
    {
     "data": {
      "text/plain": [
       "<Figure size 640x480 with 0 Axes>"
      ]
     },
     "metadata": {},
     "output_type": "display_data"
    },
    {
     "data": {
      "text/plain": [
       "<Figure size 640x480 with 0 Axes>"
      ]
     },
     "metadata": {},
     "output_type": "display_data"
    },
    {
     "data": {
      "text/plain": [
       "<Figure size 640x480 with 0 Axes>"
      ]
     },
     "metadata": {},
     "output_type": "display_data"
    },
    {
     "data": {
      "text/plain": [
       "<Figure size 640x480 with 0 Axes>"
      ]
     },
     "metadata": {},
     "output_type": "display_data"
    },
    {
     "data": {
      "text/plain": [
       "<Figure size 640x480 with 0 Axes>"
      ]
     },
     "metadata": {},
     "output_type": "display_data"
    },
    {
     "data": {
      "text/plain": [
       "<Figure size 640x480 with 0 Axes>"
      ]
     },
     "metadata": {},
     "output_type": "display_data"
    },
    {
     "data": {
      "text/plain": [
       "<Figure size 640x480 with 0 Axes>"
      ]
     },
     "metadata": {},
     "output_type": "display_data"
    },
    {
     "data": {
      "text/plain": [
       "<Figure size 640x480 with 0 Axes>"
      ]
     },
     "metadata": {},
     "output_type": "display_data"
    },
    {
     "data": {
      "text/plain": [
       "<Figure size 640x480 with 0 Axes>"
      ]
     },
     "metadata": {},
     "output_type": "display_data"
    },
    {
     "data": {
      "text/plain": [
       "<Figure size 640x480 with 0 Axes>"
      ]
     },
     "metadata": {},
     "output_type": "display_data"
    },
    {
     "data": {
      "text/plain": [
       "<Figure size 640x480 with 0 Axes>"
      ]
     },
     "metadata": {},
     "output_type": "display_data"
    },
    {
     "data": {
      "text/plain": [
       "<Figure size 640x480 with 0 Axes>"
      ]
     },
     "metadata": {},
     "output_type": "display_data"
    },
    {
     "data": {
      "text/plain": [
       "<Figure size 640x480 with 0 Axes>"
      ]
     },
     "metadata": {},
     "output_type": "display_data"
    },
    {
     "data": {
      "text/plain": [
       "<Figure size 640x480 with 0 Axes>"
      ]
     },
     "metadata": {},
     "output_type": "display_data"
    },
    {
     "data": {
      "text/plain": [
       "<Figure size 640x480 with 0 Axes>"
      ]
     },
     "metadata": {},
     "output_type": "display_data"
    },
    {
     "data": {
      "text/plain": [
       "<Figure size 640x480 with 0 Axes>"
      ]
     },
     "metadata": {},
     "output_type": "display_data"
    },
    {
     "data": {
      "text/plain": [
       "<Figure size 640x480 with 0 Axes>"
      ]
     },
     "metadata": {},
     "output_type": "display_data"
    },
    {
     "data": {
      "text/plain": [
       "<Figure size 640x480 with 0 Axes>"
      ]
     },
     "metadata": {},
     "output_type": "display_data"
    },
    {
     "data": {
      "text/plain": [
       "<Figure size 640x480 with 0 Axes>"
      ]
     },
     "metadata": {},
     "output_type": "display_data"
    },
    {
     "data": {
      "text/plain": [
       "<Figure size 640x480 with 0 Axes>"
      ]
     },
     "metadata": {},
     "output_type": "display_data"
    },
    {
     "data": {
      "text/plain": [
       "<Figure size 640x480 with 0 Axes>"
      ]
     },
     "metadata": {},
     "output_type": "display_data"
    },
    {
     "data": {
      "text/plain": [
       "<Figure size 640x480 with 0 Axes>"
      ]
     },
     "metadata": {},
     "output_type": "display_data"
    },
    {
     "data": {
      "text/plain": [
       "<Figure size 640x480 with 0 Axes>"
      ]
     },
     "metadata": {},
     "output_type": "display_data"
    },
    {
     "data": {
      "text/plain": [
       "<Figure size 640x480 with 0 Axes>"
      ]
     },
     "metadata": {},
     "output_type": "display_data"
    },
    {
     "data": {
      "text/plain": [
       "<Figure size 640x480 with 0 Axes>"
      ]
     },
     "metadata": {},
     "output_type": "display_data"
    },
    {
     "data": {
      "text/plain": [
       "<Figure size 640x480 with 0 Axes>"
      ]
     },
     "metadata": {},
     "output_type": "display_data"
    },
    {
     "data": {
      "text/plain": [
       "<Figure size 640x480 with 0 Axes>"
      ]
     },
     "metadata": {},
     "output_type": "display_data"
    },
    {
     "data": {
      "text/plain": [
       "<Figure size 640x480 with 0 Axes>"
      ]
     },
     "metadata": {},
     "output_type": "display_data"
    },
    {
     "data": {
      "text/plain": [
       "<Figure size 640x480 with 0 Axes>"
      ]
     },
     "metadata": {},
     "output_type": "display_data"
    },
    {
     "data": {
      "text/plain": [
       "<Figure size 640x480 with 0 Axes>"
      ]
     },
     "metadata": {},
     "output_type": "display_data"
    },
    {
     "data": {
      "text/plain": [
       "<Figure size 640x480 with 0 Axes>"
      ]
     },
     "metadata": {},
     "output_type": "display_data"
    },
    {
     "data": {
      "text/plain": [
       "<Figure size 640x480 with 0 Axes>"
      ]
     },
     "metadata": {},
     "output_type": "display_data"
    },
    {
     "data": {
      "text/plain": [
       "<Figure size 640x480 with 0 Axes>"
      ]
     },
     "metadata": {},
     "output_type": "display_data"
    },
    {
     "data": {
      "text/plain": [
       "<Figure size 640x480 with 0 Axes>"
      ]
     },
     "metadata": {},
     "output_type": "display_data"
    },
    {
     "data": {
      "text/plain": [
       "<Figure size 640x480 with 0 Axes>"
      ]
     },
     "metadata": {},
     "output_type": "display_data"
    },
    {
     "data": {
      "text/plain": [
       "<Figure size 640x480 with 0 Axes>"
      ]
     },
     "metadata": {},
     "output_type": "display_data"
    },
    {
     "data": {
      "text/plain": [
       "<Figure size 640x480 with 0 Axes>"
      ]
     },
     "metadata": {},
     "output_type": "display_data"
    },
    {
     "data": {
      "text/plain": [
       "<Figure size 640x480 with 0 Axes>"
      ]
     },
     "metadata": {},
     "output_type": "display_data"
    },
    {
     "data": {
      "text/plain": [
       "<Figure size 640x480 with 0 Axes>"
      ]
     },
     "metadata": {},
     "output_type": "display_data"
    },
    {
     "data": {
      "text/plain": [
       "<Figure size 640x480 with 0 Axes>"
      ]
     },
     "metadata": {},
     "output_type": "display_data"
    },
    {
     "data": {
      "text/plain": [
       "<Figure size 640x480 with 0 Axes>"
      ]
     },
     "metadata": {},
     "output_type": "display_data"
    },
    {
     "data": {
      "text/plain": [
       "<Figure size 640x480 with 0 Axes>"
      ]
     },
     "metadata": {},
     "output_type": "display_data"
    },
    {
     "data": {
      "text/plain": [
       "<Figure size 640x480 with 0 Axes>"
      ]
     },
     "metadata": {},
     "output_type": "display_data"
    },
    {
     "data": {
      "text/plain": [
       "<Figure size 640x480 with 0 Axes>"
      ]
     },
     "metadata": {},
     "output_type": "display_data"
    },
    {
     "data": {
      "text/plain": [
       "<Figure size 640x480 with 0 Axes>"
      ]
     },
     "metadata": {},
     "output_type": "display_data"
    },
    {
     "data": {
      "text/plain": [
       "<Figure size 640x480 with 0 Axes>"
      ]
     },
     "metadata": {},
     "output_type": "display_data"
    },
    {
     "data": {
      "text/plain": [
       "<Figure size 640x480 with 0 Axes>"
      ]
     },
     "metadata": {},
     "output_type": "display_data"
    },
    {
     "data": {
      "text/plain": [
       "<Figure size 640x480 with 0 Axes>"
      ]
     },
     "metadata": {},
     "output_type": "display_data"
    },
    {
     "data": {
      "text/plain": [
       "<Figure size 640x480 with 0 Axes>"
      ]
     },
     "metadata": {},
     "output_type": "display_data"
    },
    {
     "data": {
      "text/plain": [
       "<Figure size 640x480 with 0 Axes>"
      ]
     },
     "metadata": {},
     "output_type": "display_data"
    },
    {
     "data": {
      "text/plain": [
       "<Figure size 640x480 with 0 Axes>"
      ]
     },
     "metadata": {},
     "output_type": "display_data"
    },
    {
     "data": {
      "text/plain": [
       "<Figure size 640x480 with 0 Axes>"
      ]
     },
     "metadata": {},
     "output_type": "display_data"
    },
    {
     "data": {
      "text/plain": [
       "<Figure size 640x480 with 0 Axes>"
      ]
     },
     "metadata": {},
     "output_type": "display_data"
    },
    {
     "data": {
      "text/plain": [
       "<Figure size 640x480 with 0 Axes>"
      ]
     },
     "metadata": {},
     "output_type": "display_data"
    },
    {
     "data": {
      "text/plain": [
       "<Figure size 640x480 with 0 Axes>"
      ]
     },
     "metadata": {},
     "output_type": "display_data"
    },
    {
     "data": {
      "text/plain": [
       "<Figure size 640x480 with 0 Axes>"
      ]
     },
     "metadata": {},
     "output_type": "display_data"
    },
    {
     "data": {
      "text/plain": [
       "<Figure size 640x480 with 0 Axes>"
      ]
     },
     "metadata": {},
     "output_type": "display_data"
    },
    {
     "data": {
      "text/plain": [
       "<Figure size 640x480 with 0 Axes>"
      ]
     },
     "metadata": {},
     "output_type": "display_data"
    },
    {
     "data": {
      "text/plain": [
       "<Figure size 640x480 with 0 Axes>"
      ]
     },
     "metadata": {},
     "output_type": "display_data"
    },
    {
     "data": {
      "text/plain": [
       "<Figure size 640x480 with 0 Axes>"
      ]
     },
     "metadata": {},
     "output_type": "display_data"
    },
    {
     "data": {
      "text/plain": [
       "<Figure size 640x480 with 0 Axes>"
      ]
     },
     "metadata": {},
     "output_type": "display_data"
    },
    {
     "data": {
      "text/plain": [
       "<Figure size 640x480 with 0 Axes>"
      ]
     },
     "metadata": {},
     "output_type": "display_data"
    },
    {
     "data": {
      "text/plain": [
       "<Figure size 640x480 with 0 Axes>"
      ]
     },
     "metadata": {},
     "output_type": "display_data"
    },
    {
     "data": {
      "text/plain": [
       "<Figure size 640x480 with 0 Axes>"
      ]
     },
     "metadata": {},
     "output_type": "display_data"
    },
    {
     "data": {
      "text/plain": [
       "<Figure size 640x480 with 0 Axes>"
      ]
     },
     "metadata": {},
     "output_type": "display_data"
    },
    {
     "data": {
      "text/plain": [
       "<Figure size 640x480 with 0 Axes>"
      ]
     },
     "metadata": {},
     "output_type": "display_data"
    },
    {
     "data": {
      "text/plain": [
       "<Figure size 640x480 with 0 Axes>"
      ]
     },
     "metadata": {},
     "output_type": "display_data"
    },
    {
     "data": {
      "text/plain": [
       "<Figure size 640x480 with 0 Axes>"
      ]
     },
     "metadata": {},
     "output_type": "display_data"
    },
    {
     "data": {
      "text/plain": [
       "<Figure size 640x480 with 0 Axes>"
      ]
     },
     "metadata": {},
     "output_type": "display_data"
    },
    {
     "data": {
      "text/plain": [
       "<Figure size 640x480 with 0 Axes>"
      ]
     },
     "metadata": {},
     "output_type": "display_data"
    },
    {
     "data": {
      "text/plain": [
       "<Figure size 640x480 with 0 Axes>"
      ]
     },
     "metadata": {},
     "output_type": "display_data"
    },
    {
     "data": {
      "text/plain": [
       "<Figure size 640x480 with 0 Axes>"
      ]
     },
     "metadata": {},
     "output_type": "display_data"
    },
    {
     "data": {
      "text/plain": [
       "<Figure size 640x480 with 0 Axes>"
      ]
     },
     "metadata": {},
     "output_type": "display_data"
    },
    {
     "data": {
      "text/plain": [
       "<Figure size 640x480 with 0 Axes>"
      ]
     },
     "metadata": {},
     "output_type": "display_data"
    },
    {
     "data": {
      "text/plain": [
       "<Figure size 640x480 with 0 Axes>"
      ]
     },
     "metadata": {},
     "output_type": "display_data"
    },
    {
     "data": {
      "text/plain": [
       "<Figure size 640x480 with 0 Axes>"
      ]
     },
     "metadata": {},
     "output_type": "display_data"
    },
    {
     "data": {
      "text/plain": [
       "<Figure size 640x480 with 0 Axes>"
      ]
     },
     "metadata": {},
     "output_type": "display_data"
    },
    {
     "data": {
      "text/plain": [
       "<Figure size 640x480 with 0 Axes>"
      ]
     },
     "metadata": {},
     "output_type": "display_data"
    },
    {
     "data": {
      "text/plain": [
       "<Figure size 640x480 with 0 Axes>"
      ]
     },
     "metadata": {},
     "output_type": "display_data"
    },
    {
     "data": {
      "text/plain": [
       "<Figure size 640x480 with 0 Axes>"
      ]
     },
     "metadata": {},
     "output_type": "display_data"
    },
    {
     "data": {
      "text/plain": [
       "<Figure size 640x480 with 0 Axes>"
      ]
     },
     "metadata": {},
     "output_type": "display_data"
    },
    {
     "data": {
      "text/plain": [
       "<Figure size 640x480 with 0 Axes>"
      ]
     },
     "metadata": {},
     "output_type": "display_data"
    },
    {
     "data": {
      "text/plain": [
       "<Figure size 640x480 with 0 Axes>"
      ]
     },
     "metadata": {},
     "output_type": "display_data"
    },
    {
     "data": {
      "text/plain": [
       "<Figure size 640x480 with 0 Axes>"
      ]
     },
     "metadata": {},
     "output_type": "display_data"
    },
    {
     "data": {
      "text/plain": [
       "<Figure size 640x480 with 0 Axes>"
      ]
     },
     "metadata": {},
     "output_type": "display_data"
    },
    {
     "data": {
      "text/plain": [
       "<Figure size 640x480 with 0 Axes>"
      ]
     },
     "metadata": {},
     "output_type": "display_data"
    },
    {
     "data": {
      "text/plain": [
       "<Figure size 640x480 with 0 Axes>"
      ]
     },
     "metadata": {},
     "output_type": "display_data"
    },
    {
     "data": {
      "text/plain": [
       "<Figure size 640x480 with 0 Axes>"
      ]
     },
     "metadata": {},
     "output_type": "display_data"
    },
    {
     "data": {
      "text/plain": [
       "<Figure size 640x480 with 0 Axes>"
      ]
     },
     "metadata": {},
     "output_type": "display_data"
    },
    {
     "data": {
      "text/plain": [
       "<Figure size 640x480 with 0 Axes>"
      ]
     },
     "metadata": {},
     "output_type": "display_data"
    },
    {
     "data": {
      "text/plain": [
       "<Figure size 640x480 with 0 Axes>"
      ]
     },
     "metadata": {},
     "output_type": "display_data"
    },
    {
     "data": {
      "text/plain": [
       "<Figure size 640x480 with 0 Axes>"
      ]
     },
     "metadata": {},
     "output_type": "display_data"
    },
    {
     "data": {
      "text/plain": [
       "<Figure size 640x480 with 0 Axes>"
      ]
     },
     "metadata": {},
     "output_type": "display_data"
    },
    {
     "data": {
      "text/plain": [
       "<Figure size 640x480 with 0 Axes>"
      ]
     },
     "metadata": {},
     "output_type": "display_data"
    },
    {
     "data": {
      "text/plain": [
       "<Figure size 640x480 with 0 Axes>"
      ]
     },
     "metadata": {},
     "output_type": "display_data"
    },
    {
     "data": {
      "text/plain": [
       "<Figure size 640x480 with 0 Axes>"
      ]
     },
     "metadata": {},
     "output_type": "display_data"
    },
    {
     "data": {
      "text/plain": [
       "<Figure size 640x480 with 0 Axes>"
      ]
     },
     "metadata": {},
     "output_type": "display_data"
    },
    {
     "data": {
      "text/plain": [
       "<Figure size 640x480 with 0 Axes>"
      ]
     },
     "metadata": {},
     "output_type": "display_data"
    },
    {
     "data": {
      "text/plain": [
       "<Figure size 640x480 with 0 Axes>"
      ]
     },
     "metadata": {},
     "output_type": "display_data"
    },
    {
     "data": {
      "text/plain": [
       "<Figure size 640x480 with 0 Axes>"
      ]
     },
     "metadata": {},
     "output_type": "display_data"
    },
    {
     "data": {
      "text/plain": [
       "<Figure size 640x480 with 0 Axes>"
      ]
     },
     "metadata": {},
     "output_type": "display_data"
    },
    {
     "data": {
      "text/plain": [
       "<Figure size 640x480 with 0 Axes>"
      ]
     },
     "metadata": {},
     "output_type": "display_data"
    },
    {
     "data": {
      "text/plain": [
       "<Figure size 640x480 with 0 Axes>"
      ]
     },
     "metadata": {},
     "output_type": "display_data"
    },
    {
     "data": {
      "text/plain": [
       "<Figure size 640x480 with 0 Axes>"
      ]
     },
     "metadata": {},
     "output_type": "display_data"
    },
    {
     "data": {
      "text/plain": [
       "<Figure size 640x480 with 0 Axes>"
      ]
     },
     "metadata": {},
     "output_type": "display_data"
    },
    {
     "data": {
      "text/plain": [
       "<Figure size 640x480 with 0 Axes>"
      ]
     },
     "metadata": {},
     "output_type": "display_data"
    },
    {
     "data": {
      "text/plain": [
       "<Figure size 640x480 with 0 Axes>"
      ]
     },
     "metadata": {},
     "output_type": "display_data"
    },
    {
     "data": {
      "text/plain": [
       "<Figure size 640x480 with 0 Axes>"
      ]
     },
     "metadata": {},
     "output_type": "display_data"
    },
    {
     "data": {
      "text/plain": [
       "<Figure size 640x480 with 0 Axes>"
      ]
     },
     "metadata": {},
     "output_type": "display_data"
    },
    {
     "data": {
      "text/plain": [
       "<Figure size 640x480 with 0 Axes>"
      ]
     },
     "metadata": {},
     "output_type": "display_data"
    },
    {
     "data": {
      "text/plain": [
       "<Figure size 640x480 with 0 Axes>"
      ]
     },
     "metadata": {},
     "output_type": "display_data"
    },
    {
     "data": {
      "text/plain": [
       "<Figure size 640x480 with 0 Axes>"
      ]
     },
     "metadata": {},
     "output_type": "display_data"
    },
    {
     "data": {
      "text/plain": [
       "<Figure size 640x480 with 0 Axes>"
      ]
     },
     "metadata": {},
     "output_type": "display_data"
    },
    {
     "data": {
      "text/plain": [
       "<Figure size 640x480 with 0 Axes>"
      ]
     },
     "metadata": {},
     "output_type": "display_data"
    },
    {
     "data": {
      "text/plain": [
       "<Figure size 640x480 with 0 Axes>"
      ]
     },
     "metadata": {},
     "output_type": "display_data"
    },
    {
     "data": {
      "text/plain": [
       "<Figure size 640x480 with 0 Axes>"
      ]
     },
     "metadata": {},
     "output_type": "display_data"
    },
    {
     "data": {
      "text/plain": [
       "<Figure size 640x480 with 0 Axes>"
      ]
     },
     "metadata": {},
     "output_type": "display_data"
    },
    {
     "data": {
      "text/plain": [
       "<Figure size 640x480 with 0 Axes>"
      ]
     },
     "metadata": {},
     "output_type": "display_data"
    },
    {
     "data": {
      "text/plain": [
       "<Figure size 640x480 with 0 Axes>"
      ]
     },
     "metadata": {},
     "output_type": "display_data"
    },
    {
     "data": {
      "text/plain": [
       "<Figure size 640x480 with 0 Axes>"
      ]
     },
     "metadata": {},
     "output_type": "display_data"
    },
    {
     "data": {
      "text/plain": [
       "<Figure size 640x480 with 0 Axes>"
      ]
     },
     "metadata": {},
     "output_type": "display_data"
    },
    {
     "data": {
      "text/plain": [
       "<Figure size 640x480 with 0 Axes>"
      ]
     },
     "metadata": {},
     "output_type": "display_data"
    },
    {
     "data": {
      "text/plain": [
       "<Figure size 640x480 with 0 Axes>"
      ]
     },
     "metadata": {},
     "output_type": "display_data"
    },
    {
     "data": {
      "text/plain": [
       "<Figure size 640x480 with 0 Axes>"
      ]
     },
     "metadata": {},
     "output_type": "display_data"
    },
    {
     "data": {
      "text/plain": [
       "<Figure size 640x480 with 0 Axes>"
      ]
     },
     "metadata": {},
     "output_type": "display_data"
    },
    {
     "data": {
      "text/plain": [
       "<Figure size 640x480 with 0 Axes>"
      ]
     },
     "metadata": {},
     "output_type": "display_data"
    },
    {
     "data": {
      "text/plain": [
       "<Figure size 640x480 with 0 Axes>"
      ]
     },
     "metadata": {},
     "output_type": "display_data"
    },
    {
     "data": {
      "text/plain": [
       "<Figure size 640x480 with 0 Axes>"
      ]
     },
     "metadata": {},
     "output_type": "display_data"
    },
    {
     "data": {
      "text/plain": [
       "<Figure size 640x480 with 0 Axes>"
      ]
     },
     "metadata": {},
     "output_type": "display_data"
    },
    {
     "data": {
      "text/plain": [
       "<Figure size 640x480 with 0 Axes>"
      ]
     },
     "metadata": {},
     "output_type": "display_data"
    },
    {
     "data": {
      "text/plain": [
       "<Figure size 640x480 with 0 Axes>"
      ]
     },
     "metadata": {},
     "output_type": "display_data"
    },
    {
     "data": {
      "text/plain": [
       "<Figure size 640x480 with 0 Axes>"
      ]
     },
     "metadata": {},
     "output_type": "display_data"
    },
    {
     "data": {
      "text/plain": [
       "<Figure size 640x480 with 0 Axes>"
      ]
     },
     "metadata": {},
     "output_type": "display_data"
    },
    {
     "data": {
      "text/plain": [
       "<Figure size 640x480 with 0 Axes>"
      ]
     },
     "metadata": {},
     "output_type": "display_data"
    },
    {
     "data": {
      "text/plain": [
       "<Figure size 640x480 with 0 Axes>"
      ]
     },
     "metadata": {},
     "output_type": "display_data"
    },
    {
     "data": {
      "text/plain": [
       "<Figure size 640x480 with 0 Axes>"
      ]
     },
     "metadata": {},
     "output_type": "display_data"
    },
    {
     "data": {
      "text/plain": [
       "<Figure size 640x480 with 0 Axes>"
      ]
     },
     "metadata": {},
     "output_type": "display_data"
    },
    {
     "data": {
      "text/plain": [
       "<Figure size 640x480 with 0 Axes>"
      ]
     },
     "metadata": {},
     "output_type": "display_data"
    },
    {
     "data": {
      "text/plain": [
       "<Figure size 640x480 with 0 Axes>"
      ]
     },
     "metadata": {},
     "output_type": "display_data"
    },
    {
     "data": {
      "text/plain": [
       "<Figure size 640x480 with 0 Axes>"
      ]
     },
     "metadata": {},
     "output_type": "display_data"
    },
    {
     "data": {
      "text/plain": [
       "<Figure size 640x480 with 0 Axes>"
      ]
     },
     "metadata": {},
     "output_type": "display_data"
    },
    {
     "data": {
      "text/plain": [
       "<Figure size 640x480 with 0 Axes>"
      ]
     },
     "metadata": {},
     "output_type": "display_data"
    },
    {
     "data": {
      "text/plain": [
       "<Figure size 640x480 with 0 Axes>"
      ]
     },
     "metadata": {},
     "output_type": "display_data"
    },
    {
     "data": {
      "text/plain": [
       "<Figure size 640x480 with 0 Axes>"
      ]
     },
     "metadata": {},
     "output_type": "display_data"
    },
    {
     "data": {
      "text/plain": [
       "<Figure size 640x480 with 0 Axes>"
      ]
     },
     "metadata": {},
     "output_type": "display_data"
    },
    {
     "data": {
      "text/plain": [
       "<Figure size 640x480 with 0 Axes>"
      ]
     },
     "metadata": {},
     "output_type": "display_data"
    },
    {
     "data": {
      "text/plain": [
       "<Figure size 640x480 with 0 Axes>"
      ]
     },
     "metadata": {},
     "output_type": "display_data"
    },
    {
     "data": {
      "text/plain": [
       "<Figure size 640x480 with 0 Axes>"
      ]
     },
     "metadata": {},
     "output_type": "display_data"
    },
    {
     "data": {
      "text/plain": [
       "<Figure size 640x480 with 0 Axes>"
      ]
     },
     "metadata": {},
     "output_type": "display_data"
    },
    {
     "data": {
      "text/plain": [
       "<Figure size 640x480 with 0 Axes>"
      ]
     },
     "metadata": {},
     "output_type": "display_data"
    },
    {
     "data": {
      "text/plain": [
       "<Figure size 640x480 with 0 Axes>"
      ]
     },
     "metadata": {},
     "output_type": "display_data"
    },
    {
     "data": {
      "text/plain": [
       "<Figure size 640x480 with 0 Axes>"
      ]
     },
     "metadata": {},
     "output_type": "display_data"
    },
    {
     "data": {
      "text/plain": [
       "<Figure size 640x480 with 0 Axes>"
      ]
     },
     "metadata": {},
     "output_type": "display_data"
    },
    {
     "data": {
      "text/plain": [
       "<Figure size 640x480 with 0 Axes>"
      ]
     },
     "metadata": {},
     "output_type": "display_data"
    },
    {
     "data": {
      "text/plain": [
       "<Figure size 640x480 with 0 Axes>"
      ]
     },
     "metadata": {},
     "output_type": "display_data"
    },
    {
     "data": {
      "text/plain": [
       "<Figure size 640x480 with 0 Axes>"
      ]
     },
     "metadata": {},
     "output_type": "display_data"
    },
    {
     "data": {
      "text/plain": [
       "<Figure size 640x480 with 0 Axes>"
      ]
     },
     "metadata": {},
     "output_type": "display_data"
    },
    {
     "data": {
      "text/plain": [
       "<Figure size 640x480 with 0 Axes>"
      ]
     },
     "metadata": {},
     "output_type": "display_data"
    },
    {
     "data": {
      "text/plain": [
       "<Figure size 640x480 with 0 Axes>"
      ]
     },
     "metadata": {},
     "output_type": "display_data"
    },
    {
     "data": {
      "text/plain": [
       "<Figure size 640x480 with 0 Axes>"
      ]
     },
     "metadata": {},
     "output_type": "display_data"
    },
    {
     "data": {
      "text/plain": [
       "<Figure size 640x480 with 0 Axes>"
      ]
     },
     "metadata": {},
     "output_type": "display_data"
    },
    {
     "data": {
      "text/plain": [
       "<Figure size 640x480 with 0 Axes>"
      ]
     },
     "metadata": {},
     "output_type": "display_data"
    },
    {
     "data": {
      "text/plain": [
       "<Figure size 640x480 with 0 Axes>"
      ]
     },
     "metadata": {},
     "output_type": "display_data"
    },
    {
     "data": {
      "text/plain": [
       "<Figure size 640x480 with 0 Axes>"
      ]
     },
     "metadata": {},
     "output_type": "display_data"
    },
    {
     "data": {
      "text/plain": [
       "<Figure size 640x480 with 0 Axes>"
      ]
     },
     "metadata": {},
     "output_type": "display_data"
    },
    {
     "data": {
      "text/plain": [
       "<Figure size 640x480 with 0 Axes>"
      ]
     },
     "metadata": {},
     "output_type": "display_data"
    },
    {
     "data": {
      "text/plain": [
       "<Figure size 640x480 with 0 Axes>"
      ]
     },
     "metadata": {},
     "output_type": "display_data"
    },
    {
     "data": {
      "text/plain": [
       "<Figure size 640x480 with 0 Axes>"
      ]
     },
     "metadata": {},
     "output_type": "display_data"
    },
    {
     "data": {
      "text/plain": [
       "<Figure size 640x480 with 0 Axes>"
      ]
     },
     "metadata": {},
     "output_type": "display_data"
    },
    {
     "data": {
      "text/plain": [
       "<Figure size 640x480 with 0 Axes>"
      ]
     },
     "metadata": {},
     "output_type": "display_data"
    },
    {
     "data": {
      "text/plain": [
       "<Figure size 640x480 with 0 Axes>"
      ]
     },
     "metadata": {},
     "output_type": "display_data"
    },
    {
     "data": {
      "text/plain": [
       "<Figure size 640x480 with 0 Axes>"
      ]
     },
     "metadata": {},
     "output_type": "display_data"
    },
    {
     "data": {
      "text/plain": [
       "<Figure size 640x480 with 0 Axes>"
      ]
     },
     "metadata": {},
     "output_type": "display_data"
    },
    {
     "data": {
      "text/plain": [
       "<Figure size 640x480 with 0 Axes>"
      ]
     },
     "metadata": {},
     "output_type": "display_data"
    },
    {
     "data": {
      "text/plain": [
       "<Figure size 640x480 with 0 Axes>"
      ]
     },
     "metadata": {},
     "output_type": "display_data"
    },
    {
     "data": {
      "text/plain": [
       "<Figure size 640x480 with 0 Axes>"
      ]
     },
     "metadata": {},
     "output_type": "display_data"
    },
    {
     "data": {
      "text/plain": [
       "<Figure size 640x480 with 0 Axes>"
      ]
     },
     "metadata": {},
     "output_type": "display_data"
    },
    {
     "data": {
      "text/plain": [
       "<Figure size 640x480 with 0 Axes>"
      ]
     },
     "metadata": {},
     "output_type": "display_data"
    },
    {
     "data": {
      "text/plain": [
       "<Figure size 640x480 with 0 Axes>"
      ]
     },
     "metadata": {},
     "output_type": "display_data"
    },
    {
     "data": {
      "text/plain": [
       "<Figure size 640x480 with 0 Axes>"
      ]
     },
     "metadata": {},
     "output_type": "display_data"
    },
    {
     "data": {
      "text/plain": [
       "<Figure size 640x480 with 0 Axes>"
      ]
     },
     "metadata": {},
     "output_type": "display_data"
    },
    {
     "data": {
      "text/plain": [
       "<Figure size 640x480 with 0 Axes>"
      ]
     },
     "metadata": {},
     "output_type": "display_data"
    },
    {
     "data": {
      "text/plain": [
       "<Figure size 640x480 with 0 Axes>"
      ]
     },
     "metadata": {},
     "output_type": "display_data"
    },
    {
     "data": {
      "text/plain": [
       "<Figure size 640x480 with 0 Axes>"
      ]
     },
     "metadata": {},
     "output_type": "display_data"
    },
    {
     "data": {
      "text/plain": [
       "<Figure size 640x480 with 0 Axes>"
      ]
     },
     "metadata": {},
     "output_type": "display_data"
    },
    {
     "data": {
      "text/plain": [
       "<Figure size 640x480 with 0 Axes>"
      ]
     },
     "metadata": {},
     "output_type": "display_data"
    },
    {
     "data": {
      "text/plain": [
       "<Figure size 640x480 with 0 Axes>"
      ]
     },
     "metadata": {},
     "output_type": "display_data"
    },
    {
     "data": {
      "text/plain": [
       "<Figure size 640x480 with 0 Axes>"
      ]
     },
     "metadata": {},
     "output_type": "display_data"
    },
    {
     "data": {
      "text/plain": [
       "<Figure size 640x480 with 0 Axes>"
      ]
     },
     "metadata": {},
     "output_type": "display_data"
    },
    {
     "data": {
      "text/plain": [
       "<Figure size 640x480 with 0 Axes>"
      ]
     },
     "metadata": {},
     "output_type": "display_data"
    },
    {
     "data": {
      "text/plain": [
       "<Figure size 640x480 with 0 Axes>"
      ]
     },
     "metadata": {},
     "output_type": "display_data"
    },
    {
     "data": {
      "text/plain": [
       "<Figure size 640x480 with 0 Axes>"
      ]
     },
     "metadata": {},
     "output_type": "display_data"
    },
    {
     "data": {
      "text/plain": [
       "<Figure size 640x480 with 0 Axes>"
      ]
     },
     "metadata": {},
     "output_type": "display_data"
    },
    {
     "data": {
      "text/plain": [
       "<Figure size 640x480 with 0 Axes>"
      ]
     },
     "metadata": {},
     "output_type": "display_data"
    },
    {
     "data": {
      "text/plain": [
       "<Figure size 640x480 with 0 Axes>"
      ]
     },
     "metadata": {},
     "output_type": "display_data"
    },
    {
     "data": {
      "text/plain": [
       "<Figure size 640x480 with 0 Axes>"
      ]
     },
     "metadata": {},
     "output_type": "display_data"
    },
    {
     "data": {
      "text/plain": [
       "<Figure size 640x480 with 0 Axes>"
      ]
     },
     "metadata": {},
     "output_type": "display_data"
    },
    {
     "data": {
      "text/plain": [
       "<Figure size 640x480 with 0 Axes>"
      ]
     },
     "metadata": {},
     "output_type": "display_data"
    },
    {
     "data": {
      "text/plain": [
       "<Figure size 640x480 with 0 Axes>"
      ]
     },
     "metadata": {},
     "output_type": "display_data"
    },
    {
     "data": {
      "text/plain": [
       "<Figure size 640x480 with 0 Axes>"
      ]
     },
     "metadata": {},
     "output_type": "display_data"
    },
    {
     "data": {
      "text/plain": [
       "<Figure size 640x480 with 0 Axes>"
      ]
     },
     "metadata": {},
     "output_type": "display_data"
    },
    {
     "data": {
      "text/plain": [
       "<Figure size 640x480 with 0 Axes>"
      ]
     },
     "metadata": {},
     "output_type": "display_data"
    },
    {
     "data": {
      "text/plain": [
       "<Figure size 640x480 with 0 Axes>"
      ]
     },
     "metadata": {},
     "output_type": "display_data"
    },
    {
     "data": {
      "text/plain": [
       "<Figure size 640x480 with 0 Axes>"
      ]
     },
     "metadata": {},
     "output_type": "display_data"
    },
    {
     "data": {
      "text/plain": [
       "<Figure size 640x480 with 0 Axes>"
      ]
     },
     "metadata": {},
     "output_type": "display_data"
    },
    {
     "data": {
      "text/plain": [
       "<Figure size 640x480 with 0 Axes>"
      ]
     },
     "metadata": {},
     "output_type": "display_data"
    },
    {
     "data": {
      "text/plain": [
       "<Figure size 640x480 with 0 Axes>"
      ]
     },
     "metadata": {},
     "output_type": "display_data"
    },
    {
     "data": {
      "text/plain": [
       "<Figure size 640x480 with 0 Axes>"
      ]
     },
     "metadata": {},
     "output_type": "display_data"
    },
    {
     "data": {
      "text/plain": [
       "<Figure size 640x480 with 0 Axes>"
      ]
     },
     "metadata": {},
     "output_type": "display_data"
    },
    {
     "data": {
      "text/plain": [
       "<Figure size 640x480 with 0 Axes>"
      ]
     },
     "metadata": {},
     "output_type": "display_data"
    },
    {
     "data": {
      "text/plain": [
       "<Figure size 640x480 with 0 Axes>"
      ]
     },
     "metadata": {},
     "output_type": "display_data"
    },
    {
     "data": {
      "text/plain": [
       "<Figure size 640x480 with 0 Axes>"
      ]
     },
     "metadata": {},
     "output_type": "display_data"
    },
    {
     "data": {
      "text/plain": [
       "<Figure size 640x480 with 0 Axes>"
      ]
     },
     "metadata": {},
     "output_type": "display_data"
    },
    {
     "data": {
      "text/plain": [
       "<Figure size 640x480 with 0 Axes>"
      ]
     },
     "metadata": {},
     "output_type": "display_data"
    },
    {
     "data": {
      "text/plain": [
       "<Figure size 640x480 with 0 Axes>"
      ]
     },
     "metadata": {},
     "output_type": "display_data"
    },
    {
     "data": {
      "text/plain": [
       "<Figure size 640x480 with 0 Axes>"
      ]
     },
     "metadata": {},
     "output_type": "display_data"
    },
    {
     "data": {
      "text/plain": [
       "<Figure size 640x480 with 0 Axes>"
      ]
     },
     "metadata": {},
     "output_type": "display_data"
    },
    {
     "data": {
      "text/plain": [
       "<Figure size 640x480 with 0 Axes>"
      ]
     },
     "metadata": {},
     "output_type": "display_data"
    },
    {
     "data": {
      "text/plain": [
       "<Figure size 640x480 with 0 Axes>"
      ]
     },
     "metadata": {},
     "output_type": "display_data"
    },
    {
     "data": {
      "text/plain": [
       "<Figure size 640x480 with 0 Axes>"
      ]
     },
     "metadata": {},
     "output_type": "display_data"
    },
    {
     "data": {
      "text/plain": [
       "<Figure size 640x480 with 0 Axes>"
      ]
     },
     "metadata": {},
     "output_type": "display_data"
    },
    {
     "data": {
      "text/plain": [
       "<Figure size 640x480 with 0 Axes>"
      ]
     },
     "metadata": {},
     "output_type": "display_data"
    },
    {
     "data": {
      "text/plain": [
       "<Figure size 640x480 with 0 Axes>"
      ]
     },
     "metadata": {},
     "output_type": "display_data"
    },
    {
     "data": {
      "text/plain": [
       "<Figure size 640x480 with 0 Axes>"
      ]
     },
     "metadata": {},
     "output_type": "display_data"
    },
    {
     "data": {
      "text/plain": [
       "<Figure size 640x480 with 0 Axes>"
      ]
     },
     "metadata": {},
     "output_type": "display_data"
    },
    {
     "data": {
      "text/plain": [
       "<Figure size 640x480 with 0 Axes>"
      ]
     },
     "metadata": {},
     "output_type": "display_data"
    },
    {
     "data": {
      "text/plain": [
       "<Figure size 640x480 with 0 Axes>"
      ]
     },
     "metadata": {},
     "output_type": "display_data"
    },
    {
     "data": {
      "text/plain": [
       "<Figure size 640x480 with 0 Axes>"
      ]
     },
     "metadata": {},
     "output_type": "display_data"
    },
    {
     "data": {
      "text/plain": [
       "<Figure size 640x480 with 0 Axes>"
      ]
     },
     "metadata": {},
     "output_type": "display_data"
    },
    {
     "data": {
      "text/plain": [
       "<Figure size 640x480 with 0 Axes>"
      ]
     },
     "metadata": {},
     "output_type": "display_data"
    },
    {
     "data": {
      "text/plain": [
       "<Figure size 640x480 with 0 Axes>"
      ]
     },
     "metadata": {},
     "output_type": "display_data"
    },
    {
     "data": {
      "text/plain": [
       "<Figure size 640x480 with 0 Axes>"
      ]
     },
     "metadata": {},
     "output_type": "display_data"
    },
    {
     "data": {
      "text/plain": [
       "<Figure size 640x480 with 0 Axes>"
      ]
     },
     "metadata": {},
     "output_type": "display_data"
    },
    {
     "data": {
      "text/plain": [
       "<Figure size 640x480 with 0 Axes>"
      ]
     },
     "metadata": {},
     "output_type": "display_data"
    },
    {
     "data": {
      "text/plain": [
       "<Figure size 640x480 with 0 Axes>"
      ]
     },
     "metadata": {},
     "output_type": "display_data"
    },
    {
     "data": {
      "text/plain": [
       "<Figure size 640x480 with 0 Axes>"
      ]
     },
     "metadata": {},
     "output_type": "display_data"
    },
    {
     "data": {
      "text/plain": [
       "<Figure size 640x480 with 0 Axes>"
      ]
     },
     "metadata": {},
     "output_type": "display_data"
    },
    {
     "data": {
      "text/plain": [
       "<Figure size 640x480 with 0 Axes>"
      ]
     },
     "metadata": {},
     "output_type": "display_data"
    },
    {
     "data": {
      "text/plain": [
       "<Figure size 640x480 with 0 Axes>"
      ]
     },
     "metadata": {},
     "output_type": "display_data"
    },
    {
     "data": {
      "text/plain": [
       "<Figure size 640x480 with 0 Axes>"
      ]
     },
     "metadata": {},
     "output_type": "display_data"
    },
    {
     "data": {
      "text/plain": [
       "<Figure size 640x480 with 0 Axes>"
      ]
     },
     "metadata": {},
     "output_type": "display_data"
    },
    {
     "data": {
      "text/plain": [
       "<Figure size 640x480 with 0 Axes>"
      ]
     },
     "metadata": {},
     "output_type": "display_data"
    },
    {
     "data": {
      "text/plain": [
       "<Figure size 640x480 with 0 Axes>"
      ]
     },
     "metadata": {},
     "output_type": "display_data"
    },
    {
     "data": {
      "text/plain": [
       "<Figure size 640x480 with 0 Axes>"
      ]
     },
     "metadata": {},
     "output_type": "display_data"
    },
    {
     "data": {
      "text/plain": [
       "<Figure size 640x480 with 0 Axes>"
      ]
     },
     "metadata": {},
     "output_type": "display_data"
    },
    {
     "data": {
      "text/plain": [
       "<Figure size 640x480 with 0 Axes>"
      ]
     },
     "metadata": {},
     "output_type": "display_data"
    },
    {
     "data": {
      "text/plain": [
       "<Figure size 640x480 with 0 Axes>"
      ]
     },
     "metadata": {},
     "output_type": "display_data"
    },
    {
     "data": {
      "text/plain": [
       "<Figure size 640x480 with 0 Axes>"
      ]
     },
     "metadata": {},
     "output_type": "display_data"
    },
    {
     "data": {
      "text/plain": [
       "<Figure size 640x480 with 0 Axes>"
      ]
     },
     "metadata": {},
     "output_type": "display_data"
    },
    {
     "data": {
      "text/plain": [
       "<Figure size 640x480 with 0 Axes>"
      ]
     },
     "metadata": {},
     "output_type": "display_data"
    },
    {
     "data": {
      "text/plain": [
       "<Figure size 640x480 with 0 Axes>"
      ]
     },
     "metadata": {},
     "output_type": "display_data"
    },
    {
     "data": {
      "text/plain": [
       "<Figure size 640x480 with 0 Axes>"
      ]
     },
     "metadata": {},
     "output_type": "display_data"
    },
    {
     "data": {
      "text/plain": [
       "<Figure size 640x480 with 0 Axes>"
      ]
     },
     "metadata": {},
     "output_type": "display_data"
    },
    {
     "data": {
      "text/plain": [
       "<Figure size 640x480 with 0 Axes>"
      ]
     },
     "metadata": {},
     "output_type": "display_data"
    },
    {
     "data": {
      "text/plain": [
       "<Figure size 640x480 with 0 Axes>"
      ]
     },
     "metadata": {},
     "output_type": "display_data"
    },
    {
     "data": {
      "text/plain": [
       "<Figure size 640x480 with 0 Axes>"
      ]
     },
     "metadata": {},
     "output_type": "display_data"
    },
    {
     "data": {
      "text/plain": [
       "<Figure size 640x480 with 0 Axes>"
      ]
     },
     "metadata": {},
     "output_type": "display_data"
    },
    {
     "data": {
      "text/plain": [
       "<Figure size 640x480 with 0 Axes>"
      ]
     },
     "metadata": {},
     "output_type": "display_data"
    },
    {
     "data": {
      "text/plain": [
       "<Figure size 640x480 with 0 Axes>"
      ]
     },
     "metadata": {},
     "output_type": "display_data"
    },
    {
     "data": {
      "text/plain": [
       "<Figure size 640x480 with 0 Axes>"
      ]
     },
     "metadata": {},
     "output_type": "display_data"
    },
    {
     "data": {
      "text/plain": [
       "<Figure size 640x480 with 0 Axes>"
      ]
     },
     "metadata": {},
     "output_type": "display_data"
    },
    {
     "data": {
      "text/plain": [
       "<Figure size 640x480 with 0 Axes>"
      ]
     },
     "metadata": {},
     "output_type": "display_data"
    },
    {
     "data": {
      "text/plain": [
       "<Figure size 640x480 with 0 Axes>"
      ]
     },
     "metadata": {},
     "output_type": "display_data"
    },
    {
     "data": {
      "text/plain": [
       "<Figure size 640x480 with 0 Axes>"
      ]
     },
     "metadata": {},
     "output_type": "display_data"
    },
    {
     "data": {
      "text/plain": [
       "<Figure size 640x480 with 0 Axes>"
      ]
     },
     "metadata": {},
     "output_type": "display_data"
    },
    {
     "data": {
      "text/plain": [
       "<Figure size 640x480 with 0 Axes>"
      ]
     },
     "metadata": {},
     "output_type": "display_data"
    },
    {
     "data": {
      "text/plain": [
       "<Figure size 640x480 with 0 Axes>"
      ]
     },
     "metadata": {},
     "output_type": "display_data"
    },
    {
     "data": {
      "text/plain": [
       "<Figure size 640x480 with 0 Axes>"
      ]
     },
     "metadata": {},
     "output_type": "display_data"
    },
    {
     "data": {
      "text/plain": [
       "<Figure size 640x480 with 0 Axes>"
      ]
     },
     "metadata": {},
     "output_type": "display_data"
    },
    {
     "data": {
      "text/plain": [
       "<Figure size 640x480 with 0 Axes>"
      ]
     },
     "metadata": {},
     "output_type": "display_data"
    },
    {
     "data": {
      "text/plain": [
       "<Figure size 640x480 with 0 Axes>"
      ]
     },
     "metadata": {},
     "output_type": "display_data"
    },
    {
     "data": {
      "text/plain": [
       "<Figure size 640x480 with 0 Axes>"
      ]
     },
     "metadata": {},
     "output_type": "display_data"
    },
    {
     "data": {
      "text/plain": [
       "<Figure size 640x480 with 0 Axes>"
      ]
     },
     "metadata": {},
     "output_type": "display_data"
    },
    {
     "data": {
      "text/plain": [
       "<Figure size 640x480 with 0 Axes>"
      ]
     },
     "metadata": {},
     "output_type": "display_data"
    },
    {
     "data": {
      "text/plain": [
       "<Figure size 640x480 with 0 Axes>"
      ]
     },
     "metadata": {},
     "output_type": "display_data"
    },
    {
     "data": {
      "text/plain": [
       "<Figure size 640x480 with 0 Axes>"
      ]
     },
     "metadata": {},
     "output_type": "display_data"
    },
    {
     "data": {
      "text/plain": [
       "<Figure size 640x480 with 0 Axes>"
      ]
     },
     "metadata": {},
     "output_type": "display_data"
    },
    {
     "data": {
      "text/plain": [
       "<Figure size 640x480 with 0 Axes>"
      ]
     },
     "metadata": {},
     "output_type": "display_data"
    },
    {
     "data": {
      "text/plain": [
       "<Figure size 640x480 with 0 Axes>"
      ]
     },
     "metadata": {},
     "output_type": "display_data"
    },
    {
     "data": {
      "text/plain": [
       "<Figure size 640x480 with 0 Axes>"
      ]
     },
     "metadata": {},
     "output_type": "display_data"
    },
    {
     "data": {
      "text/plain": [
       "<Figure size 640x480 with 0 Axes>"
      ]
     },
     "metadata": {},
     "output_type": "display_data"
    },
    {
     "data": {
      "text/plain": [
       "<Figure size 640x480 with 0 Axes>"
      ]
     },
     "metadata": {},
     "output_type": "display_data"
    },
    {
     "data": {
      "text/plain": [
       "<Figure size 640x480 with 0 Axes>"
      ]
     },
     "metadata": {},
     "output_type": "display_data"
    },
    {
     "data": {
      "text/plain": [
       "<Figure size 640x480 with 0 Axes>"
      ]
     },
     "metadata": {},
     "output_type": "display_data"
    },
    {
     "data": {
      "text/plain": [
       "<Figure size 640x480 with 0 Axes>"
      ]
     },
     "metadata": {},
     "output_type": "display_data"
    },
    {
     "data": {
      "text/plain": [
       "<Figure size 640x480 with 0 Axes>"
      ]
     },
     "metadata": {},
     "output_type": "display_data"
    },
    {
     "data": {
      "text/plain": [
       "<Figure size 640x480 with 0 Axes>"
      ]
     },
     "metadata": {},
     "output_type": "display_data"
    },
    {
     "data": {
      "text/plain": [
       "<Figure size 640x480 with 0 Axes>"
      ]
     },
     "metadata": {},
     "output_type": "display_data"
    },
    {
     "data": {
      "text/plain": [
       "<Figure size 640x480 with 0 Axes>"
      ]
     },
     "metadata": {},
     "output_type": "display_data"
    },
    {
     "data": {
      "text/plain": [
       "<Figure size 640x480 with 0 Axes>"
      ]
     },
     "metadata": {},
     "output_type": "display_data"
    },
    {
     "data": {
      "text/plain": [
       "<Figure size 640x480 with 0 Axes>"
      ]
     },
     "metadata": {},
     "output_type": "display_data"
    },
    {
     "data": {
      "text/plain": [
       "<Figure size 640x480 with 0 Axes>"
      ]
     },
     "metadata": {},
     "output_type": "display_data"
    },
    {
     "data": {
      "text/plain": [
       "<Figure size 640x480 with 0 Axes>"
      ]
     },
     "metadata": {},
     "output_type": "display_data"
    },
    {
     "data": {
      "text/plain": [
       "<Figure size 640x480 with 0 Axes>"
      ]
     },
     "metadata": {},
     "output_type": "display_data"
    },
    {
     "data": {
      "text/plain": [
       "<Figure size 640x480 with 0 Axes>"
      ]
     },
     "metadata": {},
     "output_type": "display_data"
    },
    {
     "data": {
      "text/plain": [
       "<Figure size 640x480 with 0 Axes>"
      ]
     },
     "metadata": {},
     "output_type": "display_data"
    },
    {
     "data": {
      "text/plain": [
       "<Figure size 640x480 with 0 Axes>"
      ]
     },
     "metadata": {},
     "output_type": "display_data"
    },
    {
     "data": {
      "text/plain": [
       "<Figure size 640x480 with 0 Axes>"
      ]
     },
     "metadata": {},
     "output_type": "display_data"
    },
    {
     "data": {
      "text/plain": [
       "<Figure size 640x480 with 0 Axes>"
      ]
     },
     "metadata": {},
     "output_type": "display_data"
    },
    {
     "data": {
      "text/plain": [
       "<Figure size 640x480 with 0 Axes>"
      ]
     },
     "metadata": {},
     "output_type": "display_data"
    },
    {
     "data": {
      "text/plain": [
       "<Figure size 640x480 with 0 Axes>"
      ]
     },
     "metadata": {},
     "output_type": "display_data"
    },
    {
     "data": {
      "text/plain": [
       "<Figure size 640x480 with 0 Axes>"
      ]
     },
     "metadata": {},
     "output_type": "display_data"
    },
    {
     "data": {
      "text/plain": [
       "<Figure size 640x480 with 0 Axes>"
      ]
     },
     "metadata": {},
     "output_type": "display_data"
    },
    {
     "data": {
      "text/plain": [
       "<Figure size 640x480 with 0 Axes>"
      ]
     },
     "metadata": {},
     "output_type": "display_data"
    },
    {
     "data": {
      "text/plain": [
       "<Figure size 640x480 with 0 Axes>"
      ]
     },
     "metadata": {},
     "output_type": "display_data"
    },
    {
     "data": {
      "text/plain": [
       "<Figure size 640x480 with 0 Axes>"
      ]
     },
     "metadata": {},
     "output_type": "display_data"
    },
    {
     "data": {
      "text/plain": [
       "<Figure size 640x480 with 0 Axes>"
      ]
     },
     "metadata": {},
     "output_type": "display_data"
    },
    {
     "data": {
      "text/plain": [
       "<Figure size 640x480 with 0 Axes>"
      ]
     },
     "metadata": {},
     "output_type": "display_data"
    },
    {
     "data": {
      "text/plain": [
       "<Figure size 640x480 with 0 Axes>"
      ]
     },
     "metadata": {},
     "output_type": "display_data"
    },
    {
     "data": {
      "text/plain": [
       "<Figure size 640x480 with 0 Axes>"
      ]
     },
     "metadata": {},
     "output_type": "display_data"
    },
    {
     "data": {
      "text/plain": [
       "<Figure size 640x480 with 0 Axes>"
      ]
     },
     "metadata": {},
     "output_type": "display_data"
    },
    {
     "data": {
      "text/plain": [
       "<Figure size 640x480 with 0 Axes>"
      ]
     },
     "metadata": {},
     "output_type": "display_data"
    },
    {
     "data": {
      "text/plain": [
       "<Figure size 640x480 with 0 Axes>"
      ]
     },
     "metadata": {},
     "output_type": "display_data"
    },
    {
     "data": {
      "text/plain": [
       "<Figure size 640x480 with 0 Axes>"
      ]
     },
     "metadata": {},
     "output_type": "display_data"
    },
    {
     "data": {
      "text/plain": [
       "<Figure size 640x480 with 0 Axes>"
      ]
     },
     "metadata": {},
     "output_type": "display_data"
    },
    {
     "data": {
      "text/plain": [
       "<Figure size 640x480 with 0 Axes>"
      ]
     },
     "metadata": {},
     "output_type": "display_data"
    },
    {
     "data": {
      "text/plain": [
       "<Figure size 640x480 with 0 Axes>"
      ]
     },
     "metadata": {},
     "output_type": "display_data"
    },
    {
     "data": {
      "text/plain": [
       "<Figure size 640x480 with 0 Axes>"
      ]
     },
     "metadata": {},
     "output_type": "display_data"
    },
    {
     "data": {
      "text/plain": [
       "<Figure size 640x480 with 0 Axes>"
      ]
     },
     "metadata": {},
     "output_type": "display_data"
    },
    {
     "data": {
      "text/plain": [
       "<Figure size 640x480 with 0 Axes>"
      ]
     },
     "metadata": {},
     "output_type": "display_data"
    },
    {
     "data": {
      "text/plain": [
       "<Figure size 640x480 with 0 Axes>"
      ]
     },
     "metadata": {},
     "output_type": "display_data"
    },
    {
     "data": {
      "text/plain": [
       "<Figure size 640x480 with 0 Axes>"
      ]
     },
     "metadata": {},
     "output_type": "display_data"
    },
    {
     "data": {
      "text/plain": [
       "<Figure size 640x480 with 0 Axes>"
      ]
     },
     "metadata": {},
     "output_type": "display_data"
    },
    {
     "data": {
      "text/plain": [
       "<Figure size 640x480 with 0 Axes>"
      ]
     },
     "metadata": {},
     "output_type": "display_data"
    },
    {
     "data": {
      "text/plain": [
       "<Figure size 640x480 with 0 Axes>"
      ]
     },
     "metadata": {},
     "output_type": "display_data"
    },
    {
     "data": {
      "text/plain": [
       "<Figure size 640x480 with 0 Axes>"
      ]
     },
     "metadata": {},
     "output_type": "display_data"
    },
    {
     "data": {
      "text/plain": [
       "<Figure size 640x480 with 0 Axes>"
      ]
     },
     "metadata": {},
     "output_type": "display_data"
    },
    {
     "data": {
      "text/plain": [
       "<Figure size 640x480 with 0 Axes>"
      ]
     },
     "metadata": {},
     "output_type": "display_data"
    },
    {
     "data": {
      "text/plain": [
       "<Figure size 640x480 with 0 Axes>"
      ]
     },
     "metadata": {},
     "output_type": "display_data"
    },
    {
     "data": {
      "text/plain": [
       "<Figure size 640x480 with 0 Axes>"
      ]
     },
     "metadata": {},
     "output_type": "display_data"
    },
    {
     "data": {
      "text/plain": [
       "<Figure size 640x480 with 0 Axes>"
      ]
     },
     "metadata": {},
     "output_type": "display_data"
    },
    {
     "data": {
      "text/plain": [
       "<Figure size 640x480 with 0 Axes>"
      ]
     },
     "metadata": {},
     "output_type": "display_data"
    },
    {
     "data": {
      "text/plain": [
       "<Figure size 640x480 with 0 Axes>"
      ]
     },
     "metadata": {},
     "output_type": "display_data"
    },
    {
     "data": {
      "text/plain": [
       "<Figure size 640x480 with 0 Axes>"
      ]
     },
     "metadata": {},
     "output_type": "display_data"
    },
    {
     "data": {
      "text/plain": [
       "<Figure size 640x480 with 0 Axes>"
      ]
     },
     "metadata": {},
     "output_type": "display_data"
    },
    {
     "data": {
      "text/plain": [
       "<Figure size 640x480 with 0 Axes>"
      ]
     },
     "metadata": {},
     "output_type": "display_data"
    },
    {
     "data": {
      "text/plain": [
       "<Figure size 640x480 with 0 Axes>"
      ]
     },
     "metadata": {},
     "output_type": "display_data"
    },
    {
     "data": {
      "text/plain": [
       "<Figure size 640x480 with 0 Axes>"
      ]
     },
     "metadata": {},
     "output_type": "display_data"
    },
    {
     "data": {
      "text/plain": [
       "<Figure size 640x480 with 0 Axes>"
      ]
     },
     "metadata": {},
     "output_type": "display_data"
    },
    {
     "data": {
      "text/plain": [
       "<Figure size 640x480 with 0 Axes>"
      ]
     },
     "metadata": {},
     "output_type": "display_data"
    },
    {
     "data": {
      "text/plain": [
       "<Figure size 640x480 with 0 Axes>"
      ]
     },
     "metadata": {},
     "output_type": "display_data"
    },
    {
     "data": {
      "text/plain": [
       "<Figure size 640x480 with 0 Axes>"
      ]
     },
     "metadata": {},
     "output_type": "display_data"
    },
    {
     "data": {
      "text/plain": [
       "<Figure size 640x480 with 0 Axes>"
      ]
     },
     "metadata": {},
     "output_type": "display_data"
    },
    {
     "data": {
      "text/plain": [
       "<Figure size 640x480 with 0 Axes>"
      ]
     },
     "metadata": {},
     "output_type": "display_data"
    },
    {
     "data": {
      "text/plain": [
       "<Figure size 640x480 with 0 Axes>"
      ]
     },
     "metadata": {},
     "output_type": "display_data"
    },
    {
     "data": {
      "text/plain": [
       "<Figure size 640x480 with 0 Axes>"
      ]
     },
     "metadata": {},
     "output_type": "display_data"
    },
    {
     "data": {
      "text/plain": [
       "<Figure size 640x480 with 0 Axes>"
      ]
     },
     "metadata": {},
     "output_type": "display_data"
    },
    {
     "data": {
      "text/plain": [
       "<Figure size 640x480 with 0 Axes>"
      ]
     },
     "metadata": {},
     "output_type": "display_data"
    },
    {
     "data": {
      "text/plain": [
       "<Figure size 640x480 with 0 Axes>"
      ]
     },
     "metadata": {},
     "output_type": "display_data"
    },
    {
     "data": {
      "text/plain": [
       "<Figure size 640x480 with 0 Axes>"
      ]
     },
     "metadata": {},
     "output_type": "display_data"
    },
    {
     "data": {
      "text/plain": [
       "<Figure size 640x480 with 0 Axes>"
      ]
     },
     "metadata": {},
     "output_type": "display_data"
    },
    {
     "data": {
      "text/plain": [
       "<Figure size 640x480 with 0 Axes>"
      ]
     },
     "metadata": {},
     "output_type": "display_data"
    },
    {
     "data": {
      "text/plain": [
       "<Figure size 640x480 with 0 Axes>"
      ]
     },
     "metadata": {},
     "output_type": "display_data"
    },
    {
     "data": {
      "text/plain": [
       "<Figure size 640x480 with 0 Axes>"
      ]
     },
     "metadata": {},
     "output_type": "display_data"
    },
    {
     "data": {
      "text/plain": [
       "<Figure size 640x480 with 0 Axes>"
      ]
     },
     "metadata": {},
     "output_type": "display_data"
    },
    {
     "data": {
      "text/plain": [
       "<Figure size 640x480 with 0 Axes>"
      ]
     },
     "metadata": {},
     "output_type": "display_data"
    },
    {
     "data": {
      "text/plain": [
       "<Figure size 640x480 with 0 Axes>"
      ]
     },
     "metadata": {},
     "output_type": "display_data"
    },
    {
     "data": {
      "text/plain": [
       "<Figure size 640x480 with 0 Axes>"
      ]
     },
     "metadata": {},
     "output_type": "display_data"
    },
    {
     "data": {
      "text/plain": [
       "<Figure size 640x480 with 0 Axes>"
      ]
     },
     "metadata": {},
     "output_type": "display_data"
    },
    {
     "data": {
      "text/plain": [
       "<Figure size 640x480 with 0 Axes>"
      ]
     },
     "metadata": {},
     "output_type": "display_data"
    },
    {
     "data": {
      "text/plain": [
       "<Figure size 640x480 with 0 Axes>"
      ]
     },
     "metadata": {},
     "output_type": "display_data"
    },
    {
     "data": {
      "text/plain": [
       "<Figure size 640x480 with 0 Axes>"
      ]
     },
     "metadata": {},
     "output_type": "display_data"
    },
    {
     "data": {
      "text/plain": [
       "<Figure size 640x480 with 0 Axes>"
      ]
     },
     "metadata": {},
     "output_type": "display_data"
    },
    {
     "data": {
      "text/plain": [
       "<Figure size 640x480 with 0 Axes>"
      ]
     },
     "metadata": {},
     "output_type": "display_data"
    },
    {
     "data": {
      "text/plain": [
       "<Figure size 640x480 with 0 Axes>"
      ]
     },
     "metadata": {},
     "output_type": "display_data"
    },
    {
     "data": {
      "text/plain": [
       "<Figure size 640x480 with 0 Axes>"
      ]
     },
     "metadata": {},
     "output_type": "display_data"
    },
    {
     "data": {
      "text/plain": [
       "<Figure size 640x480 with 0 Axes>"
      ]
     },
     "metadata": {},
     "output_type": "display_data"
    },
    {
     "data": {
      "text/plain": [
       "<Figure size 640x480 with 0 Axes>"
      ]
     },
     "metadata": {},
     "output_type": "display_data"
    },
    {
     "data": {
      "text/plain": [
       "<Figure size 640x480 with 0 Axes>"
      ]
     },
     "metadata": {},
     "output_type": "display_data"
    },
    {
     "data": {
      "text/plain": [
       "<Figure size 640x480 with 0 Axes>"
      ]
     },
     "metadata": {},
     "output_type": "display_data"
    },
    {
     "data": {
      "text/plain": [
       "<Figure size 640x480 with 0 Axes>"
      ]
     },
     "metadata": {},
     "output_type": "display_data"
    },
    {
     "data": {
      "text/plain": [
       "<Figure size 640x480 with 0 Axes>"
      ]
     },
     "metadata": {},
     "output_type": "display_data"
    },
    {
     "data": {
      "text/plain": [
       "<Figure size 640x480 with 0 Axes>"
      ]
     },
     "metadata": {},
     "output_type": "display_data"
    },
    {
     "data": {
      "text/plain": [
       "<Figure size 640x480 with 0 Axes>"
      ]
     },
     "metadata": {},
     "output_type": "display_data"
    },
    {
     "data": {
      "text/plain": [
       "<Figure size 640x480 with 0 Axes>"
      ]
     },
     "metadata": {},
     "output_type": "display_data"
    },
    {
     "data": {
      "text/plain": [
       "<Figure size 640x480 with 0 Axes>"
      ]
     },
     "metadata": {},
     "output_type": "display_data"
    },
    {
     "data": {
      "text/plain": [
       "<Figure size 640x480 with 0 Axes>"
      ]
     },
     "metadata": {},
     "output_type": "display_data"
    },
    {
     "data": {
      "text/plain": [
       "<Figure size 640x480 with 0 Axes>"
      ]
     },
     "metadata": {},
     "output_type": "display_data"
    },
    {
     "data": {
      "text/plain": [
       "<Figure size 640x480 with 0 Axes>"
      ]
     },
     "metadata": {},
     "output_type": "display_data"
    },
    {
     "data": {
      "text/plain": [
       "<Figure size 640x480 with 0 Axes>"
      ]
     },
     "metadata": {},
     "output_type": "display_data"
    },
    {
     "data": {
      "text/plain": [
       "<Figure size 640x480 with 0 Axes>"
      ]
     },
     "metadata": {},
     "output_type": "display_data"
    },
    {
     "data": {
      "text/plain": [
       "<Figure size 640x480 with 0 Axes>"
      ]
     },
     "metadata": {},
     "output_type": "display_data"
    },
    {
     "data": {
      "text/plain": [
       "<Figure size 640x480 with 0 Axes>"
      ]
     },
     "metadata": {},
     "output_type": "display_data"
    },
    {
     "data": {
      "text/plain": [
       "<Figure size 640x480 with 0 Axes>"
      ]
     },
     "metadata": {},
     "output_type": "display_data"
    },
    {
     "data": {
      "text/plain": [
       "<Figure size 640x480 with 0 Axes>"
      ]
     },
     "metadata": {},
     "output_type": "display_data"
    },
    {
     "data": {
      "text/plain": [
       "<Figure size 640x480 with 0 Axes>"
      ]
     },
     "metadata": {},
     "output_type": "display_data"
    },
    {
     "data": {
      "text/plain": [
       "<Figure size 640x480 with 0 Axes>"
      ]
     },
     "metadata": {},
     "output_type": "display_data"
    },
    {
     "data": {
      "text/plain": [
       "<Figure size 640x480 with 0 Axes>"
      ]
     },
     "metadata": {},
     "output_type": "display_data"
    },
    {
     "data": {
      "text/plain": [
       "<Figure size 640x480 with 0 Axes>"
      ]
     },
     "metadata": {},
     "output_type": "display_data"
    },
    {
     "data": {
      "text/plain": [
       "<Figure size 640x480 with 0 Axes>"
      ]
     },
     "metadata": {},
     "output_type": "display_data"
    },
    {
     "data": {
      "text/plain": [
       "<Figure size 640x480 with 0 Axes>"
      ]
     },
     "metadata": {},
     "output_type": "display_data"
    },
    {
     "data": {
      "text/plain": [
       "<Figure size 640x480 with 0 Axes>"
      ]
     },
     "metadata": {},
     "output_type": "display_data"
    },
    {
     "data": {
      "text/plain": [
       "<Figure size 640x480 with 0 Axes>"
      ]
     },
     "metadata": {},
     "output_type": "display_data"
    },
    {
     "data": {
      "text/plain": [
       "<Figure size 640x480 with 0 Axes>"
      ]
     },
     "metadata": {},
     "output_type": "display_data"
    },
    {
     "data": {
      "text/plain": [
       "<Figure size 640x480 with 0 Axes>"
      ]
     },
     "metadata": {},
     "output_type": "display_data"
    },
    {
     "data": {
      "text/plain": [
       "<Figure size 640x480 with 0 Axes>"
      ]
     },
     "metadata": {},
     "output_type": "display_data"
    },
    {
     "data": {
      "text/plain": [
       "<Figure size 640x480 with 0 Axes>"
      ]
     },
     "metadata": {},
     "output_type": "display_data"
    },
    {
     "data": {
      "text/plain": [
       "<Figure size 640x480 with 0 Axes>"
      ]
     },
     "metadata": {},
     "output_type": "display_data"
    },
    {
     "data": {
      "text/plain": [
       "<Figure size 640x480 with 0 Axes>"
      ]
     },
     "metadata": {},
     "output_type": "display_data"
    },
    {
     "data": {
      "text/plain": [
       "<Figure size 640x480 with 0 Axes>"
      ]
     },
     "metadata": {},
     "output_type": "display_data"
    },
    {
     "data": {
      "text/plain": [
       "<Figure size 640x480 with 0 Axes>"
      ]
     },
     "metadata": {},
     "output_type": "display_data"
    },
    {
     "data": {
      "text/plain": [
       "<Figure size 640x480 with 0 Axes>"
      ]
     },
     "metadata": {},
     "output_type": "display_data"
    },
    {
     "data": {
      "text/plain": [
       "<Figure size 640x480 with 0 Axes>"
      ]
     },
     "metadata": {},
     "output_type": "display_data"
    },
    {
     "data": {
      "text/plain": [
       "<Figure size 640x480 with 0 Axes>"
      ]
     },
     "metadata": {},
     "output_type": "display_data"
    },
    {
     "data": {
      "text/plain": [
       "<Figure size 640x480 with 0 Axes>"
      ]
     },
     "metadata": {},
     "output_type": "display_data"
    },
    {
     "data": {
      "text/plain": [
       "<Figure size 640x480 with 0 Axes>"
      ]
     },
     "metadata": {},
     "output_type": "display_data"
    },
    {
     "data": {
      "text/plain": [
       "<Figure size 640x480 with 0 Axes>"
      ]
     },
     "metadata": {},
     "output_type": "display_data"
    },
    {
     "data": {
      "text/plain": [
       "<Figure size 640x480 with 0 Axes>"
      ]
     },
     "metadata": {},
     "output_type": "display_data"
    },
    {
     "data": {
      "text/plain": [
       "<Figure size 640x480 with 0 Axes>"
      ]
     },
     "metadata": {},
     "output_type": "display_data"
    },
    {
     "data": {
      "text/plain": [
       "<Figure size 640x480 with 0 Axes>"
      ]
     },
     "metadata": {},
     "output_type": "display_data"
    },
    {
     "data": {
      "text/plain": [
       "<Figure size 640x480 with 0 Axes>"
      ]
     },
     "metadata": {},
     "output_type": "display_data"
    },
    {
     "data": {
      "text/plain": [
       "<Figure size 640x480 with 0 Axes>"
      ]
     },
     "metadata": {},
     "output_type": "display_data"
    },
    {
     "data": {
      "text/plain": [
       "<Figure size 640x480 with 0 Axes>"
      ]
     },
     "metadata": {},
     "output_type": "display_data"
    },
    {
     "data": {
      "text/plain": [
       "<Figure size 640x480 with 0 Axes>"
      ]
     },
     "metadata": {},
     "output_type": "display_data"
    },
    {
     "data": {
      "text/plain": [
       "<Figure size 640x480 with 0 Axes>"
      ]
     },
     "metadata": {},
     "output_type": "display_data"
    },
    {
     "data": {
      "text/plain": [
       "<Figure size 640x480 with 0 Axes>"
      ]
     },
     "metadata": {},
     "output_type": "display_data"
    },
    {
     "data": {
      "text/plain": [
       "<Figure size 640x480 with 0 Axes>"
      ]
     },
     "metadata": {},
     "output_type": "display_data"
    },
    {
     "data": {
      "text/plain": [
       "<Figure size 640x480 with 0 Axes>"
      ]
     },
     "metadata": {},
     "output_type": "display_data"
    },
    {
     "data": {
      "text/plain": [
       "<Figure size 640x480 with 0 Axes>"
      ]
     },
     "metadata": {},
     "output_type": "display_data"
    },
    {
     "data": {
      "text/plain": [
       "<Figure size 640x480 with 0 Axes>"
      ]
     },
     "metadata": {},
     "output_type": "display_data"
    },
    {
     "data": {
      "text/plain": [
       "<Figure size 640x480 with 0 Axes>"
      ]
     },
     "metadata": {},
     "output_type": "display_data"
    },
    {
     "data": {
      "text/plain": [
       "<Figure size 640x480 with 0 Axes>"
      ]
     },
     "metadata": {},
     "output_type": "display_data"
    },
    {
     "data": {
      "text/plain": [
       "<Figure size 640x480 with 0 Axes>"
      ]
     },
     "metadata": {},
     "output_type": "display_data"
    },
    {
     "data": {
      "text/plain": [
       "<Figure size 640x480 with 0 Axes>"
      ]
     },
     "metadata": {},
     "output_type": "display_data"
    },
    {
     "data": {
      "text/plain": [
       "<Figure size 640x480 with 0 Axes>"
      ]
     },
     "metadata": {},
     "output_type": "display_data"
    },
    {
     "data": {
      "text/plain": [
       "<Figure size 640x480 with 0 Axes>"
      ]
     },
     "metadata": {},
     "output_type": "display_data"
    },
    {
     "data": {
      "text/plain": [
       "<Figure size 640x480 with 0 Axes>"
      ]
     },
     "metadata": {},
     "output_type": "display_data"
    },
    {
     "data": {
      "text/plain": [
       "<Figure size 640x480 with 0 Axes>"
      ]
     },
     "metadata": {},
     "output_type": "display_data"
    },
    {
     "data": {
      "text/plain": [
       "<Figure size 640x480 with 0 Axes>"
      ]
     },
     "metadata": {},
     "output_type": "display_data"
    },
    {
     "data": {
      "text/plain": [
       "<Figure size 640x480 with 0 Axes>"
      ]
     },
     "metadata": {},
     "output_type": "display_data"
    },
    {
     "data": {
      "text/plain": [
       "<Figure size 640x480 with 0 Axes>"
      ]
     },
     "metadata": {},
     "output_type": "display_data"
    },
    {
     "data": {
      "text/plain": [
       "<Figure size 640x480 with 0 Axes>"
      ]
     },
     "metadata": {},
     "output_type": "display_data"
    },
    {
     "data": {
      "text/plain": [
       "<Figure size 640x480 with 0 Axes>"
      ]
     },
     "metadata": {},
     "output_type": "display_data"
    },
    {
     "data": {
      "text/plain": [
       "<Figure size 640x480 with 0 Axes>"
      ]
     },
     "metadata": {},
     "output_type": "display_data"
    },
    {
     "data": {
      "text/plain": [
       "<Figure size 640x480 with 0 Axes>"
      ]
     },
     "metadata": {},
     "output_type": "display_data"
    },
    {
     "data": {
      "text/plain": [
       "<Figure size 640x480 with 0 Axes>"
      ]
     },
     "metadata": {},
     "output_type": "display_data"
    },
    {
     "data": {
      "text/plain": [
       "<Figure size 640x480 with 0 Axes>"
      ]
     },
     "metadata": {},
     "output_type": "display_data"
    },
    {
     "data": {
      "text/plain": [
       "<Figure size 640x480 with 0 Axes>"
      ]
     },
     "metadata": {},
     "output_type": "display_data"
    },
    {
     "data": {
      "text/plain": [
       "<Figure size 640x480 with 0 Axes>"
      ]
     },
     "metadata": {},
     "output_type": "display_data"
    },
    {
     "data": {
      "text/plain": [
       "<Figure size 640x480 with 0 Axes>"
      ]
     },
     "metadata": {},
     "output_type": "display_data"
    },
    {
     "data": {
      "text/plain": [
       "<Figure size 640x480 with 0 Axes>"
      ]
     },
     "metadata": {},
     "output_type": "display_data"
    },
    {
     "data": {
      "text/plain": [
       "<Figure size 640x480 with 0 Axes>"
      ]
     },
     "metadata": {},
     "output_type": "display_data"
    },
    {
     "data": {
      "text/plain": [
       "<Figure size 640x480 with 0 Axes>"
      ]
     },
     "metadata": {},
     "output_type": "display_data"
    },
    {
     "data": {
      "text/plain": [
       "<Figure size 640x480 with 0 Axes>"
      ]
     },
     "metadata": {},
     "output_type": "display_data"
    },
    {
     "data": {
      "text/plain": [
       "<Figure size 640x480 with 0 Axes>"
      ]
     },
     "metadata": {},
     "output_type": "display_data"
    },
    {
     "data": {
      "text/plain": [
       "<Figure size 640x480 with 0 Axes>"
      ]
     },
     "metadata": {},
     "output_type": "display_data"
    },
    {
     "data": {
      "text/plain": [
       "<Figure size 640x480 with 0 Axes>"
      ]
     },
     "metadata": {},
     "output_type": "display_data"
    },
    {
     "data": {
      "text/plain": [
       "<Figure size 640x480 with 0 Axes>"
      ]
     },
     "metadata": {},
     "output_type": "display_data"
    },
    {
     "data": {
      "text/plain": [
       "<Figure size 640x480 with 0 Axes>"
      ]
     },
     "metadata": {},
     "output_type": "display_data"
    },
    {
     "data": {
      "text/plain": [
       "<Figure size 640x480 with 0 Axes>"
      ]
     },
     "metadata": {},
     "output_type": "display_data"
    },
    {
     "data": {
      "text/plain": [
       "<Figure size 640x480 with 0 Axes>"
      ]
     },
     "metadata": {},
     "output_type": "display_data"
    },
    {
     "data": {
      "text/plain": [
       "<Figure size 640x480 with 0 Axes>"
      ]
     },
     "metadata": {},
     "output_type": "display_data"
    },
    {
     "data": {
      "text/plain": [
       "<Figure size 640x480 with 0 Axes>"
      ]
     },
     "metadata": {},
     "output_type": "display_data"
    },
    {
     "data": {
      "text/plain": [
       "<Figure size 640x480 with 0 Axes>"
      ]
     },
     "metadata": {},
     "output_type": "display_data"
    },
    {
     "data": {
      "text/plain": [
       "<Figure size 640x480 with 0 Axes>"
      ]
     },
     "metadata": {},
     "output_type": "display_data"
    },
    {
     "data": {
      "text/plain": [
       "<Figure size 640x480 with 0 Axes>"
      ]
     },
     "metadata": {},
     "output_type": "display_data"
    },
    {
     "data": {
      "text/plain": [
       "<Figure size 640x480 with 0 Axes>"
      ]
     },
     "metadata": {},
     "output_type": "display_data"
    },
    {
     "data": {
      "text/plain": [
       "<Figure size 640x480 with 0 Axes>"
      ]
     },
     "metadata": {},
     "output_type": "display_data"
    },
    {
     "data": {
      "text/plain": [
       "<Figure size 640x480 with 0 Axes>"
      ]
     },
     "metadata": {},
     "output_type": "display_data"
    },
    {
     "data": {
      "text/plain": [
       "<Figure size 640x480 with 0 Axes>"
      ]
     },
     "metadata": {},
     "output_type": "display_data"
    },
    {
     "data": {
      "text/plain": [
       "<Figure size 640x480 with 0 Axes>"
      ]
     },
     "metadata": {},
     "output_type": "display_data"
    },
    {
     "data": {
      "text/plain": [
       "<Figure size 640x480 with 0 Axes>"
      ]
     },
     "metadata": {},
     "output_type": "display_data"
    },
    {
     "data": {
      "text/plain": [
       "<Figure size 640x480 with 0 Axes>"
      ]
     },
     "metadata": {},
     "output_type": "display_data"
    },
    {
     "data": {
      "text/plain": [
       "<Figure size 640x480 with 0 Axes>"
      ]
     },
     "metadata": {},
     "output_type": "display_data"
    },
    {
     "data": {
      "text/plain": [
       "<Figure size 640x480 with 0 Axes>"
      ]
     },
     "metadata": {},
     "output_type": "display_data"
    },
    {
     "data": {
      "text/plain": [
       "<Figure size 640x480 with 0 Axes>"
      ]
     },
     "metadata": {},
     "output_type": "display_data"
    },
    {
     "data": {
      "text/plain": [
       "<Figure size 640x480 with 0 Axes>"
      ]
     },
     "metadata": {},
     "output_type": "display_data"
    },
    {
     "data": {
      "text/plain": [
       "<Figure size 640x480 with 0 Axes>"
      ]
     },
     "metadata": {},
     "output_type": "display_data"
    },
    {
     "data": {
      "text/plain": [
       "<Figure size 640x480 with 0 Axes>"
      ]
     },
     "metadata": {},
     "output_type": "display_data"
    },
    {
     "data": {
      "text/plain": [
       "<Figure size 640x480 with 0 Axes>"
      ]
     },
     "metadata": {},
     "output_type": "display_data"
    },
    {
     "data": {
      "text/plain": [
       "<Figure size 640x480 with 0 Axes>"
      ]
     },
     "metadata": {},
     "output_type": "display_data"
    },
    {
     "data": {
      "text/plain": [
       "<Figure size 640x480 with 0 Axes>"
      ]
     },
     "metadata": {},
     "output_type": "display_data"
    },
    {
     "data": {
      "text/plain": [
       "<Figure size 640x480 with 0 Axes>"
      ]
     },
     "metadata": {},
     "output_type": "display_data"
    },
    {
     "data": {
      "text/plain": [
       "<Figure size 640x480 with 0 Axes>"
      ]
     },
     "metadata": {},
     "output_type": "display_data"
    },
    {
     "data": {
      "text/plain": [
       "<Figure size 640x480 with 0 Axes>"
      ]
     },
     "metadata": {},
     "output_type": "display_data"
    },
    {
     "data": {
      "text/plain": [
       "<Figure size 640x480 with 0 Axes>"
      ]
     },
     "metadata": {},
     "output_type": "display_data"
    },
    {
     "data": {
      "text/plain": [
       "<Figure size 640x480 with 0 Axes>"
      ]
     },
     "metadata": {},
     "output_type": "display_data"
    },
    {
     "data": {
      "text/plain": [
       "<Figure size 640x480 with 0 Axes>"
      ]
     },
     "metadata": {},
     "output_type": "display_data"
    },
    {
     "data": {
      "text/plain": [
       "<Figure size 640x480 with 0 Axes>"
      ]
     },
     "metadata": {},
     "output_type": "display_data"
    },
    {
     "data": {
      "text/plain": [
       "<Figure size 640x480 with 0 Axes>"
      ]
     },
     "metadata": {},
     "output_type": "display_data"
    },
    {
     "data": {
      "text/plain": [
       "<Figure size 640x480 with 0 Axes>"
      ]
     },
     "metadata": {},
     "output_type": "display_data"
    },
    {
     "data": {
      "text/plain": [
       "<Figure size 640x480 with 0 Axes>"
      ]
     },
     "metadata": {},
     "output_type": "display_data"
    },
    {
     "data": {
      "text/plain": [
       "<Figure size 640x480 with 0 Axes>"
      ]
     },
     "metadata": {},
     "output_type": "display_data"
    },
    {
     "data": {
      "text/plain": [
       "<Figure size 640x480 with 0 Axes>"
      ]
     },
     "metadata": {},
     "output_type": "display_data"
    },
    {
     "data": {
      "text/plain": [
       "<Figure size 640x480 with 0 Axes>"
      ]
     },
     "metadata": {},
     "output_type": "display_data"
    },
    {
     "data": {
      "text/plain": [
       "<Figure size 640x480 with 0 Axes>"
      ]
     },
     "metadata": {},
     "output_type": "display_data"
    },
    {
     "data": {
      "text/plain": [
       "<Figure size 640x480 with 0 Axes>"
      ]
     },
     "metadata": {},
     "output_type": "display_data"
    },
    {
     "data": {
      "text/plain": [
       "<Figure size 640x480 with 0 Axes>"
      ]
     },
     "metadata": {},
     "output_type": "display_data"
    },
    {
     "data": {
      "text/plain": [
       "<Figure size 640x480 with 0 Axes>"
      ]
     },
     "metadata": {},
     "output_type": "display_data"
    },
    {
     "data": {
      "text/plain": [
       "<Figure size 640x480 with 0 Axes>"
      ]
     },
     "metadata": {},
     "output_type": "display_data"
    },
    {
     "data": {
      "text/plain": [
       "<Figure size 640x480 with 0 Axes>"
      ]
     },
     "metadata": {},
     "output_type": "display_data"
    },
    {
     "data": {
      "text/plain": [
       "<Figure size 640x480 with 0 Axes>"
      ]
     },
     "metadata": {},
     "output_type": "display_data"
    },
    {
     "data": {
      "text/plain": [
       "<Figure size 640x480 with 0 Axes>"
      ]
     },
     "metadata": {},
     "output_type": "display_data"
    },
    {
     "data": {
      "text/plain": [
       "<Figure size 640x480 with 0 Axes>"
      ]
     },
     "metadata": {},
     "output_type": "display_data"
    },
    {
     "data": {
      "text/plain": [
       "<Figure size 640x480 with 0 Axes>"
      ]
     },
     "metadata": {},
     "output_type": "display_data"
    },
    {
     "data": {
      "text/plain": [
       "<Figure size 640x480 with 0 Axes>"
      ]
     },
     "metadata": {},
     "output_type": "display_data"
    },
    {
     "data": {
      "text/plain": [
       "<Figure size 640x480 with 0 Axes>"
      ]
     },
     "metadata": {},
     "output_type": "display_data"
    },
    {
     "data": {
      "text/plain": [
       "<Figure size 640x480 with 0 Axes>"
      ]
     },
     "metadata": {},
     "output_type": "display_data"
    },
    {
     "data": {
      "text/plain": [
       "<Figure size 640x480 with 0 Axes>"
      ]
     },
     "metadata": {},
     "output_type": "display_data"
    },
    {
     "data": {
      "text/plain": [
       "<Figure size 640x480 with 0 Axes>"
      ]
     },
     "metadata": {},
     "output_type": "display_data"
    },
    {
     "data": {
      "text/plain": [
       "<Figure size 640x480 with 0 Axes>"
      ]
     },
     "metadata": {},
     "output_type": "display_data"
    },
    {
     "data": {
      "text/plain": [
       "<Figure size 640x480 with 0 Axes>"
      ]
     },
     "metadata": {},
     "output_type": "display_data"
    },
    {
     "data": {
      "text/plain": [
       "<Figure size 640x480 with 0 Axes>"
      ]
     },
     "metadata": {},
     "output_type": "display_data"
    },
    {
     "data": {
      "text/plain": [
       "<Figure size 640x480 with 0 Axes>"
      ]
     },
     "metadata": {},
     "output_type": "display_data"
    },
    {
     "data": {
      "text/plain": [
       "<Figure size 640x480 with 0 Axes>"
      ]
     },
     "metadata": {},
     "output_type": "display_data"
    },
    {
     "data": {
      "text/plain": [
       "<Figure size 640x480 with 0 Axes>"
      ]
     },
     "metadata": {},
     "output_type": "display_data"
    },
    {
     "data": {
      "text/plain": [
       "<Figure size 640x480 with 0 Axes>"
      ]
     },
     "metadata": {},
     "output_type": "display_data"
    },
    {
     "data": {
      "text/plain": [
       "<Figure size 640x480 with 0 Axes>"
      ]
     },
     "metadata": {},
     "output_type": "display_data"
    },
    {
     "data": {
      "text/plain": [
       "<Figure size 640x480 with 0 Axes>"
      ]
     },
     "metadata": {},
     "output_type": "display_data"
    },
    {
     "data": {
      "text/plain": [
       "<Figure size 640x480 with 0 Axes>"
      ]
     },
     "metadata": {},
     "output_type": "display_data"
    },
    {
     "data": {
      "text/plain": [
       "<Figure size 640x480 with 0 Axes>"
      ]
     },
     "metadata": {},
     "output_type": "display_data"
    },
    {
     "data": {
      "text/plain": [
       "<Figure size 640x480 with 0 Axes>"
      ]
     },
     "metadata": {},
     "output_type": "display_data"
    },
    {
     "data": {
      "text/plain": [
       "<Figure size 640x480 with 0 Axes>"
      ]
     },
     "metadata": {},
     "output_type": "display_data"
    },
    {
     "data": {
      "text/plain": [
       "<Figure size 640x480 with 0 Axes>"
      ]
     },
     "metadata": {},
     "output_type": "display_data"
    },
    {
     "data": {
      "text/plain": [
       "<Figure size 640x480 with 0 Axes>"
      ]
     },
     "metadata": {},
     "output_type": "display_data"
    },
    {
     "data": {
      "text/plain": [
       "<Figure size 640x480 with 0 Axes>"
      ]
     },
     "metadata": {},
     "output_type": "display_data"
    },
    {
     "data": {
      "text/plain": [
       "<Figure size 640x480 with 0 Axes>"
      ]
     },
     "metadata": {},
     "output_type": "display_data"
    },
    {
     "data": {
      "text/plain": [
       "<Figure size 640x480 with 0 Axes>"
      ]
     },
     "metadata": {},
     "output_type": "display_data"
    },
    {
     "data": {
      "text/plain": [
       "<Figure size 640x480 with 0 Axes>"
      ]
     },
     "metadata": {},
     "output_type": "display_data"
    },
    {
     "data": {
      "text/plain": [
       "<Figure size 640x480 with 0 Axes>"
      ]
     },
     "metadata": {},
     "output_type": "display_data"
    },
    {
     "data": {
      "text/plain": [
       "<Figure size 640x480 with 0 Axes>"
      ]
     },
     "metadata": {},
     "output_type": "display_data"
    },
    {
     "data": {
      "text/plain": [
       "<Figure size 640x480 with 0 Axes>"
      ]
     },
     "metadata": {},
     "output_type": "display_data"
    },
    {
     "data": {
      "text/plain": [
       "<Figure size 640x480 with 0 Axes>"
      ]
     },
     "metadata": {},
     "output_type": "display_data"
    },
    {
     "data": {
      "text/plain": [
       "<Figure size 640x480 with 0 Axes>"
      ]
     },
     "metadata": {},
     "output_type": "display_data"
    },
    {
     "data": {
      "text/plain": [
       "<Figure size 640x480 with 0 Axes>"
      ]
     },
     "metadata": {},
     "output_type": "display_data"
    },
    {
     "data": {
      "text/plain": [
       "<Figure size 640x480 with 0 Axes>"
      ]
     },
     "metadata": {},
     "output_type": "display_data"
    },
    {
     "data": {
      "text/plain": [
       "<Figure size 640x480 with 0 Axes>"
      ]
     },
     "metadata": {},
     "output_type": "display_data"
    },
    {
     "data": {
      "text/plain": [
       "<Figure size 640x480 with 0 Axes>"
      ]
     },
     "metadata": {},
     "output_type": "display_data"
    },
    {
     "data": {
      "text/plain": [
       "<Figure size 640x480 with 0 Axes>"
      ]
     },
     "metadata": {},
     "output_type": "display_data"
    },
    {
     "data": {
      "text/plain": [
       "<Figure size 640x480 with 0 Axes>"
      ]
     },
     "metadata": {},
     "output_type": "display_data"
    },
    {
     "data": {
      "text/plain": [
       "<Figure size 640x480 with 0 Axes>"
      ]
     },
     "metadata": {},
     "output_type": "display_data"
    },
    {
     "data": {
      "text/plain": [
       "<Figure size 640x480 with 0 Axes>"
      ]
     },
     "metadata": {},
     "output_type": "display_data"
    },
    {
     "data": {
      "text/plain": [
       "<Figure size 640x480 with 0 Axes>"
      ]
     },
     "metadata": {},
     "output_type": "display_data"
    },
    {
     "data": {
      "text/plain": [
       "<Figure size 640x480 with 0 Axes>"
      ]
     },
     "metadata": {},
     "output_type": "display_data"
    },
    {
     "data": {
      "text/plain": [
       "<Figure size 640x480 with 0 Axes>"
      ]
     },
     "metadata": {},
     "output_type": "display_data"
    },
    {
     "data": {
      "text/plain": [
       "<Figure size 640x480 with 0 Axes>"
      ]
     },
     "metadata": {},
     "output_type": "display_data"
    },
    {
     "data": {
      "text/plain": [
       "<Figure size 640x480 with 0 Axes>"
      ]
     },
     "metadata": {},
     "output_type": "display_data"
    },
    {
     "data": {
      "text/plain": [
       "<Figure size 640x480 with 0 Axes>"
      ]
     },
     "metadata": {},
     "output_type": "display_data"
    },
    {
     "data": {
      "text/plain": [
       "<Figure size 640x480 with 0 Axes>"
      ]
     },
     "metadata": {},
     "output_type": "display_data"
    },
    {
     "data": {
      "text/plain": [
       "<Figure size 640x480 with 0 Axes>"
      ]
     },
     "metadata": {},
     "output_type": "display_data"
    },
    {
     "data": {
      "text/plain": [
       "<Figure size 640x480 with 0 Axes>"
      ]
     },
     "metadata": {},
     "output_type": "display_data"
    },
    {
     "data": {
      "text/plain": [
       "<Figure size 640x480 with 0 Axes>"
      ]
     },
     "metadata": {},
     "output_type": "display_data"
    },
    {
     "data": {
      "text/plain": [
       "<Figure size 640x480 with 0 Axes>"
      ]
     },
     "metadata": {},
     "output_type": "display_data"
    },
    {
     "data": {
      "text/plain": [
       "<Figure size 640x480 with 0 Axes>"
      ]
     },
     "metadata": {},
     "output_type": "display_data"
    },
    {
     "data": {
      "text/plain": [
       "<Figure size 640x480 with 0 Axes>"
      ]
     },
     "metadata": {},
     "output_type": "display_data"
    },
    {
     "data": {
      "text/plain": [
       "<Figure size 640x480 with 0 Axes>"
      ]
     },
     "metadata": {},
     "output_type": "display_data"
    },
    {
     "data": {
      "text/plain": [
       "<Figure size 640x480 with 0 Axes>"
      ]
     },
     "metadata": {},
     "output_type": "display_data"
    },
    {
     "data": {
      "text/plain": [
       "<Figure size 640x480 with 0 Axes>"
      ]
     },
     "metadata": {},
     "output_type": "display_data"
    },
    {
     "data": {
      "text/plain": [
       "<Figure size 640x480 with 0 Axes>"
      ]
     },
     "metadata": {},
     "output_type": "display_data"
    },
    {
     "data": {
      "text/plain": [
       "<Figure size 640x480 with 0 Axes>"
      ]
     },
     "metadata": {},
     "output_type": "display_data"
    },
    {
     "data": {
      "text/plain": [
       "<Figure size 640x480 with 0 Axes>"
      ]
     },
     "metadata": {},
     "output_type": "display_data"
    },
    {
     "data": {
      "text/plain": [
       "<Figure size 640x480 with 0 Axes>"
      ]
     },
     "metadata": {},
     "output_type": "display_data"
    },
    {
     "data": {
      "text/plain": [
       "<Figure size 640x480 with 0 Axes>"
      ]
     },
     "metadata": {},
     "output_type": "display_data"
    },
    {
     "data": {
      "text/plain": [
       "<Figure size 640x480 with 0 Axes>"
      ]
     },
     "metadata": {},
     "output_type": "display_data"
    },
    {
     "data": {
      "text/plain": [
       "<Figure size 640x480 with 0 Axes>"
      ]
     },
     "metadata": {},
     "output_type": "display_data"
    },
    {
     "data": {
      "text/plain": [
       "<Figure size 640x480 with 0 Axes>"
      ]
     },
     "metadata": {},
     "output_type": "display_data"
    },
    {
     "data": {
      "text/plain": [
       "<Figure size 640x480 with 0 Axes>"
      ]
     },
     "metadata": {},
     "output_type": "display_data"
    },
    {
     "data": {
      "text/plain": [
       "<Figure size 640x480 with 0 Axes>"
      ]
     },
     "metadata": {},
     "output_type": "display_data"
    },
    {
     "data": {
      "text/plain": [
       "<Figure size 640x480 with 0 Axes>"
      ]
     },
     "metadata": {},
     "output_type": "display_data"
    },
    {
     "data": {
      "text/plain": [
       "<Figure size 640x480 with 0 Axes>"
      ]
     },
     "metadata": {},
     "output_type": "display_data"
    },
    {
     "data": {
      "text/plain": [
       "<Figure size 640x480 with 0 Axes>"
      ]
     },
     "metadata": {},
     "output_type": "display_data"
    },
    {
     "data": {
      "text/plain": [
       "<Figure size 640x480 with 0 Axes>"
      ]
     },
     "metadata": {},
     "output_type": "display_data"
    },
    {
     "data": {
      "text/plain": [
       "<Figure size 640x480 with 0 Axes>"
      ]
     },
     "metadata": {},
     "output_type": "display_data"
    },
    {
     "data": {
      "text/plain": [
       "<Figure size 640x480 with 0 Axes>"
      ]
     },
     "metadata": {},
     "output_type": "display_data"
    },
    {
     "data": {
      "text/plain": [
       "<Figure size 640x480 with 0 Axes>"
      ]
     },
     "metadata": {},
     "output_type": "display_data"
    },
    {
     "data": {
      "text/plain": [
       "<Figure size 640x480 with 0 Axes>"
      ]
     },
     "metadata": {},
     "output_type": "display_data"
    },
    {
     "data": {
      "text/plain": [
       "<Figure size 640x480 with 0 Axes>"
      ]
     },
     "metadata": {},
     "output_type": "display_data"
    },
    {
     "data": {
      "text/plain": [
       "<Figure size 640x480 with 0 Axes>"
      ]
     },
     "metadata": {},
     "output_type": "display_data"
    },
    {
     "data": {
      "text/plain": [
       "<Figure size 640x480 with 0 Axes>"
      ]
     },
     "metadata": {},
     "output_type": "display_data"
    },
    {
     "data": {
      "text/plain": [
       "<Figure size 640x480 with 0 Axes>"
      ]
     },
     "metadata": {},
     "output_type": "display_data"
    },
    {
     "data": {
      "text/plain": [
       "<Figure size 640x480 with 0 Axes>"
      ]
     },
     "metadata": {},
     "output_type": "display_data"
    },
    {
     "data": {
      "text/plain": [
       "<Figure size 640x480 with 0 Axes>"
      ]
     },
     "metadata": {},
     "output_type": "display_data"
    },
    {
     "data": {
      "text/plain": [
       "<Figure size 640x480 with 0 Axes>"
      ]
     },
     "metadata": {},
     "output_type": "display_data"
    },
    {
     "data": {
      "text/plain": [
       "<Figure size 640x480 with 0 Axes>"
      ]
     },
     "metadata": {},
     "output_type": "display_data"
    },
    {
     "data": {
      "text/plain": [
       "<Figure size 640x480 with 0 Axes>"
      ]
     },
     "metadata": {},
     "output_type": "display_data"
    },
    {
     "data": {
      "text/plain": [
       "<Figure size 640x480 with 0 Axes>"
      ]
     },
     "metadata": {},
     "output_type": "display_data"
    },
    {
     "data": {
      "text/plain": [
       "<Figure size 640x480 with 0 Axes>"
      ]
     },
     "metadata": {},
     "output_type": "display_data"
    },
    {
     "data": {
      "text/plain": [
       "<Figure size 640x480 with 0 Axes>"
      ]
     },
     "metadata": {},
     "output_type": "display_data"
    },
    {
     "data": {
      "text/plain": [
       "<Figure size 640x480 with 0 Axes>"
      ]
     },
     "metadata": {},
     "output_type": "display_data"
    },
    {
     "data": {
      "text/plain": [
       "<Figure size 640x480 with 0 Axes>"
      ]
     },
     "metadata": {},
     "output_type": "display_data"
    },
    {
     "data": {
      "text/plain": [
       "<Figure size 640x480 with 0 Axes>"
      ]
     },
     "metadata": {},
     "output_type": "display_data"
    },
    {
     "data": {
      "text/plain": [
       "<Figure size 640x480 with 0 Axes>"
      ]
     },
     "metadata": {},
     "output_type": "display_data"
    },
    {
     "data": {
      "text/plain": [
       "<Figure size 640x480 with 0 Axes>"
      ]
     },
     "metadata": {},
     "output_type": "display_data"
    },
    {
     "data": {
      "text/plain": [
       "<Figure size 640x480 with 0 Axes>"
      ]
     },
     "metadata": {},
     "output_type": "display_data"
    },
    {
     "data": {
      "text/plain": [
       "<Figure size 640x480 with 0 Axes>"
      ]
     },
     "metadata": {},
     "output_type": "display_data"
    },
    {
     "data": {
      "text/plain": [
       "<Figure size 640x480 with 0 Axes>"
      ]
     },
     "metadata": {},
     "output_type": "display_data"
    },
    {
     "data": {
      "text/plain": [
       "<Figure size 640x480 with 0 Axes>"
      ]
     },
     "metadata": {},
     "output_type": "display_data"
    },
    {
     "data": {
      "text/plain": [
       "<Figure size 640x480 with 0 Axes>"
      ]
     },
     "metadata": {},
     "output_type": "display_data"
    },
    {
     "data": {
      "text/plain": [
       "<Figure size 640x480 with 0 Axes>"
      ]
     },
     "metadata": {},
     "output_type": "display_data"
    },
    {
     "data": {
      "text/plain": [
       "<Figure size 640x480 with 0 Axes>"
      ]
     },
     "metadata": {},
     "output_type": "display_data"
    },
    {
     "data": {
      "text/plain": [
       "<Figure size 640x480 with 0 Axes>"
      ]
     },
     "metadata": {},
     "output_type": "display_data"
    },
    {
     "data": {
      "text/plain": [
       "<Figure size 640x480 with 0 Axes>"
      ]
     },
     "metadata": {},
     "output_type": "display_data"
    },
    {
     "data": {
      "text/plain": [
       "<Figure size 640x480 with 0 Axes>"
      ]
     },
     "metadata": {},
     "output_type": "display_data"
    },
    {
     "data": {
      "text/plain": [
       "<Figure size 640x480 with 0 Axes>"
      ]
     },
     "metadata": {},
     "output_type": "display_data"
    },
    {
     "data": {
      "text/plain": [
       "<Figure size 640x480 with 0 Axes>"
      ]
     },
     "metadata": {},
     "output_type": "display_data"
    },
    {
     "data": {
      "text/plain": [
       "<Figure size 640x480 with 0 Axes>"
      ]
     },
     "metadata": {},
     "output_type": "display_data"
    },
    {
     "data": {
      "text/plain": [
       "<Figure size 640x480 with 0 Axes>"
      ]
     },
     "metadata": {},
     "output_type": "display_data"
    },
    {
     "data": {
      "text/plain": [
       "<Figure size 640x480 with 0 Axes>"
      ]
     },
     "metadata": {},
     "output_type": "display_data"
    },
    {
     "data": {
      "text/plain": [
       "<Figure size 640x480 with 0 Axes>"
      ]
     },
     "metadata": {},
     "output_type": "display_data"
    },
    {
     "data": {
      "text/plain": [
       "<Figure size 640x480 with 0 Axes>"
      ]
     },
     "metadata": {},
     "output_type": "display_data"
    },
    {
     "data": {
      "text/plain": [
       "<Figure size 640x480 with 0 Axes>"
      ]
     },
     "metadata": {},
     "output_type": "display_data"
    },
    {
     "data": {
      "text/plain": [
       "<Figure size 640x480 with 0 Axes>"
      ]
     },
     "metadata": {},
     "output_type": "display_data"
    },
    {
     "data": {
      "text/plain": [
       "<Figure size 640x480 with 0 Axes>"
      ]
     },
     "metadata": {},
     "output_type": "display_data"
    },
    {
     "data": {
      "text/plain": [
       "<Figure size 640x480 with 0 Axes>"
      ]
     },
     "metadata": {},
     "output_type": "display_data"
    },
    {
     "data": {
      "text/plain": [
       "<Figure size 640x480 with 0 Axes>"
      ]
     },
     "metadata": {},
     "output_type": "display_data"
    },
    {
     "data": {
      "text/plain": [
       "<Figure size 640x480 with 0 Axes>"
      ]
     },
     "metadata": {},
     "output_type": "display_data"
    },
    {
     "data": {
      "text/plain": [
       "<Figure size 640x480 with 0 Axes>"
      ]
     },
     "metadata": {},
     "output_type": "display_data"
    },
    {
     "data": {
      "text/plain": [
       "<Figure size 640x480 with 0 Axes>"
      ]
     },
     "metadata": {},
     "output_type": "display_data"
    },
    {
     "data": {
      "text/plain": [
       "<Figure size 640x480 with 0 Axes>"
      ]
     },
     "metadata": {},
     "output_type": "display_data"
    },
    {
     "data": {
      "text/plain": [
       "<Figure size 640x480 with 0 Axes>"
      ]
     },
     "metadata": {},
     "output_type": "display_data"
    },
    {
     "data": {
      "text/plain": [
       "<Figure size 640x480 with 0 Axes>"
      ]
     },
     "metadata": {},
     "output_type": "display_data"
    },
    {
     "data": {
      "text/plain": [
       "<Figure size 640x480 with 0 Axes>"
      ]
     },
     "metadata": {},
     "output_type": "display_data"
    },
    {
     "data": {
      "text/plain": [
       "<Figure size 640x480 with 0 Axes>"
      ]
     },
     "metadata": {},
     "output_type": "display_data"
    },
    {
     "data": {
      "text/plain": [
       "<Figure size 640x480 with 0 Axes>"
      ]
     },
     "metadata": {},
     "output_type": "display_data"
    },
    {
     "data": {
      "text/plain": [
       "<Figure size 640x480 with 0 Axes>"
      ]
     },
     "metadata": {},
     "output_type": "display_data"
    },
    {
     "data": {
      "text/plain": [
       "<Figure size 640x480 with 0 Axes>"
      ]
     },
     "metadata": {},
     "output_type": "display_data"
    },
    {
     "data": {
      "text/plain": [
       "<Figure size 640x480 with 0 Axes>"
      ]
     },
     "metadata": {},
     "output_type": "display_data"
    },
    {
     "data": {
      "text/plain": [
       "<Figure size 640x480 with 0 Axes>"
      ]
     },
     "metadata": {},
     "output_type": "display_data"
    },
    {
     "data": {
      "text/plain": [
       "<Figure size 640x480 with 0 Axes>"
      ]
     },
     "metadata": {},
     "output_type": "display_data"
    },
    {
     "data": {
      "text/plain": [
       "<Figure size 640x480 with 0 Axes>"
      ]
     },
     "metadata": {},
     "output_type": "display_data"
    },
    {
     "data": {
      "text/plain": [
       "<Figure size 640x480 with 0 Axes>"
      ]
     },
     "metadata": {},
     "output_type": "display_data"
    },
    {
     "data": {
      "text/plain": [
       "<Figure size 640x480 with 0 Axes>"
      ]
     },
     "metadata": {},
     "output_type": "display_data"
    },
    {
     "data": {
      "text/plain": [
       "<Figure size 640x480 with 0 Axes>"
      ]
     },
     "metadata": {},
     "output_type": "display_data"
    },
    {
     "data": {
      "text/plain": [
       "<Figure size 640x480 with 0 Axes>"
      ]
     },
     "metadata": {},
     "output_type": "display_data"
    },
    {
     "data": {
      "text/plain": [
       "<Figure size 640x480 with 0 Axes>"
      ]
     },
     "metadata": {},
     "output_type": "display_data"
    },
    {
     "data": {
      "text/plain": [
       "<Figure size 640x480 with 0 Axes>"
      ]
     },
     "metadata": {},
     "output_type": "display_data"
    },
    {
     "data": {
      "text/plain": [
       "<Figure size 640x480 with 0 Axes>"
      ]
     },
     "metadata": {},
     "output_type": "display_data"
    },
    {
     "data": {
      "text/plain": [
       "<Figure size 640x480 with 0 Axes>"
      ]
     },
     "metadata": {},
     "output_type": "display_data"
    },
    {
     "data": {
      "text/plain": [
       "<Figure size 640x480 with 0 Axes>"
      ]
     },
     "metadata": {},
     "output_type": "display_data"
    },
    {
     "data": {
      "text/plain": [
       "<Figure size 640x480 with 0 Axes>"
      ]
     },
     "metadata": {},
     "output_type": "display_data"
    },
    {
     "data": {
      "text/plain": [
       "<Figure size 640x480 with 0 Axes>"
      ]
     },
     "metadata": {},
     "output_type": "display_data"
    },
    {
     "data": {
      "text/plain": [
       "<Figure size 640x480 with 0 Axes>"
      ]
     },
     "metadata": {},
     "output_type": "display_data"
    },
    {
     "data": {
      "text/plain": [
       "<Figure size 640x480 with 0 Axes>"
      ]
     },
     "metadata": {},
     "output_type": "display_data"
    },
    {
     "data": {
      "text/plain": [
       "<Figure size 640x480 with 0 Axes>"
      ]
     },
     "metadata": {},
     "output_type": "display_data"
    },
    {
     "data": {
      "text/plain": [
       "<Figure size 640x480 with 0 Axes>"
      ]
     },
     "metadata": {},
     "output_type": "display_data"
    },
    {
     "data": {
      "text/plain": [
       "<Figure size 640x480 with 0 Axes>"
      ]
     },
     "metadata": {},
     "output_type": "display_data"
    },
    {
     "data": {
      "text/plain": [
       "<Figure size 640x480 with 0 Axes>"
      ]
     },
     "metadata": {},
     "output_type": "display_data"
    },
    {
     "data": {
      "text/plain": [
       "<Figure size 640x480 with 0 Axes>"
      ]
     },
     "metadata": {},
     "output_type": "display_data"
    },
    {
     "data": {
      "text/plain": [
       "<Figure size 640x480 with 0 Axes>"
      ]
     },
     "metadata": {},
     "output_type": "display_data"
    },
    {
     "data": {
      "text/plain": [
       "<Figure size 640x480 with 0 Axes>"
      ]
     },
     "metadata": {},
     "output_type": "display_data"
    },
    {
     "data": {
      "text/plain": [
       "<Figure size 640x480 with 0 Axes>"
      ]
     },
     "metadata": {},
     "output_type": "display_data"
    },
    {
     "data": {
      "text/plain": [
       "<Figure size 640x480 with 0 Axes>"
      ]
     },
     "metadata": {},
     "output_type": "display_data"
    },
    {
     "data": {
      "text/plain": [
       "<Figure size 640x480 with 0 Axes>"
      ]
     },
     "metadata": {},
     "output_type": "display_data"
    },
    {
     "data": {
      "text/plain": [
       "<Figure size 640x480 with 0 Axes>"
      ]
     },
     "metadata": {},
     "output_type": "display_data"
    },
    {
     "data": {
      "text/plain": [
       "<Figure size 640x480 with 0 Axes>"
      ]
     },
     "metadata": {},
     "output_type": "display_data"
    },
    {
     "data": {
      "text/plain": [
       "<Figure size 640x480 with 0 Axes>"
      ]
     },
     "metadata": {},
     "output_type": "display_data"
    },
    {
     "data": {
      "text/plain": [
       "<Figure size 640x480 with 0 Axes>"
      ]
     },
     "metadata": {},
     "output_type": "display_data"
    },
    {
     "data": {
      "text/plain": [
       "<Figure size 640x480 with 0 Axes>"
      ]
     },
     "metadata": {},
     "output_type": "display_data"
    },
    {
     "data": {
      "text/plain": [
       "<Figure size 640x480 with 0 Axes>"
      ]
     },
     "metadata": {},
     "output_type": "display_data"
    },
    {
     "data": {
      "text/plain": [
       "<Figure size 640x480 with 0 Axes>"
      ]
     },
     "metadata": {},
     "output_type": "display_data"
    },
    {
     "data": {
      "text/plain": [
       "<Figure size 640x480 with 0 Axes>"
      ]
     },
     "metadata": {},
     "output_type": "display_data"
    },
    {
     "data": {
      "text/plain": [
       "<Figure size 640x480 with 0 Axes>"
      ]
     },
     "metadata": {},
     "output_type": "display_data"
    },
    {
     "data": {
      "text/plain": [
       "<Figure size 640x480 with 0 Axes>"
      ]
     },
     "metadata": {},
     "output_type": "display_data"
    },
    {
     "data": {
      "text/plain": [
       "<Figure size 640x480 with 0 Axes>"
      ]
     },
     "metadata": {},
     "output_type": "display_data"
    },
    {
     "data": {
      "text/plain": [
       "<Figure size 640x480 with 0 Axes>"
      ]
     },
     "metadata": {},
     "output_type": "display_data"
    },
    {
     "data": {
      "text/plain": [
       "<Figure size 640x480 with 0 Axes>"
      ]
     },
     "metadata": {},
     "output_type": "display_data"
    },
    {
     "data": {
      "text/plain": [
       "<Figure size 640x480 with 0 Axes>"
      ]
     },
     "metadata": {},
     "output_type": "display_data"
    },
    {
     "data": {
      "text/plain": [
       "<Figure size 640x480 with 0 Axes>"
      ]
     },
     "metadata": {},
     "output_type": "display_data"
    },
    {
     "data": {
      "text/plain": [
       "<Figure size 640x480 with 0 Axes>"
      ]
     },
     "metadata": {},
     "output_type": "display_data"
    },
    {
     "data": {
      "text/plain": [
       "<Figure size 640x480 with 0 Axes>"
      ]
     },
     "metadata": {},
     "output_type": "display_data"
    },
    {
     "data": {
      "text/plain": [
       "<Figure size 640x480 with 0 Axes>"
      ]
     },
     "metadata": {},
     "output_type": "display_data"
    },
    {
     "data": {
      "text/plain": [
       "<Figure size 640x480 with 0 Axes>"
      ]
     },
     "metadata": {},
     "output_type": "display_data"
    },
    {
     "data": {
      "text/plain": [
       "<Figure size 640x480 with 0 Axes>"
      ]
     },
     "metadata": {},
     "output_type": "display_data"
    },
    {
     "data": {
      "text/plain": [
       "<Figure size 640x480 with 0 Axes>"
      ]
     },
     "metadata": {},
     "output_type": "display_data"
    },
    {
     "data": {
      "text/plain": [
       "<Figure size 640x480 with 0 Axes>"
      ]
     },
     "metadata": {},
     "output_type": "display_data"
    },
    {
     "data": {
      "text/plain": [
       "<Figure size 640x480 with 0 Axes>"
      ]
     },
     "metadata": {},
     "output_type": "display_data"
    },
    {
     "data": {
      "text/plain": [
       "<Figure size 640x480 with 0 Axes>"
      ]
     },
     "metadata": {},
     "output_type": "display_data"
    },
    {
     "data": {
      "text/plain": [
       "<Figure size 640x480 with 0 Axes>"
      ]
     },
     "metadata": {},
     "output_type": "display_data"
    },
    {
     "data": {
      "text/plain": [
       "<Figure size 640x480 with 0 Axes>"
      ]
     },
     "metadata": {},
     "output_type": "display_data"
    },
    {
     "data": {
      "text/plain": [
       "<Figure size 640x480 with 0 Axes>"
      ]
     },
     "metadata": {},
     "output_type": "display_data"
    },
    {
     "data": {
      "text/plain": [
       "<Figure size 640x480 with 0 Axes>"
      ]
     },
     "metadata": {},
     "output_type": "display_data"
    },
    {
     "data": {
      "text/plain": [
       "<Figure size 640x480 with 0 Axes>"
      ]
     },
     "metadata": {},
     "output_type": "display_data"
    },
    {
     "data": {
      "text/plain": [
       "<Figure size 640x480 with 0 Axes>"
      ]
     },
     "metadata": {},
     "output_type": "display_data"
    },
    {
     "data": {
      "text/plain": [
       "<Figure size 640x480 with 0 Axes>"
      ]
     },
     "metadata": {},
     "output_type": "display_data"
    },
    {
     "data": {
      "text/plain": [
       "<Figure size 640x480 with 0 Axes>"
      ]
     },
     "metadata": {},
     "output_type": "display_data"
    },
    {
     "data": {
      "text/plain": [
       "<Figure size 640x480 with 0 Axes>"
      ]
     },
     "metadata": {},
     "output_type": "display_data"
    },
    {
     "data": {
      "text/plain": [
       "<Figure size 640x480 with 0 Axes>"
      ]
     },
     "metadata": {},
     "output_type": "display_data"
    },
    {
     "data": {
      "text/plain": [
       "<Figure size 640x480 with 0 Axes>"
      ]
     },
     "metadata": {},
     "output_type": "display_data"
    },
    {
     "data": {
      "text/plain": [
       "<Figure size 640x480 with 0 Axes>"
      ]
     },
     "metadata": {},
     "output_type": "display_data"
    },
    {
     "data": {
      "text/plain": [
       "<Figure size 640x480 with 0 Axes>"
      ]
     },
     "metadata": {},
     "output_type": "display_data"
    },
    {
     "data": {
      "text/plain": [
       "<Figure size 640x480 with 0 Axes>"
      ]
     },
     "metadata": {},
     "output_type": "display_data"
    },
    {
     "data": {
      "text/plain": [
       "<Figure size 640x480 with 0 Axes>"
      ]
     },
     "metadata": {},
     "output_type": "display_data"
    },
    {
     "data": {
      "text/plain": [
       "<Figure size 640x480 with 0 Axes>"
      ]
     },
     "metadata": {},
     "output_type": "display_data"
    },
    {
     "data": {
      "text/plain": [
       "<Figure size 640x480 with 0 Axes>"
      ]
     },
     "metadata": {},
     "output_type": "display_data"
    },
    {
     "data": {
      "text/plain": [
       "<Figure size 640x480 with 0 Axes>"
      ]
     },
     "metadata": {},
     "output_type": "display_data"
    },
    {
     "data": {
      "text/plain": [
       "<Figure size 640x480 with 0 Axes>"
      ]
     },
     "metadata": {},
     "output_type": "display_data"
    },
    {
     "data": {
      "text/plain": [
       "<Figure size 640x480 with 0 Axes>"
      ]
     },
     "metadata": {},
     "output_type": "display_data"
    },
    {
     "data": {
      "text/plain": [
       "<Figure size 640x480 with 0 Axes>"
      ]
     },
     "metadata": {},
     "output_type": "display_data"
    },
    {
     "data": {
      "text/plain": [
       "<Figure size 640x480 with 0 Axes>"
      ]
     },
     "metadata": {},
     "output_type": "display_data"
    },
    {
     "data": {
      "text/plain": [
       "<Figure size 640x480 with 0 Axes>"
      ]
     },
     "metadata": {},
     "output_type": "display_data"
    },
    {
     "data": {
      "text/plain": [
       "<Figure size 640x480 with 0 Axes>"
      ]
     },
     "metadata": {},
     "output_type": "display_data"
    },
    {
     "data": {
      "text/plain": [
       "<Figure size 640x480 with 0 Axes>"
      ]
     },
     "metadata": {},
     "output_type": "display_data"
    },
    {
     "data": {
      "text/plain": [
       "<Figure size 640x480 with 0 Axes>"
      ]
     },
     "metadata": {},
     "output_type": "display_data"
    },
    {
     "data": {
      "text/plain": [
       "<Figure size 640x480 with 0 Axes>"
      ]
     },
     "metadata": {},
     "output_type": "display_data"
    },
    {
     "data": {
      "text/plain": [
       "<Figure size 640x480 with 0 Axes>"
      ]
     },
     "metadata": {},
     "output_type": "display_data"
    },
    {
     "data": {
      "text/plain": [
       "<Figure size 640x480 with 0 Axes>"
      ]
     },
     "metadata": {},
     "output_type": "display_data"
    },
    {
     "data": {
      "text/plain": [
       "<Figure size 640x480 with 0 Axes>"
      ]
     },
     "metadata": {},
     "output_type": "display_data"
    },
    {
     "data": {
      "text/plain": [
       "<Figure size 640x480 with 0 Axes>"
      ]
     },
     "metadata": {},
     "output_type": "display_data"
    },
    {
     "data": {
      "text/plain": [
       "<Figure size 640x480 with 0 Axes>"
      ]
     },
     "metadata": {},
     "output_type": "display_data"
    },
    {
     "data": {
      "text/plain": [
       "<Figure size 640x480 with 0 Axes>"
      ]
     },
     "metadata": {},
     "output_type": "display_data"
    },
    {
     "data": {
      "text/plain": [
       "<Figure size 640x480 with 0 Axes>"
      ]
     },
     "metadata": {},
     "output_type": "display_data"
    },
    {
     "data": {
      "text/plain": [
       "<Figure size 640x480 with 0 Axes>"
      ]
     },
     "metadata": {},
     "output_type": "display_data"
    },
    {
     "data": {
      "text/plain": [
       "<Figure size 640x480 with 0 Axes>"
      ]
     },
     "metadata": {},
     "output_type": "display_data"
    },
    {
     "data": {
      "text/plain": [
       "<Figure size 640x480 with 0 Axes>"
      ]
     },
     "metadata": {},
     "output_type": "display_data"
    },
    {
     "data": {
      "text/plain": [
       "<Figure size 640x480 with 0 Axes>"
      ]
     },
     "metadata": {},
     "output_type": "display_data"
    },
    {
     "data": {
      "text/plain": [
       "<Figure size 640x480 with 0 Axes>"
      ]
     },
     "metadata": {},
     "output_type": "display_data"
    },
    {
     "data": {
      "text/plain": [
       "<Figure size 640x480 with 0 Axes>"
      ]
     },
     "metadata": {},
     "output_type": "display_data"
    },
    {
     "data": {
      "text/plain": [
       "<Figure size 640x480 with 0 Axes>"
      ]
     },
     "metadata": {},
     "output_type": "display_data"
    },
    {
     "data": {
      "text/plain": [
       "<Figure size 640x480 with 0 Axes>"
      ]
     },
     "metadata": {},
     "output_type": "display_data"
    },
    {
     "data": {
      "text/plain": [
       "<Figure size 640x480 with 0 Axes>"
      ]
     },
     "metadata": {},
     "output_type": "display_data"
    },
    {
     "data": {
      "text/plain": [
       "<Figure size 640x480 with 0 Axes>"
      ]
     },
     "metadata": {},
     "output_type": "display_data"
    },
    {
     "data": {
      "text/plain": [
       "<Figure size 640x480 with 0 Axes>"
      ]
     },
     "metadata": {},
     "output_type": "display_data"
    },
    {
     "data": {
      "text/plain": [
       "<Figure size 640x480 with 0 Axes>"
      ]
     },
     "metadata": {},
     "output_type": "display_data"
    },
    {
     "data": {
      "text/plain": [
       "<Figure size 640x480 with 0 Axes>"
      ]
     },
     "metadata": {},
     "output_type": "display_data"
    },
    {
     "data": {
      "text/plain": [
       "<Figure size 640x480 with 0 Axes>"
      ]
     },
     "metadata": {},
     "output_type": "display_data"
    },
    {
     "data": {
      "text/plain": [
       "<Figure size 640x480 with 0 Axes>"
      ]
     },
     "metadata": {},
     "output_type": "display_data"
    },
    {
     "data": {
      "text/plain": [
       "<Figure size 640x480 with 0 Axes>"
      ]
     },
     "metadata": {},
     "output_type": "display_data"
    },
    {
     "data": {
      "text/plain": [
       "<Figure size 640x480 with 0 Axes>"
      ]
     },
     "metadata": {},
     "output_type": "display_data"
    },
    {
     "data": {
      "text/plain": [
       "<Figure size 640x480 with 0 Axes>"
      ]
     },
     "metadata": {},
     "output_type": "display_data"
    },
    {
     "data": {
      "text/plain": [
       "<Figure size 640x480 with 0 Axes>"
      ]
     },
     "metadata": {},
     "output_type": "display_data"
    },
    {
     "data": {
      "text/plain": [
       "<Figure size 640x480 with 0 Axes>"
      ]
     },
     "metadata": {},
     "output_type": "display_data"
    },
    {
     "data": {
      "text/plain": [
       "<Figure size 640x480 with 0 Axes>"
      ]
     },
     "metadata": {},
     "output_type": "display_data"
    },
    {
     "data": {
      "text/plain": [
       "<Figure size 640x480 with 0 Axes>"
      ]
     },
     "metadata": {},
     "output_type": "display_data"
    },
    {
     "data": {
      "text/plain": [
       "<Figure size 640x480 with 0 Axes>"
      ]
     },
     "metadata": {},
     "output_type": "display_data"
    },
    {
     "data": {
      "text/plain": [
       "<Figure size 640x480 with 0 Axes>"
      ]
     },
     "metadata": {},
     "output_type": "display_data"
    },
    {
     "data": {
      "text/plain": [
       "<Figure size 640x480 with 0 Axes>"
      ]
     },
     "metadata": {},
     "output_type": "display_data"
    },
    {
     "data": {
      "text/plain": [
       "<Figure size 640x480 with 0 Axes>"
      ]
     },
     "metadata": {},
     "output_type": "display_data"
    },
    {
     "data": {
      "text/plain": [
       "<Figure size 640x480 with 0 Axes>"
      ]
     },
     "metadata": {},
     "output_type": "display_data"
    },
    {
     "data": {
      "text/plain": [
       "<Figure size 640x480 with 0 Axes>"
      ]
     },
     "metadata": {},
     "output_type": "display_data"
    },
    {
     "data": {
      "text/plain": [
       "<Figure size 640x480 with 0 Axes>"
      ]
     },
     "metadata": {},
     "output_type": "display_data"
    },
    {
     "data": {
      "text/plain": [
       "<Figure size 640x480 with 0 Axes>"
      ]
     },
     "metadata": {},
     "output_type": "display_data"
    },
    {
     "data": {
      "text/plain": [
       "<Figure size 640x480 with 0 Axes>"
      ]
     },
     "metadata": {},
     "output_type": "display_data"
    },
    {
     "data": {
      "text/plain": [
       "<Figure size 640x480 with 0 Axes>"
      ]
     },
     "metadata": {},
     "output_type": "display_data"
    },
    {
     "data": {
      "text/plain": [
       "<Figure size 640x480 with 0 Axes>"
      ]
     },
     "metadata": {},
     "output_type": "display_data"
    },
    {
     "data": {
      "text/plain": [
       "<Figure size 640x480 with 0 Axes>"
      ]
     },
     "metadata": {},
     "output_type": "display_data"
    },
    {
     "data": {
      "text/plain": [
       "<Figure size 640x480 with 0 Axes>"
      ]
     },
     "metadata": {},
     "output_type": "display_data"
    },
    {
     "data": {
      "text/plain": [
       "<Figure size 640x480 with 0 Axes>"
      ]
     },
     "metadata": {},
     "output_type": "display_data"
    },
    {
     "data": {
      "text/plain": [
       "<Figure size 640x480 with 0 Axes>"
      ]
     },
     "metadata": {},
     "output_type": "display_data"
    },
    {
     "data": {
      "text/plain": [
       "<Figure size 640x480 with 0 Axes>"
      ]
     },
     "metadata": {},
     "output_type": "display_data"
    },
    {
     "data": {
      "text/plain": [
       "<Figure size 640x480 with 0 Axes>"
      ]
     },
     "metadata": {},
     "output_type": "display_data"
    },
    {
     "data": {
      "text/plain": [
       "<Figure size 640x480 with 0 Axes>"
      ]
     },
     "metadata": {},
     "output_type": "display_data"
    },
    {
     "data": {
      "text/plain": [
       "<Figure size 640x480 with 0 Axes>"
      ]
     },
     "metadata": {},
     "output_type": "display_data"
    },
    {
     "data": {
      "text/plain": [
       "<Figure size 640x480 with 0 Axes>"
      ]
     },
     "metadata": {},
     "output_type": "display_data"
    },
    {
     "data": {
      "text/plain": [
       "<Figure size 640x480 with 0 Axes>"
      ]
     },
     "metadata": {},
     "output_type": "display_data"
    },
    {
     "data": {
      "text/plain": [
       "<Figure size 640x480 with 0 Axes>"
      ]
     },
     "metadata": {},
     "output_type": "display_data"
    },
    {
     "data": {
      "text/plain": [
       "<Figure size 640x480 with 0 Axes>"
      ]
     },
     "metadata": {},
     "output_type": "display_data"
    },
    {
     "data": {
      "text/plain": [
       "<Figure size 640x480 with 0 Axes>"
      ]
     },
     "metadata": {},
     "output_type": "display_data"
    },
    {
     "data": {
      "text/plain": [
       "<Figure size 640x480 with 0 Axes>"
      ]
     },
     "metadata": {},
     "output_type": "display_data"
    },
    {
     "data": {
      "text/plain": [
       "<Figure size 640x480 with 0 Axes>"
      ]
     },
     "metadata": {},
     "output_type": "display_data"
    },
    {
     "data": {
      "text/plain": [
       "<Figure size 640x480 with 0 Axes>"
      ]
     },
     "metadata": {},
     "output_type": "display_data"
    },
    {
     "data": {
      "text/plain": [
       "<Figure size 640x480 with 0 Axes>"
      ]
     },
     "metadata": {},
     "output_type": "display_data"
    },
    {
     "data": {
      "text/plain": [
       "<Figure size 640x480 with 0 Axes>"
      ]
     },
     "metadata": {},
     "output_type": "display_data"
    },
    {
     "data": {
      "text/plain": [
       "<Figure size 640x480 with 0 Axes>"
      ]
     },
     "metadata": {},
     "output_type": "display_data"
    },
    {
     "data": {
      "text/plain": [
       "<Figure size 640x480 with 0 Axes>"
      ]
     },
     "metadata": {},
     "output_type": "display_data"
    },
    {
     "data": {
      "text/plain": [
       "<Figure size 640x480 with 0 Axes>"
      ]
     },
     "metadata": {},
     "output_type": "display_data"
    },
    {
     "data": {
      "text/plain": [
       "<Figure size 640x480 with 0 Axes>"
      ]
     },
     "metadata": {},
     "output_type": "display_data"
    },
    {
     "data": {
      "text/plain": [
       "<Figure size 640x480 with 0 Axes>"
      ]
     },
     "metadata": {},
     "output_type": "display_data"
    },
    {
     "data": {
      "text/plain": [
       "<Figure size 640x480 with 0 Axes>"
      ]
     },
     "metadata": {},
     "output_type": "display_data"
    },
    {
     "data": {
      "text/plain": [
       "<Figure size 640x480 with 0 Axes>"
      ]
     },
     "metadata": {},
     "output_type": "display_data"
    },
    {
     "data": {
      "text/plain": [
       "<Figure size 640x480 with 0 Axes>"
      ]
     },
     "metadata": {},
     "output_type": "display_data"
    },
    {
     "data": {
      "text/plain": [
       "<Figure size 640x480 with 0 Axes>"
      ]
     },
     "metadata": {},
     "output_type": "display_data"
    },
    {
     "data": {
      "text/plain": [
       "<Figure size 640x480 with 0 Axes>"
      ]
     },
     "metadata": {},
     "output_type": "display_data"
    },
    {
     "data": {
      "text/plain": [
       "<Figure size 640x480 with 0 Axes>"
      ]
     },
     "metadata": {},
     "output_type": "display_data"
    },
    {
     "data": {
      "text/plain": [
       "<Figure size 640x480 with 0 Axes>"
      ]
     },
     "metadata": {},
     "output_type": "display_data"
    },
    {
     "data": {
      "text/plain": [
       "<Figure size 640x480 with 0 Axes>"
      ]
     },
     "metadata": {},
     "output_type": "display_data"
    },
    {
     "data": {
      "text/plain": [
       "<Figure size 640x480 with 0 Axes>"
      ]
     },
     "metadata": {},
     "output_type": "display_data"
    },
    {
     "data": {
      "text/plain": [
       "<Figure size 640x480 with 0 Axes>"
      ]
     },
     "metadata": {},
     "output_type": "display_data"
    },
    {
     "data": {
      "text/plain": [
       "<Figure size 640x480 with 0 Axes>"
      ]
     },
     "metadata": {},
     "output_type": "display_data"
    },
    {
     "data": {
      "text/plain": [
       "<Figure size 640x480 with 0 Axes>"
      ]
     },
     "metadata": {},
     "output_type": "display_data"
    },
    {
     "data": {
      "text/plain": [
       "<Figure size 640x480 with 0 Axes>"
      ]
     },
     "metadata": {},
     "output_type": "display_data"
    },
    {
     "data": {
      "text/plain": [
       "<Figure size 640x480 with 0 Axes>"
      ]
     },
     "metadata": {},
     "output_type": "display_data"
    },
    {
     "data": {
      "text/plain": [
       "<Figure size 640x480 with 0 Axes>"
      ]
     },
     "metadata": {},
     "output_type": "display_data"
    },
    {
     "data": {
      "text/plain": [
       "<Figure size 640x480 with 0 Axes>"
      ]
     },
     "metadata": {},
     "output_type": "display_data"
    },
    {
     "data": {
      "text/plain": [
       "<Figure size 640x480 with 0 Axes>"
      ]
     },
     "metadata": {},
     "output_type": "display_data"
    },
    {
     "data": {
      "text/plain": [
       "<Figure size 640x480 with 0 Axes>"
      ]
     },
     "metadata": {},
     "output_type": "display_data"
    },
    {
     "data": {
      "text/plain": [
       "<Figure size 640x480 with 0 Axes>"
      ]
     },
     "metadata": {},
     "output_type": "display_data"
    },
    {
     "data": {
      "text/plain": [
       "<Figure size 640x480 with 0 Axes>"
      ]
     },
     "metadata": {},
     "output_type": "display_data"
    },
    {
     "data": {
      "text/plain": [
       "<Figure size 640x480 with 0 Axes>"
      ]
     },
     "metadata": {},
     "output_type": "display_data"
    },
    {
     "data": {
      "text/plain": [
       "<Figure size 640x480 with 0 Axes>"
      ]
     },
     "metadata": {},
     "output_type": "display_data"
    },
    {
     "data": {
      "text/plain": [
       "<Figure size 640x480 with 0 Axes>"
      ]
     },
     "metadata": {},
     "output_type": "display_data"
    },
    {
     "data": {
      "text/plain": [
       "<Figure size 640x480 with 0 Axes>"
      ]
     },
     "metadata": {},
     "output_type": "display_data"
    },
    {
     "data": {
      "text/plain": [
       "<Figure size 640x480 with 0 Axes>"
      ]
     },
     "metadata": {},
     "output_type": "display_data"
    },
    {
     "data": {
      "text/plain": [
       "<Figure size 640x480 with 0 Axes>"
      ]
     },
     "metadata": {},
     "output_type": "display_data"
    },
    {
     "data": {
      "text/plain": [
       "<Figure size 640x480 with 0 Axes>"
      ]
     },
     "metadata": {},
     "output_type": "display_data"
    },
    {
     "data": {
      "text/plain": [
       "<Figure size 640x480 with 0 Axes>"
      ]
     },
     "metadata": {},
     "output_type": "display_data"
    },
    {
     "data": {
      "text/plain": [
       "<Figure size 640x480 with 0 Axes>"
      ]
     },
     "metadata": {},
     "output_type": "display_data"
    },
    {
     "data": {
      "text/plain": [
       "<Figure size 640x480 with 0 Axes>"
      ]
     },
     "metadata": {},
     "output_type": "display_data"
    },
    {
     "data": {
      "text/plain": [
       "<Figure size 640x480 with 0 Axes>"
      ]
     },
     "metadata": {},
     "output_type": "display_data"
    },
    {
     "data": {
      "text/plain": [
       "<Figure size 640x480 with 0 Axes>"
      ]
     },
     "metadata": {},
     "output_type": "display_data"
    },
    {
     "data": {
      "text/plain": [
       "<Figure size 640x480 with 0 Axes>"
      ]
     },
     "metadata": {},
     "output_type": "display_data"
    },
    {
     "data": {
      "text/plain": [
       "<Figure size 640x480 with 0 Axes>"
      ]
     },
     "metadata": {},
     "output_type": "display_data"
    },
    {
     "data": {
      "text/plain": [
       "<Figure size 640x480 with 0 Axes>"
      ]
     },
     "metadata": {},
     "output_type": "display_data"
    },
    {
     "data": {
      "text/plain": [
       "<Figure size 640x480 with 0 Axes>"
      ]
     },
     "metadata": {},
     "output_type": "display_data"
    },
    {
     "data": {
      "text/plain": [
       "<Figure size 640x480 with 0 Axes>"
      ]
     },
     "metadata": {},
     "output_type": "display_data"
    },
    {
     "data": {
      "text/plain": [
       "<Figure size 640x480 with 0 Axes>"
      ]
     },
     "metadata": {},
     "output_type": "display_data"
    },
    {
     "data": {
      "text/plain": [
       "<Figure size 640x480 with 0 Axes>"
      ]
     },
     "metadata": {},
     "output_type": "display_data"
    },
    {
     "data": {
      "text/plain": [
       "<Figure size 640x480 with 0 Axes>"
      ]
     },
     "metadata": {},
     "output_type": "display_data"
    },
    {
     "data": {
      "text/plain": [
       "<Figure size 640x480 with 0 Axes>"
      ]
     },
     "metadata": {},
     "output_type": "display_data"
    },
    {
     "data": {
      "text/plain": [
       "<Figure size 640x480 with 0 Axes>"
      ]
     },
     "metadata": {},
     "output_type": "display_data"
    },
    {
     "data": {
      "text/plain": [
       "<Figure size 640x480 with 0 Axes>"
      ]
     },
     "metadata": {},
     "output_type": "display_data"
    },
    {
     "data": {
      "text/plain": [
       "<Figure size 640x480 with 0 Axes>"
      ]
     },
     "metadata": {},
     "output_type": "display_data"
    },
    {
     "data": {
      "text/plain": [
       "<Figure size 640x480 with 0 Axes>"
      ]
     },
     "metadata": {},
     "output_type": "display_data"
    },
    {
     "data": {
      "text/plain": [
       "<Figure size 640x480 with 0 Axes>"
      ]
     },
     "metadata": {},
     "output_type": "display_data"
    },
    {
     "data": {
      "text/plain": [
       "<Figure size 640x480 with 0 Axes>"
      ]
     },
     "metadata": {},
     "output_type": "display_data"
    },
    {
     "data": {
      "text/plain": [
       "<Figure size 640x480 with 0 Axes>"
      ]
     },
     "metadata": {},
     "output_type": "display_data"
    },
    {
     "data": {
      "text/plain": [
       "<Figure size 640x480 with 0 Axes>"
      ]
     },
     "metadata": {},
     "output_type": "display_data"
    },
    {
     "data": {
      "text/plain": [
       "<Figure size 640x480 with 0 Axes>"
      ]
     },
     "metadata": {},
     "output_type": "display_data"
    },
    {
     "data": {
      "text/plain": [
       "<Figure size 640x480 with 0 Axes>"
      ]
     },
     "metadata": {},
     "output_type": "display_data"
    },
    {
     "data": {
      "text/plain": [
       "<Figure size 640x480 with 0 Axes>"
      ]
     },
     "metadata": {},
     "output_type": "display_data"
    },
    {
     "data": {
      "text/plain": [
       "<Figure size 640x480 with 0 Axes>"
      ]
     },
     "metadata": {},
     "output_type": "display_data"
    },
    {
     "data": {
      "text/plain": [
       "<Figure size 640x480 with 0 Axes>"
      ]
     },
     "metadata": {},
     "output_type": "display_data"
    },
    {
     "data": {
      "text/plain": [
       "<Figure size 640x480 with 0 Axes>"
      ]
     },
     "metadata": {},
     "output_type": "display_data"
    },
    {
     "data": {
      "text/plain": [
       "<Figure size 640x480 with 0 Axes>"
      ]
     },
     "metadata": {},
     "output_type": "display_data"
    },
    {
     "data": {
      "text/plain": [
       "<Figure size 640x480 with 0 Axes>"
      ]
     },
     "metadata": {},
     "output_type": "display_data"
    },
    {
     "data": {
      "text/plain": [
       "<Figure size 640x480 with 0 Axes>"
      ]
     },
     "metadata": {},
     "output_type": "display_data"
    },
    {
     "data": {
      "text/plain": [
       "<Figure size 640x480 with 0 Axes>"
      ]
     },
     "metadata": {},
     "output_type": "display_data"
    },
    {
     "data": {
      "text/plain": [
       "<Figure size 640x480 with 0 Axes>"
      ]
     },
     "metadata": {},
     "output_type": "display_data"
    },
    {
     "data": {
      "text/plain": [
       "<Figure size 640x480 with 0 Axes>"
      ]
     },
     "metadata": {},
     "output_type": "display_data"
    },
    {
     "data": {
      "text/plain": [
       "<Figure size 640x480 with 0 Axes>"
      ]
     },
     "metadata": {},
     "output_type": "display_data"
    },
    {
     "data": {
      "text/plain": [
       "<Figure size 640x480 with 0 Axes>"
      ]
     },
     "metadata": {},
     "output_type": "display_data"
    },
    {
     "data": {
      "text/plain": [
       "<Figure size 640x480 with 0 Axes>"
      ]
     },
     "metadata": {},
     "output_type": "display_data"
    },
    {
     "data": {
      "text/plain": [
       "<Figure size 640x480 with 0 Axes>"
      ]
     },
     "metadata": {},
     "output_type": "display_data"
    },
    {
     "data": {
      "text/plain": [
       "<Figure size 640x480 with 0 Axes>"
      ]
     },
     "metadata": {},
     "output_type": "display_data"
    },
    {
     "data": {
      "text/plain": [
       "<Figure size 640x480 with 0 Axes>"
      ]
     },
     "metadata": {},
     "output_type": "display_data"
    },
    {
     "data": {
      "text/plain": [
       "<Figure size 640x480 with 0 Axes>"
      ]
     },
     "metadata": {},
     "output_type": "display_data"
    },
    {
     "data": {
      "text/plain": [
       "<Figure size 640x480 with 0 Axes>"
      ]
     },
     "metadata": {},
     "output_type": "display_data"
    },
    {
     "data": {
      "text/plain": [
       "<Figure size 640x480 with 0 Axes>"
      ]
     },
     "metadata": {},
     "output_type": "display_data"
    },
    {
     "data": {
      "text/plain": [
       "<Figure size 640x480 with 0 Axes>"
      ]
     },
     "metadata": {},
     "output_type": "display_data"
    },
    {
     "data": {
      "text/plain": [
       "<Figure size 640x480 with 0 Axes>"
      ]
     },
     "metadata": {},
     "output_type": "display_data"
    },
    {
     "data": {
      "text/plain": [
       "<Figure size 640x480 with 0 Axes>"
      ]
     },
     "metadata": {},
     "output_type": "display_data"
    },
    {
     "data": {
      "text/plain": [
       "<Figure size 640x480 with 0 Axes>"
      ]
     },
     "metadata": {},
     "output_type": "display_data"
    },
    {
     "data": {
      "text/plain": [
       "<Figure size 640x480 with 0 Axes>"
      ]
     },
     "metadata": {},
     "output_type": "display_data"
    },
    {
     "data": {
      "text/plain": [
       "<Figure size 640x480 with 0 Axes>"
      ]
     },
     "metadata": {},
     "output_type": "display_data"
    },
    {
     "data": {
      "text/plain": [
       "<Figure size 640x480 with 0 Axes>"
      ]
     },
     "metadata": {},
     "output_type": "display_data"
    },
    {
     "data": {
      "text/plain": [
       "<Figure size 640x480 with 0 Axes>"
      ]
     },
     "metadata": {},
     "output_type": "display_data"
    },
    {
     "data": {
      "text/plain": [
       "<Figure size 640x480 with 0 Axes>"
      ]
     },
     "metadata": {},
     "output_type": "display_data"
    },
    {
     "data": {
      "text/plain": [
       "<Figure size 640x480 with 0 Axes>"
      ]
     },
     "metadata": {},
     "output_type": "display_data"
    },
    {
     "data": {
      "text/plain": [
       "<Figure size 640x480 with 0 Axes>"
      ]
     },
     "metadata": {},
     "output_type": "display_data"
    },
    {
     "data": {
      "text/plain": [
       "<Figure size 640x480 with 0 Axes>"
      ]
     },
     "metadata": {},
     "output_type": "display_data"
    },
    {
     "data": {
      "text/plain": [
       "<Figure size 640x480 with 0 Axes>"
      ]
     },
     "metadata": {},
     "output_type": "display_data"
    },
    {
     "data": {
      "text/plain": [
       "<Figure size 640x480 with 0 Axes>"
      ]
     },
     "metadata": {},
     "output_type": "display_data"
    },
    {
     "data": {
      "text/plain": [
       "<Figure size 640x480 with 0 Axes>"
      ]
     },
     "metadata": {},
     "output_type": "display_data"
    },
    {
     "data": {
      "text/plain": [
       "<Figure size 640x480 with 0 Axes>"
      ]
     },
     "metadata": {},
     "output_type": "display_data"
    },
    {
     "data": {
      "text/plain": [
       "<Figure size 640x480 with 0 Axes>"
      ]
     },
     "metadata": {},
     "output_type": "display_data"
    },
    {
     "data": {
      "text/plain": [
       "<Figure size 640x480 with 0 Axes>"
      ]
     },
     "metadata": {},
     "output_type": "display_data"
    },
    {
     "data": {
      "text/plain": [
       "<Figure size 640x480 with 0 Axes>"
      ]
     },
     "metadata": {},
     "output_type": "display_data"
    },
    {
     "data": {
      "text/plain": [
       "<Figure size 640x480 with 0 Axes>"
      ]
     },
     "metadata": {},
     "output_type": "display_data"
    },
    {
     "data": {
      "text/plain": [
       "<Figure size 640x480 with 0 Axes>"
      ]
     },
     "metadata": {},
     "output_type": "display_data"
    },
    {
     "data": {
      "text/plain": [
       "<Figure size 640x480 with 0 Axes>"
      ]
     },
     "metadata": {},
     "output_type": "display_data"
    },
    {
     "data": {
      "text/plain": [
       "<Figure size 640x480 with 0 Axes>"
      ]
     },
     "metadata": {},
     "output_type": "display_data"
    },
    {
     "data": {
      "text/plain": [
       "<Figure size 640x480 with 0 Axes>"
      ]
     },
     "metadata": {},
     "output_type": "display_data"
    },
    {
     "data": {
      "text/plain": [
       "<Figure size 640x480 with 0 Axes>"
      ]
     },
     "metadata": {},
     "output_type": "display_data"
    },
    {
     "data": {
      "text/plain": [
       "<Figure size 640x480 with 0 Axes>"
      ]
     },
     "metadata": {},
     "output_type": "display_data"
    },
    {
     "data": {
      "text/plain": [
       "<Figure size 640x480 with 0 Axes>"
      ]
     },
     "metadata": {},
     "output_type": "display_data"
    },
    {
     "data": {
      "text/plain": [
       "<Figure size 640x480 with 0 Axes>"
      ]
     },
     "metadata": {},
     "output_type": "display_data"
    },
    {
     "data": {
      "text/plain": [
       "<Figure size 640x480 with 0 Axes>"
      ]
     },
     "metadata": {},
     "output_type": "display_data"
    },
    {
     "data": {
      "text/plain": [
       "<Figure size 640x480 with 0 Axes>"
      ]
     },
     "metadata": {},
     "output_type": "display_data"
    },
    {
     "data": {
      "text/plain": [
       "<Figure size 640x480 with 0 Axes>"
      ]
     },
     "metadata": {},
     "output_type": "display_data"
    },
    {
     "data": {
      "text/plain": [
       "<Figure size 640x480 with 0 Axes>"
      ]
     },
     "metadata": {},
     "output_type": "display_data"
    },
    {
     "data": {
      "text/plain": [
       "<Figure size 640x480 with 0 Axes>"
      ]
     },
     "metadata": {},
     "output_type": "display_data"
    },
    {
     "data": {
      "text/plain": [
       "<Figure size 640x480 with 0 Axes>"
      ]
     },
     "metadata": {},
     "output_type": "display_data"
    },
    {
     "data": {
      "text/plain": [
       "<Figure size 640x480 with 0 Axes>"
      ]
     },
     "metadata": {},
     "output_type": "display_data"
    },
    {
     "data": {
      "text/plain": [
       "<Figure size 640x480 with 0 Axes>"
      ]
     },
     "metadata": {},
     "output_type": "display_data"
    },
    {
     "data": {
      "text/plain": [
       "<Figure size 640x480 with 0 Axes>"
      ]
     },
     "metadata": {},
     "output_type": "display_data"
    },
    {
     "data": {
      "text/plain": [
       "<Figure size 640x480 with 0 Axes>"
      ]
     },
     "metadata": {},
     "output_type": "display_data"
    },
    {
     "data": {
      "text/plain": [
       "<Figure size 640x480 with 0 Axes>"
      ]
     },
     "metadata": {},
     "output_type": "display_data"
    },
    {
     "data": {
      "text/plain": [
       "<Figure size 640x480 with 0 Axes>"
      ]
     },
     "metadata": {},
     "output_type": "display_data"
    },
    {
     "data": {
      "text/plain": [
       "<Figure size 640x480 with 0 Axes>"
      ]
     },
     "metadata": {},
     "output_type": "display_data"
    },
    {
     "data": {
      "text/plain": [
       "<Figure size 640x480 with 0 Axes>"
      ]
     },
     "metadata": {},
     "output_type": "display_data"
    },
    {
     "data": {
      "text/plain": [
       "<Figure size 640x480 with 0 Axes>"
      ]
     },
     "metadata": {},
     "output_type": "display_data"
    },
    {
     "data": {
      "text/plain": [
       "<Figure size 640x480 with 0 Axes>"
      ]
     },
     "metadata": {},
     "output_type": "display_data"
    },
    {
     "data": {
      "text/plain": [
       "<Figure size 640x480 with 0 Axes>"
      ]
     },
     "metadata": {},
     "output_type": "display_data"
    },
    {
     "data": {
      "text/plain": [
       "<Figure size 640x480 with 0 Axes>"
      ]
     },
     "metadata": {},
     "output_type": "display_data"
    },
    {
     "data": {
      "text/plain": [
       "<Figure size 640x480 with 0 Axes>"
      ]
     },
     "metadata": {},
     "output_type": "display_data"
    },
    {
     "data": {
      "text/plain": [
       "<Figure size 640x480 with 0 Axes>"
      ]
     },
     "metadata": {},
     "output_type": "display_data"
    },
    {
     "data": {
      "text/plain": [
       "<Figure size 640x480 with 0 Axes>"
      ]
     },
     "metadata": {},
     "output_type": "display_data"
    },
    {
     "data": {
      "text/plain": [
       "<Figure size 640x480 with 0 Axes>"
      ]
     },
     "metadata": {},
     "output_type": "display_data"
    },
    {
     "data": {
      "text/plain": [
       "<Figure size 640x480 with 0 Axes>"
      ]
     },
     "metadata": {},
     "output_type": "display_data"
    },
    {
     "data": {
      "text/plain": [
       "<Figure size 640x480 with 0 Axes>"
      ]
     },
     "metadata": {},
     "output_type": "display_data"
    },
    {
     "data": {
      "text/plain": [
       "<Figure size 640x480 with 0 Axes>"
      ]
     },
     "metadata": {},
     "output_type": "display_data"
    },
    {
     "data": {
      "text/plain": [
       "<Figure size 640x480 with 0 Axes>"
      ]
     },
     "metadata": {},
     "output_type": "display_data"
    },
    {
     "data": {
      "text/plain": [
       "<Figure size 640x480 with 0 Axes>"
      ]
     },
     "metadata": {},
     "output_type": "display_data"
    },
    {
     "data": {
      "text/plain": [
       "<Figure size 640x480 with 0 Axes>"
      ]
     },
     "metadata": {},
     "output_type": "display_data"
    },
    {
     "data": {
      "text/plain": [
       "<Figure size 640x480 with 0 Axes>"
      ]
     },
     "metadata": {},
     "output_type": "display_data"
    },
    {
     "data": {
      "text/plain": [
       "<Figure size 640x480 with 0 Axes>"
      ]
     },
     "metadata": {},
     "output_type": "display_data"
    },
    {
     "data": {
      "text/plain": [
       "<Figure size 640x480 with 0 Axes>"
      ]
     },
     "metadata": {},
     "output_type": "display_data"
    },
    {
     "data": {
      "text/plain": [
       "<Figure size 640x480 with 0 Axes>"
      ]
     },
     "metadata": {},
     "output_type": "display_data"
    },
    {
     "data": {
      "text/plain": [
       "<Figure size 640x480 with 0 Axes>"
      ]
     },
     "metadata": {},
     "output_type": "display_data"
    },
    {
     "data": {
      "text/plain": [
       "<Figure size 640x480 with 0 Axes>"
      ]
     },
     "metadata": {},
     "output_type": "display_data"
    },
    {
     "data": {
      "text/plain": [
       "<Figure size 640x480 with 0 Axes>"
      ]
     },
     "metadata": {},
     "output_type": "display_data"
    },
    {
     "data": {
      "text/plain": [
       "<Figure size 640x480 with 0 Axes>"
      ]
     },
     "metadata": {},
     "output_type": "display_data"
    },
    {
     "data": {
      "text/plain": [
       "<Figure size 640x480 with 0 Axes>"
      ]
     },
     "metadata": {},
     "output_type": "display_data"
    },
    {
     "data": {
      "text/plain": [
       "<Figure size 640x480 with 0 Axes>"
      ]
     },
     "metadata": {},
     "output_type": "display_data"
    },
    {
     "data": {
      "text/plain": [
       "<Figure size 640x480 with 0 Axes>"
      ]
     },
     "metadata": {},
     "output_type": "display_data"
    },
    {
     "data": {
      "text/plain": [
       "<Figure size 640x480 with 0 Axes>"
      ]
     },
     "metadata": {},
     "output_type": "display_data"
    },
    {
     "data": {
      "text/plain": [
       "<Figure size 640x480 with 0 Axes>"
      ]
     },
     "metadata": {},
     "output_type": "display_data"
    },
    {
     "data": {
      "text/plain": [
       "<Figure size 640x480 with 0 Axes>"
      ]
     },
     "metadata": {},
     "output_type": "display_data"
    },
    {
     "data": {
      "text/plain": [
       "<Figure size 640x480 with 0 Axes>"
      ]
     },
     "metadata": {},
     "output_type": "display_data"
    },
    {
     "data": {
      "text/plain": [
       "<Figure size 640x480 with 0 Axes>"
      ]
     },
     "metadata": {},
     "output_type": "display_data"
    },
    {
     "data": {
      "text/plain": [
       "<Figure size 640x480 with 0 Axes>"
      ]
     },
     "metadata": {},
     "output_type": "display_data"
    },
    {
     "data": {
      "text/plain": [
       "<Figure size 640x480 with 0 Axes>"
      ]
     },
     "metadata": {},
     "output_type": "display_data"
    },
    {
     "data": {
      "text/plain": [
       "<Figure size 640x480 with 0 Axes>"
      ]
     },
     "metadata": {},
     "output_type": "display_data"
    },
    {
     "data": {
      "text/plain": [
       "<Figure size 640x480 with 0 Axes>"
      ]
     },
     "metadata": {},
     "output_type": "display_data"
    },
    {
     "data": {
      "text/plain": [
       "<Figure size 640x480 with 0 Axes>"
      ]
     },
     "metadata": {},
     "output_type": "display_data"
    },
    {
     "data": {
      "text/plain": [
       "<Figure size 640x480 with 0 Axes>"
      ]
     },
     "metadata": {},
     "output_type": "display_data"
    },
    {
     "data": {
      "text/plain": [
       "<Figure size 640x480 with 0 Axes>"
      ]
     },
     "metadata": {},
     "output_type": "display_data"
    },
    {
     "data": {
      "text/plain": [
       "<Figure size 640x480 with 0 Axes>"
      ]
     },
     "metadata": {},
     "output_type": "display_data"
    },
    {
     "data": {
      "text/plain": [
       "<Figure size 640x480 with 0 Axes>"
      ]
     },
     "metadata": {},
     "output_type": "display_data"
    },
    {
     "data": {
      "text/plain": [
       "<Figure size 640x480 with 0 Axes>"
      ]
     },
     "metadata": {},
     "output_type": "display_data"
    },
    {
     "data": {
      "text/plain": [
       "<Figure size 640x480 with 0 Axes>"
      ]
     },
     "metadata": {},
     "output_type": "display_data"
    },
    {
     "data": {
      "text/plain": [
       "<Figure size 640x480 with 0 Axes>"
      ]
     },
     "metadata": {},
     "output_type": "display_data"
    },
    {
     "data": {
      "text/plain": [
       "<Figure size 640x480 with 0 Axes>"
      ]
     },
     "metadata": {},
     "output_type": "display_data"
    },
    {
     "data": {
      "text/plain": [
       "<Figure size 640x480 with 0 Axes>"
      ]
     },
     "metadata": {},
     "output_type": "display_data"
    },
    {
     "data": {
      "text/plain": [
       "<Figure size 640x480 with 0 Axes>"
      ]
     },
     "metadata": {},
     "output_type": "display_data"
    },
    {
     "data": {
      "text/plain": [
       "<Figure size 640x480 with 0 Axes>"
      ]
     },
     "metadata": {},
     "output_type": "display_data"
    },
    {
     "data": {
      "text/plain": [
       "<Figure size 640x480 with 0 Axes>"
      ]
     },
     "metadata": {},
     "output_type": "display_data"
    },
    {
     "data": {
      "text/plain": [
       "<Figure size 640x480 with 0 Axes>"
      ]
     },
     "metadata": {},
     "output_type": "display_data"
    },
    {
     "data": {
      "text/plain": [
       "<Figure size 640x480 with 0 Axes>"
      ]
     },
     "metadata": {},
     "output_type": "display_data"
    },
    {
     "data": {
      "text/plain": [
       "<Figure size 640x480 with 0 Axes>"
      ]
     },
     "metadata": {},
     "output_type": "display_data"
    },
    {
     "data": {
      "text/plain": [
       "<Figure size 640x480 with 0 Axes>"
      ]
     },
     "metadata": {},
     "output_type": "display_data"
    }
   ],
   "source": [
    "# folders.pop(0)\n",
    "# for folder in folders[128:]:\n",
    "#     current_folder = folder_path + folder  \n",
    "#     for file in os.listdir(current_folder):\n",
    "#         temp_file = file.replace('.mp3', '')\n",
    "#         spectogram = create_spectrogram(current_folder, file)\n",
    "#         spectogram.savefig(f'C:/Users/Chomba Mumba/Desktop/spectograms/{temp_file}_spectogram.png', transparent=True, bbox_inches='tight', pad_inches=0.0)\n",
    "#         plt.clf()\n",
    "#         plt.cla()\n",
    "#         plt.close(spectogram)\n",
    "#         del spectogram, temp_file"
   ]
  },
  {
   "cell_type": "markdown",
   "metadata": {},
   "source": [
    "Create Training Function"
   ]
  },
  {
   "cell_type": "code",
   "execution_count": 10,
   "metadata": {},
   "outputs": [],
   "source": [
    "def train(model, device, train_loader, validation_loader, epochs):\n",
    "  criterion =  nn.CrossEntropyLoss()\n",
    "  optimizer = torch.optim.Adam(model.parameters(), lr=0.0005)\n",
    "  train_loss, validation_loss = [], []\n",
    "  train_acc, validation_acc = [], []\n",
    "  with tqdm(range(epochs), unit='epoch') as tepochs:\n",
    "    tepochs.set_description('Training')\n",
    "    for epoch in tepochs:\n",
    "      model.train()\n",
    "      # keep track of the running loss\n",
    "      running_loss = 0.\n",
    "      correct, total = 0, 0\n",
    "\n",
    "      for data, target in train_loader:\n",
    "        # getting the training set\n",
    "        data, target = data.to(device), target.to(device)\n",
    "        \n",
    "        # Get the model output (call the model with the data from this batch)\n",
    "        output = model(data)\n",
    "        # Zero the gradients out)\n",
    "        optimizer.zero_grad()\n",
    "        # Get the Loss\n",
    "        loss  = criterion(output, target)\n",
    "        # Calculate the gradients\n",
    "        loss.backward()\n",
    "        # Update the weights (using the training step of the optimizer)\n",
    "        optimizer.step()\n",
    "\n",
    "        tepochs.set_postfix(loss=loss.item())\n",
    "        running_loss += loss  # add the loss for this batch\n",
    "\n",
    "        # get accuracy\n",
    "        _, predicted = torch.max(output, 1)\n",
    "        total += target.size(0)\n",
    "        correct += (predicted == target).sum().item()\n",
    "\n",
    "      # append the loss for this epoch\n",
    "      train_loss.append(running_loss.detach().cpu().item()/len(train_loader))\n",
    "      train_acc.append(correct/total)\n",
    "\n",
    "      # evaluate on validation data\n",
    "      model.eval()\n",
    "      torch.no_grad() #disable gradient calculation to improve efficency - Chomba\n",
    "      running_loss = 0.\n",
    "      correct, total = 0, 0\n",
    "\n",
    "      for data, target in validation_loader:\n",
    "        # getting the validation set\n",
    "        data, target = data.to(device), target.to(device)\n",
    "        optimizer.zero_grad()\n",
    "        output = model(data)\n",
    "        loss = criterion(output, target)\n",
    "        tepochs.set_postfix(loss=loss.item())\n",
    "        running_loss += loss.item()\n",
    "        # get accuracy\n",
    "        _, predicted = torch.max(output, 1)\n",
    "        total += target.size(0)\n",
    "        correct += (predicted == target).sum().item()\n",
    "\n",
    "      validation_loss.append(running_loss/len(validation_loader))\n",
    "      validation_acc.append(correct/total)\n",
    "\n",
    "  return train_loss, train_acc, validation_loss, validation_acc"
   ]
  },
  {
   "cell_type": "code",
   "execution_count": 3,
   "metadata": {},
   "outputs": [
    {
     "name": "stdout",
     "output_type": "stream",
     "text": [
      "NVIDIA GeForce GTX 1650 Ti\n"
     ]
    }
   ],
   "source": [
    "print(torch.cuda.get_device_name(0))"
   ]
  },
  {
   "cell_type": "code",
   "execution_count": 15,
   "metadata": {},
   "outputs": [
    {
     "data": {
      "application/vnd.jupyter.widget-view+json": {
       "model_id": "93f87d5d8fa747c9b3dda45b020f035b",
       "version_major": 2,
       "version_minor": 0
      },
      "text/plain": [
       "  0%|          | 0/10 [00:00<?, ?epoch/s]"
      ]
     },
     "metadata": {},
     "output_type": "display_data"
    },
    {
     "data": {
      "text/plain": [
       "([3.8499031777707686,\n",
       "  3.6238175860102873,\n",
       "  3.498154160398874,\n",
       "  3.4072872185559007,\n",
       "  3.297913734957298,\n",
       "  3.1091247937694098,\n",
       "  2.8285740443638394,\n",
       "  2.552470142056483,\n",
       "  2.31703802073224,\n",
       "  2.1385317974209044],\n",
       " [0.09894212818917238,\n",
       "  0.13963907902924705,\n",
       "  0.14971997510889856,\n",
       "  0.16378344741754822,\n",
       "  0.17535780958307406,\n",
       "  0.18718108276291226,\n",
       "  0.20323584318606097,\n",
       "  0.2265090230242688,\n",
       "  0.24816428126944617,\n",
       "  0.2582451773490977],\n",
       " [5.449046977730685,\n",
       "  6.036290202029916,\n",
       "  5.9358278984247255,\n",
       "  6.443776962368987,\n",
       "  6.425990648047868,\n",
       "  7.777574162150538,\n",
       "  7.995044597359591,\n",
       "  8.428510876589042,\n",
       "  9.333352388337602,\n",
       "  9.993577435959217],\n",
       " [0.010328638497652582,\n",
       "  0.018779342723004695,\n",
       "  0.009389671361502348,\n",
       "  0.008450704225352112,\n",
       "  0.012206572769953052,\n",
       "  0.010328638497652582,\n",
       "  0.016901408450704224,\n",
       "  0.013145539906103286,\n",
       "  0.018779342723004695,\n",
       "  0.01971830985915493])"
      ]
     },
     "execution_count": 15,
     "metadata": {},
     "output_type": "execute_result"
    }
   ],
   "source": [
    "cnn = CNNNetwork()\n",
    "\n",
    "device  = 'cuda'\n",
    "cnn.to(device)\n",
    "train_loss, train_acc, validation_loss, validation_acc = train(cnn, device, train_loader, val_loader, 10)\n",
    "train_loss, train_acc, validation_loss, validation_acc"
   ]
  },
  {
   "cell_type": "markdown",
   "metadata": {},
   "source": [
    "Map Class Names to index's"
   ]
  },
  {
   "cell_type": "code",
   "execution_count": 45,
   "metadata": {},
   "outputs": [],
   "source": [
    "class_names = train_dataset.classes\n",
    "class_mapping = {i: class_names[i] for i in range(len(class_names))}    "
   ]
  },
  {
   "cell_type": "code",
   "execution_count": 53,
   "metadata": {},
   "outputs": [
    {
     "ename": "KeyError",
     "evalue": "'61'",
     "output_type": "error",
     "traceback": [
      "\u001b[1;31m---------------------------------------------------------------------------\u001b[0m",
      "\u001b[1;31mKeyError\u001b[0m                                  Traceback (most recent call last)",
      "Cell \u001b[1;32mIn[53], line 1\u001b[0m\n\u001b[1;32m----> 1\u001b[0m \u001b[43mclass_mapping\u001b[49m\u001b[43m[\u001b[49m\u001b[38;5;28;43mstr\u001b[39;49m\u001b[43m(\u001b[49m\u001b[38;5;241;43m61\u001b[39;49m\u001b[43m)\u001b[49m\u001b[43m]\u001b[49m\n",
      "\u001b[1;31mKeyError\u001b[0m: '61'"
     ]
    }
   ],
   "source": []
  },
  {
   "cell_type": "code",
   "execution_count": 30,
   "metadata": {},
   "outputs": [],
   "source": [
    "def classify(model, current_folder, sound_file, device):\n",
    "    model.eval()\n",
    "    input_tensor = pre_process(current_folder, sound_file)\n",
    "\n",
    "    input_tensor = input_tensor.to(device)\n",
    "\n",
    "    input_tensor = input_tensor.unsqueeze(0)  # Adds a batch dimension of size 1\n",
    "\n",
    "    print(input_tensor.shape)\n",
    "    \n",
    "    with torch.no_grad():\n",
    "        output = model(input_tensor)\n",
    "    \n",
    "    probabilities = torch.nn.functional.softmax(output, dim=1)\n",
    "    predicted_class = torch.argmax(probabilities, dim=1).item()\n",
    "    \n",
    "    return predicted_class, probabilities.squeeze().tolist()"
   ]
  },
  {
   "cell_type": "code",
   "execution_count": 54,
   "metadata": {},
   "outputs": [],
   "source": [
    "def map_classification_to_genre(classification, genres_df):\n",
    "    predicted_label = class_mapping[int(classification)]\n",
    "    return predicted_label"
   ]
  },
  {
   "cell_type": "code",
   "execution_count": 18,
   "metadata": {},
   "outputs": [],
   "source": [
    "sound_file = 'test_sounds/001083.mp3'\n",
    "current_folder = ''"
   ]
  },
  {
   "cell_type": "code",
   "execution_count": 44,
   "metadata": {},
   "outputs": [
    {
     "name": "stdout",
     "output_type": "stream",
     "text": [
      "torch.Size([3, 800, 300])\n",
      "torch.Size([1, 3, 800, 300])\n"
     ]
    },
    {
     "data": {
      "text/plain": [
       "(61,\n",
       " [0.02796105481684208,\n",
       "  0.025391431525349617,\n",
       "  0.0001662766735535115,\n",
       "  0.0001362029288429767,\n",
       "  0.0015432650689035654,\n",
       "  0.0008648903458379209,\n",
       "  3.1413443934980023e-07,\n",
       "  4.256294428017782e-09,\n",
       "  0.003298285650089383,\n",
       "  0.02256990782916546,\n",
       "  0.0180276520550251,\n",
       "  0.00011809293209807947,\n",
       "  3.5357334127184004e-07,\n",
       "  0.0016384421614930034,\n",
       "  5.647815015663582e-08,\n",
       "  0.18988893926143646,\n",
       "  0.04862815514206886,\n",
       "  0.03346336632966995,\n",
       "  0.002797015942633152,\n",
       "  0.0009056814596988261,\n",
       "  0.0006709065055474639,\n",
       "  0.0003187943948432803,\n",
       "  0.009391676634550095,\n",
       "  3.3855314995889785e-08,\n",
       "  0.0011977116810157895,\n",
       "  1.673673432378564e-05,\n",
       "  0.011043877340853214,\n",
       "  3.958568299822218e-07,\n",
       "  3.5182194551452994e-05,\n",
       "  0.0006244962569326162,\n",
       "  5.383712505135918e-06,\n",
       "  9.036839969667199e-07,\n",
       "  0.003916594665497541,\n",
       "  0.0044656433165073395,\n",
       "  0.00039806682616472244,\n",
       "  7.89872403594849e-11,\n",
       "  0.00036226428346708417,\n",
       "  0.002643306739628315,\n",
       "  1.1599874394363496e-09,\n",
       "  5.9028895549317895e-08,\n",
       "  0.0003805799060501158,\n",
       "  0.00017308218230027705,\n",
       "  0.14878500998020172,\n",
       "  0.0006054167752154171,\n",
       "  0.010948400013148785,\n",
       "  1.9154422261635773e-05,\n",
       "  0.0071799419820308685,\n",
       "  0.00013817395665682852,\n",
       "  3.839745477307588e-05,\n",
       "  0.0001601482363184914,\n",
       "  0.008552287705242634,\n",
       "  0.004662222228944302,\n",
       "  0.007303016725927591,\n",
       "  0.010936351493000984,\n",
       "  0.005637723486870527,\n",
       "  1.1328907021379564e-05,\n",
       "  0.0009664619574323297,\n",
       "  1.2264056749700103e-05,\n",
       "  0.0006191841675899923,\n",
       "  0.0008352118311449885,\n",
       "  0.0018766155699267983,\n",
       "  0.20058777928352356,\n",
       "  0.0007914114976301789,\n",
       "  8.256281034846324e-06,\n",
       "  0.01092823501676321,\n",
       "  0.007751792203634977,\n",
       "  0.00047523854300379753,\n",
       "  1.4055595784157049e-05,\n",
       "  1.2385365266709414e-07,\n",
       "  0.004059608094394207,\n",
       "  0.002397688338533044,\n",
       "  2.324068555026315e-05,\n",
       "  0.0002155453257728368,\n",
       "  0.022616755217313766,\n",
       "  8.130725177579734e-07,\n",
       "  1.840527261265379e-06,\n",
       "  5.971748123556608e-06,\n",
       "  4.879909809574201e-10,\n",
       "  3.8950901171119767e-07,\n",
       "  0.0021078248973935843,\n",
       "  0.0008233985863626003,\n",
       "  0.01372106559574604,\n",
       "  1.2439729246693787e-08,\n",
       "  0.000172177140484564,\n",
       "  5.483306040332536e-07,\n",
       "  0.005892779212445021,\n",
       "  0.003977981861680746,\n",
       "  8.273139395775786e-10,\n",
       "  4.768548889089175e-10,\n",
       "  5.1582028390839696e-05,\n",
       "  0.013431117869913578,\n",
       "  2.7997015422442928e-05,\n",
       "  0.00010823679622262716,\n",
       "  7.185885624494404e-05,\n",
       "  3.212064711988205e-06,\n",
       "  0.017615852877497673,\n",
       "  0.00046877999557182193,\n",
       "  9.404282536706887e-06,\n",
       "  4.16253024013713e-05,\n",
       "  6.2743148454558195e-09,\n",
       "  1.6872949117896496e-06,\n",
       "  0.00014667835785076022,\n",
       "  3.805506310072815e-07,\n",
       "  0.03253345191478729,\n",
       "  1.7602927115945022e-08,\n",
       "  0.008358496241271496,\n",
       "  0.019231058657169342,\n",
       "  0.002693986753001809,\n",
       "  9.279316873289645e-05,\n",
       "  0.005551005247980356,\n",
       "  0.0006530325044877827,\n",
       "  1.5689129995166695e-08,\n",
       "  1.5600386760183937e-08,\n",
       "  1.5571016476201294e-08,\n",
       "  1.6281195058809317e-08,\n",
       "  1.5858756086117864e-08,\n",
       "  1.541013894268417e-08,\n",
       "  1.5972348776926992e-08,\n",
       "  1.5656157259513748e-08,\n",
       "  1.6047623674353417e-08,\n",
       "  1.580352915198091e-08,\n",
       "  1.603819832496356e-08,\n",
       "  1.6203157926497624e-08,\n",
       "  1.5888790727558444e-08,\n",
       "  1.611636335496769e-08,\n",
       "  1.525997461726547e-08,\n",
       "  1.6061523666621724e-08,\n",
       "  1.568817253883026e-08,\n",
       "  1.5522296337167063e-08,\n",
       "  1.5615121640166763e-08,\n",
       "  1.61781752439083e-08,\n",
       "  1.606553823307877e-08,\n",
       "  1.5149050014429122e-08,\n",
       "  1.564374052520634e-08,\n",
       "  1.562599649673757e-08,\n",
       "  1.5314764567619932e-08,\n",
       "  1.5725980517800053e-08,\n",
       "  1.596631804545723e-08,\n",
       "  1.514393588308849e-08,\n",
       "  1.5893791172061356e-08,\n",
       "  1.5971771460954187e-08,\n",
       "  1.5708474521147764e-08,\n",
       "  1.6086634246903486e-08,\n",
       "  1.5899948024866717e-08,\n",
       "  1.5894306315544782e-08,\n",
       "  1.5501141703566645e-08,\n",
       "  1.6091606269696968e-08,\n",
       "  1.5581711920731323e-08,\n",
       "  1.632650281635506e-08,\n",
       "  1.5399796993165182e-08,\n",
       "  1.6304129601962813e-08,\n",
       "  1.5847023249193626e-08,\n",
       "  1.5919793483476496e-08,\n",
       "  1.56105652848737e-08,\n",
       "  1.5738704561840677e-08,\n",
       "  1.6134141134216406e-08,\n",
       "  1.6198956842572443e-08,\n",
       "  1.6366225707997728e-08,\n",
       "  1.5109803186419413e-08,\n",
       "  1.6078045561584986e-08,\n",
       "  1.572175278852228e-08,\n",
       "  1.6270858438360847e-08,\n",
       "  1.5586735457873147e-08,\n",
       "  1.6332359464854562e-08])"
      ]
     },
     "execution_count": 44,
     "metadata": {},
     "output_type": "execute_result"
    },
    {
     "data": {
      "text/plain": [
       "<Figure size 640x480 with 0 Axes>"
      ]
     },
     "metadata": {},
     "output_type": "display_data"
    }
   ],
   "source": [
    "predicted_class, probabilities = classify(cnn, current_folder, sound_file, 'cuda')\n",
    "#predicted_class, probabilities = classify(cnn, current_folder, sound_file, device)\n",
    "predicted_class, probabilities"
   ]
  },
  {
   "cell_type": "code",
   "execution_count": 55,
   "metadata": {},
   "outputs": [
    {
     "name": "stdout",
     "output_type": "stream",
     "text": [
      "The predicted genre for test_sounds/001083.mp3 is 38\n"
     ]
    }
   ],
   "source": [
    "genre = map_classification_to_genre(predicted_class, genres_df)\n",
    "\n",
    "print(f\"The predicted genre for {sound_file} is {genre}\")"
   ]
  }
 ],
 "metadata": {
  "kernelspec": {
   "display_name": ".venv",
   "language": "python",
   "name": "python3"
  },
  "language_info": {
   "codemirror_mode": {
    "name": "ipython",
    "version": 3
   },
   "file_extension": ".py",
   "mimetype": "text/x-python",
   "name": "python",
   "nbconvert_exporter": "python",
   "pygments_lexer": "ipython3",
   "version": "3.11.8"
  }
 },
 "nbformat": 4,
 "nbformat_minor": 2
}
